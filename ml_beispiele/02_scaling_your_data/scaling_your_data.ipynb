{
 "cells": [
  {
   "cell_type": "markdown",
   "metadata": {},
   "source": [
    "Scaling of data using scikit-learn\n",
    "\n",
    "[scikit-learn](https://scikit-learn.org/) is a very helpful Open-source, commercial usable machine learning library. It comes with a so called [`MinMaxScaler`](https://scikit-learn.org/stable/modules/preprocessing.html#scaling-features-to-a-range) that allows to scale features to a certain range.\n",
    "\n",
    "by Prof. Dr.-Ing. Jürgen Brauer, www.juergenbrauer.org"
   ]
  },
  {
   "cell_type": "markdown",
   "metadata": {
    "toc": true
   },
   "source": [
    "<h1>Table of Contents<span class=\"tocSkip\"></span></h1>\n",
    "<div class=\"toc\"><ul class=\"toc-item\"><li><span><a href=\"#Prepare-some-example-data-to-scale\" data-toc-modified-id=\"Prepare-some-example-data-to-scale-1\"><span class=\"toc-item-num\">1&nbsp;&nbsp;</span>Prepare some example data to scale</a></span></li><li><span><a href=\"#Scale-the-data-to-a-certain-range\" data-toc-modified-id=\"Scale-the-data-to-a-certain-range-2\"><span class=\"toc-item-num\">2&nbsp;&nbsp;</span>Scale the data to a certain range</a></span></li><li><span><a href=\"#Now-use-the-scaler-to-transform-new-data\" data-toc-modified-id=\"Now-use-the-scaler-to-transform-new-data-3\"><span class=\"toc-item-num\">3&nbsp;&nbsp;</span>Now use the scaler to transform new data</a></span></li><li><span><a href=\"#Use-the-scaler-to-undo-a-transformation\" data-toc-modified-id=\"Use-the-scaler-to-undo-a-transformation-4\"><span class=\"toc-item-num\">4&nbsp;&nbsp;</span>Use the scaler to undo a transformation</a></span></li></ul></div>"
   ]
  },
  {
   "cell_type": "markdown",
   "metadata": {},
   "source": [
    "# Prepare some example data to scale"
   ]
  },
  {
   "cell_type": "code",
   "execution_count": 1,
   "metadata": {},
   "outputs": [
    {
     "name": "stdout",
     "output_type": "stream",
     "text": [
      "[[ 10.  20.]\n",
      " [ 15.  40.]\n",
      " [ 20.  60.]]\n",
      "Type of data is <class 'numpy.ndarray'>\n"
     ]
    }
   ],
   "source": [
    "import numpy as np\n",
    "data = np.array([ [10.0, 20.0],\n",
    "                  [15.0, 40.0],\n",
    "                  [20.0, 60.0]])\n",
    "print(data)\n",
    "print(\"Type of data is\", type(data))"
   ]
  },
  {
   "cell_type": "markdown",
   "metadata": {},
   "source": [
    "# Scale the data to a certain range"
   ]
  },
  {
   "cell_type": "code",
   "execution_count": 2,
   "metadata": {},
   "outputs": [
    {
     "name": "stdout",
     "output_type": "stream",
     "text": [
      "[[ 0.   0. ]\n",
      " [ 0.5  0.5]\n",
      " [ 1.   1. ]]\n"
     ]
    }
   ],
   "source": [
    "from sklearn.preprocessing import MinMaxScaler\n",
    "\n",
    "# 2. create a MinMaxScaler with feature range [0,1]\n",
    "scaler = MinMaxScaler(feature_range=(0, 1))\n",
    "transformed_data = scaler.fit_transform(data)\n",
    "print(transformed_data)"
   ]
  },
  {
   "cell_type": "markdown",
   "metadata": {},
   "source": [
    "# Now use the scaler to transform new data"
   ]
  },
  {
   "cell_type": "code",
   "execution_count": 3,
   "metadata": {},
   "outputs": [
    {
     "name": "stdout",
     "output_type": "stream",
     "text": [
      "[[ 0.  0.]\n",
      " [ 1.  1.]\n",
      " [ 2.  2.]]\n"
     ]
    }
   ],
   "source": [
    "data2 = np.array( [[10.0, 20.0],\n",
    "                   [20.0, 60.0],\n",
    "                   [30.0, 100.0]])\n",
    "transformed_data2 = scaler.transform(data2)\n",
    "print(transformed_data2)"
   ]
  },
  {
   "cell_type": "markdown",
   "metadata": {},
   "source": [
    "# Use the scaler to undo a transformation"
   ]
  },
  {
   "cell_type": "code",
   "execution_count": 4,
   "metadata": {},
   "outputs": [
    {
     "name": "stdout",
     "output_type": "stream",
     "text": [
      "[[ 0.   0. ]\n",
      " [ 0.5  0.5]\n",
      " [ 1.   1. ]]\n",
      "[[ 10.  20.]\n",
      " [ 15.  40.]\n",
      " [ 20.  60.]]\n"
     ]
    }
   ],
   "source": [
    "print(transformed_data)\n",
    "original_data = scaler.inverse_transform(transformed_data)\n",
    "print(original_data)"
   ]
  },
  {
   "cell_type": "code",
   "execution_count": null,
   "metadata": {
    "collapsed": true
   },
   "outputs": [],
   "source": []
  }
 ],
 "metadata": {
  "kernelspec": {
   "display_name": "Python 3",
   "language": "python",
   "name": "python3"
  },
  "language_info": {
   "codemirror_mode": {
    "name": "ipython",
    "version": 3
   },
   "file_extension": ".py",
   "mimetype": "text/x-python",
   "name": "python",
   "nbconvert_exporter": "python",
   "pygments_lexer": "ipython3",
   "version": "3.6.2"
  },
  "toc": {
   "base_numbering": 1,
   "nav_menu": {},
   "number_sections": true,
   "sideBar": true,
   "skip_h1_title": false,
   "title_cell": "Table of Contents",
   "title_sidebar": "Contents",
   "toc_cell": true,
   "toc_position": {},
   "toc_section_display": true,
   "toc_window_display": false
  }
 },
 "nbformat": 4,
 "nbformat_minor": 2
}

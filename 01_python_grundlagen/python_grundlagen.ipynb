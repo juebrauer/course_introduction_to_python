{
 "cells": [
  {
   "cell_type": "markdown",
   "metadata": {
    "toc": true
   },
   "source": [
    "<h1>Table of Contents<span class=\"tocSkip\"></span></h1>\n",
    "<div class=\"toc\"><ul class=\"toc-item\"><li><span><a href=\"#Variablennamen\" data-toc-modified-id=\"Variablennamen-1\"><span class=\"toc-item-num\">1&nbsp;&nbsp;</span>Variablennamen</a></span><ul class=\"toc-item\"><li><span><a href=\"#Gültige-Variablennamen\" data-toc-modified-id=\"Gültige-Variablennamen-1.1\"><span class=\"toc-item-num\">1.1&nbsp;&nbsp;</span>Gültige Variablennamen</a></span></li><li><span><a href=\"#Variablennamen-sind-case-sensitive\" data-toc-modified-id=\"Variablennamen-sind-case-sensitive-1.2\"><span class=\"toc-item-num\">1.2&nbsp;&nbsp;</span>Variablennamen sind case-sensitive</a></span></li></ul></li><li><span><a href=\"#Basisdatentypen\" data-toc-modified-id=\"Basisdatentypen-2\"><span class=\"toc-item-num\">2&nbsp;&nbsp;</span>Basisdatentypen</a></span><ul class=\"toc-item\"><li><span><a href=\"#Welche-Basistypen-gibt-es?\" data-toc-modified-id=\"Welche-Basistypen-gibt-es?-2.1\"><span class=\"toc-item-num\">2.1&nbsp;&nbsp;</span>Welche Basistypen gibt es?</a></span></li><li><span><a href=\"#Operatoren-für-Basisdatentypen\" data-toc-modified-id=\"Operatoren-für-Basisdatentypen-2.2\"><span class=\"toc-item-num\">2.2&nbsp;&nbsp;</span>Operatoren für Basisdatentypen</a></span></li><li><span><a href=\"#Explizite-Typumwandlung\" data-toc-modified-id=\"Explizite-Typumwandlung-2.3\"><span class=\"toc-item-num\">2.3&nbsp;&nbsp;</span>Explizite Typumwandlung</a></span></li><li><span><a href=\"#Gültigkeitsbereich-der-Basisdatentypen\" data-toc-modified-id=\"Gültigkeitsbereich-der-Basisdatentypen-2.4\"><span class=\"toc-item-num\">2.4&nbsp;&nbsp;</span>Gültigkeitsbereich der Basisdatentypen</a></span></li></ul></li><li><span><a href=\"#Sequentielle-Datentypen\" data-toc-modified-id=\"Sequentielle-Datentypen-3\"><span class=\"toc-item-num\">3&nbsp;&nbsp;</span>Sequentielle Datentypen</a></span><ul class=\"toc-item\"><li><span><a href=\"#Listen\" data-toc-modified-id=\"Listen-3.1\"><span class=\"toc-item-num\">3.1&nbsp;&nbsp;</span>Listen</a></span></li><li><span><a href=\"#Tupel\" data-toc-modified-id=\"Tupel-3.2\"><span class=\"toc-item-num\">3.2&nbsp;&nbsp;</span>Tupel</a></span></li></ul></li></ul></div>"
   ]
  },
  {
   "cell_type": "markdown",
   "metadata": {},
   "source": [
    "# Variablennamen"
   ]
  },
  {
   "cell_type": "markdown",
   "metadata": {},
   "source": [
    "## Gültige Variablennamen\n",
    "\n",
    "Variablennamen müssen mit einem Buchstaben oder Unterstrich _ beginnen:"
   ]
  },
  {
   "cell_type": "code",
   "execution_count": 2,
   "metadata": {
    "collapsed": true
   },
   "outputs": [],
   "source": [
    "a = 42"
   ]
  },
  {
   "cell_type": "code",
   "execution_count": 4,
   "metadata": {
    "collapsed": true
   },
   "outputs": [],
   "source": [
    "_a = 43"
   ]
  },
  {
   "cell_type": "code",
   "execution_count": 5,
   "metadata": {},
   "outputs": [
    {
     "data": {
      "text/plain": [
       "42"
      ]
     },
     "execution_count": 5,
     "metadata": {},
     "output_type": "execute_result"
    }
   ],
   "source": [
    "a"
   ]
  },
  {
   "cell_type": "code",
   "execution_count": 6,
   "metadata": {},
   "outputs": [
    {
     "data": {
      "text/plain": [
       "43"
      ]
     },
     "execution_count": 6,
     "metadata": {},
     "output_type": "execute_result"
    }
   ],
   "source": [
    "_a"
   ]
  },
  {
   "cell_type": "code",
   "execution_count": 8,
   "metadata": {},
   "outputs": [
    {
     "ename": "SyntaxError",
     "evalue": "invalid syntax (<ipython-input-8-9d1ff6a67251>, line 1)",
     "output_type": "error",
     "traceback": [
      "\u001b[1;36m  File \u001b[1;32m\"<ipython-input-8-9d1ff6a67251>\"\u001b[1;36m, line \u001b[1;32m1\u001b[0m\n\u001b[1;33m    123a = 44\u001b[0m\n\u001b[1;37m       ^\u001b[0m\n\u001b[1;31mSyntaxError\u001b[0m\u001b[1;31m:\u001b[0m invalid syntax\n"
     ]
    }
   ],
   "source": [
    "123a = 44"
   ]
  },
  {
   "cell_type": "code",
   "execution_count": 9,
   "metadata": {
    "collapsed": true
   },
   "outputs": [],
   "source": [
    "a123 = 44"
   ]
  },
  {
   "cell_type": "code",
   "execution_count": 10,
   "metadata": {},
   "outputs": [
    {
     "data": {
      "text/plain": [
       "44"
      ]
     },
     "execution_count": 10,
     "metadata": {},
     "output_type": "execute_result"
    }
   ],
   "source": [
    "a123"
   ]
  },
  {
   "cell_type": "code",
   "execution_count": 11,
   "metadata": {},
   "outputs": [
    {
     "ename": "SyntaxError",
     "evalue": "invalid syntax (<ipython-input-11-25f1dfb91e86>, line 1)",
     "output_type": "error",
     "traceback": [
      "\u001b[1;36m  File \u001b[1;32m\"<ipython-input-11-25f1dfb91e86>\"\u001b[1;36m, line \u001b[1;32m1\u001b[0m\n\u001b[1;33m    123a\u001b[0m\n\u001b[1;37m       ^\u001b[0m\n\u001b[1;31mSyntaxError\u001b[0m\u001b[1;31m:\u001b[0m invalid syntax\n"
     ]
    }
   ],
   "source": [
    "123a"
   ]
  },
  {
   "cell_type": "code",
   "execution_count": 12,
   "metadata": {
    "collapsed": true
   },
   "outputs": [],
   "source": [
    "zeitreihe1_länge = 100"
   ]
  },
  {
   "cell_type": "code",
   "execution_count": 13,
   "metadata": {},
   "outputs": [
    {
     "data": {
      "text/plain": [
       "100"
      ]
     },
     "execution_count": 13,
     "metadata": {},
     "output_type": "execute_result"
    }
   ],
   "source": [
    "zeitreihe1_länge"
   ]
  },
  {
   "cell_type": "code",
   "execution_count": 15,
   "metadata": {},
   "outputs": [],
   "source": [
    "_üäö = 101"
   ]
  },
  {
   "cell_type": "code",
   "execution_count": 16,
   "metadata": {},
   "outputs": [
    {
     "data": {
      "text/plain": [
       "101"
      ]
     },
     "execution_count": 16,
     "metadata": {},
     "output_type": "execute_result"
    }
   ],
   "source": [
    "_üäö"
   ]
  },
  {
   "cell_type": "code",
   "execution_count": 18,
   "metadata": {},
   "outputs": [],
   "source": [
    "_ß = 2*_üäö"
   ]
  },
  {
   "cell_type": "code",
   "execution_count": 19,
   "metadata": {},
   "outputs": [
    {
     "data": {
      "text/plain": [
       "202"
      ]
     },
     "execution_count": 19,
     "metadata": {},
     "output_type": "execute_result"
    }
   ],
   "source": [
    "_ß"
   ]
  },
  {
   "cell_type": "code",
   "execution_count": 20,
   "metadata": {},
   "outputs": [
    {
     "ename": "SyntaxError",
     "evalue": "invalid character in identifier (<ipython-input-20-16c6ae0707ee>, line 1)",
     "output_type": "error",
     "traceback": [
      "\u001b[1;36m  File \u001b[1;32m\"<ipython-input-20-16c6ae0707ee>\"\u001b[1;36m, line \u001b[1;32m1\u001b[0m\n\u001b[1;33m    § = 100\u001b[0m\n\u001b[1;37m    ^\u001b[0m\n\u001b[1;31mSyntaxError\u001b[0m\u001b[1;31m:\u001b[0m invalid character in identifier\n"
     ]
    }
   ],
   "source": [
    "§ = 100"
   ]
  },
  {
   "cell_type": "code",
   "execution_count": 22,
   "metadata": {
    "collapsed": true
   },
   "outputs": [],
   "source": [
    "é = 1"
   ]
  },
  {
   "cell_type": "code",
   "execution_count": 24,
   "metadata": {},
   "outputs": [
    {
     "data": {
      "text/plain": [
       "1"
      ]
     },
     "execution_count": 24,
     "metadata": {},
     "output_type": "execute_result"
    }
   ],
   "source": [
    "é"
   ]
  },
  {
   "cell_type": "code",
   "execution_count": 25,
   "metadata": {
    "collapsed": true
   },
   "outputs": [],
   "source": [
    "à = 2"
   ]
  },
  {
   "cell_type": "code",
   "execution_count": 26,
   "metadata": {},
   "outputs": [
    {
     "data": {
      "text/plain": [
       "2"
      ]
     },
     "execution_count": 26,
     "metadata": {},
     "output_type": "execute_result"
    }
   ],
   "source": [
    "à"
   ]
  },
  {
   "cell_type": "code",
   "execution_count": 27,
   "metadata": {
    "collapsed": true
   },
   "outputs": [],
   "source": [
    "â = 3"
   ]
  },
  {
   "cell_type": "code",
   "execution_count": 28,
   "metadata": {},
   "outputs": [
    {
     "data": {
      "text/plain": [
       "3"
      ]
     },
     "execution_count": 28,
     "metadata": {},
     "output_type": "execute_result"
    }
   ],
   "source": [
    "â"
   ]
  },
  {
   "cell_type": "code",
   "execution_count": 29,
   "metadata": {
    "collapsed": true
   },
   "outputs": [],
   "source": [
    "å = 4"
   ]
  },
  {
   "cell_type": "code",
   "execution_count": 30,
   "metadata": {},
   "outputs": [
    {
     "data": {
      "text/plain": [
       "4"
      ]
     },
     "execution_count": 30,
     "metadata": {},
     "output_type": "execute_result"
    }
   ],
   "source": [
    "å"
   ]
  },
  {
   "cell_type": "markdown",
   "metadata": {},
   "source": [
    "## Variablennamen sind case-sensitive"
   ]
  },
  {
   "cell_type": "code",
   "execution_count": 31,
   "metadata": {
    "collapsed": true
   },
   "outputs": [],
   "source": [
    "zeitreihe = 1"
   ]
  },
  {
   "cell_type": "code",
   "execution_count": 32,
   "metadata": {
    "collapsed": true
   },
   "outputs": [],
   "source": [
    "Zeitreihe = 2"
   ]
  },
  {
   "cell_type": "code",
   "execution_count": 33,
   "metadata": {},
   "outputs": [
    {
     "data": {
      "text/plain": [
       "1"
      ]
     },
     "execution_count": 33,
     "metadata": {},
     "output_type": "execute_result"
    }
   ],
   "source": [
    "zeitreihe"
   ]
  },
  {
   "cell_type": "markdown",
   "metadata": {},
   "source": [
    "# Basisdatentypen"
   ]
  },
  {
   "cell_type": "markdown",
   "metadata": {},
   "source": [
    "## Welche Basistypen gibt es?"
   ]
  },
  {
   "cell_type": "code",
   "execution_count": 35,
   "metadata": {
    "collapsed": true
   },
   "outputs": [],
   "source": [
    "a = 1"
   ]
  },
  {
   "cell_type": "code",
   "execution_count": 36,
   "metadata": {},
   "outputs": [
    {
     "data": {
      "text/plain": [
       "int"
      ]
     },
     "execution_count": 36,
     "metadata": {},
     "output_type": "execute_result"
    }
   ],
   "source": [
    "type(a)"
   ]
  },
  {
   "cell_type": "code",
   "execution_count": 37,
   "metadata": {},
   "outputs": [
    {
     "name": "stdout",
     "output_type": "stream",
     "text": [
      "<class 'int'>\n"
     ]
    }
   ],
   "source": [
    "print(type(a))"
   ]
  },
  {
   "cell_type": "code",
   "execution_count": 38,
   "metadata": {
    "collapsed": true
   },
   "outputs": [],
   "source": [
    "b = 1.0"
   ]
  },
  {
   "cell_type": "code",
   "execution_count": 39,
   "metadata": {},
   "outputs": [
    {
     "data": {
      "text/plain": [
       "float"
      ]
     },
     "execution_count": 39,
     "metadata": {},
     "output_type": "execute_result"
    }
   ],
   "source": [
    "type(b)"
   ]
  },
  {
   "cell_type": "markdown",
   "metadata": {},
   "source": [
    "In Python entspricht float dem C/C++-Datentyp double. floats (Gebrochene Zahlen mit 32-Bit Genauigkeit) gibt es nicht."
   ]
  },
  {
   "cell_type": "code",
   "execution_count": 40,
   "metadata": {},
   "outputs": [
    {
     "ename": "SyntaxError",
     "evalue": "invalid syntax (<ipython-input-40-dfce069d21b5>, line 1)",
     "output_type": "error",
     "traceback": [
      "\u001b[1;36m  File \u001b[1;32m\"<ipython-input-40-dfce069d21b5>\"\u001b[1;36m, line \u001b[1;32m1\u001b[0m\n\u001b[1;33m    c = 1.0f\u001b[0m\n\u001b[1;37m           ^\u001b[0m\n\u001b[1;31mSyntaxError\u001b[0m\u001b[1;31m:\u001b[0m invalid syntax\n"
     ]
    }
   ],
   "source": [
    "c = 1.0f"
   ]
  },
  {
   "cell_type": "markdown",
   "metadata": {},
   "source": [
    "Python erkennt den Datentyp zur Laufzeit (ist \"dynamische Typdeklaration\"):"
   ]
  },
  {
   "cell_type": "code",
   "execution_count": 54,
   "metadata": {},
   "outputs": [
    {
     "data": {
      "text/plain": [
       "int"
      ]
     },
     "execution_count": 54,
     "metadata": {},
     "output_type": "execute_result"
    }
   ],
   "source": [
    "type(a)"
   ]
  },
  {
   "cell_type": "code",
   "execution_count": 55,
   "metadata": {
    "collapsed": true
   },
   "outputs": [],
   "source": [
    "a = 1.0"
   ]
  },
  {
   "cell_type": "code",
   "execution_count": 56,
   "metadata": {},
   "outputs": [
    {
     "data": {
      "text/plain": [
       "float"
      ]
     },
     "execution_count": 56,
     "metadata": {},
     "output_type": "execute_result"
    }
   ],
   "source": [
    "type(a)"
   ]
  },
  {
   "cell_type": "markdown",
   "metadata": {},
   "source": [
    "Auch die wissenschaftliche Notation von gebrochenen Zahlen ist in Python möglich:"
   ]
  },
  {
   "cell_type": "code",
   "execution_count": 107,
   "metadata": {
    "collapsed": true
   },
   "outputs": [],
   "source": [
    "a = 12e+3"
   ]
  },
  {
   "cell_type": "code",
   "execution_count": 108,
   "metadata": {},
   "outputs": [
    {
     "data": {
      "text/plain": [
       "12000.0"
      ]
     },
     "execution_count": 108,
     "metadata": {},
     "output_type": "execute_result"
    }
   ],
   "source": [
    "a"
   ]
  },
  {
   "cell_type": "code",
   "execution_count": 111,
   "metadata": {
    "collapsed": true
   },
   "outputs": [],
   "source": [
    "a = 7e-3"
   ]
  },
  {
   "cell_type": "code",
   "execution_count": 112,
   "metadata": {},
   "outputs": [
    {
     "data": {
      "text/plain": [
       "0.007"
      ]
     },
     "execution_count": 112,
     "metadata": {},
     "output_type": "execute_result"
    }
   ],
   "source": [
    "a"
   ]
  },
  {
   "cell_type": "markdown",
   "metadata": {},
   "source": [
    "Wahrheitswerte in Python:"
   ]
  },
  {
   "cell_type": "code",
   "execution_count": 57,
   "metadata": {
    "collapsed": true
   },
   "outputs": [],
   "source": [
    "d = True"
   ]
  },
  {
   "cell_type": "code",
   "execution_count": 58,
   "metadata": {},
   "outputs": [
    {
     "data": {
      "text/plain": [
       "bool"
      ]
     },
     "execution_count": 58,
     "metadata": {},
     "output_type": "execute_result"
    }
   ],
   "source": [
    "type(d)"
   ]
  },
  {
   "cell_type": "code",
   "execution_count": 59,
   "metadata": {
    "collapsed": true
   },
   "outputs": [],
   "source": [
    "e = False"
   ]
  },
  {
   "cell_type": "code",
   "execution_count": 60,
   "metadata": {},
   "outputs": [
    {
     "data": {
      "text/plain": [
       "False"
      ]
     },
     "execution_count": 60,
     "metadata": {},
     "output_type": "execute_result"
    }
   ],
   "source": [
    "d and e"
   ]
  },
  {
   "cell_type": "code",
   "execution_count": 61,
   "metadata": {},
   "outputs": [
    {
     "data": {
      "text/plain": [
       "True"
      ]
     },
     "execution_count": 61,
     "metadata": {},
     "output_type": "execute_result"
    }
   ],
   "source": [
    "d or e"
   ]
  },
  {
   "cell_type": "code",
   "execution_count": 62,
   "metadata": {},
   "outputs": [
    {
     "data": {
      "text/plain": [
       "False"
      ]
     },
     "execution_count": 62,
     "metadata": {},
     "output_type": "execute_result"
    }
   ],
   "source": [
    "not d"
   ]
  },
  {
   "cell_type": "markdown",
   "metadata": {},
   "source": [
    "Im Gegensatz zu vielen anderen Programmiersprachen hat Python auch einen Basisdatentyp für komplexe Zahlen. Die komplexen Zahlen erweitern die reelen Zahlen derart, dass die Gleichung x^2+1=0 lösbar wird.\n",
    "\n",
    "Python orientiert sich bei der Schreibweise für komplexe Zahlen an der Konvention in der Elektrotechnik. Hier benutzt man ein \"j\" als imaginäre Einheit."
   ]
  },
  {
   "cell_type": "code",
   "execution_count": 63,
   "metadata": {
    "collapsed": true
   },
   "outputs": [],
   "source": [
    "var1 = 3 + 4j"
   ]
  },
  {
   "cell_type": "code",
   "execution_count": 64,
   "metadata": {},
   "outputs": [
    {
     "data": {
      "text/plain": [
       "complex"
      ]
     },
     "execution_count": 64,
     "metadata": {},
     "output_type": "execute_result"
    }
   ],
   "source": [
    "type(var1)"
   ]
  },
  {
   "cell_type": "code",
   "execution_count": 65,
   "metadata": {
    "collapsed": true
   },
   "outputs": [],
   "source": [
    "var2 = 0 - 1j"
   ]
  },
  {
   "cell_type": "code",
   "execution_count": 66,
   "metadata": {},
   "outputs": [
    {
     "data": {
      "text/plain": [
       "complex"
      ]
     },
     "execution_count": 66,
     "metadata": {},
     "output_type": "execute_result"
    }
   ],
   "source": [
    "type(var2)"
   ]
  },
  {
   "cell_type": "code",
   "execution_count": 67,
   "metadata": {},
   "outputs": [
    {
     "data": {
      "text/plain": [
       "(-1-0j)"
      ]
     },
     "execution_count": 67,
     "metadata": {},
     "output_type": "execute_result"
    }
   ],
   "source": [
    "var2 * var2"
   ]
  },
  {
   "cell_type": "markdown",
   "metadata": {},
   "source": [
    "## Operatoren für Basisdatentypen"
   ]
  },
  {
   "cell_type": "markdown",
   "metadata": {},
   "source": [
    "Es gibt einen Operator für die Fließkommazahldivision:"
   ]
  },
  {
   "cell_type": "code",
   "execution_count": 69,
   "metadata": {},
   "outputs": [
    {
     "data": {
      "text/plain": [
       "4.0"
      ]
     },
     "execution_count": 69,
     "metadata": {},
     "output_type": "execute_result"
    }
   ],
   "source": [
    "12 / 3"
   ]
  },
  {
   "cell_type": "markdown",
   "metadata": {},
   "source": [
    "Und es gibt einen eigenen Operator für die Ganzzahldivision:"
   ]
  },
  {
   "cell_type": "code",
   "execution_count": 78,
   "metadata": {},
   "outputs": [
    {
     "data": {
      "text/plain": [
       "4"
      ]
     },
     "execution_count": 78,
     "metadata": {},
     "output_type": "execute_result"
    }
   ],
   "source": [
    "12 // 3"
   ]
  },
  {
   "cell_type": "code",
   "execution_count": 71,
   "metadata": {},
   "outputs": [
    {
     "data": {
      "text/plain": [
       "float"
      ]
     },
     "execution_count": 71,
     "metadata": {},
     "output_type": "execute_result"
    }
   ],
   "source": [
    "type(12/3)"
   ]
  },
  {
   "cell_type": "code",
   "execution_count": 72,
   "metadata": {},
   "outputs": [
    {
     "data": {
      "text/plain": [
       "int"
      ]
     },
     "execution_count": 72,
     "metadata": {},
     "output_type": "execute_result"
    }
   ],
   "source": [
    "type(12//3)"
   ]
  },
  {
   "cell_type": "code",
   "execution_count": 73,
   "metadata": {},
   "outputs": [
    {
     "data": {
      "text/plain": [
       "5"
      ]
     },
     "execution_count": 73,
     "metadata": {},
     "output_type": "execute_result"
    }
   ],
   "source": [
    "2 + 3"
   ]
  },
  {
   "cell_type": "code",
   "execution_count": 74,
   "metadata": {},
   "outputs": [
    {
     "data": {
      "text/plain": [
       "int"
      ]
     },
     "execution_count": 74,
     "metadata": {},
     "output_type": "execute_result"
    }
   ],
   "source": [
    "type(2+3)"
   ]
  },
  {
   "cell_type": "code",
   "execution_count": 75,
   "metadata": {},
   "outputs": [
    {
     "data": {
      "text/plain": [
       "5.0"
      ]
     },
     "execution_count": 75,
     "metadata": {},
     "output_type": "execute_result"
    }
   ],
   "source": [
    "2 + 3.0"
   ]
  },
  {
   "cell_type": "code",
   "execution_count": 76,
   "metadata": {},
   "outputs": [
    {
     "data": {
      "text/plain": [
       "float"
      ]
     },
     "execution_count": 76,
     "metadata": {},
     "output_type": "execute_result"
    }
   ],
   "source": [
    "type(2+3.0)"
   ]
  },
  {
   "cell_type": "markdown",
   "metadata": {},
   "source": [
    "Auch in Python gibt es den Modulo-Operator:"
   ]
  },
  {
   "cell_type": "code",
   "execution_count": 79,
   "metadata": {},
   "outputs": [
    {
     "data": {
      "text/plain": [
       "1"
      ]
     },
     "execution_count": 79,
     "metadata": {},
     "output_type": "execute_result"
    }
   ],
   "source": [
    "7 % 3"
   ]
  },
  {
   "cell_type": "code",
   "execution_count": 80,
   "metadata": {},
   "outputs": [
    {
     "data": {
      "text/plain": [
       "2"
      ]
     },
     "execution_count": 80,
     "metadata": {},
     "output_type": "execute_result"
    }
   ],
   "source": [
    "8 % 3"
   ]
  },
  {
   "cell_type": "markdown",
   "metadata": {},
   "source": [
    "In Python kann man den Modulo-Operator auch auf floats anwenden. Es gibt dann den numerischen Rest zurück. In diesem Sinne passt z.B. 0.1 genau 34 mal in 3.5 und dann gibt es noch den numerischen Rest von 0.999..."
   ]
  },
  {
   "cell_type": "code",
   "execution_count": 86,
   "metadata": {},
   "outputs": [
    {
     "data": {
      "text/plain": [
       "0.09999999999999981"
      ]
     },
     "execution_count": 86,
     "metadata": {},
     "output_type": "execute_result"
    }
   ],
   "source": [
    "3.5 % 0.1"
   ]
  },
  {
   "cell_type": "markdown",
   "metadata": {},
   "source": [
    "In Python gibt es einen eigenen Operator für das Potenzieren. In vielen anderen Programmiersprachen benötigt man dafür eine eigene Funktion, wie z.B. ```2^3 = 8 = pow(2,3).```"
   ]
  },
  {
   "cell_type": "code",
   "execution_count": 87,
   "metadata": {},
   "outputs": [
    {
     "data": {
      "text/plain": [
       "8"
      ]
     },
     "execution_count": 87,
     "metadata": {},
     "output_type": "execute_result"
    }
   ],
   "source": [
    "2 ** 3"
   ]
  },
  {
   "cell_type": "code",
   "execution_count": 89,
   "metadata": {},
   "outputs": [
    {
     "data": {
      "text/plain": [
       "1024"
      ]
     },
     "execution_count": 89,
     "metadata": {},
     "output_type": "execute_result"
    }
   ],
   "source": [
    "2 ** 10"
   ]
  },
  {
   "cell_type": "markdown",
   "metadata": {},
   "source": [
    "## Explizite Typumwandlung"
   ]
  },
  {
   "cell_type": "markdown",
   "metadata": {},
   "source": [
    "Manchmal benötigen wir eine explizite Typumwandlung.\n",
    "Zum Beispiel, um eine Zeichenkette und eine Zahl miteinander zu einer neuen Zeichenkette zu \"verbinden\":"
   ]
  },
  {
   "cell_type": "code",
   "execution_count": 90,
   "metadata": {
    "collapsed": true
   },
   "outputs": [],
   "source": [
    "z = 42\n",
    "s = \"Der Sinn des Lebens ist ...\""
   ]
  },
  {
   "cell_type": "code",
   "execution_count": 99,
   "metadata": {},
   "outputs": [
    {
     "data": {
      "text/plain": [
       "int"
      ]
     },
     "execution_count": 99,
     "metadata": {},
     "output_type": "execute_result"
    }
   ],
   "source": [
    "type(z)"
   ]
  },
  {
   "cell_type": "code",
   "execution_count": 100,
   "metadata": {},
   "outputs": [
    {
     "data": {
      "text/plain": [
       "str"
      ]
     },
     "execution_count": 100,
     "metadata": {},
     "output_type": "execute_result"
    }
   ],
   "source": [
    "type(s)"
   ]
  },
  {
   "cell_type": "code",
   "execution_count": 91,
   "metadata": {},
   "outputs": [
    {
     "ename": "TypeError",
     "evalue": "must be str, not int",
     "output_type": "error",
     "traceback": [
      "\u001b[1;31m---------------------------------------------------------------------------\u001b[0m",
      "\u001b[1;31mTypeError\u001b[0m                                 Traceback (most recent call last)",
      "\u001b[1;32m<ipython-input-91-b15f7c1390b1>\u001b[0m in \u001b[0;36m<module>\u001b[1;34m()\u001b[0m\n\u001b[1;32m----> 1\u001b[1;33m \u001b[0ms\u001b[0m \u001b[1;33m+\u001b[0m \u001b[0mz\u001b[0m\u001b[1;33m\u001b[0m\u001b[0m\n\u001b[0m",
      "\u001b[1;31mTypeError\u001b[0m: must be str, not int"
     ]
    }
   ],
   "source": [
    "s + z"
   ]
  },
  {
   "cell_type": "code",
   "execution_count": 92,
   "metadata": {},
   "outputs": [
    {
     "data": {
      "text/plain": [
       "'Der Sinn des Lebens ist ...42'"
      ]
     },
     "execution_count": 92,
     "metadata": {},
     "output_type": "execute_result"
    }
   ],
   "source": [
    "s + str(z)"
   ]
  },
  {
   "cell_type": "code",
   "execution_count": 93,
   "metadata": {
    "collapsed": true
   },
   "outputs": [],
   "source": [
    "z1 = 42\n",
    "z2 = \"43\""
   ]
  },
  {
   "cell_type": "code",
   "execution_count": 101,
   "metadata": {},
   "outputs": [
    {
     "ename": "TypeError",
     "evalue": "unsupported operand type(s) for +: 'int' and 'str'",
     "output_type": "error",
     "traceback": [
      "\u001b[1;31m---------------------------------------------------------------------------\u001b[0m",
      "\u001b[1;31mTypeError\u001b[0m                                 Traceback (most recent call last)",
      "\u001b[1;32m<ipython-input-101-5806c88693ca>\u001b[0m in \u001b[0;36m<module>\u001b[1;34m()\u001b[0m\n\u001b[1;32m----> 1\u001b[1;33m \u001b[0mz1\u001b[0m \u001b[1;33m+\u001b[0m \u001b[0mz2\u001b[0m\u001b[1;33m\u001b[0m\u001b[0m\n\u001b[0m",
      "\u001b[1;31mTypeError\u001b[0m: unsupported operand type(s) for +: 'int' and 'str'"
     ]
    }
   ],
   "source": [
    "z1 + z2"
   ]
  },
  {
   "cell_type": "code",
   "execution_count": 102,
   "metadata": {},
   "outputs": [
    {
     "data": {
      "text/plain": [
       "85"
      ]
     },
     "execution_count": 102,
     "metadata": {},
     "output_type": "execute_result"
    }
   ],
   "source": [
    "z1 + int(z2)"
   ]
  },
  {
   "cell_type": "code",
   "execution_count": 103,
   "metadata": {
    "collapsed": true
   },
   "outputs": [],
   "source": [
    "z3 = \"43xyz\""
   ]
  },
  {
   "cell_type": "code",
   "execution_count": 104,
   "metadata": {},
   "outputs": [
    {
     "ename": "ValueError",
     "evalue": "invalid literal for int() with base 10: '43xyz'",
     "output_type": "error",
     "traceback": [
      "\u001b[1;31m---------------------------------------------------------------------------\u001b[0m",
      "\u001b[1;31mValueError\u001b[0m                                Traceback (most recent call last)",
      "\u001b[1;32m<ipython-input-104-2cc010a96c63>\u001b[0m in \u001b[0;36m<module>\u001b[1;34m()\u001b[0m\n\u001b[1;32m----> 1\u001b[1;33m \u001b[0mz1\u001b[0m \u001b[1;33m+\u001b[0m \u001b[0mint\u001b[0m\u001b[1;33m(\u001b[0m\u001b[0mz3\u001b[0m\u001b[1;33m)\u001b[0m\u001b[1;33m\u001b[0m\u001b[0m\n\u001b[0m",
      "\u001b[1;31mValueError\u001b[0m: invalid literal for int() with base 10: '43xyz'"
     ]
    }
   ],
   "source": [
    "z1 + int(z3)"
   ]
  },
  {
   "cell_type": "markdown",
   "metadata": {},
   "source": [
    "## Gültigkeitsbereich der Basisdatentypen"
   ]
  },
  {
   "cell_type": "markdown",
   "metadata": {},
   "source": [
    "In Python können int Variablen beliebig groß werden! (beschränkt lediglich durch den Arbeitsspeicher)\n",
    "\n",
    "Googlen Sie mal nach\n",
    "\n",
    "    c max size of int\n",
    "    \n",
    "Dort kann man lesen, dass die größte darstellbare Zahl von int in C die Zahl\n",
    "\n",
    "    18.446.744.073.709.551.615\n",
    "ist"
   ]
  },
  {
   "cell_type": "code",
   "execution_count": 123,
   "metadata": {},
   "outputs": [],
   "source": [
    "unsigned_long_max = 18446744073709551615"
   ]
  },
  {
   "cell_type": "code",
   "execution_count": 124,
   "metadata": {},
   "outputs": [
    {
     "data": {
      "text/plain": [
       "int"
      ]
     },
     "execution_count": 124,
     "metadata": {},
     "output_type": "execute_result"
    }
   ],
   "source": [
    "type(unsigned_long_max)"
   ]
  },
  {
   "cell_type": "code",
   "execution_count": 120,
   "metadata": {},
   "outputs": [
    {
     "data": {
      "text/plain": [
       "18446744073709551615"
      ]
     },
     "execution_count": 120,
     "metadata": {},
     "output_type": "execute_result"
    }
   ],
   "source": [
    "unsigned_long_max"
   ]
  },
  {
   "cell_type": "markdown",
   "metadata": {},
   "source": [
    "In Python können wir diese Zahl ohne Probleme quadrieren!"
   ]
  },
  {
   "cell_type": "code",
   "execution_count": 125,
   "metadata": {},
   "outputs": [
    {
     "data": {
      "text/plain": [
       "340282366920938463426481119284349108225"
      ]
     },
     "execution_count": 125,
     "metadata": {},
     "output_type": "execute_result"
    }
   ],
   "source": [
    "unsigned_long_max * unsigned_long_max"
   ]
  },
  {
   "cell_type": "markdown",
   "metadata": {},
   "source": [
    "Oder sogar aberwitzige Potenzen hiervon bilden:"
   ]
  },
  {
   "cell_type": "code",
   "execution_count": 126,
   "metadata": {},
   "outputs": [
    {
     "data": {
      "text/plain": [
       "4562440617622195216167867590969245984891554653899504899621489504890947016946973851858280558761216359448457602639022263584702472373544404781548821642340247967685262840465307909823993678212890625"
      ]
     },
     "execution_count": 126,
     "metadata": {},
     "output_type": "execute_result"
    }
   ],
   "source": [
    "unsigned_long_max ** 10"
   ]
  },
  {
   "cell_type": "code",
   "execution_count": 127,
   "metadata": {},
   "outputs": [
    {
     "data": {
      "text/plain": [
       "20815864389328798141281875261654240038739993424404242425506079834368643384699815883993519000403222895708748681674793449344690890447908431885920079592739573615444805397570578729330039130716069497833623971831833817007046404500291336909466015568610844462737800901333746167215795959142314612138881715678958017183473735270054778324841160160808023792415691149633568863714992256259918212890625"
      ]
     },
     "execution_count": 127,
     "metadata": {},
     "output_type": "execute_result"
    }
   ],
   "source": [
    "unsigned_long_max ** 20"
   ]
  },
  {
   "cell_type": "code",
   "execution_count": 128,
   "metadata": {},
   "outputs": [
    {
     "data": {
      "text/plain": [
       "433300210274926778361665664358127520911662678188444468816603664482064951630247797808726122323984477401404720277645094839993228745101613092186225720539125418280887322399085512116682999285969229318153852794726647215071815544254832482540039874540104144478883770583278033151216734430302547024183798421596589104810641490450775050137002066280505861770971590163746619175943053316389432266602382125895272281396899568745153375562815760745680621917785214710147608471717593139957632299155506080028615496230379199839058149454376109532464184406963680397501798856633350542525409587165234249024001561910742351626757506401040787610964874262174899861198932811862091892044729449452669721902825356787977563459211826582571516274562663110174307841076990896109004106619977392256259918212890625"
      ]
     },
     "execution_count": 128,
     "metadata": {},
     "output_type": "execute_result"
    }
   ],
   "source": [
    "unsigned_long_max ** 40"
   ]
  },
  {
   "cell_type": "code",
   "execution_count": 129,
   "metadata": {},
   "outputs": [
    {
     "data": {
      "text/plain": [
       "3908159226643238711988440663885495103153377707739061175077580776059325191881200857567904254191183768284722667967451680079810917643459480791200868065006120576686144806169152257184069792396354758997460573981983615240553412642103252200626213840585295994474707902503763092746332396488430725324447979697467084777139217598247855056059276298283288622525898240120996417149013107705438989856851871660985966206346016919062225895746633682524244406664312007647259297532160169649306819233491380295362131144354675372644791332737195071641037061554477517435102847020600151197823325583952667348184963352414104548585401209314307354621180996578936567528703793406020971929854157341842527469535908116940433692304132251452681967825381958614915241253497453330513089766893872282186861053095641841298290094234759053486544458219420820854587349535739090276534959939111524611793461789885451897916775865133278999299238039024416669556038043385627861683753557984827522104366963203876452169261291703452735784922038487272338652445913508939128912406459901312083789878613147732414298458569883108233076222346045258615522822244832341774245608459343984305481884140418930906356109127566493032861206237080074730206785956469236793059406744420575050984821465051833319692414369231409926857628911458417515151741487805490994950147595986308289927838674367196314220686121231776253685607952339775927314537813735045158407303549797412104444427968324411549218483495361542035556584876081426450338150013640453113593805243439829894643089555082982793600265849907445740566945986996122701932331717926641747906622068470581344145660825852001329829639539994107254143650262814805696214792277285288750928681265661073239239916391577840573870617129284242136954457347042663048670886675909508628159519024164517108360735831037043895639480571408612912978972138362887189726663842590235594344148707296521275750879475389529177171541509580863811000557423423230896109004106619977392256259918212890625"
      ]
     },
     "execution_count": 129,
     "metadata": {},
     "output_type": "execute_result"
    }
   ],
   "source": [
    "unsigned_long_max ** 100"
   ]
  },
  {
   "cell_type": "code",
   "execution_count": 130,
   "metadata": {},
   "outputs": [
    {
     "data": {
      "text/plain": [
       "831232460999333607178383330306142740204109207234904748582464884603482622404700008146499421896773223392440934761938691049517759051523986093586793059365705798025000127196417445903195853160483838631958282658689258225773780755746507136153787308412258697244169904829492963874498844386575755239619858420589342710994373463030055162346602659061379598793394200522238241486523530550920328071664011687752011784000192336337370493746073982343745931003970767524733940978679888471085963882670783091264062871278364184552950989395627896182818857216781395798663231952452817877534290157359745753950386280097892429396190246818578155208759378731307581531177908687517541816764463288192113410370649810529781641925381510626823333211727818359358236737652529322919802249818263919979414180591257961972604893401469151930137563474508498286942279060841892570489768700690463674199983131498855588557379211170592508243161043127780331797711370727576233865914265710785521458827004672738917593192578849570356313427388634997390005481594994641671524634528031309370049004762504191046920326775713386693511535970882246345757221020318193122182673323279723601376975825881018517928747075396394971534337246996069125301836494026667403469596181879007329962887565664853240845901114460392407410723694973952910790533950697563757111088449694470196652109755145193958623928692683568650754441220187459415122737177941008325533313241169446386708399020270110900215522106393126199274284750950664391213845444531114423460119121957847262022146075433335852239047224836881940102227402133340323256603029601995937707228299992376201280510902462750762955698480069268915568441566266728922458594005093557720794245145962723750696384283293397879992908786996688481825390669883973001451072588176173246403203872021045287538483925947136009964638470858963353011943335345317876354940958554790360229979211893674745580362779644514788518386623266561642999592554856097677178581991938788898571682098526480387058897075826889177775582661217643703719377661684285073304413300111864974741975106551694123985623595855017940959590142905826807642090163871533251090370565731619711076422975347989154432518708285573740295748860881343152963699977022894440907737119737394501574893009293731012856028466765084061439124653880651357068269173322252999996656084895494085848922355130707499896824373528869838645778670139783797462072083718322298586424560551425469927775497775315278369853333540911157284436105077393073746710451101268809194711586317335488763983476371171909492787793390760105961087602440852744329995679455504872812612864923695389322740978656102441415693442337781386588469763296929121105163484541646657220461144621825528660816602161257817407976934621772508659940955153759579536854193125538543644624580267805315807616969196730091393576198606199731958152443628511931533498307280607286786692847288313175858096471679552866764769876567573700647125980559517981565044705990523679871630428777931764825024924491205777630493500265740230282504441843686222580395412725454964414297858712164049288612466603152949396152864990825056073546740281566602107929446619395706410288121039231691787367690521310831682793924140484019285749726368866374414834622609182218918852315543568019727390222978427284393056222440945993958807301788889037903299835053041269409132495817534454673965850102202251117525698781684612674322532120940603215756958316580366060799644196421161372809618606405961099120058620422531809871418035859231468556547582930960236942211833322663604236714760879044041972021294923376283343862813227380766277825267861510855445805456911925925121290048100719815046824916762408014961658817474128936625350712389224376143021206567758562689542098021041395439134605956367751271596896360517411857571850565476630828596616871405433470156976705475402803586551660686076595351771485899366745713609408425041014729475734165328295334539918841296638029298407597033812892932537243104920051800193401249871784440097704442654310307732349734947199926166606398322367671197905271014240519914660316697864345670210572085068155272051650476941594227147047893429040831280964014521205509770057602125549474675218845181857142680247228716542873814911801655391313482667402244791155084770010399464220958802045052984068506480998901252612426155988319506578784045090017644266563908253218523401368852604107200213252622024783643467703369387814231119452040019618687914875277583074409857799399849359015718283307237199812273536912731358035879727768596113580242939319779776672786718544145113191119521469462265999245514092508712681066190115151233161554963036063421173394990821329209466523569556836381384215402858996322974672310414354228018589009447889960350680289816525651819204947307927679910923503124152816816637172386528095502374202160862496630326717159309716030284478563085460847526460181655066790022932683497405810694692814163935806057994714109335376599614981033321329092232617564264135703372754134680764633516969524651795963896494676425034555174777818273732575731774658608467571267752843562533531218309643817639028550209812556625812257759809387402471739012942982206684356675989064961887903464084336744398454943865306793176938737865406007898774867348359649075026852502415196151361595006405070169377569125455647657865759047111522905310077317138723603590512605354071046396476132781434034516370099359587919674997984890685426669538415649427562108284302346854449674548618354262624029835084382903967265333241634371383912371307379239917281941709164591888468718238911509588083636012450847097875877786716910881562975056150763591587589126675240596389411211274975792415525098733766127513740268407020916227923092527186253093050804719587270958766942818217883914379660149299086259832694188310228861685546313339738640339277030264181760549407779768144550179794307213875698493182688652019754902544914501146219953999319814515985564515132905176696390398618134905463481027927314644382763825519602598905022537677461600426667611513688078149698081256684960967019550269091549112796440755889008592700944228891491168778558686362686444981313160075994514448654866738924518208819199741508448063342934392624729531569050075460458832193434141648318829790127676165262666136716028915339224388563912894469102672453383328251976925800508675384622537148123609912684332056132818223367459594326183651530712862789166533616145422486309393972786805479029691760623840173896162370803034492133316671418708668153373654954044630312869990984361856525668050898017156014806501398709164788137856618312663036439092587837549698922029749114484141071531134047949173357637166499034671043770826795014352738787962880224549521843030953427245912305380905489767934217292375227425094884727053770162463752707296728449321202237410334363773547662321812762904528464421608896402145847406288058412221914955493787845446325636732407256573532519641968780020121468540086400236641874595077535418244280192217024851011435882937877254611835460092779120615538746151448169564367814951332486051087864929364464831946321241265626570409803343205544282382931079733768545986455495200628793773331290314646177713668780115032521719974346560478574234118994870172984148447791610881997552405846851208398081109567056339417097822159489602359907295989133346474401153947182829808107735088013933585639367218317723527176329358471205025808292964731778326145370430125293576747930265701674476477118720255003082872639058438670793094918401339860232761680293318440543714275118780457636161207002068623648488149419097262810923347990011976009607646335522002250033743805209607174737309038298273824742105729868626966727875559428103795613715986298761267786519333168813810713340458261344996417300816413198934519388300370035150389245990268624608985051053980549899254591298633998223688574018968384621033131231979982939000584155426006119892967030819316099022561744782796630670983687053880711494639954135077268441197509994122778515437276120395749294287286315989386138251164472360903018363984560327330585009977047265313223064873244099893539803061893914894871543974500661981757841330920917384074867021493515587525874376716882824265078392569537437510142532700806813650162771366290376675298039747200962819434971791159351888264322579340427542307885593043464178688856312772502802616943076224066002134261087895587753027822265398930036978130441910970217764693062695792250853185608473255935537978421946965937349339624340702472892011633561321122118099185602124734565465669350682432140973080515742252573686030498937944308635777649254645487731400013942875356088198405627353019711746779864468112066679844747460703280132691662080372398343347672904695399425532678062427480907107100136532519904270762140616990476771238482987789879395242805487862832925632214154442940123396266459093255880212039969953128945799186024268394716733614279518596037373526027062571034447743106515556177154320408701490410840965544616162341547195092914531059139833018658036003950118635005436638583150273226158171194970849101898034552114638580067970494838862900477946916352044059772080507399236463959344188455661856243489674542377831305451107916023883555869725112673304359319376856699589336948082177487209017901935074719668737153389739058169395527061246068803169837413307174806271011489313258687553754417822492685907431196013017621086762409210882110050949439164634244981093499041010893884344199592837435989004895734814175025375190089439622102470364748842585838153032250207678735091789383994907437027368522174894487826873184386290475003428479029416714449685254777859335544983608284302886973434709749867677153295570189417449193578332493808554738305877505033003225124540918963980011837882556196124280629992331700782336302136062614293996610141456375538229641937622212791140180436852142098929200336845597947463173298581427864556673486185281554556936539906194257668778101193472075780166358602528884889878740193891820446120206341748292414137272581908764361067643776694133999187898867511675501614452740591045752478021730313620180304469819190837461405704816159365182718562629624173190147926817394746796677377557948414707757041602891162685657070276840643900938671762157816290004136627272011866487722858072728241917591390723060000628235220414737747360152102090916122188236008646410489233338431118533945915540250536336351958772005995979791106830425084547713081706643333761509094939951902700184232183263635861260681951237669328196963534327967600033931518549288837639729962458403727441442919687353766405483878195335742143513293466377543922677258445994055001459548103268677525074390054131960691334291680256411615279002932011243788713083718193755622139956120689894348639276585642011264396591629773255391517918774875314256352537100731897378420586714064157314889514924709927726966389412734280778808035235610481844607595628290964018701166285484557511699993440949490438798029970671489291565080736752892416883231790500875415205057204629817253299034380243800652404468276194044220656903107769023936050906244769489345373935600457295585635142095973075622180298709863232205139141538544938737923580186818383852310240983220415104260678749049406879172126359595670172057529389734227213476835816247955834639638882803916922888469160344962536009778233343373749216729114559532243295341926745899529710762911419095070061039486050202942208543193070887493527952536780843588456788169438747890221197667683819361666326110487060710921944309597275350103933799110618143499210297107783264765171507067032298914705495074254360405061732740908171902691626870188423039210672704711075784743140765071543404289583107383270674301828412222322475000905668739557406130092584899445261401111259571842417560508864899908474759480951505823717028145130032203507920442605074964616074280907321775018762809969615424672339960908193414311565881404816144968542369161170629884124186416837114745727184418392127263551543950231261415425731897166316103084451340452816289831037510533992588400659660810648226976951697802615105778156365848661412862808234152760609877363557239633054553063050774841918707238510916051119563072963779501315422303801621985011469874723988432977230382658893023658273255066909235586681121581269089348660631230958732190438796929589238710343948419024545796897314477949944792620929806715224029147338476963190778824507752088439442999566546507810085547819147755009329548918879621285016918165065535962915894124174922959566650344624572342259812691214426914607242325547345894793601309983584783501209842020902398681150497385166865414977118246162398135340768133975902462951166138374092584688277553778609709400061958642392402990678227139957374597038930598923398120231774505134055732384038171720403992987531048136340123386015116887371069683441165696169928468362901396225772700236547550241517556014119340123372282667604912327263866675166526776176563573432366925055538500721034413145145560074762018107148241754804141835833314494379607586809312631463309269361617487508508313879429648594313318978620365013310914657277278969580700469790801870002905510067173630752547517179552401231042565368938974276497139548716280360292755687706672927422973848723520817044996156441279381895344630625139368177107764068439290787761860036713436456267407732031951447448878064047678584254726032198711348470830953822892702669875987819938725128345927661368681367206183415458300786939450222885021439515228237258970307332481130952934186996785262822112067160105350800243515407981781088179351773824695771575857623729792711765231814820678829608149514803020249978692672163010653388329658700446403038156277997430806628132594591526355772844833410333988352097623701351554223993422906007745482888692467138166911324288031135258173561138106541471663698335397345728684787385104949067050827234941309089226831428153927191857767698844619969730969902247571921029700917037565248455520795960062342147278670156294723607825252130012405204947473852717783856374233765496727235856989392436082807141585047695038418803126253963353521069470777182745901878894676995255016111801704909909066786063706271940189081314484571203940823800635826483243597127836884814744526525388911943187412210755019117316291671822467231913358070653543443166688503596949703459114683113882280823874527560460553175242063699152555902231005890941647357222157412974013716199380377776863952383070204579221001900217690616784079364846409229417470749536811519319646938104876471529903991689205025324277716804680223451063831446847654191155042571546418702085774367810773488875824485231570099186309795792488519191713080365982616724715211314232006206760383898720382161218872260685680661083794771324160841512505710633957972462002883599938764159797248292183815501456268943287240624590502738885172855578316835688554291264475975913307702755385977847698033622296942283770171744663963789684996480802847214805668509221982903602361087172790569146548251423419021652479528538220497366555929675100716023149649558963602801298229905003081720960537774310665419726463926125843512261815217221960336190928194520115060943506517087565928068802922178441618026237400014259305389838589014050805380434048434717950488495031083867634300082267331511680521964709732099776875637963598208286915873443234905223599264408144572238598633623556171882687362188368305124745833428592609591033914236855892156064642324607950853003114376125385982083875422336520635797930167078321872296497394330462112581711426972612830072894165145174877901779241379211632044514274530197854187757182679843064090767592629417847340523414924258608375598226451799705805096624160273949895265782781929853899134875537581622394552842261874293726465825432878124536417271945603797837228196674586651013818240926165065940620414501475056118025770396397756494880446587155297714383332251936170238711058996036753368446700313917638130991840955876968922180432197847528208408280398371031892911079109230963179704230522820218405936192096592599007225087964544846086197938534105206500659974479390729527330631429979725188099647800531252443719740328123642477544302756500509600299825859073356766740429872526117155634295590687185511599082908193850933557403173357724742316891458311325975342903604841943211263883711458840500868256471459854672851026859442231418135372716785043226917044603197570228436092255461384135493083679062171924325434186484565051053078682869776486455945426581936827051009188831287224002495437118949230142871561635253468541743648145748387054236621013288122756876075330776295728683152874648195606251839184478094737071155247597858961967383262227363457589585465610289963640076211450908561448732346660600686201622277539722975929189593196818974044990592609394544710956567645363165075183939990387817001973680812718116737148192349185281827208055252935802639766833645240443658810831795842801599196715097115347345780565741726997136879495506253542810985347896208864267650069047175914462383875490015540608171703586778045418332690532066010026214003809952631807338044103307836387616593616004067070552085626607917704690898685281388335271800176493655875193804395279772975728322849478803723849991719401323949021687675181789210686969987331622847260317338685603418307397872138270729330421923346737377546719001656925188317430525951050092806540886980211044997443443060525928485978321970759618416800728507838052359707144999731141805349361074629019556187647176634207478108019227857145779507903274195268299888983646457337494374267775806822163676631058434093958164963057145278805118248083650282964024544783189126273870700670910220699550425475242038319971784556522179582839243151732693607499868171027336456305438258932399218396669663336415836024246935481839341516820317013680607684200998260864583420289393322648784780023736947894506995985079926758384509142077051148437588072770236616750126058580621437303729568483372421286423228020051998172794381200404755539534676597287929204591511266532323824370383071462862074710200721964842602433067488442511226578740261564018025984264252334704051377169356004268035931961292917117661448435817592836977329455215326682346781718473595775500365058131638972545138544037613880100581739829302021318253226465216849619155332954199784081561609716077073482866915251726139093240288822308958432813686620916946122119133966589781590313593931475132374058025412448577253360290208732130364275796926604410007649583100754206202087955332525104364760716441189130741856504927956227075143661083875671488907169815436493605359807345380371521733295734794137572107298826637684927256374437219960543059354856761273391776085271067085439275662259795581440837831829261122572400665561582697601863244033984241729859586225532182832039468922178374243591518965460654866955788612009717771432478352225085070802481009645682630359044455268039817547067778003994225987101547111340982937686767750172988480315819704051653289913980639008795264839370470646832007014978419143596748121295957259057524245229874893687052314030394915252517578778567988553226968604915695387672497177722718984535597667939400969148452275800201202021854433550195642159793833517285814947198424793616134329373678152043783006747774713976324752632195167005693599112497786440349371520706925159669426076150988209210153359545013257531111148773771737970287134692540228690946300555636456401432483704147316134559098769720578180293514885977290326937233806306345801254390184890910081678126418200561554232067136240603890177598859400032381090607109140015950198573943305357151490087166267139287545437364277406603745272485971165014032856003136837134426648538483647850430188174337388146885535266527448702761155916509580863811000557423423230896109004106619977392256259918212890625"
      ]
     },
     "execution_count": 130,
     "metadata": {},
     "output_type": "execute_result"
    }
   ],
   "source": [
    "unsigned_long_max ** 1000"
   ]
  },
  {
   "cell_type": "markdown",
   "metadata": {},
   "source": [
    "Bei floats ist dies jedoch nicht der Fall. Hier hält sich Python an den [IEEE 754 Standard](https://de.wikipedia.org/wiki/IEEE_754) zur Darstellung von gebrochenen Zahlen:"
   ]
  },
  {
   "cell_type": "code",
   "execution_count": 1,
   "metadata": {},
   "outputs": [
    {
     "data": {
      "text/plain": [
       "sys.float_info(max=1.7976931348623157e+308, max_exp=1024, max_10_exp=308, min=2.2250738585072014e-308, min_exp=-1021, min_10_exp=-307, dig=15, mant_dig=53, epsilon=2.220446049250313e-16, radix=2, rounds=1)"
      ]
     },
     "execution_count": 1,
     "metadata": {},
     "output_type": "execute_result"
    }
   ],
   "source": [
    "import sys\n",
    "sys.float_info"
   ]
  },
  {
   "cell_type": "code",
   "execution_count": 2,
   "metadata": {},
   "outputs": [],
   "source": [
    "a = sys.float_info.max"
   ]
  },
  {
   "cell_type": "code",
   "execution_count": 6,
   "metadata": {},
   "outputs": [
    {
     "data": {
      "text/plain": [
       "1.7976931348623157e+308"
      ]
     },
     "execution_count": 6,
     "metadata": {},
     "output_type": "execute_result"
    }
   ],
   "source": [
    "a"
   ]
  },
  {
   "cell_type": "code",
   "execution_count": 8,
   "metadata": {},
   "outputs": [
    {
     "data": {
      "text/plain": [
       "inf"
      ]
     },
     "execution_count": 8,
     "metadata": {},
     "output_type": "execute_result"
    }
   ],
   "source": [
    "a*10"
   ]
  },
  {
   "cell_type": "markdown",
   "metadata": {},
   "source": [
    "# Sequentielle Datentypen"
   ]
  },
  {
   "cell_type": "markdown",
   "metadata": {},
   "source": [
    "## Listen"
   ]
  },
  {
   "cell_type": "markdown",
   "metadata": {},
   "source": [
    "*Listen = Anordnung von Daten mit definierter Reihenfolge, die verändert werden kann*"
   ]
  },
  {
   "cell_type": "markdown",
   "metadata": {},
   "source": [
    "Definition einer Liste erfolgt über eckige Klammern:"
   ]
  },
  {
   "cell_type": "code",
   "execution_count": 13,
   "metadata": {
    "collapsed": true
   },
   "outputs": [],
   "source": [
    "l1 = [1,3,5,7,9,11]"
   ]
  },
  {
   "cell_type": "code",
   "execution_count": 14,
   "metadata": {},
   "outputs": [
    {
     "data": {
      "text/plain": [
       "list"
      ]
     },
     "execution_count": 14,
     "metadata": {},
     "output_type": "execute_result"
    }
   ],
   "source": [
    "type(l1)"
   ]
  },
  {
   "cell_type": "code",
   "execution_count": 15,
   "metadata": {},
   "outputs": [
    {
     "data": {
      "text/plain": [
       "[1, 3, 5, 7, 9, 11]"
      ]
     },
     "execution_count": 15,
     "metadata": {},
     "output_type": "execute_result"
    }
   ],
   "source": [
    "l1"
   ]
  },
  {
   "cell_type": "markdown",
   "metadata": {},
   "source": [
    "Listen können Einträge von unterschiedlichem Typ enthalten:"
   ]
  },
  {
   "cell_type": "code",
   "execution_count": 1,
   "metadata": {
    "collapsed": true
   },
   "outputs": [],
   "source": [
    "l2 = [4, \"Brötchen\", 2, \"Croissants\", 1, \"Mischbrot\"]"
   ]
  },
  {
   "cell_type": "code",
   "execution_count": 17,
   "metadata": {},
   "outputs": [
    {
     "data": {
      "text/plain": [
       "[4, 'Brötchen', 2, 'Croissants', 1, 'Mischbrot']"
      ]
     },
     "execution_count": 17,
     "metadata": {},
     "output_type": "execute_result"
    }
   ],
   "source": [
    "l2"
   ]
  },
  {
   "cell_type": "markdown",
   "metadata": {},
   "source": [
    "Zugriff auf Listenelemente:"
   ]
  },
  {
   "cell_type": "code",
   "execution_count": 18,
   "metadata": {},
   "outputs": [
    {
     "data": {
      "text/plain": [
       "4"
      ]
     },
     "execution_count": 18,
     "metadata": {},
     "output_type": "execute_result"
    }
   ],
   "source": [
    "l2[0]"
   ]
  },
  {
   "cell_type": "code",
   "execution_count": 19,
   "metadata": {},
   "outputs": [
    {
     "data": {
      "text/plain": [
       "'Brötchen'"
      ]
     },
     "execution_count": 19,
     "metadata": {},
     "output_type": "execute_result"
    }
   ],
   "source": [
    "l2[1]"
   ]
  },
  {
   "cell_type": "code",
   "execution_count": 20,
   "metadata": {},
   "outputs": [
    {
     "data": {
      "text/plain": [
       "'Mischbrot'"
      ]
     },
     "execution_count": 20,
     "metadata": {},
     "output_type": "execute_result"
    }
   ],
   "source": [
    "l2[5]"
   ]
  },
  {
   "cell_type": "code",
   "execution_count": 21,
   "metadata": {},
   "outputs": [
    {
     "ename": "IndexError",
     "evalue": "list index out of range",
     "output_type": "error",
     "traceback": [
      "\u001b[1;31m---------------------------------------------------------------------------\u001b[0m",
      "\u001b[1;31mIndexError\u001b[0m                                Traceback (most recent call last)",
      "\u001b[1;32m<ipython-input-21-00347162c687>\u001b[0m in \u001b[0;36m<module>\u001b[1;34m()\u001b[0m\n\u001b[1;32m----> 1\u001b[1;33m \u001b[0ml2\u001b[0m\u001b[1;33m[\u001b[0m\u001b[1;36m6\u001b[0m\u001b[1;33m]\u001b[0m\u001b[1;33m\u001b[0m\u001b[0m\n\u001b[0m",
      "\u001b[1;31mIndexError\u001b[0m: list index out of range"
     ]
    }
   ],
   "source": [
    "l2[6]"
   ]
  },
  {
   "cell_type": "markdown",
   "metadata": {},
   "source": [
    "Zugriff auf letztes, vorletztes, vorvorletztes Element, etc.:"
   ]
  },
  {
   "cell_type": "code",
   "execution_count": 22,
   "metadata": {},
   "outputs": [
    {
     "data": {
      "text/plain": [
       "'Mischbrot'"
      ]
     },
     "execution_count": 22,
     "metadata": {},
     "output_type": "execute_result"
    }
   ],
   "source": [
    "l2[-1]"
   ]
  },
  {
   "cell_type": "code",
   "execution_count": 23,
   "metadata": {},
   "outputs": [
    {
     "data": {
      "text/plain": [
       "1"
      ]
     },
     "execution_count": 23,
     "metadata": {},
     "output_type": "execute_result"
    }
   ],
   "source": [
    "l2[-2]"
   ]
  },
  {
   "cell_type": "code",
   "execution_count": 24,
   "metadata": {},
   "outputs": [
    {
     "data": {
      "text/plain": [
       "'Croissants'"
      ]
     },
     "execution_count": 24,
     "metadata": {},
     "output_type": "execute_result"
    }
   ],
   "source": [
    "l2[-3]"
   ]
  },
  {
   "cell_type": "markdown",
   "metadata": {},
   "source": [
    "Ermitteln der Länge einer Liste:"
   ]
  },
  {
   "cell_type": "code",
   "execution_count": 25,
   "metadata": {},
   "outputs": [
    {
     "data": {
      "text/plain": [
       "6"
      ]
     },
     "execution_count": 25,
     "metadata": {},
     "output_type": "execute_result"
    }
   ],
   "source": [
    "len(l2)"
   ]
  },
  {
   "cell_type": "markdown",
   "metadata": {},
   "source": [
    "Listen können ineinander verschachtelt werden:"
   ]
  },
  {
   "cell_type": "code",
   "execution_count": 26,
   "metadata": {
    "collapsed": true
   },
   "outputs": [],
   "source": [
    "l3 = [ [\"Bananen\", \"Äpfel\", \"Orangen\"], [\"Cola\", \"Sprudel\"] ]"
   ]
  },
  {
   "cell_type": "code",
   "execution_count": 27,
   "metadata": {},
   "outputs": [
    {
     "data": {
      "text/plain": [
       "2"
      ]
     },
     "execution_count": 27,
     "metadata": {},
     "output_type": "execute_result"
    }
   ],
   "source": [
    "len(l3)"
   ]
  },
  {
   "cell_type": "code",
   "execution_count": 28,
   "metadata": {},
   "outputs": [
    {
     "data": {
      "text/plain": [
       "['Bananen', 'Äpfel', 'Orangen']"
      ]
     },
     "execution_count": 28,
     "metadata": {},
     "output_type": "execute_result"
    }
   ],
   "source": [
    "l3[0]"
   ]
  },
  {
   "cell_type": "code",
   "execution_count": 29,
   "metadata": {},
   "outputs": [
    {
     "data": {
      "text/plain": [
       "3"
      ]
     },
     "execution_count": 29,
     "metadata": {},
     "output_type": "execute_result"
    }
   ],
   "source": [
    "len(l3[0])"
   ]
  },
  {
   "cell_type": "code",
   "execution_count": 30,
   "metadata": {},
   "outputs": [
    {
     "data": {
      "text/plain": [
       "list"
      ]
     },
     "execution_count": 30,
     "metadata": {},
     "output_type": "execute_result"
    }
   ],
   "source": [
    "type(l3)"
   ]
  },
  {
   "cell_type": "code",
   "execution_count": 31,
   "metadata": {},
   "outputs": [
    {
     "data": {
      "text/plain": [
       "list"
      ]
     },
     "execution_count": 31,
     "metadata": {},
     "output_type": "execute_result"
    }
   ],
   "source": [
    "type(l3[0])"
   ]
  },
  {
   "cell_type": "code",
   "execution_count": 32,
   "metadata": {},
   "outputs": [
    {
     "data": {
      "text/plain": [
       "str"
      ]
     },
     "execution_count": 32,
     "metadata": {},
     "output_type": "execute_result"
    }
   ],
   "source": [
    "type(l3[0][0])"
   ]
  },
  {
   "cell_type": "markdown",
   "metadata": {},
   "source": [
    "Teilbereiche aus einer Liste ausschneiden (\"slicing\"):"
   ]
  },
  {
   "cell_type": "code",
   "execution_count": 33,
   "metadata": {},
   "outputs": [
    {
     "data": {
      "text/plain": [
       "[4, 'Brötchen', 2, 'Croissants', 1, 'Mischbrot']"
      ]
     },
     "execution_count": 33,
     "metadata": {},
     "output_type": "execute_result"
    }
   ],
   "source": [
    "l2"
   ]
  },
  {
   "cell_type": "code",
   "execution_count": 34,
   "metadata": {},
   "outputs": [
    {
     "data": {
      "text/plain": [
       "[4, 'Brötchen']"
      ]
     },
     "execution_count": 34,
     "metadata": {},
     "output_type": "execute_result"
    }
   ],
   "source": [
    "l2[0:2]"
   ]
  },
  {
   "cell_type": "code",
   "execution_count": 35,
   "metadata": {},
   "outputs": [
    {
     "data": {
      "text/plain": [
       "[2, 'Croissants']"
      ]
     },
     "execution_count": 35,
     "metadata": {},
     "output_type": "execute_result"
    }
   ],
   "source": [
    "l2[2:4]"
   ]
  },
  {
   "cell_type": "code",
   "execution_count": 36,
   "metadata": {},
   "outputs": [
    {
     "data": {
      "text/plain": [
       "[1, 'Mischbrot']"
      ]
     },
     "execution_count": 36,
     "metadata": {},
     "output_type": "execute_result"
    }
   ],
   "source": [
    "l2[4:6]"
   ]
  },
  {
   "cell_type": "code",
   "execution_count": 37,
   "metadata": {},
   "outputs": [
    {
     "data": {
      "text/plain": [
       "[2, 'Croissants', 1, 'Mischbrot']"
      ]
     },
     "execution_count": 37,
     "metadata": {},
     "output_type": "execute_result"
    }
   ],
   "source": [
    "l2[2:]"
   ]
  },
  {
   "cell_type": "code",
   "execution_count": 38,
   "metadata": {},
   "outputs": [
    {
     "data": {
      "text/plain": [
       "[4, 'Brötchen', 2, 'Croissants']"
      ]
     },
     "execution_count": 38,
     "metadata": {},
     "output_type": "execute_result"
    }
   ],
   "source": [
    "l2[:4]"
   ]
  },
  {
   "cell_type": "markdown",
   "metadata": {},
   "source": [
    "Teilbereiche mit Schrittweite zurückliefern:\n",
    "\n",
    "Der Teilbereichsoperator hat eigentlich 3 Argumente:\n",
    "\n",
    "    [ Start : Ende(exklusiv) : Schrittweite ]"
   ]
  },
  {
   "cell_type": "markdown",
   "metadata": {},
   "source": [
    "**Quiz-Time!**\n",
    "\n",
    "Was liefert folgender Listenzugriff zurück?"
   ]
  },
  {
   "cell_type": "code",
   "execution_count": 39,
   "metadata": {},
   "outputs": [
    {
     "data": {
      "text/plain": [
       "[4, 2, 1]"
      ]
     },
     "execution_count": 39,
     "metadata": {},
     "output_type": "execute_result"
    }
   ],
   "source": [
    "l2[0:6:2]"
   ]
  },
  {
   "cell_type": "code",
   "execution_count": 40,
   "metadata": {},
   "outputs": [
    {
     "data": {
      "text/plain": [
       "['Brötchen', 'Croissants', 'Mischbrot']"
      ]
     },
     "execution_count": 40,
     "metadata": {},
     "output_type": "execute_result"
    }
   ],
   "source": [
    "l2[1:6:2]"
   ]
  },
  {
   "cell_type": "markdown",
   "metadata": {},
   "source": [
    "Verändern von Listenelementen:"
   ]
  },
  {
   "cell_type": "code",
   "execution_count": 49,
   "metadata": {},
   "outputs": [
    {
     "data": {
      "text/plain": [
       "[4, 'Brötchen', 2, 'Croissants', 1, 'Mischbrot']"
      ]
     },
     "execution_count": 49,
     "metadata": {},
     "output_type": "execute_result"
    }
   ],
   "source": [
    "l2"
   ]
  },
  {
   "cell_type": "code",
   "execution_count": 50,
   "metadata": {
    "collapsed": true
   },
   "outputs": [],
   "source": [
    "l2[0] = 10"
   ]
  },
  {
   "cell_type": "code",
   "execution_count": 51,
   "metadata": {},
   "outputs": [
    {
     "data": {
      "text/plain": [
       "[10, 'Brötchen', 2, 'Croissants', 1, 'Mischbrot']"
      ]
     },
     "execution_count": 51,
     "metadata": {},
     "output_type": "execute_result"
    }
   ],
   "source": [
    "l2"
   ]
  },
  {
   "cell_type": "markdown",
   "metadata": {},
   "source": [
    "Löschen von Listenelementen mittels Wertangabe:"
   ]
  },
  {
   "cell_type": "code",
   "execution_count": 55,
   "metadata": {},
   "outputs": [
    {
     "ename": "ValueError",
     "evalue": "list.remove(x): x not in list",
     "output_type": "error",
     "traceback": [
      "\u001b[1;31m---------------------------------------------------------------------------\u001b[0m",
      "\u001b[1;31mValueError\u001b[0m                                Traceback (most recent call last)",
      "\u001b[1;32m<ipython-input-55-c71ded3966e8>\u001b[0m in \u001b[0;36m<module>\u001b[1;34m()\u001b[0m\n\u001b[1;32m----> 1\u001b[1;33m \u001b[0ml2\u001b[0m\u001b[1;33m.\u001b[0m\u001b[0mremove\u001b[0m\u001b[1;33m(\u001b[0m\u001b[1;34m\"Hörnchen\"\u001b[0m\u001b[1;33m)\u001b[0m\u001b[1;33m\u001b[0m\u001b[0m\n\u001b[0m",
      "\u001b[1;31mValueError\u001b[0m: list.remove(x): x not in list"
     ]
    }
   ],
   "source": [
    "l2.remove(\"Hörnchen\")"
   ]
  },
  {
   "cell_type": "code",
   "execution_count": 2,
   "metadata": {
    "collapsed": true
   },
   "outputs": [],
   "source": [
    "l2.remove(\"Croissants\")"
   ]
  },
  {
   "cell_type": "code",
   "execution_count": 3,
   "metadata": {},
   "outputs": [
    {
     "data": {
      "text/plain": [
       "[4, 'Brötchen', 2, 1, 'Mischbrot']"
      ]
     },
     "execution_count": 3,
     "metadata": {},
     "output_type": "execute_result"
    }
   ],
   "source": [
    "l2"
   ]
  },
  {
   "cell_type": "markdown",
   "metadata": {},
   "source": [
    "Löschen von Listenelementen mittels Indexangabe:"
   ]
  },
  {
   "cell_type": "code",
   "execution_count": 4,
   "metadata": {
    "collapsed": true
   },
   "outputs": [],
   "source": [
    "del l2[2]"
   ]
  },
  {
   "cell_type": "code",
   "execution_count": 5,
   "metadata": {},
   "outputs": [
    {
     "data": {
      "text/plain": [
       "[4, 'Brötchen', 1, 'Mischbrot']"
      ]
     },
     "execution_count": 5,
     "metadata": {},
     "output_type": "execute_result"
    }
   ],
   "source": [
    "l2"
   ]
  },
  {
   "cell_type": "markdown",
   "metadata": {},
   "source": [
    "Hinzufügen von Listenelementen am Ende der Liste:"
   ]
  },
  {
   "cell_type": "code",
   "execution_count": 7,
   "metadata": {},
   "outputs": [],
   "source": [
    "l2.append( 7 )"
   ]
  },
  {
   "cell_type": "code",
   "execution_count": 8,
   "metadata": {},
   "outputs": [
    {
     "data": {
      "text/plain": [
       "[4, 'Brötchen', 1, 'Mischbrot', 7]"
      ]
     },
     "execution_count": 8,
     "metadata": {},
     "output_type": "execute_result"
    }
   ],
   "source": [
    "l2"
   ]
  },
  {
   "cell_type": "code",
   "execution_count": 9,
   "metadata": {
    "collapsed": true
   },
   "outputs": [],
   "source": [
    "l2.append( \"Hörnchen\" )"
   ]
  },
  {
   "cell_type": "code",
   "execution_count": 10,
   "metadata": {},
   "outputs": [
    {
     "data": {
      "text/plain": [
       "[4, 'Brötchen', 1, 'Mischbrot', 7, 'Hörnchen']"
      ]
     },
     "execution_count": 10,
     "metadata": {},
     "output_type": "execute_result"
    }
   ],
   "source": [
    "l2"
   ]
  },
  {
   "cell_type": "markdown",
   "metadata": {},
   "source": [
    "Hinzufügen von Listenelementen an einer definierten Stelle der Liste:"
   ]
  },
  {
   "cell_type": "code",
   "execution_count": null,
   "metadata": {
    "collapsed": true
   },
   "outputs": [],
   "source": []
  },
  {
   "cell_type": "code",
   "execution_count": null,
   "metadata": {
    "collapsed": true
   },
   "outputs": [],
   "source": []
  },
  {
   "cell_type": "code",
   "execution_count": null,
   "metadata": {
    "collapsed": true
   },
   "outputs": [],
   "source": []
  },
  {
   "cell_type": "markdown",
   "metadata": {},
   "source": [
    "## Tupel"
   ]
  },
  {
   "cell_type": "markdown",
   "metadata": {},
   "source": [
    "*Tupel = Anordnung von Daten mit definierter Reihenfolge, die nicht verändert werden kann!*"
   ]
  },
  {
   "cell_type": "markdown",
   "metadata": {},
   "source": [
    "Definition einer Liste erfolgt über runde Klammern:"
   ]
  },
  {
   "cell_type": "code",
   "execution_count": 41,
   "metadata": {
    "collapsed": true
   },
   "outputs": [],
   "source": [
    "t1 = (5, \"Brötchen\", 3, \"Apfeltaschen\")"
   ]
  },
  {
   "cell_type": "code",
   "execution_count": 42,
   "metadata": {},
   "outputs": [
    {
     "data": {
      "text/plain": [
       "(5, 'Brötchen', 3, 'Apfeltaschen')"
      ]
     },
     "execution_count": 42,
     "metadata": {},
     "output_type": "execute_result"
    }
   ],
   "source": [
    "t1"
   ]
  },
  {
   "cell_type": "code",
   "execution_count": 43,
   "metadata": {},
   "outputs": [
    {
     "data": {
      "text/plain": [
       "tuple"
      ]
     },
     "execution_count": 43,
     "metadata": {},
     "output_type": "execute_result"
    }
   ],
   "source": [
    "type(t1)"
   ]
  },
  {
   "cell_type": "markdown",
   "metadata": {},
   "source": [
    "Tupel können auch ohne runde Klammern definiert werden:"
   ]
  },
  {
   "cell_type": "code",
   "execution_count": 46,
   "metadata": {
    "collapsed": true
   },
   "outputs": [],
   "source": [
    "t2 = 5, \"Brötchen\", 3, \"Apfeltaschen\""
   ]
  },
  {
   "cell_type": "code",
   "execution_count": 47,
   "metadata": {},
   "outputs": [
    {
     "data": {
      "text/plain": [
       "(5, 'Brötchen', 3, 'Apfeltaschen')"
      ]
     },
     "execution_count": 47,
     "metadata": {},
     "output_type": "execute_result"
    }
   ],
   "source": [
    "t2"
   ]
  },
  {
   "cell_type": "code",
   "execution_count": 48,
   "metadata": {},
   "outputs": [
    {
     "data": {
      "text/plain": [
       "tuple"
      ]
     },
     "execution_count": 48,
     "metadata": {},
     "output_type": "execute_result"
    }
   ],
   "source": [
    "type(t2)"
   ]
  },
  {
   "cell_type": "code",
   "execution_count": null,
   "metadata": {
    "collapsed": true
   },
   "outputs": [],
   "source": []
  }
 ],
 "metadata": {
  "kernelspec": {
   "display_name": "Python 3",
   "language": "python",
   "name": "python3"
  },
  "language_info": {
   "codemirror_mode": {
    "name": "ipython",
    "version": 3
   },
   "file_extension": ".py",
   "mimetype": "text/x-python",
   "name": "python",
   "nbconvert_exporter": "python",
   "pygments_lexer": "ipython3",
   "version": "3.6.2"
  },
  "toc": {
   "base_numbering": 1,
   "nav_menu": {},
   "number_sections": true,
   "sideBar": true,
   "skip_h1_title": false,
   "title_cell": "Table of Contents",
   "title_sidebar": "Contents",
   "toc_cell": true,
   "toc_position": {},
   "toc_section_display": true,
   "toc_window_display": true
  }
 },
 "nbformat": 4,
 "nbformat_minor": 2
}

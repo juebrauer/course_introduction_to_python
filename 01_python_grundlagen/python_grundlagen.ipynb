{
 "cells": [
  {
   "cell_type": "markdown",
   "metadata": {
    "toc": true
   },
   "source": [
    "<h1>Inhaltsverzeichnis<span class=\"tocSkip\"></span></h1>\n",
    "<div class=\"toc\"><ul class=\"toc-item\"><li><span><a href=\"#Variablennamen\" data-toc-modified-id=\"Variablennamen-1\"><span class=\"toc-item-num\">1&nbsp;&nbsp;</span>Variablennamen</a></span><ul class=\"toc-item\"><li><span><a href=\"#Gültige-Variablennamen\" data-toc-modified-id=\"Gültige-Variablennamen-1.1\"><span class=\"toc-item-num\">1.1&nbsp;&nbsp;</span>Gültige Variablennamen</a></span></li><li><span><a href=\"#Variablennamen-sind-case-sensitive\" data-toc-modified-id=\"Variablennamen-sind-case-sensitive-1.2\"><span class=\"toc-item-num\">1.2&nbsp;&nbsp;</span>Variablennamen sind case-sensitive</a></span></li></ul></li><li><span><a href=\"#Basisdatentypen\" data-toc-modified-id=\"Basisdatentypen-2\"><span class=\"toc-item-num\">2&nbsp;&nbsp;</span>Basisdatentypen</a></span><ul class=\"toc-item\"><li><span><a href=\"#Welche-Basistypen-gibt-es?\" data-toc-modified-id=\"Welche-Basistypen-gibt-es?-2.1\"><span class=\"toc-item-num\">2.1&nbsp;&nbsp;</span>Welche Basistypen gibt es?</a></span></li><li><span><a href=\"#Operatoren-für-Basisdatentypen\" data-toc-modified-id=\"Operatoren-für-Basisdatentypen-2.2\"><span class=\"toc-item-num\">2.2&nbsp;&nbsp;</span>Operatoren für Basisdatentypen</a></span></li><li><span><a href=\"#Explizite-Typumwandlung\" data-toc-modified-id=\"Explizite-Typumwandlung-2.3\"><span class=\"toc-item-num\">2.3&nbsp;&nbsp;</span>Explizite Typumwandlung</a></span></li><li><span><a href=\"#Gültigkeitsbereich-der-Basisdatentypen\" data-toc-modified-id=\"Gültigkeitsbereich-der-Basisdatentypen-2.4\"><span class=\"toc-item-num\">2.4&nbsp;&nbsp;</span>Gültigkeitsbereich der Basisdatentypen</a></span></li></ul></li><li><span><a href=\"#Listen\" data-toc-modified-id=\"Listen-3\"><span class=\"toc-item-num\">3&nbsp;&nbsp;</span>Listen</a></span><ul class=\"toc-item\"><li><span><a href=\"#Definition-einer-Liste-erfolgt-über-eckige-Klammern:\" data-toc-modified-id=\"Definition-einer-Liste-erfolgt-über-eckige-Klammern:-3.1\"><span class=\"toc-item-num\">3.1&nbsp;&nbsp;</span>Definition einer Liste erfolgt über eckige Klammern:</a></span></li><li><span><a href=\"#Listen-können-Einträge-von-unterschiedlichem-Typ-enthalten:\" data-toc-modified-id=\"Listen-können-Einträge-von-unterschiedlichem-Typ-enthalten:-3.2\"><span class=\"toc-item-num\">3.2&nbsp;&nbsp;</span>Listen können Einträge von unterschiedlichem Typ enthalten:</a></span></li><li><span><a href=\"#Zugriff-auf-Listenelemente:\" data-toc-modified-id=\"Zugriff-auf-Listenelemente:-3.3\"><span class=\"toc-item-num\">3.3&nbsp;&nbsp;</span>Zugriff auf Listenelemente:</a></span></li><li><span><a href=\"#Zugriff-auf-letztes,-vorletztes,-vorvorletztes-Element,-etc.:\" data-toc-modified-id=\"Zugriff-auf-letztes,-vorletztes,-vorvorletztes-Element,-etc.:-3.4\"><span class=\"toc-item-num\">3.4&nbsp;&nbsp;</span>Zugriff auf letztes, vorletztes, vorvorletztes Element, etc.:</a></span></li><li><span><a href=\"#Ermitteln-der-Länge-einer-Liste:\" data-toc-modified-id=\"Ermitteln-der-Länge-einer-Liste:-3.5\"><span class=\"toc-item-num\">3.5&nbsp;&nbsp;</span>Ermitteln der Länge einer Liste:</a></span></li><li><span><a href=\"#Listen-können-ineinander-verschachtelt-werden:\" data-toc-modified-id=\"Listen-können-ineinander-verschachtelt-werden:-3.6\"><span class=\"toc-item-num\">3.6&nbsp;&nbsp;</span>Listen können ineinander verschachtelt werden:</a></span></li><li><span><a href=\"#Quiz-Time!\" data-toc-modified-id=\"Quiz-Time!-3.7\"><span class=\"toc-item-num\">3.7&nbsp;&nbsp;</span>Quiz-Time!</a></span></li><li><span><a href=\"#Quiz-Time!\" data-toc-modified-id=\"Quiz-Time!-3.8\"><span class=\"toc-item-num\">3.8&nbsp;&nbsp;</span>Quiz-Time!</a></span></li><li><span><a href=\"#Teilbereiche-aus-einer-Liste-ausschneiden-(&quot;slicing&quot;):\" data-toc-modified-id=\"Teilbereiche-aus-einer-Liste-ausschneiden-(&quot;slicing&quot;):-3.9\"><span class=\"toc-item-num\">3.9&nbsp;&nbsp;</span>Teilbereiche aus einer Liste ausschneiden (\"slicing\"):</a></span></li><li><span><a href=\"#Quiz-Time!\" data-toc-modified-id=\"Quiz-Time!-3.10\"><span class=\"toc-item-num\">3.10&nbsp;&nbsp;</span>Quiz-Time!</a></span></li><li><span><a href=\"#Quiz-Time!\" data-toc-modified-id=\"Quiz-Time!-3.11\"><span class=\"toc-item-num\">3.11&nbsp;&nbsp;</span>Quiz-Time!</a></span></li><li><span><a href=\"#Verändern-von-Listenelementen:\" data-toc-modified-id=\"Verändern-von-Listenelementen:-3.12\"><span class=\"toc-item-num\">3.12&nbsp;&nbsp;</span>Verändern von Listenelementen:</a></span></li><li><span><a href=\"#Löschen-von-Listenelementen-mittels-Wertangabe:\" data-toc-modified-id=\"Löschen-von-Listenelementen-mittels-Wertangabe:-3.13\"><span class=\"toc-item-num\">3.13&nbsp;&nbsp;</span>Löschen von Listenelementen mittels Wertangabe:</a></span></li><li><span><a href=\"#Löschen-von-Listenelementen-mittels-Indexangabe:\" data-toc-modified-id=\"Löschen-von-Listenelementen-mittels-Indexangabe:-3.14\"><span class=\"toc-item-num\">3.14&nbsp;&nbsp;</span>Löschen von Listenelementen mittels Indexangabe:</a></span></li><li><span><a href=\"#Hinzufügen-von-Listenelementen-am-Ende-der-Liste:\" data-toc-modified-id=\"Hinzufügen-von-Listenelementen-am-Ende-der-Liste:-3.15\"><span class=\"toc-item-num\">3.15&nbsp;&nbsp;</span>Hinzufügen von Listenelementen am Ende der Liste:</a></span></li><li><span><a href=\"#Hinzufügen-von-Listenelementen-an-einer-definierten-Stelle-der-Liste:\" data-toc-modified-id=\"Hinzufügen-von-Listenelementen-an-einer-definierten-Stelle-der-Liste:-3.16\"><span class=\"toc-item-num\">3.16&nbsp;&nbsp;</span>Hinzufügen von Listenelementen an einer definierten Stelle der Liste:</a></span></li><li><span><a href=\"#Überprüfen,-ob-ein-Element-in-der-Liste-ist:\" data-toc-modified-id=\"Überprüfen,-ob-ein-Element-in-der-Liste-ist:-3.17\"><span class=\"toc-item-num\">3.17&nbsp;&nbsp;</span>Überprüfen, ob ein Element in der Liste ist:</a></span></li><li><span><a href=\"#Sortieren-von-Listen-(in-place)\" data-toc-modified-id=\"Sortieren-von-Listen-(in-place)-3.18\"><span class=\"toc-item-num\">3.18&nbsp;&nbsp;</span>Sortieren von Listen (in-place)</a></span></li><li><span><a href=\"#Sortieren-von-Listen-(sortierte-Kopie-erzeugen)\" data-toc-modified-id=\"Sortieren-von-Listen-(sortierte-Kopie-erzeugen)-3.19\"><span class=\"toc-item-num\">3.19&nbsp;&nbsp;</span>Sortieren von Listen (sortierte Kopie erzeugen)</a></span></li><li><span><a href=\"#Hinzufügen-mehrerer-Elemente-auf-einmal-zu-einer-Liste:\" data-toc-modified-id=\"Hinzufügen-mehrerer-Elemente-auf-einmal-zu-einer-Liste:-3.20\"><span class=\"toc-item-num\">3.20&nbsp;&nbsp;</span>Hinzufügen mehrerer Elemente auf einmal zu einer Liste:</a></span></li><li><span><a href=\"#Listen-miteinander-verknüpfen-(&quot;konkatenieren&quot;):\" data-toc-modified-id=\"Listen-miteinander-verknüpfen-(&quot;konkatenieren&quot;):-3.21\"><span class=\"toc-item-num\">3.21&nbsp;&nbsp;</span>Listen miteinander verknüpfen (\"konkatenieren\"):</a></span></li><li><span><a href=\"#Addieren-zweier-Listen:\" data-toc-modified-id=\"Addieren-zweier-Listen:-3.22\"><span class=\"toc-item-num\">3.22&nbsp;&nbsp;</span>Addieren zweier Listen:</a></span></li><li><span><a href=\"#zip-Funktion\" data-toc-modified-id=\"zip-Funktion-3.23\"><span class=\"toc-item-num\">3.23&nbsp;&nbsp;</span>zip-Funktion</a></span></li><li><span><a href=\"#List-comprehension\" data-toc-modified-id=\"List-comprehension-3.24\"><span class=\"toc-item-num\">3.24&nbsp;&nbsp;</span>List comprehension</a></span></li><li><span><a href=\"#Quiz-Time!-Was-wird-hier-gemacht?\" data-toc-modified-id=\"Quiz-Time!-Was-wird-hier-gemacht?-3.25\"><span class=\"toc-item-num\">3.25&nbsp;&nbsp;</span>Quiz-Time! Was wird hier gemacht?</a></span></li></ul></li><li><span><a href=\"#Tupel\" data-toc-modified-id=\"Tupel-4\"><span class=\"toc-item-num\">4&nbsp;&nbsp;</span>Tupel</a></span><ul class=\"toc-item\"><li><span><a href=\"#Definition-einer-Liste-erfolgt-über-runde-Klammern:\" data-toc-modified-id=\"Definition-einer-Liste-erfolgt-über-runde-Klammern:-4.1\"><span class=\"toc-item-num\">4.1&nbsp;&nbsp;</span>Definition einer Liste erfolgt über runde Klammern:</a></span></li><li><span><a href=\"#Tupel-können-auch-ohne-runde-Klammern-definiert-werden:\" data-toc-modified-id=\"Tupel-können-auch-ohne-runde-Klammern-definiert-werden:-4.2\"><span class=\"toc-item-num\">4.2&nbsp;&nbsp;</span>Tupel können auch ohne runde Klammern definiert werden:</a></span></li><li><span><a href=\"#Entpacken-einer-Liste-durch-Mehrfachzuweisung:\" data-toc-modified-id=\"Entpacken-einer-Liste-durch-Mehrfachzuweisung:-4.3\"><span class=\"toc-item-num\">4.3&nbsp;&nbsp;</span>Entpacken einer Liste durch Mehrfachzuweisung:</a></span></li><li><span><a href=\"#Unterschied-zwischen-Tupeln-und-Listen\" data-toc-modified-id=\"Unterschied-zwischen-Tupeln-und-Listen-4.4\"><span class=\"toc-item-num\">4.4&nbsp;&nbsp;</span>Unterschied zwischen Tupeln und Listen</a></span></li><li><span><a href=\"#Konkatenieren-von-Tupeln\" data-toc-modified-id=\"Konkatenieren-von-Tupeln-4.5\"><span class=\"toc-item-num\">4.5&nbsp;&nbsp;</span>Konkatenieren von Tupeln</a></span></li><li><span><a href=\"#Slicing-funktioniert-auch-für-Tupel\" data-toc-modified-id=\"Slicing-funktioniert-auch-für-Tupel-4.6\"><span class=\"toc-item-num\">4.6&nbsp;&nbsp;</span>Slicing funktioniert auch für Tupel</a></span></li></ul></li><li><span><a href=\"#Zeichenketten-(Strings)\" data-toc-modified-id=\"Zeichenketten-(Strings)-5\"><span class=\"toc-item-num\">5&nbsp;&nbsp;</span>Zeichenketten (Strings)</a></span><ul class=\"toc-item\"><li><span><a href=\"#Definition-von-Zeichenketten\" data-toc-modified-id=\"Definition-von-Zeichenketten-5.1\"><span class=\"toc-item-num\">5.1&nbsp;&nbsp;</span>Definition von Zeichenketten</a></span></li><li><span><a href=\"#Escape-Sequenzen\" data-toc-modified-id=\"Escape-Sequenzen-5.2\"><span class=\"toc-item-num\">5.2&nbsp;&nbsp;</span>Escape-Sequenzen</a></span></li><li><span><a href=\"#Unicode-Zeichen-in-Strings\" data-toc-modified-id=\"Unicode-Zeichen-in-Strings-5.3\"><span class=\"toc-item-num\">5.3&nbsp;&nbsp;</span>Unicode-Zeichen in Strings</a></span></li><li><span><a href=\"#Zeichenketten-über-mehrere-Zeilen\" data-toc-modified-id=\"Zeichenketten-über-mehrere-Zeilen-5.4\"><span class=\"toc-item-num\">5.4&nbsp;&nbsp;</span>Zeichenketten über mehrere Zeilen</a></span></li><li><span><a href=\"#Lesender-und-schreibender-Zugriff-auf-einzelne-Zeichen:\" data-toc-modified-id=\"Lesender-und-schreibender-Zugriff-auf-einzelne-Zeichen:-5.5\"><span class=\"toc-item-num\">5.5&nbsp;&nbsp;</span>Lesender und schreibender Zugriff auf einzelne Zeichen:</a></span></li><li><span><a href=\"#Umwandeln-in-Klein--bzw.-Großbuchstaben\" data-toc-modified-id=\"Umwandeln-in-Klein--bzw.-Großbuchstaben-5.6\"><span class=\"toc-item-num\">5.6&nbsp;&nbsp;</span>Umwandeln in Klein- bzw. Großbuchstaben</a></span></li><li><span><a href=\"#Überprüfen-ob-ein-Wort-in-einer-Zeichenkette-vorkommt\" data-toc-modified-id=\"Überprüfen-ob-ein-Wort-in-einer-Zeichenkette-vorkommt-5.7\"><span class=\"toc-item-num\">5.7&nbsp;&nbsp;</span>Überprüfen ob ein Wort in einer Zeichenkette vorkommt</a></span></li><li><span><a href=\"#Quiz-Time!\" data-toc-modified-id=\"Quiz-Time!-5.8\"><span class=\"toc-item-num\">5.8&nbsp;&nbsp;</span>Quiz-Time!</a></span></li><li><span><a href=\"#Finden-der-1.-Vorkommensstelle-eines-Wortes-in-einer-Zeichenkette\" data-toc-modified-id=\"Finden-der-1.-Vorkommensstelle-eines-Wortes-in-einer-Zeichenkette-5.9\"><span class=\"toc-item-num\">5.9&nbsp;&nbsp;</span>Finden der 1. Vorkommensstelle eines Wortes in einer Zeichenkette</a></span></li><li><span><a href=\"#Aufspalten-von-Zeichenketten\" data-toc-modified-id=\"Aufspalten-von-Zeichenketten-5.10\"><span class=\"toc-item-num\">5.10&nbsp;&nbsp;</span>Aufspalten von Zeichenketten</a></span></li><li><span><a href=\"#Ersetzen-von-Wörtern-in-Zeichenketten\" data-toc-modified-id=\"Ersetzen-von-Wörtern-in-Zeichenketten-5.11\"><span class=\"toc-item-num\">5.11&nbsp;&nbsp;</span>Ersetzen von Wörtern in Zeichenketten</a></span></li></ul></li><li><span><a href=\"#for-Schleife\" data-toc-modified-id=\"for-Schleife-6\"><span class=\"toc-item-num\">6&nbsp;&nbsp;</span>for-Schleife</a></span><ul class=\"toc-item\"><li><span><a href=\"#Es-gibt-keine-klassische-numerische-Zählschleife!\" data-toc-modified-id=\"Es-gibt-keine-klassische-numerische-Zählschleife!-6.1\"><span class=\"toc-item-num\">6.1&nbsp;&nbsp;</span>Es gibt keine klassische numerische Zählschleife!</a></span></li><li><span><a href=\"#Einrückung-ist-wichtig\" data-toc-modified-id=\"Einrückung-ist-wichtig-6.2\"><span class=\"toc-item-num\">6.2&nbsp;&nbsp;</span>Einrückung ist wichtig</a></span></li><li><span><a href=\"#range()-Varianten\" data-toc-modified-id=\"range()-Varianten-6.3\"><span class=\"toc-item-num\">6.3&nbsp;&nbsp;</span>range() Varianten</a></span></li><li><span><a href=\"#Iterieren-über-andere-sequentielle-Datentypen\" data-toc-modified-id=\"Iterieren-über-andere-sequentielle-Datentypen-6.4\"><span class=\"toc-item-num\">6.4&nbsp;&nbsp;</span>Iterieren über andere sequentielle Datentypen</a></span></li><li><span><a href=\"#Kleiner-Exkurs:-Benutzereingabe\" data-toc-modified-id=\"Kleiner-Exkurs:-Benutzereingabe-6.5\"><span class=\"toc-item-num\">6.5&nbsp;&nbsp;</span>Kleiner Exkurs: Benutzereingabe</a></span></li><li><span><a href=\"#continue:-Schleifenfortführung\" data-toc-modified-id=\"continue:-Schleifenfortführung-6.6\"><span class=\"toc-item-num\">6.6&nbsp;&nbsp;</span>continue: Schleifenfortführung</a></span></li><li><span><a href=\"#break:-Schleifenabbruch\" data-toc-modified-id=\"break:-Schleifenabbruch-6.7\"><span class=\"toc-item-num\">6.7&nbsp;&nbsp;</span>break: Schleifenabbruch</a></span></li><li><span><a href=\"#for-Schleifen-mit-else-Zweig\" data-toc-modified-id=\"for-Schleifen-mit-else-Zweig-6.8\"><span class=\"toc-item-num\">6.8&nbsp;&nbsp;</span>for-Schleifen mit else-Zweig</a></span></li></ul></li><li><span><a href=\"#while-Schleife\" data-toc-modified-id=\"while-Schleife-7\"><span class=\"toc-item-num\">7&nbsp;&nbsp;</span>while-Schleife</a></span><ul class=\"toc-item\"><li><span><a href=\"#Ein-erstes-einfaches-Beispiel\" data-toc-modified-id=\"Ein-erstes-einfaches-Beispiel-7.1\"><span class=\"toc-item-num\">7.1&nbsp;&nbsp;</span>Ein erstes einfaches Beispiel</a></span></li><li><span><a href=\"#else-Zweig-bei-while-Schleifen\" data-toc-modified-id=\"else-Zweig-bei-while-Schleifen-7.2\"><span class=\"toc-item-num\">7.2&nbsp;&nbsp;</span>else-Zweig bei while-Schleifen</a></span></li></ul></li><li><span><a href=\"#if-(Bedingte-Anweisung)\" data-toc-modified-id=\"if-(Bedingte-Anweisung)-8\"><span class=\"toc-item-num\">8&nbsp;&nbsp;</span>if (Bedingte Anweisung)</a></span><ul class=\"toc-item\"><li><span><a href=\"#Zahlenratebeispiel\" data-toc-modified-id=\"Zahlenratebeispiel-8.1\"><span class=\"toc-item-num\">8.1&nbsp;&nbsp;</span>Zahlenratebeispiel</a></span></li><li><span><a href=\"#Mehrfachfallunterscheidung-mit-else\" data-toc-modified-id=\"Mehrfachfallunterscheidung-mit-else-8.2\"><span class=\"toc-item-num\">8.2&nbsp;&nbsp;</span>Mehrfachfallunterscheidung mit else</a></span></li><li><span><a href=\"#Mehrfachfallunterscheidung-mit-elif\" data-toc-modified-id=\"Mehrfachfallunterscheidung-mit-elif-8.3\"><span class=\"toc-item-num\">8.3&nbsp;&nbsp;</span>Mehrfachfallunterscheidung mit elif</a></span></li></ul></li><li><span><a href=\"#Funktionen\" data-toc-modified-id=\"Funktionen-9\"><span class=\"toc-item-num\">9&nbsp;&nbsp;</span>Funktionen</a></span><ul class=\"toc-item\"><li><span><a href=\"#Syntax-der-Definition-einer-Funktion\" data-toc-modified-id=\"Syntax-der-Definition-einer-Funktion-9.1\"><span class=\"toc-item-num\">9.1&nbsp;&nbsp;</span>Syntax der Definition einer Funktion</a></span></li><li><span><a href=\"#Leere-Funktion\" data-toc-modified-id=\"Leere-Funktion-9.2\"><span class=\"toc-item-num\">9.2&nbsp;&nbsp;</span>Leere Funktion</a></span></li><li><span><a href=\"#Funktionen,-die-nichts-zurückgeben\" data-toc-modified-id=\"Funktionen,-die-nichts-zurückgeben-9.3\"><span class=\"toc-item-num\">9.3&nbsp;&nbsp;</span>Funktionen, die nichts zurückgeben</a></span></li><li><span><a href=\"#Docstring\" data-toc-modified-id=\"Docstring-9.4\"><span class=\"toc-item-num\">9.4&nbsp;&nbsp;</span>Docstring</a></span></li><li><span><a href=\"#Standardwerte-für-Funktionsargumente\" data-toc-modified-id=\"Standardwerte-für-Funktionsargumente-9.5\"><span class=\"toc-item-num\">9.5&nbsp;&nbsp;</span>Standardwerte für Funktionsargumente</a></span></li><li><span><a href=\"#Funktionen-mit-mehreren-Rückgabewerten\" data-toc-modified-id=\"Funktionen-mit-mehreren-Rückgabewerten-9.6\"><span class=\"toc-item-num\">9.6&nbsp;&nbsp;</span>Funktionen mit mehreren Rückgabewerten</a></span></li><li><span><a href=\"#Quiz-Time!\" data-toc-modified-id=\"Quiz-Time!-9.7\"><span class=\"toc-item-num\">9.7&nbsp;&nbsp;</span>Quiz-Time!</a></span></li><li><span><a href=\"#Sicherheitsüberprüfung-für-Funktionsargumente\" data-toc-modified-id=\"Sicherheitsüberprüfung-für-Funktionsargumente-9.8\"><span class=\"toc-item-num\">9.8&nbsp;&nbsp;</span>Sicherheitsüberprüfung für Funktionsargumente</a></span></li><li><span><a href=\"#Werden-übergebene-Variablen-verändert?\" data-toc-modified-id=\"Werden-übergebene-Variablen-verändert?-9.9\"><span class=\"toc-item-num\">9.9&nbsp;&nbsp;</span>Werden übergebene Variablen verändert?</a></span></li><li><span><a href=\"#Lokale-und-globale-Variablen\" data-toc-modified-id=\"Lokale-und-globale-Variablen-9.10\"><span class=\"toc-item-num\">9.10&nbsp;&nbsp;</span>Lokale und globale Variablen</a></span></li><li><span><a href=\"#Funktionen-in-Funktionen-definieren\" data-toc-modified-id=\"Funktionen-in-Funktionen-definieren-9.11\"><span class=\"toc-item-num\">9.11&nbsp;&nbsp;</span>Funktionen in Funktionen definieren</a></span></li><li><span><a href=\"#Variable-Anzahl-von-Funktionsparametern\" data-toc-modified-id=\"Variable-Anzahl-von-Funktionsparametern-9.12\"><span class=\"toc-item-num\">9.12&nbsp;&nbsp;</span>Variable Anzahl von Funktionsparametern</a></span></li><li><span><a href=\"#Ein-Stern-(*)-in-Funktionsaufrufen\" data-toc-modified-id=\"Ein-Stern-(*)-in-Funktionsaufrufen-9.13\"><span class=\"toc-item-num\">9.13&nbsp;&nbsp;</span>Ein Stern (*) in Funktionsaufrufen</a></span></li></ul></li><li><span><a href=\"#Kommentare\" data-toc-modified-id=\"Kommentare-10\"><span class=\"toc-item-num\">10&nbsp;&nbsp;</span>Kommentare</a></span></li><li><span><a href=\"#Dictionaries\" data-toc-modified-id=\"Dictionaries-11\"><span class=\"toc-item-num\">11&nbsp;&nbsp;</span>Dictionaries</a></span><ul class=\"toc-item\"><li><span><a href=\"#Definition\" data-toc-modified-id=\"Definition-11.1\"><span class=\"toc-item-num\">11.1&nbsp;&nbsp;</span>Definition</a></span></li><li><span><a href=\"#Zugriff-auf-Values-über-Keys\" data-toc-modified-id=\"Zugriff-auf-Values-über-Keys-11.2\"><span class=\"toc-item-num\">11.2&nbsp;&nbsp;</span>Zugriff auf Values über Keys</a></span></li><li><span><a href=\"#get()-Funktion\" data-toc-modified-id=\"get()-Funktion-11.3\"><span class=\"toc-item-num\">11.3&nbsp;&nbsp;</span>get() Funktion</a></span></li><li><span><a href=\"#Testen,-ob-ein-Key-in-einem-Dictionary-vorkommt\" data-toc-modified-id=\"Testen,-ob-ein-Key-in-einem-Dictionary-vorkommt-11.4\"><span class=\"toc-item-num\">11.4&nbsp;&nbsp;</span>Testen, ob ein Key in einem Dictionary vorkommt</a></span></li><li><span><a href=\"#Gültige-Keys-für-ein-Dictionary\" data-toc-modified-id=\"Gültige-Keys-für-ein-Dictionary-11.5\"><span class=\"toc-item-num\">11.5&nbsp;&nbsp;</span>Gültige Keys für ein Dictionary</a></span></li><li><span><a href=\"#Über-die-Keys-eines-Dictionaries-iterieren\" data-toc-modified-id=\"Über-die-Keys-eines-Dictionaries-iterieren-11.6\"><span class=\"toc-item-num\">11.6&nbsp;&nbsp;</span>Über die Keys eines Dictionaries iterieren</a></span></li><li><span><a href=\"#Verschachtelte-Dictionaries\" data-toc-modified-id=\"Verschachtelte-Dictionaries-11.7\"><span class=\"toc-item-num\">11.7&nbsp;&nbsp;</span>Verschachtelte Dictionaries</a></span></li><li><span><a href=\"#Einen-Eintrag-aus-einem-Dictionary-löschen\" data-toc-modified-id=\"Einen-Eintrag-aus-einem-Dictionary-löschen-11.8\"><span class=\"toc-item-num\">11.8&nbsp;&nbsp;</span>Einen Eintrag aus einem Dictionary löschen</a></span></li></ul></li></ul></div>"
   ]
  },
  {
   "cell_type": "markdown",
   "metadata": {},
   "source": [
    "# Variablennamen"
   ]
  },
  {
   "cell_type": "markdown",
   "metadata": {},
   "source": [
    "## Gültige Variablennamen\n",
    "\n",
    "Variablennamen müssen mit einem Buchstaben oder Unterstrich _ beginnen:"
   ]
  },
  {
   "cell_type": "code",
   "execution_count": 1,
   "metadata": {
    "collapsed": true
   },
   "outputs": [],
   "source": [
    "a = 42"
   ]
  },
  {
   "cell_type": "code",
   "execution_count": 2,
   "metadata": {
    "collapsed": true
   },
   "outputs": [],
   "source": [
    "_a = 43"
   ]
  },
  {
   "cell_type": "code",
   "execution_count": 3,
   "metadata": {},
   "outputs": [
    {
     "data": {
      "text/plain": [
       "42"
      ]
     },
     "execution_count": 3,
     "metadata": {},
     "output_type": "execute_result"
    }
   ],
   "source": [
    "a"
   ]
  },
  {
   "cell_type": "code",
   "execution_count": 4,
   "metadata": {},
   "outputs": [
    {
     "data": {
      "text/plain": [
       "43"
      ]
     },
     "execution_count": 4,
     "metadata": {},
     "output_type": "execute_result"
    }
   ],
   "source": [
    "_a"
   ]
  },
  {
   "cell_type": "code",
   "execution_count": 6,
   "metadata": {},
   "outputs": [
    {
     "ename": "SyntaxError",
     "evalue": "invalid syntax (<ipython-input-6-9d1ff6a67251>, line 1)",
     "output_type": "error",
     "traceback": [
      "\u001b[1;36m  File \u001b[1;32m\"<ipython-input-6-9d1ff6a67251>\"\u001b[1;36m, line \u001b[1;32m1\u001b[0m\n\u001b[1;33m    123a = 44\u001b[0m\n\u001b[1;37m       ^\u001b[0m\n\u001b[1;31mSyntaxError\u001b[0m\u001b[1;31m:\u001b[0m invalid syntax\n"
     ]
    }
   ],
   "source": [
    "123a = 44"
   ]
  },
  {
   "cell_type": "code",
   "execution_count": 7,
   "metadata": {
    "collapsed": true
   },
   "outputs": [],
   "source": [
    "a123 = 44"
   ]
  },
  {
   "cell_type": "code",
   "execution_count": 8,
   "metadata": {},
   "outputs": [
    {
     "data": {
      "text/plain": [
       "44"
      ]
     },
     "execution_count": 8,
     "metadata": {},
     "output_type": "execute_result"
    }
   ],
   "source": [
    "a123"
   ]
  },
  {
   "cell_type": "code",
   "execution_count": 9,
   "metadata": {},
   "outputs": [
    {
     "ename": "SyntaxError",
     "evalue": "invalid syntax (<ipython-input-9-25f1dfb91e86>, line 1)",
     "output_type": "error",
     "traceback": [
      "\u001b[1;36m  File \u001b[1;32m\"<ipython-input-9-25f1dfb91e86>\"\u001b[1;36m, line \u001b[1;32m1\u001b[0m\n\u001b[1;33m    123a\u001b[0m\n\u001b[1;37m       ^\u001b[0m\n\u001b[1;31mSyntaxError\u001b[0m\u001b[1;31m:\u001b[0m invalid syntax\n"
     ]
    }
   ],
   "source": [
    "123a"
   ]
  },
  {
   "cell_type": "code",
   "execution_count": 10,
   "metadata": {
    "collapsed": true
   },
   "outputs": [],
   "source": [
    "zeitreihe1_länge = 100"
   ]
  },
  {
   "cell_type": "code",
   "execution_count": 11,
   "metadata": {},
   "outputs": [
    {
     "data": {
      "text/plain": [
       "100"
      ]
     },
     "execution_count": 11,
     "metadata": {},
     "output_type": "execute_result"
    }
   ],
   "source": [
    "zeitreihe1_länge"
   ]
  },
  {
   "cell_type": "code",
   "execution_count": 12,
   "metadata": {
    "collapsed": true
   },
   "outputs": [],
   "source": [
    "_üäö = 101"
   ]
  },
  {
   "cell_type": "code",
   "execution_count": 13,
   "metadata": {},
   "outputs": [
    {
     "data": {
      "text/plain": [
       "101"
      ]
     },
     "execution_count": 13,
     "metadata": {},
     "output_type": "execute_result"
    }
   ],
   "source": [
    "_üäö"
   ]
  },
  {
   "cell_type": "code",
   "execution_count": 14,
   "metadata": {
    "collapsed": true
   },
   "outputs": [],
   "source": [
    "_ß = 2*_üäö"
   ]
  },
  {
   "cell_type": "code",
   "execution_count": 15,
   "metadata": {},
   "outputs": [
    {
     "data": {
      "text/plain": [
       "202"
      ]
     },
     "execution_count": 15,
     "metadata": {},
     "output_type": "execute_result"
    }
   ],
   "source": [
    "_ß"
   ]
  },
  {
   "cell_type": "code",
   "execution_count": 16,
   "metadata": {},
   "outputs": [
    {
     "ename": "SyntaxError",
     "evalue": "invalid character in identifier (<ipython-input-16-16c6ae0707ee>, line 1)",
     "output_type": "error",
     "traceback": [
      "\u001b[1;36m  File \u001b[1;32m\"<ipython-input-16-16c6ae0707ee>\"\u001b[1;36m, line \u001b[1;32m1\u001b[0m\n\u001b[1;33m    § = 100\u001b[0m\n\u001b[1;37m    ^\u001b[0m\n\u001b[1;31mSyntaxError\u001b[0m\u001b[1;31m:\u001b[0m invalid character in identifier\n"
     ]
    }
   ],
   "source": [
    "§ = 100"
   ]
  },
  {
   "cell_type": "code",
   "execution_count": 17,
   "metadata": {
    "collapsed": true
   },
   "outputs": [],
   "source": [
    "é = 1"
   ]
  },
  {
   "cell_type": "code",
   "execution_count": 18,
   "metadata": {},
   "outputs": [
    {
     "data": {
      "text/plain": [
       "1"
      ]
     },
     "execution_count": 18,
     "metadata": {},
     "output_type": "execute_result"
    }
   ],
   "source": [
    "é"
   ]
  },
  {
   "cell_type": "code",
   "execution_count": 19,
   "metadata": {
    "collapsed": true
   },
   "outputs": [],
   "source": [
    "à = 2"
   ]
  },
  {
   "cell_type": "code",
   "execution_count": 20,
   "metadata": {},
   "outputs": [
    {
     "data": {
      "text/plain": [
       "2"
      ]
     },
     "execution_count": 20,
     "metadata": {},
     "output_type": "execute_result"
    }
   ],
   "source": [
    "à"
   ]
  },
  {
   "cell_type": "code",
   "execution_count": 21,
   "metadata": {
    "collapsed": true
   },
   "outputs": [],
   "source": [
    "â = 3"
   ]
  },
  {
   "cell_type": "code",
   "execution_count": 22,
   "metadata": {},
   "outputs": [
    {
     "data": {
      "text/plain": [
       "3"
      ]
     },
     "execution_count": 22,
     "metadata": {},
     "output_type": "execute_result"
    }
   ],
   "source": [
    "â"
   ]
  },
  {
   "cell_type": "code",
   "execution_count": 23,
   "metadata": {
    "collapsed": true
   },
   "outputs": [],
   "source": [
    "å = 4"
   ]
  },
  {
   "cell_type": "code",
   "execution_count": 24,
   "metadata": {},
   "outputs": [
    {
     "data": {
      "text/plain": [
       "4"
      ]
     },
     "execution_count": 24,
     "metadata": {},
     "output_type": "execute_result"
    }
   ],
   "source": [
    "å"
   ]
  },
  {
   "cell_type": "markdown",
   "metadata": {},
   "source": [
    "## Variablennamen sind case-sensitive"
   ]
  },
  {
   "cell_type": "code",
   "execution_count": 25,
   "metadata": {
    "collapsed": true
   },
   "outputs": [],
   "source": [
    "zeitreihe = 1"
   ]
  },
  {
   "cell_type": "code",
   "execution_count": 26,
   "metadata": {
    "collapsed": true
   },
   "outputs": [],
   "source": [
    "Zeitreihe = 2"
   ]
  },
  {
   "cell_type": "code",
   "execution_count": 27,
   "metadata": {},
   "outputs": [
    {
     "data": {
      "text/plain": [
       "1"
      ]
     },
     "execution_count": 27,
     "metadata": {},
     "output_type": "execute_result"
    }
   ],
   "source": [
    "zeitreihe"
   ]
  },
  {
   "cell_type": "markdown",
   "metadata": {},
   "source": [
    "# Basisdatentypen"
   ]
  },
  {
   "cell_type": "markdown",
   "metadata": {},
   "source": [
    "## Welche Basistypen gibt es?"
   ]
  },
  {
   "cell_type": "code",
   "execution_count": 28,
   "metadata": {
    "collapsed": true
   },
   "outputs": [],
   "source": [
    "a = 1"
   ]
  },
  {
   "cell_type": "code",
   "execution_count": 29,
   "metadata": {},
   "outputs": [
    {
     "data": {
      "text/plain": [
       "int"
      ]
     },
     "execution_count": 29,
     "metadata": {},
     "output_type": "execute_result"
    }
   ],
   "source": [
    "type(a)"
   ]
  },
  {
   "cell_type": "code",
   "execution_count": 30,
   "metadata": {},
   "outputs": [
    {
     "name": "stdout",
     "output_type": "stream",
     "text": [
      "<class 'int'>\n"
     ]
    }
   ],
   "source": [
    "print(type(a))"
   ]
  },
  {
   "cell_type": "code",
   "execution_count": 31,
   "metadata": {
    "collapsed": true
   },
   "outputs": [],
   "source": [
    "b = 1.0"
   ]
  },
  {
   "cell_type": "code",
   "execution_count": 32,
   "metadata": {},
   "outputs": [
    {
     "data": {
      "text/plain": [
       "float"
      ]
     },
     "execution_count": 32,
     "metadata": {},
     "output_type": "execute_result"
    }
   ],
   "source": [
    "type(b)"
   ]
  },
  {
   "cell_type": "markdown",
   "metadata": {},
   "source": [
    "In Python entspricht float dem C/C++-Datentyp double. floats (Gebrochene Zahlen mit 32-Bit Genauigkeit) gibt es nicht."
   ]
  },
  {
   "cell_type": "code",
   "execution_count": 33,
   "metadata": {},
   "outputs": [
    {
     "ename": "SyntaxError",
     "evalue": "invalid syntax (<ipython-input-33-dfce069d21b5>, line 1)",
     "output_type": "error",
     "traceback": [
      "\u001b[1;36m  File \u001b[1;32m\"<ipython-input-33-dfce069d21b5>\"\u001b[1;36m, line \u001b[1;32m1\u001b[0m\n\u001b[1;33m    c = 1.0f\u001b[0m\n\u001b[1;37m           ^\u001b[0m\n\u001b[1;31mSyntaxError\u001b[0m\u001b[1;31m:\u001b[0m invalid syntax\n"
     ]
    }
   ],
   "source": [
    "c = 1.0f"
   ]
  },
  {
   "cell_type": "markdown",
   "metadata": {},
   "source": [
    "Python erkennt den Datentyp zur Laufzeit (ist \"dynamische Typdeklaration\"):"
   ]
  },
  {
   "cell_type": "code",
   "execution_count": 34,
   "metadata": {},
   "outputs": [
    {
     "data": {
      "text/plain": [
       "int"
      ]
     },
     "execution_count": 34,
     "metadata": {},
     "output_type": "execute_result"
    }
   ],
   "source": [
    "type(a)"
   ]
  },
  {
   "cell_type": "code",
   "execution_count": 35,
   "metadata": {
    "collapsed": true
   },
   "outputs": [],
   "source": [
    "a = 1.0"
   ]
  },
  {
   "cell_type": "code",
   "execution_count": 36,
   "metadata": {},
   "outputs": [
    {
     "data": {
      "text/plain": [
       "float"
      ]
     },
     "execution_count": 36,
     "metadata": {},
     "output_type": "execute_result"
    }
   ],
   "source": [
    "type(a)"
   ]
  },
  {
   "cell_type": "markdown",
   "metadata": {},
   "source": [
    "Auch die wissenschaftliche Notation von gebrochenen Zahlen ist in Python möglich:"
   ]
  },
  {
   "cell_type": "code",
   "execution_count": 37,
   "metadata": {
    "collapsed": true
   },
   "outputs": [],
   "source": [
    "a = 12e+3"
   ]
  },
  {
   "cell_type": "code",
   "execution_count": 38,
   "metadata": {},
   "outputs": [
    {
     "data": {
      "text/plain": [
       "12000.0"
      ]
     },
     "execution_count": 38,
     "metadata": {},
     "output_type": "execute_result"
    }
   ],
   "source": [
    "a"
   ]
  },
  {
   "cell_type": "code",
   "execution_count": 39,
   "metadata": {
    "collapsed": true
   },
   "outputs": [],
   "source": [
    "a = 7e-3"
   ]
  },
  {
   "cell_type": "code",
   "execution_count": 40,
   "metadata": {},
   "outputs": [
    {
     "data": {
      "text/plain": [
       "0.007"
      ]
     },
     "execution_count": 40,
     "metadata": {},
     "output_type": "execute_result"
    }
   ],
   "source": [
    "a"
   ]
  },
  {
   "cell_type": "markdown",
   "metadata": {},
   "source": [
    "Wahrheitswerte in Python:"
   ]
  },
  {
   "cell_type": "code",
   "execution_count": 41,
   "metadata": {
    "collapsed": true
   },
   "outputs": [],
   "source": [
    "d = True"
   ]
  },
  {
   "cell_type": "code",
   "execution_count": 42,
   "metadata": {},
   "outputs": [
    {
     "data": {
      "text/plain": [
       "bool"
      ]
     },
     "execution_count": 42,
     "metadata": {},
     "output_type": "execute_result"
    }
   ],
   "source": [
    "type(d)"
   ]
  },
  {
   "cell_type": "code",
   "execution_count": 43,
   "metadata": {
    "collapsed": true
   },
   "outputs": [],
   "source": [
    "e = False"
   ]
  },
  {
   "cell_type": "code",
   "execution_count": 44,
   "metadata": {},
   "outputs": [
    {
     "data": {
      "text/plain": [
       "False"
      ]
     },
     "execution_count": 44,
     "metadata": {},
     "output_type": "execute_result"
    }
   ],
   "source": [
    "d and e"
   ]
  },
  {
   "cell_type": "code",
   "execution_count": 45,
   "metadata": {},
   "outputs": [
    {
     "data": {
      "text/plain": [
       "True"
      ]
     },
     "execution_count": 45,
     "metadata": {},
     "output_type": "execute_result"
    }
   ],
   "source": [
    "d or e"
   ]
  },
  {
   "cell_type": "code",
   "execution_count": 46,
   "metadata": {},
   "outputs": [
    {
     "data": {
      "text/plain": [
       "False"
      ]
     },
     "execution_count": 46,
     "metadata": {},
     "output_type": "execute_result"
    }
   ],
   "source": [
    "not d"
   ]
  },
  {
   "cell_type": "markdown",
   "metadata": {},
   "source": [
    "Wie in vielen anderen Programmiersprachen können Wahrheitswerte auch durch numerische Werte dargestellt werden:"
   ]
  },
  {
   "cell_type": "code",
   "execution_count": 47,
   "metadata": {},
   "outputs": [
    {
     "data": {
      "text/plain": [
       "False"
      ]
     },
     "execution_count": 47,
     "metadata": {},
     "output_type": "execute_result"
    }
   ],
   "source": [
    "bool(0)"
   ]
  },
  {
   "cell_type": "code",
   "execution_count": 48,
   "metadata": {},
   "outputs": [
    {
     "data": {
      "text/plain": [
       "True"
      ]
     },
     "execution_count": 48,
     "metadata": {},
     "output_type": "execute_result"
    }
   ],
   "source": [
    "bool(-1)"
   ]
  },
  {
   "cell_type": "code",
   "execution_count": 49,
   "metadata": {},
   "outputs": [
    {
     "data": {
      "text/plain": [
       "True"
      ]
     },
     "execution_count": 49,
     "metadata": {},
     "output_type": "execute_result"
    }
   ],
   "source": [
    "bool(1)"
   ]
  },
  {
   "cell_type": "code",
   "execution_count": 50,
   "metadata": {},
   "outputs": [
    {
     "name": "stdout",
     "output_type": "stream",
     "text": [
      "Hello!\n"
     ]
    }
   ],
   "source": [
    "if 1:\n",
    "    print(\"Hello!\")"
   ]
  },
  {
   "cell_type": "markdown",
   "metadata": {},
   "source": [
    "Im Gegensatz zu vielen anderen Programmiersprachen hat Python auch einen Basisdatentyp für komplexe Zahlen. Die komplexen Zahlen erweitern die reelen Zahlen derart, dass die Gleichung x^2+1=0 lösbar wird.\n",
    "\n",
    "Python orientiert sich bei der Schreibweise für komplexe Zahlen an der Konvention in der Elektrotechnik. Hier benutzt man ein \"j\" als imaginäre Einheit."
   ]
  },
  {
   "cell_type": "code",
   "execution_count": 51,
   "metadata": {
    "collapsed": true
   },
   "outputs": [],
   "source": [
    "var1 = 3 + 4j"
   ]
  },
  {
   "cell_type": "code",
   "execution_count": 52,
   "metadata": {},
   "outputs": [
    {
     "data": {
      "text/plain": [
       "complex"
      ]
     },
     "execution_count": 52,
     "metadata": {},
     "output_type": "execute_result"
    }
   ],
   "source": [
    "type(var1)"
   ]
  },
  {
   "cell_type": "code",
   "execution_count": 53,
   "metadata": {
    "collapsed": true
   },
   "outputs": [],
   "source": [
    "var2 = 0 - 1j"
   ]
  },
  {
   "cell_type": "code",
   "execution_count": 54,
   "metadata": {},
   "outputs": [
    {
     "data": {
      "text/plain": [
       "complex"
      ]
     },
     "execution_count": 54,
     "metadata": {},
     "output_type": "execute_result"
    }
   ],
   "source": [
    "type(var2)"
   ]
  },
  {
   "cell_type": "code",
   "execution_count": 55,
   "metadata": {},
   "outputs": [
    {
     "data": {
      "text/plain": [
       "(-1-0j)"
      ]
     },
     "execution_count": 55,
     "metadata": {},
     "output_type": "execute_result"
    }
   ],
   "source": [
    "var2 * var2"
   ]
  },
  {
   "cell_type": "markdown",
   "metadata": {},
   "source": [
    "## Operatoren für Basisdatentypen"
   ]
  },
  {
   "cell_type": "markdown",
   "metadata": {},
   "source": [
    "Es gibt einen Operator für die Fließkommazahldivision:"
   ]
  },
  {
   "cell_type": "code",
   "execution_count": 56,
   "metadata": {},
   "outputs": [
    {
     "data": {
      "text/plain": [
       "4.0"
      ]
     },
     "execution_count": 56,
     "metadata": {},
     "output_type": "execute_result"
    }
   ],
   "source": [
    "12 / 3"
   ]
  },
  {
   "cell_type": "markdown",
   "metadata": {},
   "source": [
    "Und es gibt einen eigenen Operator für die Ganzzahldivision:"
   ]
  },
  {
   "cell_type": "code",
   "execution_count": 57,
   "metadata": {},
   "outputs": [
    {
     "data": {
      "text/plain": [
       "4"
      ]
     },
     "execution_count": 57,
     "metadata": {},
     "output_type": "execute_result"
    }
   ],
   "source": [
    "12 // 3"
   ]
  },
  {
   "cell_type": "code",
   "execution_count": 58,
   "metadata": {},
   "outputs": [
    {
     "data": {
      "text/plain": [
       "float"
      ]
     },
     "execution_count": 58,
     "metadata": {},
     "output_type": "execute_result"
    }
   ],
   "source": [
    "type(12/3)"
   ]
  },
  {
   "cell_type": "code",
   "execution_count": 59,
   "metadata": {},
   "outputs": [
    {
     "data": {
      "text/plain": [
       "int"
      ]
     },
     "execution_count": 59,
     "metadata": {},
     "output_type": "execute_result"
    }
   ],
   "source": [
    "type(12//3)"
   ]
  },
  {
   "cell_type": "code",
   "execution_count": 60,
   "metadata": {},
   "outputs": [
    {
     "data": {
      "text/plain": [
       "5"
      ]
     },
     "execution_count": 60,
     "metadata": {},
     "output_type": "execute_result"
    }
   ],
   "source": [
    "2 + 3"
   ]
  },
  {
   "cell_type": "code",
   "execution_count": 61,
   "metadata": {},
   "outputs": [
    {
     "data": {
      "text/plain": [
       "int"
      ]
     },
     "execution_count": 61,
     "metadata": {},
     "output_type": "execute_result"
    }
   ],
   "source": [
    "type(2+3)"
   ]
  },
  {
   "cell_type": "code",
   "execution_count": 62,
   "metadata": {},
   "outputs": [
    {
     "data": {
      "text/plain": [
       "5.0"
      ]
     },
     "execution_count": 62,
     "metadata": {},
     "output_type": "execute_result"
    }
   ],
   "source": [
    "2 + 3.0"
   ]
  },
  {
   "cell_type": "code",
   "execution_count": 63,
   "metadata": {},
   "outputs": [
    {
     "data": {
      "text/plain": [
       "float"
      ]
     },
     "execution_count": 63,
     "metadata": {},
     "output_type": "execute_result"
    }
   ],
   "source": [
    "type(2+3.0)"
   ]
  },
  {
   "cell_type": "markdown",
   "metadata": {},
   "source": [
    "Auch in Python gibt es den Modulo-Operator:"
   ]
  },
  {
   "cell_type": "code",
   "execution_count": 64,
   "metadata": {},
   "outputs": [
    {
     "data": {
      "text/plain": [
       "1"
      ]
     },
     "execution_count": 64,
     "metadata": {},
     "output_type": "execute_result"
    }
   ],
   "source": [
    "7 % 3"
   ]
  },
  {
   "cell_type": "code",
   "execution_count": 65,
   "metadata": {},
   "outputs": [
    {
     "data": {
      "text/plain": [
       "2"
      ]
     },
     "execution_count": 65,
     "metadata": {},
     "output_type": "execute_result"
    }
   ],
   "source": [
    "8 % 3"
   ]
  },
  {
   "cell_type": "markdown",
   "metadata": {},
   "source": [
    "In Python kann man den Modulo-Operator auch auf floats anwenden. Es gibt dann den numerischen Rest zurück. In diesem Sinne passt z.B. 0.1 genau 34 mal in 3.5 und dann gibt es noch den numerischen Rest von 0.999..."
   ]
  },
  {
   "cell_type": "code",
   "execution_count": 66,
   "metadata": {},
   "outputs": [
    {
     "data": {
      "text/plain": [
       "0.09999999999999981"
      ]
     },
     "execution_count": 66,
     "metadata": {},
     "output_type": "execute_result"
    }
   ],
   "source": [
    "3.5 % 0.1"
   ]
  },
  {
   "cell_type": "markdown",
   "metadata": {},
   "source": [
    "In Python gibt es einen eigenen Operator für das Potenzieren. In vielen anderen Programmiersprachen benötigt man dafür eine eigene Funktion, wie z.B. `2^3 = 8 = pow(2,3).`"
   ]
  },
  {
   "cell_type": "code",
   "execution_count": 67,
   "metadata": {},
   "outputs": [
    {
     "data": {
      "text/plain": [
       "8"
      ]
     },
     "execution_count": 67,
     "metadata": {},
     "output_type": "execute_result"
    }
   ],
   "source": [
    "2 ** 3"
   ]
  },
  {
   "cell_type": "code",
   "execution_count": 68,
   "metadata": {},
   "outputs": [
    {
     "data": {
      "text/plain": [
       "1024"
      ]
     },
     "execution_count": 68,
     "metadata": {},
     "output_type": "execute_result"
    }
   ],
   "source": [
    "2 ** 10"
   ]
  },
  {
   "cell_type": "markdown",
   "metadata": {},
   "source": [
    "## Explizite Typumwandlung"
   ]
  },
  {
   "cell_type": "markdown",
   "metadata": {},
   "source": [
    "Manchmal benötigen wir eine explizite Typumwandlung.\n",
    "Zum Beispiel, um eine Zeichenkette und eine Zahl miteinander zu einer neuen Zeichenkette zu \"verbinden\":"
   ]
  },
  {
   "cell_type": "code",
   "execution_count": 69,
   "metadata": {
    "collapsed": true
   },
   "outputs": [],
   "source": [
    "z = 42\n",
    "s = \"Der Sinn des Lebens ist ...\""
   ]
  },
  {
   "cell_type": "code",
   "execution_count": 70,
   "metadata": {},
   "outputs": [
    {
     "data": {
      "text/plain": [
       "int"
      ]
     },
     "execution_count": 70,
     "metadata": {},
     "output_type": "execute_result"
    }
   ],
   "source": [
    "type(z)"
   ]
  },
  {
   "cell_type": "code",
   "execution_count": 71,
   "metadata": {},
   "outputs": [
    {
     "data": {
      "text/plain": [
       "str"
      ]
     },
     "execution_count": 71,
     "metadata": {},
     "output_type": "execute_result"
    }
   ],
   "source": [
    "type(s)"
   ]
  },
  {
   "cell_type": "code",
   "execution_count": 72,
   "metadata": {},
   "outputs": [
    {
     "ename": "TypeError",
     "evalue": "must be str, not int",
     "output_type": "error",
     "traceback": [
      "\u001b[1;31m---------------------------------------------------------------------------\u001b[0m",
      "\u001b[1;31mTypeError\u001b[0m                                 Traceback (most recent call last)",
      "\u001b[1;32m<ipython-input-72-b15f7c1390b1>\u001b[0m in \u001b[0;36m<module>\u001b[1;34m()\u001b[0m\n\u001b[1;32m----> 1\u001b[1;33m \u001b[0ms\u001b[0m \u001b[1;33m+\u001b[0m \u001b[0mz\u001b[0m\u001b[1;33m\u001b[0m\u001b[0m\n\u001b[0m",
      "\u001b[1;31mTypeError\u001b[0m: must be str, not int"
     ]
    }
   ],
   "source": [
    "s + z"
   ]
  },
  {
   "cell_type": "code",
   "execution_count": 73,
   "metadata": {},
   "outputs": [
    {
     "data": {
      "text/plain": [
       "'Der Sinn des Lebens ist ...42'"
      ]
     },
     "execution_count": 73,
     "metadata": {},
     "output_type": "execute_result"
    }
   ],
   "source": [
    "s + str(z)"
   ]
  },
  {
   "cell_type": "code",
   "execution_count": 74,
   "metadata": {
    "collapsed": true
   },
   "outputs": [],
   "source": [
    "z1 = 42\n",
    "z2 = \"43\""
   ]
  },
  {
   "cell_type": "code",
   "execution_count": 75,
   "metadata": {},
   "outputs": [
    {
     "ename": "TypeError",
     "evalue": "unsupported operand type(s) for +: 'int' and 'str'",
     "output_type": "error",
     "traceback": [
      "\u001b[1;31m---------------------------------------------------------------------------\u001b[0m",
      "\u001b[1;31mTypeError\u001b[0m                                 Traceback (most recent call last)",
      "\u001b[1;32m<ipython-input-75-5806c88693ca>\u001b[0m in \u001b[0;36m<module>\u001b[1;34m()\u001b[0m\n\u001b[1;32m----> 1\u001b[1;33m \u001b[0mz1\u001b[0m \u001b[1;33m+\u001b[0m \u001b[0mz2\u001b[0m\u001b[1;33m\u001b[0m\u001b[0m\n\u001b[0m",
      "\u001b[1;31mTypeError\u001b[0m: unsupported operand type(s) for +: 'int' and 'str'"
     ]
    }
   ],
   "source": [
    "z1 + z2"
   ]
  },
  {
   "cell_type": "code",
   "execution_count": 76,
   "metadata": {},
   "outputs": [
    {
     "data": {
      "text/plain": [
       "85"
      ]
     },
     "execution_count": 76,
     "metadata": {},
     "output_type": "execute_result"
    }
   ],
   "source": [
    "z1 + int(z2)"
   ]
  },
  {
   "cell_type": "code",
   "execution_count": 77,
   "metadata": {
    "collapsed": true
   },
   "outputs": [],
   "source": [
    "z3 = \"43\""
   ]
  },
  {
   "cell_type": "code",
   "execution_count": 78,
   "metadata": {},
   "outputs": [
    {
     "data": {
      "text/plain": [
       "85"
      ]
     },
     "execution_count": 78,
     "metadata": {},
     "output_type": "execute_result"
    }
   ],
   "source": [
    "z1 + int(z3)"
   ]
  },
  {
   "cell_type": "code",
   "execution_count": 79,
   "metadata": {
    "collapsed": true
   },
   "outputs": [],
   "source": [
    "z4 = \"43xyz\""
   ]
  },
  {
   "cell_type": "code",
   "execution_count": 80,
   "metadata": {},
   "outputs": [
    {
     "ename": "ValueError",
     "evalue": "invalid literal for int() with base 10: '43xyz'",
     "output_type": "error",
     "traceback": [
      "\u001b[1;31m---------------------------------------------------------------------------\u001b[0m",
      "\u001b[1;31mValueError\u001b[0m                                Traceback (most recent call last)",
      "\u001b[1;32m<ipython-input-80-ba757ffcacd8>\u001b[0m in \u001b[0;36m<module>\u001b[1;34m()\u001b[0m\n\u001b[1;32m----> 1\u001b[1;33m \u001b[0mz1\u001b[0m \u001b[1;33m+\u001b[0m \u001b[0mint\u001b[0m\u001b[1;33m(\u001b[0m\u001b[0mz4\u001b[0m\u001b[1;33m)\u001b[0m\u001b[1;33m\u001b[0m\u001b[0m\n\u001b[0m",
      "\u001b[1;31mValueError\u001b[0m: invalid literal for int() with base 10: '43xyz'"
     ]
    }
   ],
   "source": [
    "z1 + int(z4)"
   ]
  },
  {
   "cell_type": "markdown",
   "metadata": {},
   "source": [
    "## Gültigkeitsbereich der Basisdatentypen"
   ]
  },
  {
   "cell_type": "markdown",
   "metadata": {},
   "source": [
    "In Python können int Variablen beliebig groß werden! (beschränkt lediglich durch den Arbeitsspeicher)\n",
    "\n",
    "Googlen Sie mal nach\n",
    "\n",
    "    c max size of int\n",
    "    \n",
    "Dort kann man lesen, dass die größte darstellbare Zahl von int in C die Zahl\n",
    "\n",
    "    18.446.744.073.709.551.615\n",
    "ist"
   ]
  },
  {
   "cell_type": "code",
   "execution_count": 81,
   "metadata": {
    "collapsed": true
   },
   "outputs": [],
   "source": [
    "unsigned_long_max = 18446744073709551615"
   ]
  },
  {
   "cell_type": "code",
   "execution_count": 82,
   "metadata": {},
   "outputs": [
    {
     "data": {
      "text/plain": [
       "int"
      ]
     },
     "execution_count": 82,
     "metadata": {},
     "output_type": "execute_result"
    }
   ],
   "source": [
    "type(unsigned_long_max)"
   ]
  },
  {
   "cell_type": "code",
   "execution_count": 83,
   "metadata": {},
   "outputs": [
    {
     "data": {
      "text/plain": [
       "18446744073709551615"
      ]
     },
     "execution_count": 83,
     "metadata": {},
     "output_type": "execute_result"
    }
   ],
   "source": [
    "unsigned_long_max"
   ]
  },
  {
   "cell_type": "markdown",
   "metadata": {},
   "source": [
    "In Python können wir diese Zahl ohne Probleme quadrieren!"
   ]
  },
  {
   "cell_type": "code",
   "execution_count": 84,
   "metadata": {},
   "outputs": [
    {
     "data": {
      "text/plain": [
       "340282366920938463426481119284349108225"
      ]
     },
     "execution_count": 84,
     "metadata": {},
     "output_type": "execute_result"
    }
   ],
   "source": [
    "unsigned_long_max * unsigned_long_max"
   ]
  },
  {
   "cell_type": "markdown",
   "metadata": {},
   "source": [
    "Oder sogar aberwitzige Potenzen hiervon bilden:"
   ]
  },
  {
   "cell_type": "code",
   "execution_count": 85,
   "metadata": {},
   "outputs": [
    {
     "data": {
      "text/plain": [
       "4562440617622195216167867590969245984891554653899504899621489504890947016946973851858280558761216359448457602639022263584702472373544404781548821642340247967685262840465307909823993678212890625"
      ]
     },
     "execution_count": 85,
     "metadata": {},
     "output_type": "execute_result"
    }
   ],
   "source": [
    "unsigned_long_max ** 10"
   ]
  },
  {
   "cell_type": "code",
   "execution_count": 86,
   "metadata": {},
   "outputs": [
    {
     "data": {
      "text/plain": [
       "20815864389328798141281875261654240038739993424404242425506079834368643384699815883993519000403222895708748681674793449344690890447908431885920079592739573615444805397570578729330039130716069497833623971831833817007046404500291336909466015568610844462737800901333746167215795959142314612138881715678958017183473735270054778324841160160808023792415691149633568863714992256259918212890625"
      ]
     },
     "execution_count": 86,
     "metadata": {},
     "output_type": "execute_result"
    }
   ],
   "source": [
    "unsigned_long_max ** 20"
   ]
  },
  {
   "cell_type": "code",
   "execution_count": 87,
   "metadata": {},
   "outputs": [
    {
     "data": {
      "text/plain": [
       "433300210274926778361665664358127520911662678188444468816603664482064951630247797808726122323984477401404720277645094839993228745101613092186225720539125418280887322399085512116682999285969229318153852794726647215071815544254832482540039874540104144478883770583278033151216734430302547024183798421596589104810641490450775050137002066280505861770971590163746619175943053316389432266602382125895272281396899568745153375562815760745680621917785214710147608471717593139957632299155506080028615496230379199839058149454376109532464184406963680397501798856633350542525409587165234249024001561910742351626757506401040787610964874262174899861198932811862091892044729449452669721902825356787977563459211826582571516274562663110174307841076990896109004106619977392256259918212890625"
      ]
     },
     "execution_count": 87,
     "metadata": {},
     "output_type": "execute_result"
    }
   ],
   "source": [
    "unsigned_long_max ** 40"
   ]
  },
  {
   "cell_type": "code",
   "execution_count": 88,
   "metadata": {},
   "outputs": [
    {
     "data": {
      "text/plain": [
       "3908159226643238711988440663885495103153377707739061175077580776059325191881200857567904254191183768284722667967451680079810917643459480791200868065006120576686144806169152257184069792396354758997460573981983615240553412642103252200626213840585295994474707902503763092746332396488430725324447979697467084777139217598247855056059276298283288622525898240120996417149013107705438989856851871660985966206346016919062225895746633682524244406664312007647259297532160169649306819233491380295362131144354675372644791332737195071641037061554477517435102847020600151197823325583952667348184963352414104548585401209314307354621180996578936567528703793406020971929854157341842527469535908116940433692304132251452681967825381958614915241253497453330513089766893872282186861053095641841298290094234759053486544458219420820854587349535739090276534959939111524611793461789885451897916775865133278999299238039024416669556038043385627861683753557984827522104366963203876452169261291703452735784922038487272338652445913508939128912406459901312083789878613147732414298458569883108233076222346045258615522822244832341774245608459343984305481884140418930906356109127566493032861206237080074730206785956469236793059406744420575050984821465051833319692414369231409926857628911458417515151741487805490994950147595986308289927838674367196314220686121231776253685607952339775927314537813735045158407303549797412104444427968324411549218483495361542035556584876081426450338150013640453113593805243439829894643089555082982793600265849907445740566945986996122701932331717926641747906622068470581344145660825852001329829639539994107254143650262814805696214792277285288750928681265661073239239916391577840573870617129284242136954457347042663048670886675909508628159519024164517108360735831037043895639480571408612912978972138362887189726663842590235594344148707296521275750879475389529177171541509580863811000557423423230896109004106619977392256259918212890625"
      ]
     },
     "execution_count": 88,
     "metadata": {},
     "output_type": "execute_result"
    }
   ],
   "source": [
    "unsigned_long_max ** 100"
   ]
  },
  {
   "cell_type": "code",
   "execution_count": 89,
   "metadata": {},
   "outputs": [
    {
     "data": {
      "text/plain": [
       "831232460999333607178383330306142740204109207234904748582464884603482622404700008146499421896773223392440934761938691049517759051523986093586793059365705798025000127196417445903195853160483838631958282658689258225773780755746507136153787308412258697244169904829492963874498844386575755239619858420589342710994373463030055162346602659061379598793394200522238241486523530550920328071664011687752011784000192336337370493746073982343745931003970767524733940978679888471085963882670783091264062871278364184552950989395627896182818857216781395798663231952452817877534290157359745753950386280097892429396190246818578155208759378731307581531177908687517541816764463288192113410370649810529781641925381510626823333211727818359358236737652529322919802249818263919979414180591257961972604893401469151930137563474508498286942279060841892570489768700690463674199983131498855588557379211170592508243161043127780331797711370727576233865914265710785521458827004672738917593192578849570356313427388634997390005481594994641671524634528031309370049004762504191046920326775713386693511535970882246345757221020318193122182673323279723601376975825881018517928747075396394971534337246996069125301836494026667403469596181879007329962887565664853240845901114460392407410723694973952910790533950697563757111088449694470196652109755145193958623928692683568650754441220187459415122737177941008325533313241169446386708399020270110900215522106393126199274284750950664391213845444531114423460119121957847262022146075433335852239047224836881940102227402133340323256603029601995937707228299992376201280510902462750762955698480069268915568441566266728922458594005093557720794245145962723750696384283293397879992908786996688481825390669883973001451072588176173246403203872021045287538483925947136009964638470858963353011943335345317876354940958554790360229979211893674745580362779644514788518386623266561642999592554856097677178581991938788898571682098526480387058897075826889177775582661217643703719377661684285073304413300111864974741975106551694123985623595855017940959590142905826807642090163871533251090370565731619711076422975347989154432518708285573740295748860881343152963699977022894440907737119737394501574893009293731012856028466765084061439124653880651357068269173322252999996656084895494085848922355130707499896824373528869838645778670139783797462072083718322298586424560551425469927775497775315278369853333540911157284436105077393073746710451101268809194711586317335488763983476371171909492787793390760105961087602440852744329995679455504872812612864923695389322740978656102441415693442337781386588469763296929121105163484541646657220461144621825528660816602161257817407976934621772508659940955153759579536854193125538543644624580267805315807616969196730091393576198606199731958152443628511931533498307280607286786692847288313175858096471679552866764769876567573700647125980559517981565044705990523679871630428777931764825024924491205777630493500265740230282504441843686222580395412725454964414297858712164049288612466603152949396152864990825056073546740281566602107929446619395706410288121039231691787367690521310831682793924140484019285749726368866374414834622609182218918852315543568019727390222978427284393056222440945993958807301788889037903299835053041269409132495817534454673965850102202251117525698781684612674322532120940603215756958316580366060799644196421161372809618606405961099120058620422531809871418035859231468556547582930960236942211833322663604236714760879044041972021294923376283343862813227380766277825267861510855445805456911925925121290048100719815046824916762408014961658817474128936625350712389224376143021206567758562689542098021041395439134605956367751271596896360517411857571850565476630828596616871405433470156976705475402803586551660686076595351771485899366745713609408425041014729475734165328295334539918841296638029298407597033812892932537243104920051800193401249871784440097704442654310307732349734947199926166606398322367671197905271014240519914660316697864345670210572085068155272051650476941594227147047893429040831280964014521205509770057602125549474675218845181857142680247228716542873814911801655391313482667402244791155084770010399464220958802045052984068506480998901252612426155988319506578784045090017644266563908253218523401368852604107200213252622024783643467703369387814231119452040019618687914875277583074409857799399849359015718283307237199812273536912731358035879727768596113580242939319779776672786718544145113191119521469462265999245514092508712681066190115151233161554963036063421173394990821329209466523569556836381384215402858996322974672310414354228018589009447889960350680289816525651819204947307927679910923503124152816816637172386528095502374202160862496630326717159309716030284478563085460847526460181655066790022932683497405810694692814163935806057994714109335376599614981033321329092232617564264135703372754134680764633516969524651795963896494676425034555174777818273732575731774658608467571267752843562533531218309643817639028550209812556625812257759809387402471739012942982206684356675989064961887903464084336744398454943865306793176938737865406007898774867348359649075026852502415196151361595006405070169377569125455647657865759047111522905310077317138723603590512605354071046396476132781434034516370099359587919674997984890685426669538415649427562108284302346854449674548618354262624029835084382903967265333241634371383912371307379239917281941709164591888468718238911509588083636012450847097875877786716910881562975056150763591587589126675240596389411211274975792415525098733766127513740268407020916227923092527186253093050804719587270958766942818217883914379660149299086259832694188310228861685546313339738640339277030264181760549407779768144550179794307213875698493182688652019754902544914501146219953999319814515985564515132905176696390398618134905463481027927314644382763825519602598905022537677461600426667611513688078149698081256684960967019550269091549112796440755889008592700944228891491168778558686362686444981313160075994514448654866738924518208819199741508448063342934392624729531569050075460458832193434141648318829790127676165262666136716028915339224388563912894469102672453383328251976925800508675384622537148123609912684332056132818223367459594326183651530712862789166533616145422486309393972786805479029691760623840173896162370803034492133316671418708668153373654954044630312869990984361856525668050898017156014806501398709164788137856618312663036439092587837549698922029749114484141071531134047949173357637166499034671043770826795014352738787962880224549521843030953427245912305380905489767934217292375227425094884727053770162463752707296728449321202237410334363773547662321812762904528464421608896402145847406288058412221914955493787845446325636732407256573532519641968780020121468540086400236641874595077535418244280192217024851011435882937877254611835460092779120615538746151448169564367814951332486051087864929364464831946321241265626570409803343205544282382931079733768545986455495200628793773331290314646177713668780115032521719974346560478574234118994870172984148447791610881997552405846851208398081109567056339417097822159489602359907295989133346474401153947182829808107735088013933585639367218317723527176329358471205025808292964731778326145370430125293576747930265701674476477118720255003082872639058438670793094918401339860232761680293318440543714275118780457636161207002068623648488149419097262810923347990011976009607646335522002250033743805209607174737309038298273824742105729868626966727875559428103795613715986298761267786519333168813810713340458261344996417300816413198934519388300370035150389245990268624608985051053980549899254591298633998223688574018968384621033131231979982939000584155426006119892967030819316099022561744782796630670983687053880711494639954135077268441197509994122778515437276120395749294287286315989386138251164472360903018363984560327330585009977047265313223064873244099893539803061893914894871543974500661981757841330920917384074867021493515587525874376716882824265078392569537437510142532700806813650162771366290376675298039747200962819434971791159351888264322579340427542307885593043464178688856312772502802616943076224066002134261087895587753027822265398930036978130441910970217764693062695792250853185608473255935537978421946965937349339624340702472892011633561321122118099185602124734565465669350682432140973080515742252573686030498937944308635777649254645487731400013942875356088198405627353019711746779864468112066679844747460703280132691662080372398343347672904695399425532678062427480907107100136532519904270762140616990476771238482987789879395242805487862832925632214154442940123396266459093255880212039969953128945799186024268394716733614279518596037373526027062571034447743106515556177154320408701490410840965544616162341547195092914531059139833018658036003950118635005436638583150273226158171194970849101898034552114638580067970494838862900477946916352044059772080507399236463959344188455661856243489674542377831305451107916023883555869725112673304359319376856699589336948082177487209017901935074719668737153389739058169395527061246068803169837413307174806271011489313258687553754417822492685907431196013017621086762409210882110050949439164634244981093499041010893884344199592837435989004895734814175025375190089439622102470364748842585838153032250207678735091789383994907437027368522174894487826873184386290475003428479029416714449685254777859335544983608284302886973434709749867677153295570189417449193578332493808554738305877505033003225124540918963980011837882556196124280629992331700782336302136062614293996610141456375538229641937622212791140180436852142098929200336845597947463173298581427864556673486185281554556936539906194257668778101193472075780166358602528884889878740193891820446120206341748292414137272581908764361067643776694133999187898867511675501614452740591045752478021730313620180304469819190837461405704816159365182718562629624173190147926817394746796677377557948414707757041602891162685657070276840643900938671762157816290004136627272011866487722858072728241917591390723060000628235220414737747360152102090916122188236008646410489233338431118533945915540250536336351958772005995979791106830425084547713081706643333761509094939951902700184232183263635861260681951237669328196963534327967600033931518549288837639729962458403727441442919687353766405483878195335742143513293466377543922677258445994055001459548103268677525074390054131960691334291680256411615279002932011243788713083718193755622139956120689894348639276585642011264396591629773255391517918774875314256352537100731897378420586714064157314889514924709927726966389412734280778808035235610481844607595628290964018701166285484557511699993440949490438798029970671489291565080736752892416883231790500875415205057204629817253299034380243800652404468276194044220656903107769023936050906244769489345373935600457295585635142095973075622180298709863232205139141538544938737923580186818383852310240983220415104260678749049406879172126359595670172057529389734227213476835816247955834639638882803916922888469160344962536009778233343373749216729114559532243295341926745899529710762911419095070061039486050202942208543193070887493527952536780843588456788169438747890221197667683819361666326110487060710921944309597275350103933799110618143499210297107783264765171507067032298914705495074254360405061732740908171902691626870188423039210672704711075784743140765071543404289583107383270674301828412222322475000905668739557406130092584899445261401111259571842417560508864899908474759480951505823717028145130032203507920442605074964616074280907321775018762809969615424672339960908193414311565881404816144968542369161170629884124186416837114745727184418392127263551543950231261415425731897166316103084451340452816289831037510533992588400659660810648226976951697802615105778156365848661412862808234152760609877363557239633054553063050774841918707238510916051119563072963779501315422303801621985011469874723988432977230382658893023658273255066909235586681121581269089348660631230958732190438796929589238710343948419024545796897314477949944792620929806715224029147338476963190778824507752088439442999566546507810085547819147755009329548918879621285016918165065535962915894124174922959566650344624572342259812691214426914607242325547345894793601309983584783501209842020902398681150497385166865414977118246162398135340768133975902462951166138374092584688277553778609709400061958642392402990678227139957374597038930598923398120231774505134055732384038171720403992987531048136340123386015116887371069683441165696169928468362901396225772700236547550241517556014119340123372282667604912327263866675166526776176563573432366925055538500721034413145145560074762018107148241754804141835833314494379607586809312631463309269361617487508508313879429648594313318978620365013310914657277278969580700469790801870002905510067173630752547517179552401231042565368938974276497139548716280360292755687706672927422973848723520817044996156441279381895344630625139368177107764068439290787761860036713436456267407732031951447448878064047678584254726032198711348470830953822892702669875987819938725128345927661368681367206183415458300786939450222885021439515228237258970307332481130952934186996785262822112067160105350800243515407981781088179351773824695771575857623729792711765231814820678829608149514803020249978692672163010653388329658700446403038156277997430806628132594591526355772844833410333988352097623701351554223993422906007745482888692467138166911324288031135258173561138106541471663698335397345728684787385104949067050827234941309089226831428153927191857767698844619969730969902247571921029700917037565248455520795960062342147278670156294723607825252130012405204947473852717783856374233765496727235856989392436082807141585047695038418803126253963353521069470777182745901878894676995255016111801704909909066786063706271940189081314484571203940823800635826483243597127836884814744526525388911943187412210755019117316291671822467231913358070653543443166688503596949703459114683113882280823874527560460553175242063699152555902231005890941647357222157412974013716199380377776863952383070204579221001900217690616784079364846409229417470749536811519319646938104876471529903991689205025324277716804680223451063831446847654191155042571546418702085774367810773488875824485231570099186309795792488519191713080365982616724715211314232006206760383898720382161218872260685680661083794771324160841512505710633957972462002883599938764159797248292183815501456268943287240624590502738885172855578316835688554291264475975913307702755385977847698033622296942283770171744663963789684996480802847214805668509221982903602361087172790569146548251423419021652479528538220497366555929675100716023149649558963602801298229905003081720960537774310665419726463926125843512261815217221960336190928194520115060943506517087565928068802922178441618026237400014259305389838589014050805380434048434717950488495031083867634300082267331511680521964709732099776875637963598208286915873443234905223599264408144572238598633623556171882687362188368305124745833428592609591033914236855892156064642324607950853003114376125385982083875422336520635797930167078321872296497394330462112581711426972612830072894165145174877901779241379211632044514274530197854187757182679843064090767592629417847340523414924258608375598226451799705805096624160273949895265782781929853899134875537581622394552842261874293726465825432878124536417271945603797837228196674586651013818240926165065940620414501475056118025770396397756494880446587155297714383332251936170238711058996036753368446700313917638130991840955876968922180432197847528208408280398371031892911079109230963179704230522820218405936192096592599007225087964544846086197938534105206500659974479390729527330631429979725188099647800531252443719740328123642477544302756500509600299825859073356766740429872526117155634295590687185511599082908193850933557403173357724742316891458311325975342903604841943211263883711458840500868256471459854672851026859442231418135372716785043226917044603197570228436092255461384135493083679062171924325434186484565051053078682869776486455945426581936827051009188831287224002495437118949230142871561635253468541743648145748387054236621013288122756876075330776295728683152874648195606251839184478094737071155247597858961967383262227363457589585465610289963640076211450908561448732346660600686201622277539722975929189593196818974044990592609394544710956567645363165075183939990387817001973680812718116737148192349185281827208055252935802639766833645240443658810831795842801599196715097115347345780565741726997136879495506253542810985347896208864267650069047175914462383875490015540608171703586778045418332690532066010026214003809952631807338044103307836387616593616004067070552085626607917704690898685281388335271800176493655875193804395279772975728322849478803723849991719401323949021687675181789210686969987331622847260317338685603418307397872138270729330421923346737377546719001656925188317430525951050092806540886980211044997443443060525928485978321970759618416800728507838052359707144999731141805349361074629019556187647176634207478108019227857145779507903274195268299888983646457337494374267775806822163676631058434093958164963057145278805118248083650282964024544783189126273870700670910220699550425475242038319971784556522179582839243151732693607499868171027336456305438258932399218396669663336415836024246935481839341516820317013680607684200998260864583420289393322648784780023736947894506995985079926758384509142077051148437588072770236616750126058580621437303729568483372421286423228020051998172794381200404755539534676597287929204591511266532323824370383071462862074710200721964842602433067488442511226578740261564018025984264252334704051377169356004268035931961292917117661448435817592836977329455215326682346781718473595775500365058131638972545138544037613880100581739829302021318253226465216849619155332954199784081561609716077073482866915251726139093240288822308958432813686620916946122119133966589781590313593931475132374058025412448577253360290208732130364275796926604410007649583100754206202087955332525104364760716441189130741856504927956227075143661083875671488907169815436493605359807345380371521733295734794137572107298826637684927256374437219960543059354856761273391776085271067085439275662259795581440837831829261122572400665561582697601863244033984241729859586225532182832039468922178374243591518965460654866955788612009717771432478352225085070802481009645682630359044455268039817547067778003994225987101547111340982937686767750172988480315819704051653289913980639008795264839370470646832007014978419143596748121295957259057524245229874893687052314030394915252517578778567988553226968604915695387672497177722718984535597667939400969148452275800201202021854433550195642159793833517285814947198424793616134329373678152043783006747774713976324752632195167005693599112497786440349371520706925159669426076150988209210153359545013257531111148773771737970287134692540228690946300555636456401432483704147316134559098769720578180293514885977290326937233806306345801254390184890910081678126418200561554232067136240603890177598859400032381090607109140015950198573943305357151490087166267139287545437364277406603745272485971165014032856003136837134426648538483647850430188174337388146885535266527448702761155916509580863811000557423423230896109004106619977392256259918212890625"
      ]
     },
     "execution_count": 89,
     "metadata": {},
     "output_type": "execute_result"
    }
   ],
   "source": [
    "unsigned_long_max ** 1000"
   ]
  },
  {
   "cell_type": "code",
   "execution_count": 90,
   "metadata": {},
   "outputs": [
    {
     "data": {
      "text/plain": [
       "-6277101735386680762814942322444851025767571854389858533375"
      ]
     },
     "execution_count": 90,
     "metadata": {},
     "output_type": "execute_result"
    }
   ],
   "source": [
    "-unsigned_long_max ** 3"
   ]
  },
  {
   "cell_type": "code",
   "execution_count": 91,
   "metadata": {},
   "outputs": [
    {
     "data": {
      "text/plain": [
       "-29910152828314814776773222543333199861679597300621574088867074949382231092919167500118994153503089816082438443523566606820948703577148868591946537233949248625977714702159872486221724114394939271107048575125601018689733847293727865667461605586905999363573598784105826284015203117896761330101330462742549827693939298996372853947847396283726790708410199632096758775242212446267179841475808003189364348157485835948446865362330575760606178165668258100197833787111415032505091611287485673285667775521894162988066658245591423180004854873204716124537707095735201380871731898166289652669991137222461871686930608848992568206892236385520158127181344886566140047870182171031030668330074667279471088006071177295710161785204892101272864809058214642280946096223248353961370023300699086218485493981041797028376957438912651488077718189360420429337051763286821102718952992871039605228677369914109713205018522875418851884727793032652033938037989999759577130955813932596773168900765675516846074382511191096264607529528375612801011899070056468016334382184287796996019636882330351293961654585126563208361214608084959780520128777948641181424695797072465175018520657386794226888637457573837174442371664325188219961064791886656843321543562994754076155907318040600761471237759831491736823888540424719106906479747178520444032875690884899911265936458308467053421389379893545716362152399391265651071173539587225362452683312553421965056605258863614740419136188999442576576769103890995893380022607743740081787109375"
      ]
     },
     "execution_count": 91,
     "metadata": {},
     "output_type": "execute_result"
    }
   ],
   "source": [
    "-unsigned_long_max ** 77"
   ]
  },
  {
   "cell_type": "markdown",
   "metadata": {},
   "source": [
    "Bei floats ist dies jedoch nicht der Fall. Hier hält sich Python an den [IEEE 754 Standard](https://de.wikipedia.org/wiki/IEEE_754) zur Darstellung von gebrochenen Zahlen:"
   ]
  },
  {
   "cell_type": "code",
   "execution_count": 92,
   "metadata": {},
   "outputs": [
    {
     "data": {
      "text/plain": [
       "sys.float_info(max=1.7976931348623157e+308, max_exp=1024, max_10_exp=308, min=2.2250738585072014e-308, min_exp=-1021, min_10_exp=-307, dig=15, mant_dig=53, epsilon=2.220446049250313e-16, radix=2, rounds=1)"
      ]
     },
     "execution_count": 92,
     "metadata": {},
     "output_type": "execute_result"
    }
   ],
   "source": [
    "import sys\n",
    "sys.float_info"
   ]
  },
  {
   "cell_type": "code",
   "execution_count": 93,
   "metadata": {
    "collapsed": true
   },
   "outputs": [],
   "source": [
    "a = sys.float_info.max"
   ]
  },
  {
   "cell_type": "code",
   "execution_count": 94,
   "metadata": {},
   "outputs": [
    {
     "data": {
      "text/plain": [
       "1.7976931348623157e+308"
      ]
     },
     "execution_count": 94,
     "metadata": {},
     "output_type": "execute_result"
    }
   ],
   "source": [
    "a"
   ]
  },
  {
   "cell_type": "code",
   "execution_count": 95,
   "metadata": {},
   "outputs": [
    {
     "data": {
      "text/plain": [
       "inf"
      ]
     },
     "execution_count": 95,
     "metadata": {},
     "output_type": "execute_result"
    }
   ],
   "source": [
    "a*10"
   ]
  },
  {
   "cell_type": "markdown",
   "metadata": {},
   "source": [
    "# Listen"
   ]
  },
  {
   "cell_type": "markdown",
   "metadata": {},
   "source": [
    "*Listen = Anordnung von Daten mit definierter Reihenfolge, die verändert werden kann*"
   ]
  },
  {
   "cell_type": "markdown",
   "metadata": {},
   "source": [
    "## Definition einer Liste erfolgt über eckige Klammern:"
   ]
  },
  {
   "cell_type": "code",
   "execution_count": 96,
   "metadata": {
    "collapsed": true
   },
   "outputs": [],
   "source": [
    "l1 = [1,3,5,7,9,11]"
   ]
  },
  {
   "cell_type": "code",
   "execution_count": 97,
   "metadata": {},
   "outputs": [
    {
     "data": {
      "text/plain": [
       "list"
      ]
     },
     "execution_count": 97,
     "metadata": {},
     "output_type": "execute_result"
    }
   ],
   "source": [
    "type(l1)"
   ]
  },
  {
   "cell_type": "code",
   "execution_count": 98,
   "metadata": {},
   "outputs": [
    {
     "data": {
      "text/plain": [
       "[1, 3, 5, 7, 9, 11]"
      ]
     },
     "execution_count": 98,
     "metadata": {},
     "output_type": "execute_result"
    }
   ],
   "source": [
    "l1"
   ]
  },
  {
   "cell_type": "markdown",
   "metadata": {},
   "source": [
    "## Listen können Einträge von unterschiedlichem Typ enthalten:"
   ]
  },
  {
   "cell_type": "code",
   "execution_count": 99,
   "metadata": {
    "collapsed": true
   },
   "outputs": [],
   "source": [
    "l2 = [4, \"Brötchen\", 2, \"Croissants\", 1, \"Mischbrot\"]"
   ]
  },
  {
   "cell_type": "code",
   "execution_count": 100,
   "metadata": {},
   "outputs": [
    {
     "data": {
      "text/plain": [
       "[4, 'Brötchen', 2, 'Croissants', 1, 'Mischbrot']"
      ]
     },
     "execution_count": 100,
     "metadata": {},
     "output_type": "execute_result"
    }
   ],
   "source": [
    "l2"
   ]
  },
  {
   "cell_type": "markdown",
   "metadata": {},
   "source": [
    "## Zugriff auf Listenelemente:"
   ]
  },
  {
   "cell_type": "code",
   "execution_count": 101,
   "metadata": {},
   "outputs": [
    {
     "data": {
      "text/plain": [
       "4"
      ]
     },
     "execution_count": 101,
     "metadata": {},
     "output_type": "execute_result"
    }
   ],
   "source": [
    "l2[0]"
   ]
  },
  {
   "cell_type": "code",
   "execution_count": 102,
   "metadata": {},
   "outputs": [
    {
     "data": {
      "text/plain": [
       "'Brötchen'"
      ]
     },
     "execution_count": 102,
     "metadata": {},
     "output_type": "execute_result"
    }
   ],
   "source": [
    "l2[1]"
   ]
  },
  {
   "cell_type": "code",
   "execution_count": 103,
   "metadata": {},
   "outputs": [
    {
     "data": {
      "text/plain": [
       "'Mischbrot'"
      ]
     },
     "execution_count": 103,
     "metadata": {},
     "output_type": "execute_result"
    }
   ],
   "source": [
    "l2[5]"
   ]
  },
  {
   "cell_type": "markdown",
   "metadata": {},
   "source": [
    "Greifen wir auf einen ungültigen Index zu, erhalten wir in Python stets eine Fehlermeldung!\n",
    "\n",
    "Beachte: Dies ist bei anderen Programmiersprachen wie z.B. C nicht unbedingt der Fall!"
   ]
  },
  {
   "cell_type": "code",
   "execution_count": 104,
   "metadata": {},
   "outputs": [
    {
     "ename": "IndexError",
     "evalue": "list index out of range",
     "output_type": "error",
     "traceback": [
      "\u001b[1;31m---------------------------------------------------------------------------\u001b[0m",
      "\u001b[1;31mIndexError\u001b[0m                                Traceback (most recent call last)",
      "\u001b[1;32m<ipython-input-104-00347162c687>\u001b[0m in \u001b[0;36m<module>\u001b[1;34m()\u001b[0m\n\u001b[1;32m----> 1\u001b[1;33m \u001b[0ml2\u001b[0m\u001b[1;33m[\u001b[0m\u001b[1;36m6\u001b[0m\u001b[1;33m]\u001b[0m\u001b[1;33m\u001b[0m\u001b[0m\n\u001b[0m",
      "\u001b[1;31mIndexError\u001b[0m: list index out of range"
     ]
    }
   ],
   "source": [
    "l2[6]"
   ]
  },
  {
   "cell_type": "markdown",
   "metadata": {},
   "source": [
    "## Zugriff auf letztes, vorletztes, vorvorletztes Element, etc.:"
   ]
  },
  {
   "cell_type": "code",
   "execution_count": 105,
   "metadata": {},
   "outputs": [
    {
     "data": {
      "text/plain": [
       "'Mischbrot'"
      ]
     },
     "execution_count": 105,
     "metadata": {},
     "output_type": "execute_result"
    }
   ],
   "source": [
    "l2[-1]"
   ]
  },
  {
   "cell_type": "code",
   "execution_count": 106,
   "metadata": {},
   "outputs": [
    {
     "data": {
      "text/plain": [
       "1"
      ]
     },
     "execution_count": 106,
     "metadata": {},
     "output_type": "execute_result"
    }
   ],
   "source": [
    "l2[-2]"
   ]
  },
  {
   "cell_type": "code",
   "execution_count": 107,
   "metadata": {},
   "outputs": [
    {
     "data": {
      "text/plain": [
       "'Croissants'"
      ]
     },
     "execution_count": 107,
     "metadata": {},
     "output_type": "execute_result"
    }
   ],
   "source": [
    "l2[-3]"
   ]
  },
  {
   "cell_type": "markdown",
   "metadata": {},
   "source": [
    "## Ermitteln der Länge einer Liste:"
   ]
  },
  {
   "cell_type": "code",
   "execution_count": 108,
   "metadata": {},
   "outputs": [
    {
     "data": {
      "text/plain": [
       "6"
      ]
     },
     "execution_count": 108,
     "metadata": {},
     "output_type": "execute_result"
    }
   ],
   "source": [
    "len(l2)"
   ]
  },
  {
   "cell_type": "markdown",
   "metadata": {},
   "source": [
    "## Listen können ineinander verschachtelt werden:"
   ]
  },
  {
   "cell_type": "code",
   "execution_count": 109,
   "metadata": {
    "collapsed": true
   },
   "outputs": [],
   "source": [
    "l3 = [ [\"Bananen\", \"Äpfel\", \"Orangen\"], [\"Cola\", \"Sprudel\"] ]"
   ]
  },
  {
   "cell_type": "code",
   "execution_count": 110,
   "metadata": {},
   "outputs": [
    {
     "data": {
      "text/plain": [
       "2"
      ]
     },
     "execution_count": 110,
     "metadata": {},
     "output_type": "execute_result"
    }
   ],
   "source": [
    "len(l3)"
   ]
  },
  {
   "cell_type": "code",
   "execution_count": 111,
   "metadata": {},
   "outputs": [
    {
     "data": {
      "text/plain": [
       "['Bananen', 'Äpfel', 'Orangen']"
      ]
     },
     "execution_count": 111,
     "metadata": {},
     "output_type": "execute_result"
    }
   ],
   "source": [
    "l3[0]"
   ]
  },
  {
   "cell_type": "code",
   "execution_count": 112,
   "metadata": {},
   "outputs": [
    {
     "data": {
      "text/plain": [
       "3"
      ]
     },
     "execution_count": 112,
     "metadata": {},
     "output_type": "execute_result"
    }
   ],
   "source": [
    "len(l3[0])"
   ]
  },
  {
   "cell_type": "code",
   "execution_count": 113,
   "metadata": {},
   "outputs": [
    {
     "data": {
      "text/plain": [
       "list"
      ]
     },
     "execution_count": 113,
     "metadata": {},
     "output_type": "execute_result"
    }
   ],
   "source": [
    "type(l3)"
   ]
  },
  {
   "cell_type": "markdown",
   "metadata": {},
   "source": [
    "## Quiz-Time!\n",
    "\n",
    "Was ergibt folgender Aufruf als Ausgabe?"
   ]
  },
  {
   "cell_type": "code",
   "execution_count": 114,
   "metadata": {},
   "outputs": [
    {
     "data": {
      "text/plain": [
       "list"
      ]
     },
     "execution_count": 114,
     "metadata": {},
     "output_type": "execute_result"
    }
   ],
   "source": [
    "type(l3[0])"
   ]
  },
  {
   "cell_type": "markdown",
   "metadata": {},
   "source": [
    "## Quiz-Time!\n",
    "\n",
    "Was ergibt folgender Aufruf als Ausgabe?"
   ]
  },
  {
   "cell_type": "code",
   "execution_count": 115,
   "metadata": {},
   "outputs": [
    {
     "data": {
      "text/plain": [
       "str"
      ]
     },
     "execution_count": 115,
     "metadata": {},
     "output_type": "execute_result"
    }
   ],
   "source": [
    "type(l3[0][0])"
   ]
  },
  {
   "cell_type": "markdown",
   "metadata": {},
   "source": [
    "## Teilbereiche aus einer Liste ausschneiden (\"slicing\"):"
   ]
  },
  {
   "cell_type": "code",
   "execution_count": 116,
   "metadata": {},
   "outputs": [
    {
     "data": {
      "text/plain": [
       "[4, 'Brötchen', 2, 'Croissants', 1, 'Mischbrot']"
      ]
     },
     "execution_count": 116,
     "metadata": {},
     "output_type": "execute_result"
    }
   ],
   "source": [
    "l2"
   ]
  },
  {
   "cell_type": "code",
   "execution_count": 117,
   "metadata": {},
   "outputs": [
    {
     "data": {
      "text/plain": [
       "[4, 'Brötchen']"
      ]
     },
     "execution_count": 117,
     "metadata": {},
     "output_type": "execute_result"
    }
   ],
   "source": [
    "l2[0:2]"
   ]
  },
  {
   "cell_type": "code",
   "execution_count": 118,
   "metadata": {},
   "outputs": [
    {
     "data": {
      "text/plain": [
       "[2, 'Croissants']"
      ]
     },
     "execution_count": 118,
     "metadata": {},
     "output_type": "execute_result"
    }
   ],
   "source": [
    "l2[2:4]"
   ]
  },
  {
   "cell_type": "code",
   "execution_count": 119,
   "metadata": {},
   "outputs": [
    {
     "data": {
      "text/plain": [
       "[1, 'Mischbrot']"
      ]
     },
     "execution_count": 119,
     "metadata": {},
     "output_type": "execute_result"
    }
   ],
   "source": [
    "l2[4:6]"
   ]
  },
  {
   "cell_type": "markdown",
   "metadata": {},
   "source": [
    "## Quiz-Time!\n",
    "\n",
    "Was ergibt wahrscheinlich folgender Befehl (ohne diese Syntax vorab erklärt zu haben)?"
   ]
  },
  {
   "cell_type": "code",
   "execution_count": 120,
   "metadata": {},
   "outputs": [
    {
     "data": {
      "text/plain": [
       "[2, 'Croissants', 1, 'Mischbrot']"
      ]
     },
     "execution_count": 120,
     "metadata": {},
     "output_type": "execute_result"
    }
   ],
   "source": [
    "l2[2:]"
   ]
  },
  {
   "cell_type": "code",
   "execution_count": 121,
   "metadata": {},
   "outputs": [
    {
     "data": {
      "text/plain": [
       "[4, 'Brötchen', 2, 'Croissants']"
      ]
     },
     "execution_count": 121,
     "metadata": {},
     "output_type": "execute_result"
    }
   ],
   "source": [
    "l2[:4]"
   ]
  },
  {
   "cell_type": "markdown",
   "metadata": {},
   "source": [
    "Teilbereiche mit Schrittweite zurückliefern:\n",
    "\n",
    "Der Teilbereichsoperator hat eigentlich 3 Argumente:\n",
    "\n",
    "    [ Start : Ende(exklusiv) : Schrittweite ]"
   ]
  },
  {
   "cell_type": "markdown",
   "metadata": {},
   "source": [
    "## Quiz-Time!\n",
    "\n",
    "Was liefert folgender Listenzugriff zurück?"
   ]
  },
  {
   "cell_type": "code",
   "execution_count": 122,
   "metadata": {},
   "outputs": [
    {
     "data": {
      "text/plain": [
       "[4, 2, 1]"
      ]
     },
     "execution_count": 122,
     "metadata": {},
     "output_type": "execute_result"
    }
   ],
   "source": [
    "l2[0:6:2]"
   ]
  },
  {
   "cell_type": "code",
   "execution_count": 123,
   "metadata": {},
   "outputs": [
    {
     "data": {
      "text/plain": [
       "['Brötchen', 'Croissants', 'Mischbrot']"
      ]
     },
     "execution_count": 123,
     "metadata": {},
     "output_type": "execute_result"
    }
   ],
   "source": [
    "l2[1:6:2]"
   ]
  },
  {
   "cell_type": "markdown",
   "metadata": {},
   "source": [
    "## Verändern von Listenelementen:"
   ]
  },
  {
   "cell_type": "code",
   "execution_count": 124,
   "metadata": {},
   "outputs": [
    {
     "data": {
      "text/plain": [
       "[4, 'Brötchen', 2, 'Croissants', 1, 'Mischbrot']"
      ]
     },
     "execution_count": 124,
     "metadata": {},
     "output_type": "execute_result"
    }
   ],
   "source": [
    "l2"
   ]
  },
  {
   "cell_type": "code",
   "execution_count": 125,
   "metadata": {
    "collapsed": true
   },
   "outputs": [],
   "source": [
    "l2[0] = 10"
   ]
  },
  {
   "cell_type": "code",
   "execution_count": 126,
   "metadata": {},
   "outputs": [
    {
     "data": {
      "text/plain": [
       "[10, 'Brötchen', 2, 'Croissants', 1, 'Mischbrot']"
      ]
     },
     "execution_count": 126,
     "metadata": {},
     "output_type": "execute_result"
    }
   ],
   "source": [
    "l2"
   ]
  },
  {
   "cell_type": "markdown",
   "metadata": {},
   "source": [
    "## Löschen von Listenelementen mittels Wertangabe:"
   ]
  },
  {
   "cell_type": "code",
   "execution_count": 127,
   "metadata": {},
   "outputs": [
    {
     "ename": "ValueError",
     "evalue": "list.remove(x): x not in list",
     "output_type": "error",
     "traceback": [
      "\u001b[1;31m---------------------------------------------------------------------------\u001b[0m",
      "\u001b[1;31mValueError\u001b[0m                                Traceback (most recent call last)",
      "\u001b[1;32m<ipython-input-127-c71ded3966e8>\u001b[0m in \u001b[0;36m<module>\u001b[1;34m()\u001b[0m\n\u001b[1;32m----> 1\u001b[1;33m \u001b[0ml2\u001b[0m\u001b[1;33m.\u001b[0m\u001b[0mremove\u001b[0m\u001b[1;33m(\u001b[0m\u001b[1;34m\"Hörnchen\"\u001b[0m\u001b[1;33m)\u001b[0m\u001b[1;33m\u001b[0m\u001b[0m\n\u001b[0m",
      "\u001b[1;31mValueError\u001b[0m: list.remove(x): x not in list"
     ]
    }
   ],
   "source": [
    "l2.remove(\"Hörnchen\")"
   ]
  },
  {
   "cell_type": "code",
   "execution_count": 128,
   "metadata": {
    "collapsed": true
   },
   "outputs": [],
   "source": [
    "l2.remove(\"Croissants\")"
   ]
  },
  {
   "cell_type": "code",
   "execution_count": 129,
   "metadata": {},
   "outputs": [
    {
     "data": {
      "text/plain": [
       "[10, 'Brötchen', 2, 1, 'Mischbrot']"
      ]
     },
     "execution_count": 129,
     "metadata": {},
     "output_type": "execute_result"
    }
   ],
   "source": [
    "l2"
   ]
  },
  {
   "cell_type": "markdown",
   "metadata": {},
   "source": [
    "## Löschen von Listenelementen mittels Indexangabe:"
   ]
  },
  {
   "cell_type": "code",
   "execution_count": 130,
   "metadata": {
    "collapsed": true
   },
   "outputs": [],
   "source": [
    "del l2[2]"
   ]
  },
  {
   "cell_type": "code",
   "execution_count": 131,
   "metadata": {},
   "outputs": [
    {
     "data": {
      "text/plain": [
       "[10, 'Brötchen', 1, 'Mischbrot']"
      ]
     },
     "execution_count": 131,
     "metadata": {},
     "output_type": "execute_result"
    }
   ],
   "source": [
    "l2"
   ]
  },
  {
   "cell_type": "markdown",
   "metadata": {},
   "source": [
    "## Hinzufügen von Listenelementen am Ende der Liste:"
   ]
  },
  {
   "cell_type": "code",
   "execution_count": 132,
   "metadata": {
    "collapsed": true
   },
   "outputs": [],
   "source": [
    "l2.append( 7 )"
   ]
  },
  {
   "cell_type": "code",
   "execution_count": 133,
   "metadata": {},
   "outputs": [
    {
     "data": {
      "text/plain": [
       "[10, 'Brötchen', 1, 'Mischbrot', 7]"
      ]
     },
     "execution_count": 133,
     "metadata": {},
     "output_type": "execute_result"
    }
   ],
   "source": [
    "l2"
   ]
  },
  {
   "cell_type": "code",
   "execution_count": 134,
   "metadata": {
    "collapsed": true
   },
   "outputs": [],
   "source": [
    "l2.append( \"Hörnchen\" )"
   ]
  },
  {
   "cell_type": "code",
   "execution_count": 135,
   "metadata": {},
   "outputs": [
    {
     "data": {
      "text/plain": [
       "[10, 'Brötchen', 1, 'Mischbrot', 7, 'Hörnchen']"
      ]
     },
     "execution_count": 135,
     "metadata": {},
     "output_type": "execute_result"
    }
   ],
   "source": [
    "l2"
   ]
  },
  {
   "cell_type": "markdown",
   "metadata": {},
   "source": [
    "## Hinzufügen von Listenelementen an einer definierten Stelle der Liste:"
   ]
  },
  {
   "cell_type": "code",
   "execution_count": 136,
   "metadata": {
    "collapsed": true
   },
   "outputs": [],
   "source": [
    "l2.insert(0, 50)"
   ]
  },
  {
   "cell_type": "code",
   "execution_count": 137,
   "metadata": {},
   "outputs": [
    {
     "data": {
      "text/plain": [
       "[50, 10, 'Brötchen', 1, 'Mischbrot', 7, 'Hörnchen']"
      ]
     },
     "execution_count": 137,
     "metadata": {},
     "output_type": "execute_result"
    }
   ],
   "source": [
    "l2"
   ]
  },
  {
   "cell_type": "code",
   "execution_count": 138,
   "metadata": {
    "collapsed": true
   },
   "outputs": [],
   "source": [
    "l2.insert(1, \"Baguettes\")"
   ]
  },
  {
   "cell_type": "code",
   "execution_count": 139,
   "metadata": {},
   "outputs": [
    {
     "data": {
      "text/plain": [
       "[50, 'Baguettes', 10, 'Brötchen', 1, 'Mischbrot', 7, 'Hörnchen']"
      ]
     },
     "execution_count": 139,
     "metadata": {},
     "output_type": "execute_result"
    }
   ],
   "source": [
    "l2"
   ]
  },
  {
   "cell_type": "markdown",
   "metadata": {},
   "source": [
    "## Überprüfen, ob ein Element in der Liste ist:"
   ]
  },
  {
   "cell_type": "code",
   "execution_count": 140,
   "metadata": {
    "collapsed": true
   },
   "outputs": [],
   "source": [
    "ist_drin = \"Baguettes\" in l2"
   ]
  },
  {
   "cell_type": "code",
   "execution_count": 141,
   "metadata": {},
   "outputs": [
    {
     "data": {
      "text/plain": [
       "True"
      ]
     },
     "execution_count": 141,
     "metadata": {},
     "output_type": "execute_result"
    }
   ],
   "source": [
    "ist_drin"
   ]
  },
  {
   "cell_type": "code",
   "execution_count": 142,
   "metadata": {
    "collapsed": true
   },
   "outputs": [],
   "source": [
    "ist_drin2 = \"Croissants\" in l2"
   ]
  },
  {
   "cell_type": "code",
   "execution_count": 143,
   "metadata": {},
   "outputs": [
    {
     "data": {
      "text/plain": [
       "False"
      ]
     },
     "execution_count": 143,
     "metadata": {},
     "output_type": "execute_result"
    }
   ],
   "source": [
    "ist_drin2"
   ]
  },
  {
   "cell_type": "markdown",
   "metadata": {},
   "source": [
    "## Sortieren von Listen (in-place)"
   ]
  },
  {
   "cell_type": "markdown",
   "metadata": {},
   "source": [
    "\"in-place\" meint: die Liste wird umsortiert. Die Originalliste geht damit verloren."
   ]
  },
  {
   "cell_type": "code",
   "execution_count": 144,
   "metadata": {
    "collapsed": true
   },
   "outputs": [],
   "source": [
    "liste = [10, 2, -5, 99, 100]"
   ]
  },
  {
   "cell_type": "code",
   "execution_count": 145,
   "metadata": {},
   "outputs": [
    {
     "data": {
      "text/plain": [
       "[10, 2, -5, 99, 100]"
      ]
     },
     "execution_count": 145,
     "metadata": {},
     "output_type": "execute_result"
    }
   ],
   "source": [
    "liste"
   ]
  },
  {
   "cell_type": "code",
   "execution_count": 146,
   "metadata": {
    "collapsed": true
   },
   "outputs": [],
   "source": [
    "liste.sort()"
   ]
  },
  {
   "cell_type": "code",
   "execution_count": 147,
   "metadata": {},
   "outputs": [
    {
     "data": {
      "text/plain": [
       "[-5, 2, 10, 99, 100]"
      ]
     },
     "execution_count": 147,
     "metadata": {},
     "output_type": "execute_result"
    }
   ],
   "source": [
    "liste"
   ]
  },
  {
   "cell_type": "markdown",
   "metadata": {},
   "source": [
    "Wir sehen: die Liste wurde in aufsteigender Reihenfolge sortiert. Was aber, wenn wir die Liste in absteigender Reihenfolge sortieren wollen?"
   ]
  },
  {
   "cell_type": "code",
   "execution_count": 148,
   "metadata": {
    "collapsed": true
   },
   "outputs": [],
   "source": [
    "liste.sort(reverse=True)"
   ]
  },
  {
   "cell_type": "code",
   "execution_count": 149,
   "metadata": {},
   "outputs": [
    {
     "data": {
      "text/plain": [
       "[100, 99, 10, 2, -5]"
      ]
     },
     "execution_count": 149,
     "metadata": {},
     "output_type": "execute_result"
    }
   ],
   "source": [
    "liste"
   ]
  },
  {
   "cell_type": "markdown",
   "metadata": {},
   "source": [
    "Wie schaut es mit gemischten Listen aus?"
   ]
  },
  {
   "cell_type": "code",
   "execution_count": 150,
   "metadata": {
    "collapsed": true
   },
   "outputs": [],
   "source": [
    "liste2 = [200, 100, \"Computer\", \"Kurs\", \"Anfangen\", \"Python\", \"mit\"]"
   ]
  },
  {
   "cell_type": "code",
   "execution_count": 151,
   "metadata": {},
   "outputs": [
    {
     "ename": "TypeError",
     "evalue": "'<' not supported between instances of 'str' and 'int'",
     "output_type": "error",
     "traceback": [
      "\u001b[1;31m---------------------------------------------------------------------------\u001b[0m",
      "\u001b[1;31mTypeError\u001b[0m                                 Traceback (most recent call last)",
      "\u001b[1;32m<ipython-input-151-363f638d600d>\u001b[0m in \u001b[0;36m<module>\u001b[1;34m()\u001b[0m\n\u001b[1;32m----> 1\u001b[1;33m \u001b[0mliste2\u001b[0m\u001b[1;33m.\u001b[0m\u001b[0msort\u001b[0m\u001b[1;33m(\u001b[0m\u001b[1;33m)\u001b[0m\u001b[1;33m\u001b[0m\u001b[0m\n\u001b[0m",
      "\u001b[1;31mTypeError\u001b[0m: '<' not supported between instances of 'str' and 'int'"
     ]
    }
   ],
   "source": [
    "liste2.sort()"
   ]
  },
  {
   "cell_type": "markdown",
   "metadata": {},
   "source": [
    "Wir sehen: das Sortieren scheitert dann daran, dass es unklar ist, in welche Reihenfolge z.B. \"200\" und \"Computer\" zu bringen ist."
   ]
  },
  {
   "cell_type": "code",
   "execution_count": 152,
   "metadata": {
    "collapsed": true
   },
   "outputs": [],
   "source": [
    "liste3 = [\"200\", \"100\", \"Kurs\", \"Computer\", \"computer\", \"kurs\"]"
   ]
  },
  {
   "cell_type": "code",
   "execution_count": 153,
   "metadata": {
    "collapsed": true
   },
   "outputs": [],
   "source": [
    "liste3.sort()"
   ]
  },
  {
   "cell_type": "code",
   "execution_count": 154,
   "metadata": {},
   "outputs": [
    {
     "data": {
      "text/plain": [
       "['100', '200', 'Computer', 'Kurs', 'computer', 'kurs']"
      ]
     },
     "execution_count": 154,
     "metadata": {},
     "output_type": "execute_result"
    }
   ],
   "source": [
    "liste3"
   ]
  },
  {
   "cell_type": "markdown",
   "metadata": {},
   "source": [
    "Wir sehen: jetzt kann Python alphanumerisch sortieren. Hierbei wird der ASCII-Code der einzelnen Zeichen zweier Zeichenketten schrittweise verglichen."
   ]
  },
  {
   "cell_type": "markdown",
   "metadata": {},
   "source": [
    "Hier eine Lösung für das Sortieren von \"gemischten Datentypen\" in einer Liste:\n",
    "\n",
    "https://www.geeksforgeeks.org/python-sort-list-containing-alphanumeric-values/"
   ]
  },
  {
   "cell_type": "code",
   "execution_count": 155,
   "metadata": {},
   "outputs": [
    {
     "name": "stdout",
     "output_type": "stream",
     "text": [
      "[200, 100, 'Computer', 'Kurs', 'Anfangen', 'Python', 'mit']\n",
      "[100, 200, 'Anfangen', 'Computer', 'Kurs', 'Python', 'mit']\n"
     ]
    }
   ],
   "source": [
    "def mysort(lst): \n",
    "    lst = [str(i) for i in lst] \n",
    "    lst.sort() \n",
    "    lst = [int(i) if i.isdigit() else i for i in lst ] \n",
    "    return lst \n",
    "              \n",
    "print(liste2)\n",
    "print(mysort(liste2)) \n"
   ]
  },
  {
   "cell_type": "markdown",
   "metadata": {},
   "source": [
    "## Sortieren von Listen (sortierte Kopie erzeugen)"
   ]
  },
  {
   "cell_type": "code",
   "execution_count": 156,
   "metadata": {
    "collapsed": true
   },
   "outputs": [],
   "source": [
    "liste = [1,-1,100,50,200]"
   ]
  },
  {
   "cell_type": "code",
   "execution_count": 157,
   "metadata": {},
   "outputs": [
    {
     "data": {
      "text/plain": [
       "[1, -1, 100, 50, 200]"
      ]
     },
     "execution_count": 157,
     "metadata": {},
     "output_type": "execute_result"
    }
   ],
   "source": [
    "liste"
   ]
  },
  {
   "cell_type": "code",
   "execution_count": 158,
   "metadata": {
    "collapsed": true
   },
   "outputs": [],
   "source": [
    "liste2 = sorted(liste)"
   ]
  },
  {
   "cell_type": "code",
   "execution_count": 159,
   "metadata": {},
   "outputs": [
    {
     "data": {
      "text/plain": [
       "[1, -1, 100, 50, 200]"
      ]
     },
     "execution_count": 159,
     "metadata": {},
     "output_type": "execute_result"
    }
   ],
   "source": [
    "liste"
   ]
  },
  {
   "cell_type": "code",
   "execution_count": 160,
   "metadata": {},
   "outputs": [
    {
     "data": {
      "text/plain": [
       "[-1, 1, 50, 100, 200]"
      ]
     },
     "execution_count": 160,
     "metadata": {},
     "output_type": "execute_result"
    }
   ],
   "source": [
    "liste2"
   ]
  },
  {
   "cell_type": "code",
   "execution_count": 161,
   "metadata": {
    "collapsed": true
   },
   "outputs": [],
   "source": [
    "liste3 = sorted(liste, reverse=True)"
   ]
  },
  {
   "cell_type": "code",
   "execution_count": 162,
   "metadata": {},
   "outputs": [
    {
     "data": {
      "text/plain": [
       "[200, 100, 50, 1, -1]"
      ]
     },
     "execution_count": 162,
     "metadata": {},
     "output_type": "execute_result"
    }
   ],
   "source": [
    "liste3"
   ]
  },
  {
   "cell_type": "markdown",
   "metadata": {},
   "source": [
    "## Hinzufügen mehrerer Elemente auf einmal zu einer Liste:"
   ]
  },
  {
   "cell_type": "code",
   "execution_count": 163,
   "metadata": {},
   "outputs": [
    {
     "data": {
      "text/plain": [
       "[50, 'Baguettes', 10, 'Brötchen', 1, 'Mischbrot', 7, 'Hörnchen']"
      ]
     },
     "execution_count": 163,
     "metadata": {},
     "output_type": "execute_result"
    }
   ],
   "source": [
    "l2"
   ]
  },
  {
   "cell_type": "code",
   "execution_count": 164,
   "metadata": {
    "collapsed": true
   },
   "outputs": [],
   "source": [
    "l2.extend( [11, \"Apfeltaschen\"] )"
   ]
  },
  {
   "cell_type": "code",
   "execution_count": 165,
   "metadata": {},
   "outputs": [
    {
     "data": {
      "text/plain": [
       "[50,\n",
       " 'Baguettes',\n",
       " 10,\n",
       " 'Brötchen',\n",
       " 1,\n",
       " 'Mischbrot',\n",
       " 7,\n",
       " 'Hörnchen',\n",
       " 11,\n",
       " 'Apfeltaschen']"
      ]
     },
     "execution_count": 165,
     "metadata": {},
     "output_type": "execute_result"
    }
   ],
   "source": [
    "l2"
   ]
  },
  {
   "cell_type": "markdown",
   "metadata": {},
   "source": [
    "Wir können `extend()` auch alternativ mit einem Tupel aufrufen. Zu Tupeln gleich später mehr!"
   ]
  },
  {
   "cell_type": "code",
   "execution_count": 166,
   "metadata": {
    "collapsed": true
   },
   "outputs": [],
   "source": [
    "l2.extend( (12, \"Zwetschgendatschi\") )"
   ]
  },
  {
   "cell_type": "code",
   "execution_count": 167,
   "metadata": {},
   "outputs": [
    {
     "data": {
      "text/plain": [
       "[50,\n",
       " 'Baguettes',\n",
       " 10,\n",
       " 'Brötchen',\n",
       " 1,\n",
       " 'Mischbrot',\n",
       " 7,\n",
       " 'Hörnchen',\n",
       " 11,\n",
       " 'Apfeltaschen',\n",
       " 12,\n",
       " 'Zwetschgendatschi']"
      ]
     },
     "execution_count": 167,
     "metadata": {},
     "output_type": "execute_result"
    }
   ],
   "source": [
    "l2"
   ]
  },
  {
   "cell_type": "markdown",
   "metadata": {},
   "source": [
    "## Listen miteinander verknüpfen (\"konkatenieren\"):"
   ]
  },
  {
   "cell_type": "code",
   "execution_count": 168,
   "metadata": {
    "collapsed": true
   },
   "outputs": [],
   "source": [
    "l3 = [10,20,30]\n",
    "l4 = [100,200,300]"
   ]
  },
  {
   "cell_type": "code",
   "execution_count": 169,
   "metadata": {},
   "outputs": [
    {
     "data": {
      "text/plain": [
       "[10, 20, 30, 100, 200, 300]"
      ]
     },
     "execution_count": 169,
     "metadata": {},
     "output_type": "execute_result"
    }
   ],
   "source": [
    "l3+l4"
   ]
  },
  {
   "cell_type": "markdown",
   "metadata": {},
   "source": [
    "## Addieren zweier Listen:"
   ]
  },
  {
   "cell_type": "code",
   "execution_count": 170,
   "metadata": {},
   "outputs": [
    {
     "data": {
      "text/plain": [
       "[110, 220, 330]"
      ]
     },
     "execution_count": 170,
     "metadata": {},
     "output_type": "execute_result"
    }
   ],
   "source": [
    "[x+y for x,y in zip(l3, l4)]"
   ]
  },
  {
   "cell_type": "markdown",
   "metadata": {},
   "source": [
    "## zip-Funktion\n",
    "\n",
    "Nimmt zwei iterierbare Datentypen und erzeugt einen Tupel-Iterator."
   ]
  },
  {
   "cell_type": "code",
   "execution_count": 391,
   "metadata": {
    "collapsed": true
   },
   "outputs": [],
   "source": [
    "l1 = [\"Klaus\", \"Hans\", \"Max\"]\n",
    "l2 = [\"Kerstin\", \"Hilde\", \"Maria\"]"
   ]
  },
  {
   "cell_type": "code",
   "execution_count": 392,
   "metadata": {},
   "outputs": [
    {
     "name": "stdout",
     "output_type": "stream",
     "text": [
      "('Klaus', 'Kerstin')\n",
      "('Hans', 'Hilde')\n",
      "('Max', 'Maria')\n"
     ]
    }
   ],
   "source": [
    "for paar in zip(l1,l2):\n",
    "    print(paar)"
   ]
  },
  {
   "cell_type": "code",
   "execution_count": 393,
   "metadata": {
    "collapsed": true
   },
   "outputs": [],
   "source": [
    "l2 = [\"Kerstin\", \"Hilde\", \"Maria\", \"Irmgard\"]"
   ]
  },
  {
   "cell_type": "code",
   "execution_count": 394,
   "metadata": {},
   "outputs": [
    {
     "name": "stdout",
     "output_type": "stream",
     "text": [
      "('Klaus', 'Kerstin')\n",
      "('Hans', 'Hilde')\n",
      "('Max', 'Maria')\n"
     ]
    }
   ],
   "source": [
    "for paar in zip(l1,l2):\n",
    "    print(paar)"
   ]
  },
  {
   "cell_type": "code",
   "execution_count": 396,
   "metadata": {},
   "outputs": [
    {
     "data": {
      "text/plain": [
       "zip"
      ]
     },
     "execution_count": 396,
     "metadata": {},
     "output_type": "execute_result"
    }
   ],
   "source": [
    "type(zip(l1,l2))"
   ]
  },
  {
   "cell_type": "markdown",
   "metadata": {},
   "source": [
    "## List comprehension\n",
    "\n",
    "Kommt der mathematischen Notation von Mengen sehr nahe,\n",
    "\n",
    "z.B.\n",
    "\n",
    "    { n^2 : n natürliche Zahl, 1<=n<=10 }\n",
    "    \n",
    "Genauer:\n",
    "In Python ist \"List comprehension\" ein syntaktisches Konstrukt, um neue Listen aus existierenden Listen zu erstellen.\n",
    "\n",
    "Wird gerne verwendet, um\n",
    "- aus bestehenden Daten neue Daten zu erzeugen\n",
    "- Daten zu filtern"
   ]
  },
  {
   "cell_type": "code",
   "execution_count": 5,
   "metadata": {},
   "outputs": [
    {
     "data": {
      "text/plain": [
       "[0, 1, 4, 9, 16, 25, 36, 49, 64, 81, 100]"
      ]
     },
     "execution_count": 5,
     "metadata": {},
     "output_type": "execute_result"
    }
   ],
   "source": [
    "[ n**2 for n in range(0,11) ]"
   ]
  },
  {
   "cell_type": "markdown",
   "metadata": {},
   "source": [
    "Syntax der List comprehension:\n",
    "\n",
    "    l = [ expression for item in list if conditional ]\n",
    "\n",
    "Oben ist:\n",
    "\n",
    "- expression: n**2\n",
    "- item: n\n",
    "- list: range(0,11)\n",
    "\n",
    "\n",
    "Das entspricht wiederum folgendem Code:\n",
    "\n",
    "    l = []\n",
    "    for item in list:\n",
    "        if conditional:\n",
    "            l.append( expression )\n"
   ]
  },
  {
   "cell_type": "markdown",
   "metadata": {},
   "source": [
    "Im obigen Beispiel hatten wir kein Bedingung (\"conditional\"). Jetzt ein Beispiel mit \"conditional\":"
   ]
  },
  {
   "cell_type": "code",
   "execution_count": 6,
   "metadata": {},
   "outputs": [
    {
     "data": {
      "text/plain": [
       "[0, 4, 16, 36, 64, 100]"
      ]
     },
     "execution_count": 6,
     "metadata": {},
     "output_type": "execute_result"
    }
   ],
   "source": [
    "[ n**2 for n in range(0,11) if n % 2 == 0 ]"
   ]
  },
  {
   "cell_type": "code",
   "execution_count": 7,
   "metadata": {},
   "outputs": [
    {
     "data": {
      "text/plain": [
       "[1, 9, 25, 49, 81]"
      ]
     },
     "execution_count": 7,
     "metadata": {},
     "output_type": "execute_result"
    }
   ],
   "source": [
    "[ n**2 for n in range(0,11) if n % 2 == 1 ]"
   ]
  },
  {
   "cell_type": "markdown",
   "metadata": {},
   "source": [
    "Die Syntax der List comprehension ist eigentlich sogar noch flexibler. Hier:\n",
    "\n",
    "    l = [expression for_loop_one_or_more conditions]"
   ]
  },
  {
   "cell_type": "markdown",
   "metadata": {},
   "source": [
    "Beispiel: Auffinden von gemeinsamen Einträgen in zwei Listen:"
   ]
  },
  {
   "cell_type": "code",
   "execution_count": 10,
   "metadata": {
    "collapsed": true
   },
   "outputs": [],
   "source": [
    "l1 = [1, 10, 29, 31, 99]\n",
    "l2 = [2, 3, 5, 10, 12, 15, 19, 31, 100]\n",
    "\n",
    "l = [a for a in l1 for b in l2 if a==b]"
   ]
  },
  {
   "cell_type": "code",
   "execution_count": 14,
   "metadata": {},
   "outputs": [
    {
     "data": {
      "text/plain": [
       "[10, 31]"
      ]
     },
     "execution_count": 14,
     "metadata": {},
     "output_type": "execute_result"
    }
   ],
   "source": [
    "l"
   ]
  },
  {
   "cell_type": "markdown",
   "metadata": {},
   "source": [
    "## Quiz-Time! Was wird hier gemacht?"
   ]
  },
  {
   "cell_type": "code",
   "execution_count": 22,
   "metadata": {
    "collapsed": true
   },
   "outputs": [],
   "source": [
    "import math\n",
    "\n",
    "l = [round(math.pi, i) for i in range(1,6)]"
   ]
  },
  {
   "cell_type": "code",
   "execution_count": 24,
   "metadata": {},
   "outputs": [
    {
     "data": {
      "text/plain": [
       "3.141592653589793"
      ]
     },
     "execution_count": 24,
     "metadata": {},
     "output_type": "execute_result"
    }
   ],
   "source": [
    "math.pi"
   ]
  },
  {
   "cell_type": "code",
   "execution_count": 25,
   "metadata": {},
   "outputs": [
    {
     "data": {
      "text/plain": [
       "[3.1, 3.14, 3.142, 3.1416, 3.14159]"
      ]
     },
     "execution_count": 25,
     "metadata": {},
     "output_type": "execute_result"
    }
   ],
   "source": [
    "l"
   ]
  },
  {
   "cell_type": "markdown",
   "metadata": {},
   "source": [
    "# Tupel"
   ]
  },
  {
   "cell_type": "markdown",
   "metadata": {},
   "source": [
    "*Tupel = Anordnung von Daten mit definierter Reihenfolge, die nicht verändert werden kann!*\n",
    "\n",
    "\"Tuples have structure, lists have order\""
   ]
  },
  {
   "cell_type": "markdown",
   "metadata": {},
   "source": [
    "## Definition einer Liste erfolgt über runde Klammern:"
   ]
  },
  {
   "cell_type": "code",
   "execution_count": 171,
   "metadata": {
    "collapsed": true
   },
   "outputs": [],
   "source": [
    "t1 = (5, \"Brötchen\", 3, \"Apfeltaschen\")"
   ]
  },
  {
   "cell_type": "code",
   "execution_count": 172,
   "metadata": {},
   "outputs": [
    {
     "data": {
      "text/plain": [
       "(5, 'Brötchen', 3, 'Apfeltaschen')"
      ]
     },
     "execution_count": 172,
     "metadata": {},
     "output_type": "execute_result"
    }
   ],
   "source": [
    "t1"
   ]
  },
  {
   "cell_type": "code",
   "execution_count": 173,
   "metadata": {},
   "outputs": [
    {
     "data": {
      "text/plain": [
       "tuple"
      ]
     },
     "execution_count": 173,
     "metadata": {},
     "output_type": "execute_result"
    }
   ],
   "source": [
    "type(t1)"
   ]
  },
  {
   "cell_type": "markdown",
   "metadata": {},
   "source": [
    "## Tupel können auch ohne runde Klammern definiert werden:"
   ]
  },
  {
   "cell_type": "code",
   "execution_count": 174,
   "metadata": {
    "collapsed": true
   },
   "outputs": [],
   "source": [
    "t2 = 5, \"Brötchen\", 3, \"Apfeltaschen\""
   ]
  },
  {
   "cell_type": "code",
   "execution_count": 175,
   "metadata": {},
   "outputs": [
    {
     "data": {
      "text/plain": [
       "(5, 'Brötchen', 3, 'Apfeltaschen')"
      ]
     },
     "execution_count": 175,
     "metadata": {},
     "output_type": "execute_result"
    }
   ],
   "source": [
    "t2"
   ]
  },
  {
   "cell_type": "code",
   "execution_count": 176,
   "metadata": {},
   "outputs": [
    {
     "data": {
      "text/plain": [
       "tuple"
      ]
     },
     "execution_count": 176,
     "metadata": {},
     "output_type": "execute_result"
    }
   ],
   "source": [
    "type(t2)"
   ]
  },
  {
   "cell_type": "markdown",
   "metadata": {
    "collapsed": true
   },
   "source": [
    "## Entpacken einer Liste durch Mehrfachzuweisung:"
   ]
  },
  {
   "cell_type": "code",
   "execution_count": 177,
   "metadata": {
    "collapsed": true
   },
   "outputs": [],
   "source": [
    "a1, e1, a2, e2 = t2"
   ]
  },
  {
   "cell_type": "code",
   "execution_count": 178,
   "metadata": {},
   "outputs": [
    {
     "data": {
      "text/plain": [
       "3"
      ]
     },
     "execution_count": 178,
     "metadata": {},
     "output_type": "execute_result"
    }
   ],
   "source": [
    "a2"
   ]
  },
  {
   "cell_type": "code",
   "execution_count": 179,
   "metadata": {},
   "outputs": [
    {
     "data": {
      "text/plain": [
       "'Apfeltaschen'"
      ]
     },
     "execution_count": 179,
     "metadata": {},
     "output_type": "execute_result"
    }
   ],
   "source": [
    "e2"
   ]
  },
  {
   "cell_type": "markdown",
   "metadata": {},
   "source": [
    "## Unterschied zwischen Tupeln und Listen\n",
    "\n",
    "Listen können verändert werden (Englisch: mutable), Tupel dagegen nicht (Englisch: immutable)!"
   ]
  },
  {
   "cell_type": "code",
   "execution_count": 180,
   "metadata": {},
   "outputs": [
    {
     "ename": "TypeError",
     "evalue": "'tuple' object does not support item assignment",
     "output_type": "error",
     "traceback": [
      "\u001b[1;31m---------------------------------------------------------------------------\u001b[0m",
      "\u001b[1;31mTypeError\u001b[0m                                 Traceback (most recent call last)",
      "\u001b[1;32m<ipython-input-180-47a9c37a351f>\u001b[0m in \u001b[0;36m<module>\u001b[1;34m()\u001b[0m\n\u001b[1;32m----> 1\u001b[1;33m \u001b[0mt2\u001b[0m\u001b[1;33m[\u001b[0m\u001b[1;36m0\u001b[0m\u001b[1;33m]\u001b[0m \u001b[1;33m=\u001b[0m \u001b[1;36m55\u001b[0m\u001b[1;33m\u001b[0m\u001b[0m\n\u001b[0m",
      "\u001b[1;31mTypeError\u001b[0m: 'tuple' object does not support item assignment"
     ]
    }
   ],
   "source": [
    "t2[0] = 55"
   ]
  },
  {
   "cell_type": "code",
   "execution_count": 181,
   "metadata": {},
   "outputs": [
    {
     "ename": "AttributeError",
     "evalue": "'tuple' object has no attribute 'append'",
     "output_type": "error",
     "traceback": [
      "\u001b[1;31m---------------------------------------------------------------------------\u001b[0m",
      "\u001b[1;31mAttributeError\u001b[0m                            Traceback (most recent call last)",
      "\u001b[1;32m<ipython-input-181-d5e4d32b9688>\u001b[0m in \u001b[0;36m<module>\u001b[1;34m()\u001b[0m\n\u001b[1;32m----> 1\u001b[1;33m \u001b[0mt2\u001b[0m\u001b[1;33m.\u001b[0m\u001b[0mappend\u001b[0m\u001b[1;33m(\u001b[0m\u001b[1;36m42\u001b[0m\u001b[1;33m)\u001b[0m\u001b[1;33m\u001b[0m\u001b[0m\n\u001b[0m",
      "\u001b[1;31mAttributeError\u001b[0m: 'tuple' object has no attribute 'append'"
     ]
    }
   ],
   "source": [
    "t2.append(42)"
   ]
  },
  {
   "cell_type": "code",
   "execution_count": 182,
   "metadata": {},
   "outputs": [
    {
     "data": {
      "text/plain": [
       "5"
      ]
     },
     "execution_count": 182,
     "metadata": {},
     "output_type": "execute_result"
    }
   ],
   "source": [
    "t2[0]"
   ]
  },
  {
   "cell_type": "markdown",
   "metadata": {},
   "source": [
    "## Konkatenieren von Tupeln"
   ]
  },
  {
   "cell_type": "code",
   "execution_count": 183,
   "metadata": {
    "collapsed": true
   },
   "outputs": [],
   "source": [
    "t1 = (1,2,3)\n",
    "t2 = (4,5,6)"
   ]
  },
  {
   "cell_type": "code",
   "execution_count": 184,
   "metadata": {},
   "outputs": [
    {
     "data": {
      "text/plain": [
       "(1, 2, 3, 4, 5, 6)"
      ]
     },
     "execution_count": 184,
     "metadata": {},
     "output_type": "execute_result"
    }
   ],
   "source": [
    "t1+t2"
   ]
  },
  {
   "cell_type": "markdown",
   "metadata": {},
   "source": [
    "## Slicing funktioniert auch für Tupel"
   ]
  },
  {
   "cell_type": "code",
   "execution_count": 185,
   "metadata": {
    "collapsed": true
   },
   "outputs": [],
   "source": [
    "t3 = (10,20,30,40,50,60,70)"
   ]
  },
  {
   "cell_type": "code",
   "execution_count": 186,
   "metadata": {},
   "outputs": [
    {
     "data": {
      "text/plain": [
       "(10, 20, 30)"
      ]
     },
     "execution_count": 186,
     "metadata": {},
     "output_type": "execute_result"
    }
   ],
   "source": [
    "t3[0:3]"
   ]
  },
  {
   "cell_type": "code",
   "execution_count": 187,
   "metadata": {},
   "outputs": [
    {
     "data": {
      "text/plain": [
       "(40, 50, 60, 70)"
      ]
     },
     "execution_count": 187,
     "metadata": {},
     "output_type": "execute_result"
    }
   ],
   "source": [
    "t3[3:]"
   ]
  },
  {
   "cell_type": "code",
   "execution_count": 188,
   "metadata": {},
   "outputs": [
    {
     "data": {
      "text/plain": [
       "(10, 30, 50, 70)"
      ]
     },
     "execution_count": 188,
     "metadata": {},
     "output_type": "execute_result"
    }
   ],
   "source": [
    "t3[0::2]"
   ]
  },
  {
   "cell_type": "markdown",
   "metadata": {},
   "source": [
    "# Zeichenketten (Strings)"
   ]
  },
  {
   "cell_type": "markdown",
   "metadata": {},
   "source": [
    "## Definition von Zeichenketten"
   ]
  },
  {
   "cell_type": "code",
   "execution_count": 12,
   "metadata": {
    "collapsed": true
   },
   "outputs": [],
   "source": [
    "s1 = '$Eine Zeichenkette mit einfachen Anführungszeichen'"
   ]
  },
  {
   "cell_type": "code",
   "execution_count": 13,
   "metadata": {},
   "outputs": [
    {
     "data": {
      "text/plain": [
       "'$Eine Zeichenkette mit einfachen Anführungszeichen'"
      ]
     },
     "execution_count": 13,
     "metadata": {},
     "output_type": "execute_result"
    }
   ],
   "source": [
    "s1"
   ]
  },
  {
   "cell_type": "code",
   "execution_count": 3,
   "metadata": {
    "collapsed": true
   },
   "outputs": [],
   "source": [
    "s2 = \"Eine Zeichenkette mit doppelten Anführungszeichen\""
   ]
  },
  {
   "cell_type": "code",
   "execution_count": 4,
   "metadata": {},
   "outputs": [
    {
     "data": {
      "text/plain": [
       "'Eine Zeichenkette mit doppelten Anführungszeichen'"
      ]
     },
     "execution_count": 4,
     "metadata": {},
     "output_type": "execute_result"
    }
   ],
   "source": [
    "s2"
   ]
  },
  {
   "cell_type": "code",
   "execution_count": 5,
   "metadata": {},
   "outputs": [
    {
     "ename": "SyntaxError",
     "evalue": "invalid syntax (<ipython-input-5-8f7bd9bc5ee0>, line 1)",
     "output_type": "error",
     "traceback": [
      "\u001b[1;36m  File \u001b[1;32m\"<ipython-input-5-8f7bd9bc5ee0>\"\u001b[1;36m, line \u001b[1;32m1\u001b[0m\n\u001b[1;33m    s3 = \"Er sagte \"Hallo!\"\"\u001b[0m\n\u001b[1;37m                        ^\u001b[0m\n\u001b[1;31mSyntaxError\u001b[0m\u001b[1;31m:\u001b[0m invalid syntax\n"
     ]
    }
   ],
   "source": [
    "s3 = \"Er sagte \"Hallo!\"\""
   ]
  },
  {
   "cell_type": "code",
   "execution_count": 6,
   "metadata": {
    "collapsed": true
   },
   "outputs": [],
   "source": [
    "s4 = 'Er sagte \"Hallo!\"'"
   ]
  },
  {
   "cell_type": "code",
   "execution_count": 7,
   "metadata": {},
   "outputs": [
    {
     "data": {
      "text/plain": [
       "'Er sagte \"Hallo!\"'"
      ]
     },
     "execution_count": 7,
     "metadata": {},
     "output_type": "execute_result"
    }
   ],
   "source": [
    "s4"
   ]
  },
  {
   "cell_type": "code",
   "execution_count": 8,
   "metadata": {
    "collapsed": true
   },
   "outputs": [],
   "source": [
    "s5 = \"Er sagte 'Hallo!'\""
   ]
  },
  {
   "cell_type": "code",
   "execution_count": 9,
   "metadata": {},
   "outputs": [
    {
     "data": {
      "text/plain": [
       "\"Er sagte 'Hallo!'\""
      ]
     },
     "execution_count": 9,
     "metadata": {},
     "output_type": "execute_result"
    }
   ],
   "source": [
    "s5"
   ]
  },
  {
   "cell_type": "markdown",
   "metadata": {},
   "source": [
    "## Escape-Sequenzen\n",
    "\n",
    "Mit dreimaligem einfachen oder doppelten Anführungszeichen lassen sich die einfachen und doppelten Anführungszeichen ohne sog. Escape-Sequenzen verwenden:"
   ]
  },
  {
   "cell_type": "code",
   "execution_count": 10,
   "metadata": {
    "collapsed": true
   },
   "outputs": [],
   "source": [
    "s6 = \"\"\"Er sagte: \"Wie geht's?\" \"\"\""
   ]
  },
  {
   "cell_type": "code",
   "execution_count": 11,
   "metadata": {},
   "outputs": [
    {
     "data": {
      "text/plain": [
       "'Er sagte: \"Wie geht\\'s?\" '"
      ]
     },
     "execution_count": 11,
     "metadata": {},
     "output_type": "execute_result"
    }
   ],
   "source": [
    "s6"
   ]
  },
  {
   "cell_type": "code",
   "execution_count": 200,
   "metadata": {},
   "outputs": [
    {
     "name": "stdout",
     "output_type": "stream",
     "text": [
      "Er sagte: \"Wie geht's?\" \n"
     ]
    }
   ],
   "source": [
    "print(s6)"
   ]
  },
  {
   "cell_type": "markdown",
   "metadata": {},
   "source": [
    "Die Definition der gleichen Zeichenkette mit Escape-Sequenzen für das doppelte und einfache Anführungszeichen ist deutlich ekliger:"
   ]
  },
  {
   "cell_type": "code",
   "execution_count": 201,
   "metadata": {
    "collapsed": true
   },
   "outputs": [],
   "source": [
    "s7 = \"Er sagte: \\\"Wie geht\\'s?\\\" \""
   ]
  },
  {
   "cell_type": "code",
   "execution_count": 202,
   "metadata": {},
   "outputs": [
    {
     "name": "stdout",
     "output_type": "stream",
     "text": [
      "Er sagte: \"Wie geht's?\" \n"
     ]
    }
   ],
   "source": [
    "print(s7)"
   ]
  },
  {
   "cell_type": "markdown",
   "metadata": {},
   "source": [
    "Weitere Escape-Sequenzen:"
   ]
  },
  {
   "cell_type": "code",
   "execution_count": 203,
   "metadata": {
    "collapsed": true
   },
   "outputs": [],
   "source": [
    "s8 = \"Text und dann\\nText in einer neuen Zeile\""
   ]
  },
  {
   "cell_type": "code",
   "execution_count": 204,
   "metadata": {},
   "outputs": [
    {
     "data": {
      "text/plain": [
       "'Text und dann\\nText in einer neuen Zeile'"
      ]
     },
     "execution_count": 204,
     "metadata": {},
     "output_type": "execute_result"
    }
   ],
   "source": [
    "s8"
   ]
  },
  {
   "cell_type": "code",
   "execution_count": 205,
   "metadata": {},
   "outputs": [
    {
     "name": "stdout",
     "output_type": "stream",
     "text": [
      "Text und dann\n",
      "Text in einer neuen Zeile\n"
     ]
    }
   ],
   "source": [
    "print(s8)"
   ]
  },
  {
   "cell_type": "markdown",
   "metadata": {},
   "source": [
    "Manchmal sollen Escape-Sequenzen ignoriert werden:"
   ]
  },
  {
   "cell_type": "code",
   "execution_count": 206,
   "metadata": {
    "collapsed": true
   },
   "outputs": [],
   "source": [
    "s = \"Für eine neue Zeile muss man die Escape-Sequenz \\n verwenden.\""
   ]
  },
  {
   "cell_type": "code",
   "execution_count": 207,
   "metadata": {},
   "outputs": [
    {
     "name": "stdout",
     "output_type": "stream",
     "text": [
      "Für eine neue Zeile muss man die Escape-Sequenz \n",
      " verwenden.\n"
     ]
    }
   ],
   "source": [
    "print(s)"
   ]
  },
  {
   "cell_type": "markdown",
   "metadata": {},
   "source": [
    "Mit einem r als Präfix vor der Zeichenkette werden \"\\\" (Backslashes) nicht als Escape-Sequenzen ausgewertet:"
   ]
  },
  {
   "cell_type": "code",
   "execution_count": 208,
   "metadata": {
    "collapsed": true
   },
   "outputs": [],
   "source": [
    "s = r\"Für eine neue Zeile muss man die Escape-Sequenz \\n verwenden.\""
   ]
  },
  {
   "cell_type": "code",
   "execution_count": 209,
   "metadata": {},
   "outputs": [
    {
     "name": "stdout",
     "output_type": "stream",
     "text": [
      "Für eine neue Zeile muss man die Escape-Sequenz \\n verwenden.\n"
     ]
    }
   ],
   "source": [
    "print(s)"
   ]
  },
  {
   "cell_type": "markdown",
   "metadata": {},
   "source": [
    "## Unicode-Zeichen in Strings"
   ]
  },
  {
   "cell_type": "code",
   "execution_count": 210,
   "metadata": {
    "collapsed": true
   },
   "outputs": [],
   "source": [
    "s9 = \"Hier ein Unicode-Zeichen über den Namen: \\N{GREEK SMALL LETTER PI}\""
   ]
  },
  {
   "cell_type": "code",
   "execution_count": 211,
   "metadata": {},
   "outputs": [
    {
     "name": "stdout",
     "output_type": "stream",
     "text": [
      "Hier ein Unicode-Zeichen über den Namen: π\n"
     ]
    }
   ],
   "source": [
    "print(s9)"
   ]
  },
  {
   "cell_type": "markdown",
   "metadata": {},
   "source": [
    "Für die Unicode-Namen gibt es im WWW Listen, z.B. [hier](https://unicode.org/charts/charindex.html) oder nach \"unicode names\" Googlen."
   ]
  },
  {
   "cell_type": "code",
   "execution_count": 212,
   "metadata": {
    "collapsed": true
   },
   "outputs": [],
   "source": [
    "s10 = \"\\N{FISH}\""
   ]
  },
  {
   "cell_type": "code",
   "execution_count": 213,
   "metadata": {},
   "outputs": [
    {
     "name": "stdout",
     "output_type": "stream",
     "text": [
      "🐟\n"
     ]
    }
   ],
   "source": [
    "print(s10)"
   ]
  },
  {
   "cell_type": "code",
   "execution_count": 214,
   "metadata": {},
   "outputs": [
    {
     "name": "stdout",
     "output_type": "stream",
     "text": [
      "◉\n"
     ]
    }
   ],
   "source": [
    "s11= \"\\N{FISHEYE}\"\n",
    "print(s11)"
   ]
  },
  {
   "cell_type": "code",
   "execution_count": 215,
   "metadata": {
    "collapsed": true
   },
   "outputs": [],
   "source": [
    "s12 = \"\\N{THERMOMETER}\""
   ]
  },
  {
   "cell_type": "code",
   "execution_count": 216,
   "metadata": {},
   "outputs": [
    {
     "data": {
      "text/plain": [
       "'🌡'"
      ]
     },
     "execution_count": 216,
     "metadata": {},
     "output_type": "execute_result"
    }
   ],
   "source": [
    "s12"
   ]
  },
  {
   "cell_type": "markdown",
   "metadata": {},
   "source": [
    "## Zeichenketten über mehrere Zeilen"
   ]
  },
  {
   "cell_type": "markdown",
   "metadata": {},
   "source": [
    "Definition von Zeichenketten über mehrere Zeilen mit doppeltem Anführungszeichen:\n",
    "\n",
    "Beachte: es ist ein Backslash notwendig, um Python zu signalisieren, dass die Zeichenkette noch in der nächsten Zeile weiter geht."
   ]
  },
  {
   "cell_type": "code",
   "execution_count": 217,
   "metadata": {
    "collapsed": true
   },
   "outputs": [],
   "source": [
    "s13 = \"Hier \\\n",
    "wird eine Zeichenkette \\\n",
    "über mehrere Zeilen \\\n",
    "definiert.\""
   ]
  },
  {
   "cell_type": "code",
   "execution_count": 218,
   "metadata": {},
   "outputs": [
    {
     "name": "stdout",
     "output_type": "stream",
     "text": [
      "Hier wird eine Zeichenkette über mehrere Zeilen definiert.\n"
     ]
    }
   ],
   "source": [
    "print(s13)"
   ]
  },
  {
   "cell_type": "markdown",
   "metadata": {},
   "source": [
    "Definition von Zeichenketten über mehrere Zeilen mit dreimaligen doppeltem Anführungszeichen:"
   ]
  },
  {
   "cell_type": "code",
   "execution_count": 219,
   "metadata": {
    "collapsed": true
   },
   "outputs": [],
   "source": [
    "s14 = \"\"\"Hier\n",
    "muss man gar kein\n",
    "Backslash verwenden\n",
    "aber dafür macht Python stets eine neue\n",
    "Zeile, wenn wir in eine neue Zeile wechseln.\"\"\""
   ]
  },
  {
   "cell_type": "code",
   "execution_count": 220,
   "metadata": {},
   "outputs": [
    {
     "name": "stdout",
     "output_type": "stream",
     "text": [
      "Hier\n",
      "muss man gar kein\n",
      "Backslash verwenden\n",
      "aber dafür macht Python stets eine neue\n",
      "Zeile, wenn wir in eine neue Zeile wechseln.\n"
     ]
    }
   ],
   "source": [
    "print(s14)"
   ]
  },
  {
   "cell_type": "markdown",
   "metadata": {},
   "source": [
    "Will man nicht in neue Zeile wechseln, muss man den Backslash verwenden:"
   ]
  },
  {
   "cell_type": "code",
   "execution_count": 221,
   "metadata": {
    "collapsed": true
   },
   "outputs": [],
   "source": [
    "s15 = \"\"\"Hier \\\n",
    "muss man gar kein \\\n",
    "Backslash verwenden\n",
    "aber dafür macht Python stets eine neue \\\n",
    "Zeile, wenn wir in eine neue Zeile wechseln.\"\"\""
   ]
  },
  {
   "cell_type": "code",
   "execution_count": 222,
   "metadata": {},
   "outputs": [
    {
     "name": "stdout",
     "output_type": "stream",
     "text": [
      "Hier muss man gar kein Backslash verwenden\n",
      "aber dafür macht Python stets eine neue Zeile, wenn wir in eine neue Zeile wechseln.\n"
     ]
    }
   ],
   "source": [
    "print(s15)"
   ]
  },
  {
   "cell_type": "markdown",
   "metadata": {},
   "source": [
    "## Lesender und schreibender Zugriff auf einzelne Zeichen:"
   ]
  },
  {
   "cell_type": "code",
   "execution_count": 223,
   "metadata": {
    "collapsed": true
   },
   "outputs": [],
   "source": [
    "s = \"text\""
   ]
  },
  {
   "cell_type": "code",
   "execution_count": 224,
   "metadata": {},
   "outputs": [
    {
     "data": {
      "text/plain": [
       "'t'"
      ]
     },
     "execution_count": 224,
     "metadata": {},
     "output_type": "execute_result"
    }
   ],
   "source": [
    "s[0]"
   ]
  },
  {
   "cell_type": "code",
   "execution_count": 225,
   "metadata": {},
   "outputs": [
    {
     "data": {
      "text/plain": [
       "'t'"
      ]
     },
     "execution_count": 225,
     "metadata": {},
     "output_type": "execute_result"
    }
   ],
   "source": [
    "s[-1]"
   ]
  },
  {
   "cell_type": "markdown",
   "metadata": {},
   "source": [
    "Folgender Versuch ein Zeichen der Zeichenkette abzuändern zeigt: Strings sind in Python wie Tupel \"immutable\":"
   ]
  },
  {
   "cell_type": "code",
   "execution_count": 226,
   "metadata": {},
   "outputs": [
    {
     "ename": "TypeError",
     "evalue": "'str' object does not support item assignment",
     "output_type": "error",
     "traceback": [
      "\u001b[1;31m---------------------------------------------------------------------------\u001b[0m",
      "\u001b[1;31mTypeError\u001b[0m                                 Traceback (most recent call last)",
      "\u001b[1;32m<ipython-input-226-000b9b8ce3ea>\u001b[0m in \u001b[0;36m<module>\u001b[1;34m()\u001b[0m\n\u001b[1;32m----> 1\u001b[1;33m \u001b[0ms\u001b[0m\u001b[1;33m[\u001b[0m\u001b[1;36m0\u001b[0m\u001b[1;33m]\u001b[0m \u001b[1;33m=\u001b[0m \u001b[1;34m\"T\"\u001b[0m\u001b[1;33m\u001b[0m\u001b[0m\n\u001b[0m",
      "\u001b[1;31mTypeError\u001b[0m: 'str' object does not support item assignment"
     ]
    }
   ],
   "source": [
    "s[0] = \"T\""
   ]
  },
  {
   "cell_type": "markdown",
   "metadata": {},
   "source": [
    "Lösung: man kann ein String z.B. in eine Liste umwandeln, die mutable ist und dann zurück umwandeln in einen String:"
   ]
  },
  {
   "cell_type": "code",
   "execution_count": 227,
   "metadata": {
    "collapsed": true
   },
   "outputs": [],
   "source": [
    "l = list(s)"
   ]
  },
  {
   "cell_type": "code",
   "execution_count": 228,
   "metadata": {},
   "outputs": [
    {
     "data": {
      "text/plain": [
       "['t', 'e', 'x', 't']"
      ]
     },
     "execution_count": 228,
     "metadata": {},
     "output_type": "execute_result"
    }
   ],
   "source": [
    "l"
   ]
  },
  {
   "cell_type": "code",
   "execution_count": 229,
   "metadata": {
    "collapsed": true
   },
   "outputs": [],
   "source": [
    "l[0] = \"T\""
   ]
  },
  {
   "cell_type": "code",
   "execution_count": 230,
   "metadata": {},
   "outputs": [
    {
     "data": {
      "text/plain": [
       "['T', 'e', 'x', 't']"
      ]
     },
     "execution_count": 230,
     "metadata": {},
     "output_type": "execute_result"
    }
   ],
   "source": [
    "l"
   ]
  },
  {
   "cell_type": "code",
   "execution_count": 231,
   "metadata": {
    "collapsed": true
   },
   "outputs": [],
   "source": [
    "s = \"\".join(l)"
   ]
  },
  {
   "cell_type": "code",
   "execution_count": 232,
   "metadata": {},
   "outputs": [
    {
     "data": {
      "text/plain": [
       "'Text'"
      ]
     },
     "execution_count": 232,
     "metadata": {},
     "output_type": "execute_result"
    }
   ],
   "source": [
    "s"
   ]
  },
  {
   "cell_type": "markdown",
   "metadata": {},
   "source": [
    "## Umwandeln in Klein- bzw. Großbuchstaben"
   ]
  },
  {
   "cell_type": "code",
   "execution_count": 233,
   "metadata": {
    "collapsed": true
   },
   "outputs": [],
   "source": [
    "txt = \"Ein Text mit Groß- und Kleinschreibung.\""
   ]
  },
  {
   "cell_type": "code",
   "execution_count": 234,
   "metadata": {},
   "outputs": [
    {
     "data": {
      "text/plain": [
       "'Ein Text mit Groß- und Kleinschreibung.'"
      ]
     },
     "execution_count": 234,
     "metadata": {},
     "output_type": "execute_result"
    }
   ],
   "source": [
    "txt"
   ]
  },
  {
   "cell_type": "code",
   "execution_count": 235,
   "metadata": {},
   "outputs": [
    {
     "data": {
      "text/plain": [
       "'ein text mit groß- und kleinschreibung.'"
      ]
     },
     "execution_count": 235,
     "metadata": {},
     "output_type": "execute_result"
    }
   ],
   "source": [
    "txt.lower()"
   ]
  },
  {
   "cell_type": "code",
   "execution_count": 236,
   "metadata": {},
   "outputs": [
    {
     "data": {
      "text/plain": [
       "'EIN TEXT MIT GROSS- UND KLEINSCHREIBUNG.'"
      ]
     },
     "execution_count": 236,
     "metadata": {},
     "output_type": "execute_result"
    }
   ],
   "source": [
    "txt.upper()"
   ]
  },
  {
   "cell_type": "markdown",
   "metadata": {},
   "source": [
    "## Überprüfen ob ein Wort in einer Zeichenkette vorkommt"
   ]
  },
  {
   "cell_type": "code",
   "execution_count": 237,
   "metadata": {
    "collapsed": true
   },
   "outputs": [],
   "source": [
    "ergebnis = \"mit\" in txt"
   ]
  },
  {
   "cell_type": "code",
   "execution_count": 238,
   "metadata": {},
   "outputs": [
    {
     "data": {
      "text/plain": [
       "True"
      ]
     },
     "execution_count": 238,
     "metadata": {},
     "output_type": "execute_result"
    }
   ],
   "source": [
    "ergebnis"
   ]
  },
  {
   "cell_type": "code",
   "execution_count": 239,
   "metadata": {
    "collapsed": true
   },
   "outputs": [],
   "source": [
    "ergebnis2 = \"ein\" in txt"
   ]
  },
  {
   "cell_type": "code",
   "execution_count": 240,
   "metadata": {},
   "outputs": [
    {
     "data": {
      "text/plain": [
       "True"
      ]
     },
     "execution_count": 240,
     "metadata": {},
     "output_type": "execute_result"
    }
   ],
   "source": [
    "ergebnis2"
   ]
  },
  {
   "cell_type": "code",
   "execution_count": 241,
   "metadata": {
    "collapsed": true
   },
   "outputs": [],
   "source": [
    "ergebnis3 = \"groß\" in txt"
   ]
  },
  {
   "cell_type": "code",
   "execution_count": 242,
   "metadata": {},
   "outputs": [
    {
     "data": {
      "text/plain": [
       "False"
      ]
     },
     "execution_count": 242,
     "metadata": {},
     "output_type": "execute_result"
    }
   ],
   "source": [
    "ergebnis3"
   ]
  },
  {
   "cell_type": "markdown",
   "metadata": {},
   "source": [
    "## Quiz-Time!\n",
    "\n",
    "Wie kann man überprüfen, ob das Wort \"groß\" in der Zeichenkette txt vorkommt - unabhängig von der Groß-/Kleinschreibung?"
   ]
  },
  {
   "cell_type": "code",
   "execution_count": 243,
   "metadata": {
    "collapsed": true
   },
   "outputs": [],
   "source": [
    "ergebnis4 = \"groß\" in txt.lower()"
   ]
  },
  {
   "cell_type": "code",
   "execution_count": 244,
   "metadata": {},
   "outputs": [
    {
     "data": {
      "text/plain": [
       "True"
      ]
     },
     "execution_count": 244,
     "metadata": {},
     "output_type": "execute_result"
    }
   ],
   "source": [
    "ergebnis4"
   ]
  },
  {
   "cell_type": "markdown",
   "metadata": {},
   "source": [
    "## Finden der 1. Vorkommensstelle eines Wortes in einer Zeichenkette"
   ]
  },
  {
   "cell_type": "code",
   "execution_count": 245,
   "metadata": {
    "collapsed": true
   },
   "outputs": [],
   "source": [
    "txt = \"Dies ist ein Beispieltext mit einigen Wörtern.\""
   ]
  },
  {
   "cell_type": "code",
   "execution_count": 246,
   "metadata": {},
   "outputs": [
    {
     "data": {
      "text/plain": [
       "'Dies ist ein Beispieltext mit einigen Wörtern.'"
      ]
     },
     "execution_count": 246,
     "metadata": {},
     "output_type": "execute_result"
    }
   ],
   "source": [
    "txt"
   ]
  },
  {
   "cell_type": "code",
   "execution_count": 247,
   "metadata": {},
   "outputs": [
    {
     "data": {
      "text/plain": [
       "9"
      ]
     },
     "execution_count": 247,
     "metadata": {},
     "output_type": "execute_result"
    }
   ],
   "source": [
    "txt.find(\"ein\")"
   ]
  },
  {
   "cell_type": "markdown",
   "metadata": {},
   "source": [
    "Suchen in einem definierten Bereich:\n",
    "\n",
    "hier: Suche erst ab 10. Zeichen bis zum letzten Zeichen der Zeichenkette."
   ]
  },
  {
   "cell_type": "code",
   "execution_count": 248,
   "metadata": {},
   "outputs": [
    {
     "data": {
      "text/plain": [
       "30"
      ]
     },
     "execution_count": 248,
     "metadata": {},
     "output_type": "execute_result"
    }
   ],
   "source": [
    "txt.find(\"ein\", 10, -1)"
   ]
  },
  {
   "cell_type": "markdown",
   "metadata": {},
   "source": [
    "## Aufspalten von Zeichenketten"
   ]
  },
  {
   "cell_type": "code",
   "execution_count": 249,
   "metadata": {},
   "outputs": [
    {
     "data": {
      "text/plain": [
       "['Dies', 'ist', 'ein', 'Beispieltext', 'mit', 'einigen', 'Wörtern.']"
      ]
     },
     "execution_count": 249,
     "metadata": {},
     "output_type": "execute_result"
    }
   ],
   "source": [
    "txt.split()"
   ]
  },
  {
   "cell_type": "code",
   "execution_count": 250,
   "metadata": {
    "collapsed": true
   },
   "outputs": [],
   "source": [
    "txt2 = \"Dies ist\\tein Text\\nmit    unterschiedlichen sog. Whitespaces.\""
   ]
  },
  {
   "cell_type": "code",
   "execution_count": 251,
   "metadata": {},
   "outputs": [
    {
     "name": "stdout",
     "output_type": "stream",
     "text": [
      "Dies ist\tein Text\n",
      "mit    unterschiedlichen sog. Whitespaces.\n"
     ]
    }
   ],
   "source": [
    "print(txt2)"
   ]
  },
  {
   "cell_type": "code",
   "execution_count": 252,
   "metadata": {},
   "outputs": [
    {
     "data": {
      "text/plain": [
       "['Dies',\n",
       " 'ist',\n",
       " 'ein',\n",
       " 'Text',\n",
       " 'mit',\n",
       " 'unterschiedlichen',\n",
       " 'sog.',\n",
       " 'Whitespaces.']"
      ]
     },
     "execution_count": 252,
     "metadata": {},
     "output_type": "execute_result"
    }
   ],
   "source": [
    "txt2.split()"
   ]
  },
  {
   "cell_type": "markdown",
   "metadata": {},
   "source": [
    "Man kann die Trennzeichen, bei denen `split()` jeweils die Zeichenkette trennen soll auch selber definieren:"
   ]
  },
  {
   "cell_type": "code",
   "execution_count": 253,
   "metadata": {},
   "outputs": [
    {
     "data": {
      "text/plain": [
       "['1,3,5,7,9,11,13']"
      ]
     },
     "execution_count": 253,
     "metadata": {},
     "output_type": "execute_result"
    }
   ],
   "source": [
    "txt3 = \"1,3,5,7,9,11,13\"\n",
    "txt3.split()"
   ]
  },
  {
   "cell_type": "code",
   "execution_count": 254,
   "metadata": {},
   "outputs": [
    {
     "data": {
      "text/plain": [
       "['1', '3', '5', '7', '9', '11', '13']"
      ]
     },
     "execution_count": 254,
     "metadata": {},
     "output_type": "execute_result"
    }
   ],
   "source": [
    "txt3.split(\",\")"
   ]
  },
  {
   "cell_type": "markdown",
   "metadata": {},
   "source": [
    "## Ersetzen von Wörtern in Zeichenketten"
   ]
  },
  {
   "cell_type": "code",
   "execution_count": 255,
   "metadata": {
    "collapsed": true
   },
   "outputs": [],
   "source": [
    "txt = \"Ich finde Java ist eine tolle Sprache!\\\n",
    "Kennen Sie Java eigentlich?\""
   ]
  },
  {
   "cell_type": "code",
   "execution_count": 256,
   "metadata": {},
   "outputs": [
    {
     "data": {
      "text/plain": [
       "'Ich finde Python ist eine tolle Sprache!Kennen Sie Python eigentlich?'"
      ]
     },
     "execution_count": 256,
     "metadata": {},
     "output_type": "execute_result"
    }
   ],
   "source": [
    "txt.replace(\"Java\",\"Python\")"
   ]
  },
  {
   "cell_type": "code",
   "execution_count": 257,
   "metadata": {},
   "outputs": [
    {
     "data": {
      "text/plain": [
       "'Ich finde Python ist eine tolle Sprache!Kennen Sie Java eigentlich?'"
      ]
     },
     "execution_count": 257,
     "metadata": {},
     "output_type": "execute_result"
    }
   ],
   "source": [
    "txt.replace(\"Java\",\"Python\",1)"
   ]
  },
  {
   "cell_type": "markdown",
   "metadata": {},
   "source": []
  },
  {
   "cell_type": "markdown",
   "metadata": {},
   "source": [
    "# for-Schleife\n",
    "\n",
    "## Es gibt keine klassische numerische Zählschleife!\n",
    "\n",
    "Die klassische Zählschleife wie in C\n",
    "\n",
    "    for (i=0; i<100; i++)\n",
    "        printf(\"i: %d\\n\", i);\n",
    "        \n",
    "mit Startwert, Schleifenweiterausführungsbedingung und Inkrementanweisung gibt es in Python nicht!\n",
    "\n",
    "Es handelt sich mehr um eine foreach-Schleife. Es wird hierbei nämlich über eine Sequenz von Objekten iteriert."
   ]
  },
  {
   "cell_type": "code",
   "execution_count": 258,
   "metadata": {},
   "outputs": [
    {
     "name": "stdout",
     "output_type": "stream",
     "text": [
      "Montag\n",
      "Dienstag\n",
      "Mittwoch\n",
      "Donnerstag\n",
      "Freitag\n"
     ]
    }
   ],
   "source": [
    "l1 = [\"Montag\", \"Dienstag\", \"Mittwoch\", \"Donnerstag\", \"Freitag\"]\n",
    "for tag in l1:\n",
    "    print(tag)"
   ]
  },
  {
   "cell_type": "markdown",
   "metadata": {},
   "source": [
    "Definition des Ausgabeendezeichens bei `print()`:"
   ]
  },
  {
   "cell_type": "code",
   "execution_count": 259,
   "metadata": {},
   "outputs": [
    {
     "name": "stdout",
     "output_type": "stream",
     "text": [
      "Montag --> Dienstag --> Mittwoch --> Donnerstag --> Freitag --> "
     ]
    }
   ],
   "source": [
    "for tag in l1:\n",
    "    print(tag, end=\" --> \")"
   ]
  },
  {
   "cell_type": "markdown",
   "metadata": {},
   "source": [
    "Wie kann man dann aber eine Zählschleife simulieren? Über eine Iteration von Zahlenobjekten:"
   ]
  },
  {
   "cell_type": "code",
   "execution_count": 260,
   "metadata": {
    "collapsed": true
   },
   "outputs": [],
   "source": [
    "bereich = range(0,10)"
   ]
  },
  {
   "cell_type": "code",
   "execution_count": 261,
   "metadata": {},
   "outputs": [
    {
     "data": {
      "text/plain": [
       "range"
      ]
     },
     "execution_count": 261,
     "metadata": {},
     "output_type": "execute_result"
    }
   ],
   "source": [
    "type(bereich)"
   ]
  },
  {
   "cell_type": "markdown",
   "metadata": {},
   "source": [
    "Wenn man jetzt über das Objekt `bereich` iteriert, wird in jedem Schleifendurchlauf die Zählvariable um 1 erhöht:"
   ]
  },
  {
   "cell_type": "code",
   "execution_count": 262,
   "metadata": {},
   "outputs": [
    {
     "name": "stdout",
     "output_type": "stream",
     "text": [
      "0 1 2 3 4 5 6 7 8 9 "
     ]
    }
   ],
   "source": [
    "for i in bereich:\n",
    "    print(i, end=\" \")"
   ]
  },
  {
   "cell_type": "code",
   "execution_count": 263,
   "metadata": {},
   "outputs": [
    {
     "name": "stdout",
     "output_type": "stream",
     "text": [
      "0 1 2 3 4 5 6 7 8 9 "
     ]
    }
   ],
   "source": [
    "for i in range(0,10):\n",
    "    print(i, end=\" \")"
   ]
  },
  {
   "cell_type": "markdown",
   "metadata": {},
   "source": [
    "## Einrückung ist wichtig"
   ]
  },
  {
   "cell_type": "code",
   "execution_count": 264,
   "metadata": {},
   "outputs": [
    {
     "name": "stdout",
     "output_type": "stream",
     "text": [
      "Die nächste Zahl ist:\n",
      "Die nächste Zahl ist:\n",
      "Die nächste Zahl ist:\n",
      "Die nächste Zahl ist:\n",
      "Die nächste Zahl ist:\n",
      "4\n"
     ]
    }
   ],
   "source": [
    "for i in range(0,5):\n",
    "    print(\"Die nächste Zahl ist:\")\n",
    "print(i)"
   ]
  },
  {
   "cell_type": "code",
   "execution_count": 265,
   "metadata": {},
   "outputs": [
    {
     "name": "stdout",
     "output_type": "stream",
     "text": [
      "Die nächste Zahl ist:\n",
      "0\n",
      "Die nächste Zahl ist:\n",
      "1\n",
      "Die nächste Zahl ist:\n",
      "2\n",
      "Die nächste Zahl ist:\n",
      "3\n",
      "Die nächste Zahl ist:\n",
      "4\n"
     ]
    }
   ],
   "source": [
    "for i in range(0,5):\n",
    "    print(\"Die nächste Zahl ist:\")\n",
    "    print(i)"
   ]
  },
  {
   "cell_type": "markdown",
   "metadata": {},
   "source": [
    "## range() Varianten"
   ]
  },
  {
   "cell_type": "code",
   "execution_count": 266,
   "metadata": {},
   "outputs": [
    {
     "name": "stdout",
     "output_type": "stream",
     "text": [
      "0 2 4 6 8 "
     ]
    }
   ],
   "source": [
    "for i in range(0,10,2):\n",
    "    print(i, end=\" \")"
   ]
  },
  {
   "cell_type": "code",
   "execution_count": 267,
   "metadata": {},
   "outputs": [
    {
     "name": "stdout",
     "output_type": "stream",
     "text": [
      "10 <class 'int'>\n",
      "8 <class 'int'>\n",
      "6 <class 'int'>\n",
      "4 <class 'int'>\n",
      "2 <class 'int'>\n"
     ]
    }
   ],
   "source": [
    "for i in range(10,0,-2):\n",
    "    print(i, end=\" \")\n",
    "    print(type(i))"
   ]
  },
  {
   "cell_type": "code",
   "execution_count": 268,
   "metadata": {},
   "outputs": [
    {
     "ename": "TypeError",
     "evalue": "'float' object cannot be interpreted as an integer",
     "output_type": "error",
     "traceback": [
      "\u001b[1;31m---------------------------------------------------------------------------\u001b[0m",
      "\u001b[1;31mTypeError\u001b[0m                                 Traceback (most recent call last)",
      "\u001b[1;32m<ipython-input-268-0e9887c0540c>\u001b[0m in \u001b[0;36m<module>\u001b[1;34m()\u001b[0m\n\u001b[1;32m----> 1\u001b[1;33m \u001b[1;32mfor\u001b[0m \u001b[0mi\u001b[0m \u001b[1;32min\u001b[0m \u001b[0mrange\u001b[0m\u001b[1;33m(\u001b[0m\u001b[1;36m0.0\u001b[0m\u001b[1;33m,\u001b[0m\u001b[1;36m10.0\u001b[0m\u001b[1;33m,\u001b[0m \u001b[1;36m0.5\u001b[0m\u001b[1;33m)\u001b[0m\u001b[1;33m:\u001b[0m\u001b[1;33m\u001b[0m\u001b[0m\n\u001b[0m\u001b[0;32m      2\u001b[0m     \u001b[0mprint\u001b[0m\u001b[1;33m(\u001b[0m\u001b[0mi\u001b[0m\u001b[1;33m,\u001b[0m \u001b[0mend\u001b[0m\u001b[1;33m=\u001b[0m\u001b[1;34m\" \"\u001b[0m\u001b[1;33m)\u001b[0m\u001b[1;33m\u001b[0m\u001b[0m\n",
      "\u001b[1;31mTypeError\u001b[0m: 'float' object cannot be interpreted as an integer"
     ]
    }
   ],
   "source": [
    "for i in range(0.0,10.0, 0.5):\n",
    "    print(i, end=\" \")"
   ]
  },
  {
   "cell_type": "code",
   "execution_count": 269,
   "metadata": {},
   "outputs": [
    {
     "name": "stdout",
     "output_type": "stream",
     "text": [
      "0.0 <class 'numpy.float64'>\n",
      "0.5 <class 'numpy.float64'>\n",
      "1.0 <class 'numpy.float64'>\n",
      "1.5 <class 'numpy.float64'>\n",
      "2.0 <class 'numpy.float64'>\n",
      "2.5 <class 'numpy.float64'>\n",
      "3.0 <class 'numpy.float64'>\n",
      "3.5 <class 'numpy.float64'>\n",
      "4.0 <class 'numpy.float64'>\n",
      "4.5 <class 'numpy.float64'>\n"
     ]
    }
   ],
   "source": [
    "import numpy as np\n",
    "\n",
    "for i in np.arange(0,5,0.5):\n",
    "    print(i, end=\" \")    \n",
    "    print(type(i))"
   ]
  },
  {
   "cell_type": "markdown",
   "metadata": {},
   "source": [
    "## Iterieren über andere sequentielle Datentypen"
   ]
  },
  {
   "cell_type": "code",
   "execution_count": 270,
   "metadata": {},
   "outputs": [
    {
     "name": "stdout",
     "output_type": "stream",
     "text": [
      "D ,i ,e ,s ,  ,i ,s ,t ,  ,e ,i ,n ,  ,S ,t ,r ,i ,n ,g ,"
     ]
    }
   ],
   "source": [
    "for zeichen in \"Dies ist ein String\":\n",
    "    print(zeichen, \",\", end=\"\")"
   ]
  },
  {
   "cell_type": "code",
   "execution_count": 271,
   "metadata": {},
   "outputs": [
    {
     "name": "stdout",
     "output_type": "stream",
     "text": [
      "0\n",
      "5\n",
      "10\n",
      "15\n"
     ]
    }
   ],
   "source": [
    "for argument in (0,5,10,15):\n",
    "    print(argument)"
   ]
  },
  {
   "cell_type": "markdown",
   "metadata": {},
   "source": [
    "## Kleiner Exkurs: Benutzereingabe"
   ]
  },
  {
   "cell_type": "code",
   "execution_count": 272,
   "metadata": {},
   "outputs": [
    {
     "name": "stdout",
     "output_type": "stream",
     "text": [
      "Geben Sie ein paar Zahlen (Kommasepariert) ein: \n",
      "<class 'str'>\n",
      "Deine Eingabe:  \n"
     ]
    }
   ],
   "source": [
    "eingabe = input(\"Geben Sie ein paar Zahlen (Kommasepariert) ein: \")\n",
    "print(type(eingabe))\n",
    "print(\"Deine Eingabe: \", eingabe)"
   ]
  },
  {
   "cell_type": "markdown",
   "metadata": {},
   "source": [
    "Die Eingabe ist bisher nur ein String. Wir wandeln Sie jetzt in ein Tupel von Zahlen um:"
   ]
  },
  {
   "cell_type": "code",
   "execution_count": 273,
   "metadata": {},
   "outputs": [
    {
     "ename": "SyntaxError",
     "evalue": "unexpected EOF while parsing (<string>, line 0)",
     "output_type": "error",
     "traceback": [
      "Traceback \u001b[1;36m(most recent call last)\u001b[0m:\n",
      "  File \u001b[0;32m\"C:\\Users\\Juergen Brauer\\AppData\\Local\\conda\\conda\\envs\\pythonkurs\\lib\\site-packages\\IPython\\core\\interactiveshell.py\"\u001b[0m, line \u001b[0;32m2862\u001b[0m, in \u001b[0;35mrun_code\u001b[0m\n    exec(code_obj, self.user_global_ns, self.user_ns)\n",
      "\u001b[1;36m  File \u001b[1;32m\"<ipython-input-273-6cdff39a76d6>\"\u001b[1;36m, line \u001b[1;32m1\u001b[1;36m, in \u001b[1;35m<module>\u001b[1;36m\u001b[0m\n\u001b[1;33m    t = eval(eingabe)\u001b[0m\n",
      "\u001b[1;36m  File \u001b[1;32m\"<string>\"\u001b[1;36m, line \u001b[1;32munknown\u001b[0m\n\u001b[1;33m    \u001b[0m\n\u001b[1;37m    ^\u001b[0m\n\u001b[1;31mSyntaxError\u001b[0m\u001b[1;31m:\u001b[0m unexpected EOF while parsing\n"
     ]
    }
   ],
   "source": [
    "t = eval(eingabe)\n",
    "t"
   ]
  },
  {
   "cell_type": "code",
   "execution_count": 274,
   "metadata": {},
   "outputs": [
    {
     "ename": "NameError",
     "evalue": "name 't' is not defined",
     "output_type": "error",
     "traceback": [
      "\u001b[1;31m---------------------------------------------------------------------------\u001b[0m",
      "\u001b[1;31mNameError\u001b[0m                                 Traceback (most recent call last)",
      "\u001b[1;32m<ipython-input-274-e6f65f478a10>\u001b[0m in \u001b[0;36m<module>\u001b[1;34m()\u001b[0m\n\u001b[1;32m----> 1\u001b[1;33m \u001b[1;32mfor\u001b[0m \u001b[0mzahl\u001b[0m \u001b[1;32min\u001b[0m \u001b[0mt\u001b[0m\u001b[1;33m:\u001b[0m\u001b[1;33m\u001b[0m\u001b[0m\n\u001b[0m\u001b[0;32m      2\u001b[0m     \u001b[0mprint\u001b[0m\u001b[1;33m(\u001b[0m\u001b[0mzahl\u001b[0m\u001b[1;33m)\u001b[0m\u001b[1;33m\u001b[0m\u001b[0m\n",
      "\u001b[1;31mNameError\u001b[0m: name 't' is not defined"
     ]
    }
   ],
   "source": [
    "for zahl in t:\n",
    "    print(zahl)"
   ]
  },
  {
   "cell_type": "markdown",
   "metadata": {},
   "source": [
    "## continue: Schleifenfortführung"
   ]
  },
  {
   "cell_type": "code",
   "execution_count": 275,
   "metadata": {},
   "outputs": [
    {
     "ename": "NameError",
     "evalue": "name 't' is not defined",
     "output_type": "error",
     "traceback": [
      "\u001b[1;31m---------------------------------------------------------------------------\u001b[0m",
      "\u001b[1;31mNameError\u001b[0m                                 Traceback (most recent call last)",
      "\u001b[1;32m<ipython-input-275-d0d7cadd82ab>\u001b[0m in \u001b[0;36m<module>\u001b[1;34m()\u001b[0m\n\u001b[1;32m----> 1\u001b[1;33m \u001b[1;32mfor\u001b[0m \u001b[0mzahl\u001b[0m \u001b[1;32min\u001b[0m \u001b[0mt\u001b[0m\u001b[1;33m:\u001b[0m\u001b[1;33m\u001b[0m\u001b[0m\n\u001b[0m\u001b[0;32m      2\u001b[0m     \u001b[1;32mif\u001b[0m \u001b[0mzahl\u001b[0m \u001b[1;33m%\u001b[0m \u001b[1;36m2\u001b[0m \u001b[1;33m==\u001b[0m \u001b[1;36m0\u001b[0m\u001b[1;33m:\u001b[0m\u001b[1;33m\u001b[0m\u001b[0m\n\u001b[0;32m      3\u001b[0m         \u001b[1;32mcontinue\u001b[0m\u001b[1;33m\u001b[0m\u001b[0m\n\u001b[0;32m      4\u001b[0m     \u001b[0mprint\u001b[0m\u001b[1;33m(\u001b[0m\u001b[1;34m\"Eine ungerade Zahl: \"\u001b[0m\u001b[1;33m,\u001b[0m \u001b[0mzahl\u001b[0m\u001b[1;33m)\u001b[0m\u001b[1;33m\u001b[0m\u001b[0m\n",
      "\u001b[1;31mNameError\u001b[0m: name 't' is not defined"
     ]
    }
   ],
   "source": [
    "for zahl in t:\n",
    "    if zahl % 2 == 0:\n",
    "        continue\n",
    "    print(\"Eine ungerade Zahl: \", zahl)"
   ]
  },
  {
   "cell_type": "markdown",
   "metadata": {},
   "source": [
    "## break: Schleifenabbruch"
   ]
  },
  {
   "cell_type": "code",
   "execution_count": 276,
   "metadata": {},
   "outputs": [
    {
     "ename": "NameError",
     "evalue": "name 't' is not defined",
     "output_type": "error",
     "traceback": [
      "\u001b[1;31m---------------------------------------------------------------------------\u001b[0m",
      "\u001b[1;31mNameError\u001b[0m                                 Traceback (most recent call last)",
      "\u001b[1;32m<ipython-input-276-f6bb5214020c>\u001b[0m in \u001b[0;36m<module>\u001b[1;34m()\u001b[0m\n\u001b[1;32m----> 1\u001b[1;33m \u001b[1;32mfor\u001b[0m \u001b[0mzahl\u001b[0m \u001b[1;32min\u001b[0m \u001b[0mt\u001b[0m\u001b[1;33m:\u001b[0m\u001b[1;33m\u001b[0m\u001b[0m\n\u001b[0m\u001b[0;32m      2\u001b[0m     \u001b[1;32mif\u001b[0m \u001b[0mzahl\u001b[0m \u001b[1;33m%\u001b[0m \u001b[1;36m2\u001b[0m \u001b[1;33m==\u001b[0m \u001b[1;36m1\u001b[0m\u001b[1;33m:\u001b[0m\u001b[1;33m\u001b[0m\u001b[0m\n\u001b[0;32m      3\u001b[0m         \u001b[0mprint\u001b[0m\u001b[1;33m(\u001b[0m\u001b[1;34m\"Ich breche ab! Ich mag keine ungeraden Zahlen!\"\u001b[0m\u001b[1;33m)\u001b[0m\u001b[1;33m\u001b[0m\u001b[0m\n\u001b[0;32m      4\u001b[0m         \u001b[1;32mbreak\u001b[0m\u001b[1;33m\u001b[0m\u001b[0m\n\u001b[0;32m      5\u001b[0m     \u001b[0mprint\u001b[0m\u001b[1;33m(\u001b[0m\u001b[0mzahl\u001b[0m\u001b[1;33m)\u001b[0m\u001b[1;33m\u001b[0m\u001b[0m\n",
      "\u001b[1;31mNameError\u001b[0m: name 't' is not defined"
     ]
    }
   ],
   "source": [
    "for zahl in t:\n",
    "    if zahl % 2 == 1:\n",
    "        print(\"Ich breche ab! Ich mag keine ungeraden Zahlen!\")\n",
    "        break\n",
    "    print(zahl)"
   ]
  },
  {
   "cell_type": "markdown",
   "metadata": {},
   "source": [
    "## for-Schleifen mit else-Zweig"
   ]
  },
  {
   "cell_type": "markdown",
   "metadata": {},
   "source": [
    "Etwas gewöhnungsbedürftig, aber manchmal hilfreich: for-Schleifen mit else-Zweig:\n",
    "\n",
    "Der else-Zweig einer for-Schleife wird nur im \"Erfolgsfall\" - d.h. beim Durchlaufen über alle Elemente ohne vorzeitigem Abbruch - ausgeführt."
   ]
  },
  {
   "cell_type": "code",
   "execution_count": 277,
   "metadata": {},
   "outputs": [
    {
     "ename": "NameError",
     "evalue": "name 't' is not defined",
     "output_type": "error",
     "traceback": [
      "\u001b[1;31m---------------------------------------------------------------------------\u001b[0m",
      "\u001b[1;31mNameError\u001b[0m                                 Traceback (most recent call last)",
      "\u001b[1;32m<ipython-input-277-20972ff8b244>\u001b[0m in \u001b[0;36m<module>\u001b[1;34m()\u001b[0m\n\u001b[1;32m----> 1\u001b[1;33m \u001b[0mprint\u001b[0m\u001b[1;33m(\u001b[0m\u001b[0mt\u001b[0m\u001b[1;33m)\u001b[0m\u001b[1;33m\u001b[0m\u001b[0m\n\u001b[0m\u001b[0;32m      2\u001b[0m \u001b[1;32mfor\u001b[0m \u001b[0mzahl\u001b[0m \u001b[1;32min\u001b[0m \u001b[0mt\u001b[0m\u001b[1;33m:\u001b[0m\u001b[1;33m\u001b[0m\u001b[0m\n\u001b[0;32m      3\u001b[0m     \u001b[1;32mif\u001b[0m \u001b[0mzahl\u001b[0m \u001b[1;33m%\u001b[0m \u001b[1;36m2\u001b[0m \u001b[1;33m==\u001b[0m \u001b[1;36m1\u001b[0m\u001b[1;33m:\u001b[0m\u001b[1;33m\u001b[0m\u001b[0m\n\u001b[0;32m      4\u001b[0m         \u001b[0mprint\u001b[0m\u001b[1;33m(\u001b[0m\u001b[1;34m\"Ich breche ab! Ich mag keine ungeraden Zahlen!\"\u001b[0m\u001b[1;33m)\u001b[0m\u001b[1;33m\u001b[0m\u001b[0m\n\u001b[0;32m      5\u001b[0m         \u001b[1;32mbreak\u001b[0m\u001b[1;33m\u001b[0m\u001b[0m\n",
      "\u001b[1;31mNameError\u001b[0m: name 't' is not defined"
     ]
    }
   ],
   "source": [
    "print(t)\n",
    "for zahl in t:\n",
    "    if zahl % 2 == 1:\n",
    "        print(\"Ich breche ab! Ich mag keine ungeraden Zahlen!\")\n",
    "        break\n",
    "    print(zahl)\n",
    "else:\n",
    "    print(\"Juhu! Alle eingegebenen Zahlen sind gerade!\")"
   ]
  },
  {
   "cell_type": "markdown",
   "metadata": {},
   "source": [
    "# while-Schleife"
   ]
  },
  {
   "cell_type": "markdown",
   "metadata": {},
   "source": [
    "## Ein erstes einfaches Beispiel"
   ]
  },
  {
   "cell_type": "code",
   "execution_count": 278,
   "metadata": {},
   "outputs": [
    {
     "name": "stdout",
     "output_type": "stream",
     "text": [
      "Passwort: \n",
      "Passwort: \n",
      "Passwort: \n",
      "Passwort: \n",
      "Passwort: \n",
      "Passwort: \n",
      "Passwort: \n",
      "Passwort: \n",
      "Passwort: \n",
      "Passwort: \n",
      "Passwort: \n",
      "Passwort: \n",
      "Passwort: \n",
      "Passwort: \n",
      "Passwort: \n",
      "Passwort: \n",
      "Passwort: \n",
      "Passwort: \n",
      "Passwort: \n",
      "Passwort: \n",
      "Passwort: \n",
      "Passwort: \n",
      "Passwort: \n",
      "Passwort: \n",
      "Passwort: \n",
      "Passwort: \n",
      "Passwort: \n",
      "Passwort: \n",
      "Passwort: \n",
      "Passwort: \n",
      "Passwort: \n",
      "Passwort: \n",
      "Passwort: \n",
      "Passwort: geheim123\n",
      "Passwort akzeptiert!\n"
     ]
    }
   ],
   "source": [
    "eingabe = \"\"\n",
    "passwort = \"geheim123\"\n",
    "while eingabe.lower() != passwort:\n",
    "    eingabe = input(\"Passwort: \")\n",
    "print(\"Passwort akzeptiert!\")"
   ]
  },
  {
   "cell_type": "markdown",
   "metadata": {},
   "source": [
    "## else-Zweig bei while-Schleifen"
   ]
  },
  {
   "cell_type": "code",
   "execution_count": 279,
   "metadata": {},
   "outputs": [
    {
     "name": "stdout",
     "output_type": "stream",
     "text": [
      "Passwort: \n",
      "Passwort: \n",
      "Passwort: \n",
      "Passwort: \n",
      "Passwort: \n",
      "Passwort: \n",
      "Passwort: \n",
      "Passwort: \n",
      "Passwort: \n",
      "Passwort: \n",
      "Passwort: weiß ich nicht\n",
      "Tschüß!\n"
     ]
    }
   ],
   "source": [
    "eingabe = \"\"\n",
    "passwort = \"geheim123\"\n",
    "while eingabe.lower() != passwort:\n",
    "    eingabe = input(\"Passwort: \")\n",
    "    if eingabe == \"weiß ich nicht\":\n",
    "        break\n",
    "else:\n",
    "    print(\"Passwort akzeptiert!\")\n",
    "    print(\"Das Geheimnis lautet: 42\")\n",
    "print(\"Tschüß!\")"
   ]
  },
  {
   "cell_type": "markdown",
   "metadata": {},
   "source": [
    "# if (Bedingte Anweisung)"
   ]
  },
  {
   "cell_type": "markdown",
   "metadata": {},
   "source": [
    "## Zahlenratebeispiel"
   ]
  },
  {
   "cell_type": "code",
   "execution_count": 280,
   "metadata": {},
   "outputs": [
    {
     "name": "stdout",
     "output_type": "stream",
     "text": [
      "Zahlenraten. Abbruch durch Eingabe von '0'\n",
      "Rate nochmal: \n"
     ]
    },
    {
     "ename": "ValueError",
     "evalue": "invalid literal for int() with base 10: ''",
     "output_type": "error",
     "traceback": [
      "\u001b[1;31m---------------------------------------------------------------------------\u001b[0m",
      "\u001b[1;31mValueError\u001b[0m                                Traceback (most recent call last)",
      "\u001b[1;32m<ipython-input-280-b79be425d4eb>\u001b[0m in \u001b[0;36m<module>\u001b[1;34m()\u001b[0m\n\u001b[0;32m      6\u001b[0m \u001b[0mez\u001b[0m \u001b[1;33m=\u001b[0m \u001b[1;36m0\u001b[0m\u001b[1;33m\u001b[0m\u001b[0m\n\u001b[0;32m      7\u001b[0m \u001b[1;32mwhile\u001b[0m \u001b[0mez\u001b[0m \u001b[1;33m!=\u001b[0m \u001b[0mzz\u001b[0m\u001b[1;33m:\u001b[0m\u001b[1;33m\u001b[0m\u001b[0m\n\u001b[1;32m----> 8\u001b[1;33m     \u001b[0mez\u001b[0m \u001b[1;33m=\u001b[0m \u001b[0mint\u001b[0m\u001b[1;33m(\u001b[0m\u001b[0minput\u001b[0m\u001b[1;33m(\u001b[0m\u001b[1;34m\"Rate nochmal: \"\u001b[0m\u001b[1;33m)\u001b[0m\u001b[1;33m)\u001b[0m\u001b[1;33m\u001b[0m\u001b[0m\n\u001b[0m\u001b[0;32m      9\u001b[0m     \u001b[1;32mif\u001b[0m \u001b[0mez\u001b[0m \u001b[1;33m==\u001b[0m \u001b[1;36m0\u001b[0m\u001b[1;33m:\u001b[0m\u001b[1;33m\u001b[0m\u001b[0m\n\u001b[0;32m     10\u001b[0m         \u001b[1;32mbreak\u001b[0m\u001b[1;33m\u001b[0m\u001b[0m\n",
      "\u001b[1;31mValueError\u001b[0m: invalid literal for int() with base 10: ''"
     ]
    }
   ],
   "source": [
    "print(\"Zahlenraten. Abbruch durch Eingabe von '0'\")\n",
    "\n",
    "from random import *\n",
    "zz = randint(1,20)\n",
    "\n",
    "ez = 0\n",
    "while ez != zz:\n",
    "    ez = int(input(\"Rate nochmal: \"))\n",
    "    if ez == 0:\n",
    "        break\n",
    "    diff = abs(zz-ez)\n",
    "    if diff <= 5:\n",
    "        print(\"Heiß!\")\n",
    "    else:\n",
    "        print(\"Kalt!\")\n",
    "else:\n",
    "    print(\"Glückwunsch! Du hast die Zahl erraten.\")\n",
    "print(\"Tschüß!\")"
   ]
  },
  {
   "cell_type": "markdown",
   "metadata": {},
   "source": [
    "## Mehrfachfallunterscheidung mit else"
   ]
  },
  {
   "cell_type": "code",
   "execution_count": 281,
   "metadata": {},
   "outputs": [
    {
     "name": "stdout",
     "output_type": "stream",
     "text": [
      "Zahlenraten. Abbruch durch Eingabe von '0'\n",
      "Rate nochmal: \n"
     ]
    },
    {
     "ename": "ValueError",
     "evalue": "invalid literal for int() with base 10: ''",
     "output_type": "error",
     "traceback": [
      "\u001b[1;31m---------------------------------------------------------------------------\u001b[0m",
      "\u001b[1;31mValueError\u001b[0m                                Traceback (most recent call last)",
      "\u001b[1;32m<ipython-input-281-cb7ec91d92f3>\u001b[0m in \u001b[0;36m<module>\u001b[1;34m()\u001b[0m\n\u001b[0;32m      6\u001b[0m \u001b[0mez\u001b[0m \u001b[1;33m=\u001b[0m \u001b[1;36m0\u001b[0m\u001b[1;33m\u001b[0m\u001b[0m\n\u001b[0;32m      7\u001b[0m \u001b[1;32mwhile\u001b[0m \u001b[0mez\u001b[0m \u001b[1;33m!=\u001b[0m \u001b[0mzz\u001b[0m\u001b[1;33m:\u001b[0m\u001b[1;33m\u001b[0m\u001b[0m\n\u001b[1;32m----> 8\u001b[1;33m     \u001b[0mez\u001b[0m \u001b[1;33m=\u001b[0m \u001b[0mint\u001b[0m\u001b[1;33m(\u001b[0m\u001b[0minput\u001b[0m\u001b[1;33m(\u001b[0m\u001b[1;34m\"Rate nochmal: \"\u001b[0m\u001b[1;33m)\u001b[0m\u001b[1;33m)\u001b[0m\u001b[1;33m\u001b[0m\u001b[0m\n\u001b[0m\u001b[0;32m      9\u001b[0m     \u001b[1;32mif\u001b[0m \u001b[0mez\u001b[0m \u001b[1;33m==\u001b[0m \u001b[1;36m0\u001b[0m\u001b[1;33m:\u001b[0m\u001b[1;33m\u001b[0m\u001b[0m\n\u001b[0;32m     10\u001b[0m         \u001b[1;32mbreak\u001b[0m\u001b[1;33m\u001b[0m\u001b[0m\n",
      "\u001b[1;31mValueError\u001b[0m: invalid literal for int() with base 10: ''"
     ]
    }
   ],
   "source": [
    "print(\"Zahlenraten. Abbruch durch Eingabe von '0'\")\n",
    "\n",
    "from random import *\n",
    "zz = randint(1,20)\n",
    "\n",
    "ez = 0\n",
    "while ez != zz:\n",
    "    ez = int(input(\"Rate nochmal: \"))\n",
    "    if ez == 0:\n",
    "        break\n",
    "    diff = abs(zz-ez)\n",
    "    if diff <= 5:\n",
    "        print(\"Heiß!\")\n",
    "    else:\n",
    "        if diff <= 7:\n",
    "            print(\"Warm!\")\n",
    "        else:\n",
    "            if diff <= 9:\n",
    "                print(\"Lauwarm!\")\n",
    "            else:\n",
    "                print(\"Kalt!\")\n",
    "else:\n",
    "    print(\"Glückwunsch! Du hast die Zahl erraten.\")\n",
    "print(\"Tschüß!\")"
   ]
  },
  {
   "cell_type": "markdown",
   "metadata": {},
   "source": [
    "## Mehrfachfallunterscheidung mit elif"
   ]
  },
  {
   "cell_type": "code",
   "execution_count": 282,
   "metadata": {},
   "outputs": [
    {
     "name": "stdout",
     "output_type": "stream",
     "text": [
      "Zahlenraten. Abbruch durch Eingabe von '0'\n",
      "Rate nochmal: \n"
     ]
    },
    {
     "ename": "ValueError",
     "evalue": "invalid literal for int() with base 10: ''",
     "output_type": "error",
     "traceback": [
      "\u001b[1;31m---------------------------------------------------------------------------\u001b[0m",
      "\u001b[1;31mValueError\u001b[0m                                Traceback (most recent call last)",
      "\u001b[1;32m<ipython-input-282-e1f405ab7d14>\u001b[0m in \u001b[0;36m<module>\u001b[1;34m()\u001b[0m\n\u001b[0;32m      6\u001b[0m \u001b[0mez\u001b[0m \u001b[1;33m=\u001b[0m \u001b[1;36m0\u001b[0m\u001b[1;33m\u001b[0m\u001b[0m\n\u001b[0;32m      7\u001b[0m \u001b[1;32mwhile\u001b[0m \u001b[0mez\u001b[0m \u001b[1;33m!=\u001b[0m \u001b[0mzz\u001b[0m\u001b[1;33m:\u001b[0m\u001b[1;33m\u001b[0m\u001b[0m\n\u001b[1;32m----> 8\u001b[1;33m     \u001b[0mez\u001b[0m \u001b[1;33m=\u001b[0m \u001b[0mint\u001b[0m\u001b[1;33m(\u001b[0m\u001b[0minput\u001b[0m\u001b[1;33m(\u001b[0m\u001b[1;34m\"Rate nochmal: \"\u001b[0m\u001b[1;33m)\u001b[0m\u001b[1;33m)\u001b[0m\u001b[1;33m\u001b[0m\u001b[0m\n\u001b[0m\u001b[0;32m      9\u001b[0m     \u001b[1;32mif\u001b[0m \u001b[0mez\u001b[0m \u001b[1;33m==\u001b[0m \u001b[1;36m0\u001b[0m\u001b[1;33m:\u001b[0m\u001b[1;33m\u001b[0m\u001b[0m\n\u001b[0;32m     10\u001b[0m         \u001b[1;32mbreak\u001b[0m\u001b[1;33m\u001b[0m\u001b[0m\n",
      "\u001b[1;31mValueError\u001b[0m: invalid literal for int() with base 10: ''"
     ]
    }
   ],
   "source": [
    "print(\"Zahlenraten. Abbruch durch Eingabe von '0'\")\n",
    "\n",
    "from random import *\n",
    "zz = randint(1,20)\n",
    "\n",
    "ez = 0\n",
    "while ez != zz:\n",
    "    ez = int(input(\"Rate nochmal: \"))\n",
    "    if ez == 0:\n",
    "        break\n",
    "    diff = abs(zz-ez)\n",
    "    if diff <= 5:\n",
    "        print(\"Heiß!\")\n",
    "    elif diff <= 7:\n",
    "        print(\"Warm!\")\n",
    "    elif diff <= 9:\n",
    "        print(\"Lauwarm!\")\n",
    "    else:\n",
    "        print(\"Kalt!\")\n",
    "else:\n",
    "    print(\"Glückwunsch! Du hast die Zahl erraten.\")\n",
    "print(\"Tschüß!\")"
   ]
  },
  {
   "cell_type": "markdown",
   "metadata": {},
   "source": [
    "# Funktionen\n",
    "\n",
    "Sinn von Funktionen ist es, Anweisungen, die öfters verwendet werden zu bündeln, so dass sie mehrfach verwendet werden können, ohne den Code kopieren zu müssen.\n",
    "\n",
    "Zudem helfen Funktionen den Code besser zu strukturieren und damit übersichtlicher zu gestalten."
   ]
  },
  {
   "cell_type": "markdown",
   "metadata": {
    "collapsed": true
   },
   "source": [
    "## Syntax der Definition einer Funktion"
   ]
  },
  {
   "cell_type": "code",
   "execution_count": 283,
   "metadata": {
    "collapsed": true
   },
   "outputs": [],
   "source": [
    "import math\n",
    "\n",
    "def kreisumfang(radius):\n",
    "    \n",
    "    kreisumfang = 2 * math.pi * radius\n",
    "    return kreisumfang"
   ]
  },
  {
   "cell_type": "code",
   "execution_count": 284,
   "metadata": {
    "collapsed": true
   },
   "outputs": [],
   "source": [
    "u = kreisumfang(10.0)"
   ]
  },
  {
   "cell_type": "code",
   "execution_count": 285,
   "metadata": {},
   "outputs": [
    {
     "data": {
      "text/plain": [
       "62.83185307179586"
      ]
     },
     "execution_count": 285,
     "metadata": {},
     "output_type": "execute_result"
    }
   ],
   "source": [
    "u"
   ]
  },
  {
   "cell_type": "code",
   "execution_count": 286,
   "metadata": {},
   "outputs": [
    {
     "data": {
      "text/plain": [
       "function"
      ]
     },
     "execution_count": 286,
     "metadata": {},
     "output_type": "execute_result"
    }
   ],
   "source": [
    "type(kreisumfang)"
   ]
  },
  {
   "cell_type": "markdown",
   "metadata": {},
   "source": [
    "## Leere Funktion"
   ]
  },
  {
   "cell_type": "code",
   "execution_count": 287,
   "metadata": {},
   "outputs": [
    {
     "ename": "SyntaxError",
     "evalue": "unexpected EOF while parsing (<ipython-input-287-425fdc7c4190>, line 2)",
     "output_type": "error",
     "traceback": [
      "\u001b[1;36m  File \u001b[1;32m\"<ipython-input-287-425fdc7c4190>\"\u001b[1;36m, line \u001b[1;32m2\u001b[0m\n\u001b[1;33m    \u001b[0m\n\u001b[1;37m    ^\u001b[0m\n\u001b[1;31mSyntaxError\u001b[0m\u001b[1;31m:\u001b[0m unexpected EOF while parsing\n"
     ]
    }
   ],
   "source": [
    "def kreisflaeche(radius):\n",
    "    "
   ]
  },
  {
   "cell_type": "code",
   "execution_count": 288,
   "metadata": {
    "collapsed": true
   },
   "outputs": [],
   "source": [
    "def kreisflaeche(radius):\n",
    "    print(\"Wird demnächst noch implementiert!\")"
   ]
  },
  {
   "cell_type": "code",
   "execution_count": 289,
   "metadata": {},
   "outputs": [
    {
     "name": "stdout",
     "output_type": "stream",
     "text": [
      "Wird demnächst noch implementiert!\n"
     ]
    }
   ],
   "source": [
    "kreisflaeche(10)"
   ]
  },
  {
   "cell_type": "code",
   "execution_count": 290,
   "metadata": {},
   "outputs": [
    {
     "ename": "SyntaxError",
     "evalue": "unexpected EOF while parsing (<ipython-input-290-1fb78979eb7d>, line 2)",
     "output_type": "error",
     "traceback": [
      "\u001b[1;36m  File \u001b[1;32m\"<ipython-input-290-1fb78979eb7d>\"\u001b[1;36m, line \u001b[1;32m2\u001b[0m\n\u001b[1;33m    # Wird demnächst noch implementiert!\u001b[0m\n\u001b[1;37m                                        ^\u001b[0m\n\u001b[1;31mSyntaxError\u001b[0m\u001b[1;31m:\u001b[0m unexpected EOF while parsing\n"
     ]
    }
   ],
   "source": [
    "def kreisflaeche(radius):\n",
    "    # Wird demnächst noch implementiert!"
   ]
  },
  {
   "cell_type": "code",
   "execution_count": 291,
   "metadata": {
    "collapsed": true
   },
   "outputs": [],
   "source": [
    "def kreisflaeche(radius):\n",
    "    pass"
   ]
  },
  {
   "cell_type": "code",
   "execution_count": 292,
   "metadata": {
    "collapsed": true
   },
   "outputs": [],
   "source": [
    "kreisflaeche(10)"
   ]
  },
  {
   "cell_type": "markdown",
   "metadata": {},
   "source": [
    "## Funktionen, die nichts zurückgeben"
   ]
  },
  {
   "cell_type": "code",
   "execution_count": 293,
   "metadata": {
    "collapsed": true
   },
   "outputs": [],
   "source": [
    "def zeige_hilfe():\n",
    "    print(\"Hier einige Hilfsinformationen ...\")"
   ]
  },
  {
   "cell_type": "code",
   "execution_count": 294,
   "metadata": {},
   "outputs": [
    {
     "name": "stdout",
     "output_type": "stream",
     "text": [
      "Hier einige Hilfsinformationen ...\n"
     ]
    }
   ],
   "source": [
    "zeige_hilfe()"
   ]
  },
  {
   "cell_type": "code",
   "execution_count": 295,
   "metadata": {},
   "outputs": [
    {
     "name": "stdout",
     "output_type": "stream",
     "text": [
      "Hier einige Hilfsinformationen ...\n"
     ]
    }
   ],
   "source": [
    "ergebnis = zeige_hilfe()"
   ]
  },
  {
   "cell_type": "code",
   "execution_count": 296,
   "metadata": {},
   "outputs": [
    {
     "name": "stdout",
     "output_type": "stream",
     "text": [
      "None\n"
     ]
    }
   ],
   "source": [
    "print(ergebnis)"
   ]
  },
  {
   "cell_type": "markdown",
   "metadata": {},
   "source": [
    "## Docstring"
   ]
  },
  {
   "cell_type": "markdown",
   "metadata": {},
   "source": [
    "Jede Funktion besitzt einen sog. Docstring, der zu Dokumentationszwecken dient und über\n",
    "\n",
    "    help(<Funktionsname>)\n",
    "    \n",
    "abgerufen werden kann."
   ]
  },
  {
   "cell_type": "code",
   "execution_count": 297,
   "metadata": {},
   "outputs": [
    {
     "name": "stdout",
     "output_type": "stream",
     "text": [
      "Help on built-in function print in module builtins:\n",
      "\n",
      "print(...)\n",
      "    print(value, ..., sep=' ', end='\\n', file=sys.stdout, flush=False)\n",
      "    \n",
      "    Prints the values to a stream, or to sys.stdout by default.\n",
      "    Optional keyword arguments:\n",
      "    file:  a file-like object (stream); defaults to the current sys.stdout.\n",
      "    sep:   string inserted between values, default a space.\n",
      "    end:   string appended after the last value, default a newline.\n",
      "    flush: whether to forcibly flush the stream.\n",
      "\n"
     ]
    }
   ],
   "source": [
    "help(print)"
   ]
  },
  {
   "cell_type": "code",
   "execution_count": 298,
   "metadata": {},
   "outputs": [
    {
     "name": "stdout",
     "output_type": "stream",
     "text": [
      "Help on built-in function sorted in module builtins:\n",
      "\n",
      "sorted(iterable, /, *, key=None, reverse=False)\n",
      "    Return a new list containing all items from the iterable in ascending order.\n",
      "    \n",
      "    A custom key function can be supplied to customize the sort order, and the\n",
      "    reverse flag can be set to request the result in descending order.\n",
      "\n"
     ]
    }
   ],
   "source": [
    "help(sorted)"
   ]
  },
  {
   "cell_type": "code",
   "execution_count": 299,
   "metadata": {},
   "outputs": [
    {
     "name": "stdout",
     "output_type": "stream",
     "text": [
      "Help on built-in function sort:\n",
      "\n",
      "sort(...) method of builtins.list instance\n",
      "    L.sort(key=None, reverse=False) -> None -- stable sort *IN PLACE*\n",
      "\n"
     ]
    }
   ],
   "source": [
    "help(liste.sort)"
   ]
  },
  {
   "cell_type": "markdown",
   "metadata": {},
   "source": [
    "Der Docstring wird in der Membervariablen __doc__ des entsprechenden Objektes gespeichert:"
   ]
  },
  {
   "cell_type": "code",
   "execution_count": 300,
   "metadata": {},
   "outputs": [
    {
     "data": {
      "text/plain": [
       "\"print(value, ..., sep=' ', end='\\\\n', file=sys.stdout, flush=False)\\n\\nPrints the values to a stream, or to sys.stdout by default.\\nOptional keyword arguments:\\nfile:  a file-like object (stream); defaults to the current sys.stdout.\\nsep:   string inserted between values, default a space.\\nend:   string appended after the last value, default a newline.\\nflush: whether to forcibly flush the stream.\""
      ]
     },
     "execution_count": 300,
     "metadata": {},
     "output_type": "execute_result"
    }
   ],
   "source": [
    "print.__doc__"
   ]
  },
  {
   "cell_type": "code",
   "execution_count": 301,
   "metadata": {},
   "outputs": [
    {
     "data": {
      "text/plain": [
       "'Return a new list containing all items from the iterable in ascending order.\\n\\nA custom key function can be supplied to customize the sort order, and the\\nreverse flag can be set to request the result in descending order.'"
      ]
     },
     "execution_count": 301,
     "metadata": {},
     "output_type": "execute_result"
    }
   ],
   "source": [
    "sorted.__doc__"
   ]
  },
  {
   "cell_type": "markdown",
   "metadata": {},
   "source": [
    "Auch für eigene Funktionen kann ein eigener Docstring festgelegt werden, wenn es noch keinen gibt:"
   ]
  },
  {
   "cell_type": "code",
   "execution_count": 302,
   "metadata": {
    "collapsed": true
   },
   "outputs": [],
   "source": [
    "kreisumfang.__doc__"
   ]
  },
  {
   "cell_type": "code",
   "execution_count": 303,
   "metadata": {},
   "outputs": [
    {
     "name": "stdout",
     "output_type": "stream",
     "text": [
      "Help on function kreisumfang in module __main__:\n",
      "\n",
      "kreisumfang(radius)\n",
      "\n"
     ]
    }
   ],
   "source": [
    "help(kreisumfang)"
   ]
  },
  {
   "cell_type": "code",
   "execution_count": 304,
   "metadata": {
    "collapsed": true
   },
   "outputs": [],
   "source": [
    "import math\n",
    "\n",
    "def kreisumfang(radius):\n",
    "    \"Diese Funktion berechnet den Umfang eines Kreises bei geg. Radius\"\n",
    "    \n",
    "    kreisumfang = 2 * math.pi * radius\n",
    "    return kreisumfang"
   ]
  },
  {
   "cell_type": "code",
   "execution_count": 305,
   "metadata": {},
   "outputs": [
    {
     "name": "stdout",
     "output_type": "stream",
     "text": [
      "Help on function kreisumfang in module __main__:\n",
      "\n",
      "kreisumfang(radius)\n",
      "    Diese Funktion berechnet den Umfang eines Kreises bei geg. Radius\n",
      "\n"
     ]
    }
   ],
   "source": [
    "help(kreisumfang)"
   ]
  },
  {
   "cell_type": "code",
   "execution_count": 306,
   "metadata": {
    "collapsed": true
   },
   "outputs": [],
   "source": [
    "import math\n",
    "\n",
    "def kreisumfang(radius):\n",
    "    \"\"\"\n",
    "    Diese Funktion berechnet den Kreisumfang\n",
    "        \n",
    "    Geben Sie doch den Radius eines Kreises an.\n",
    "    Sie werden staunen! Als Rückgabewert erhalten\n",
    "    Sie dann den Kreisumfang!\n",
    "    \"\"\"\n",
    "    \n",
    "    kreisumfang = 2 * math.pi * radius\n",
    "    return kreisumfang"
   ]
  },
  {
   "cell_type": "code",
   "execution_count": 307,
   "metadata": {},
   "outputs": [
    {
     "name": "stdout",
     "output_type": "stream",
     "text": [
      "Help on function kreisumfang in module __main__:\n",
      "\n",
      "kreisumfang(radius)\n",
      "    Diese Funktion berechnet den Kreisumfang\n",
      "        \n",
      "    Geben Sie doch den Radius eines Kreises an.\n",
      "    Sie werden staunen! Als Rückgabewert erhalten\n",
      "    Sie dann den Kreisumfang!\n",
      "\n"
     ]
    }
   ],
   "source": [
    "help(kreisumfang)"
   ]
  },
  {
   "cell_type": "markdown",
   "metadata": {},
   "source": [
    "Später werden wir sehen, dass auch andere Module, Klassen und Klassenmethoden mittels Docstrings dokumentiert werden können."
   ]
  },
  {
   "cell_type": "markdown",
   "metadata": {
    "collapsed": true
   },
   "source": [
    "## Standardwerte für Funktionsargumente"
   ]
  },
  {
   "cell_type": "code",
   "execution_count": 308,
   "metadata": {
    "collapsed": true
   },
   "outputs": [],
   "source": [
    "def jahre_nach_tage(jahre=10):\n",
    "    s = \"{0} Jahre entsprechen {1} Tage\".format(jahre, jahre*365)\n",
    "    print(s)"
   ]
  },
  {
   "cell_type": "code",
   "execution_count": 309,
   "metadata": {},
   "outputs": [
    {
     "name": "stdout",
     "output_type": "stream",
     "text": [
      "5 Jahre entsprechen 1825 Tage\n"
     ]
    }
   ],
   "source": [
    "jahre_nach_tage(5)"
   ]
  },
  {
   "cell_type": "code",
   "execution_count": 310,
   "metadata": {},
   "outputs": [
    {
     "name": "stdout",
     "output_type": "stream",
     "text": [
      "10 Jahre entsprechen 3650 Tage\n"
     ]
    }
   ],
   "source": [
    "jahre_nach_tage()"
   ]
  },
  {
   "cell_type": "code",
   "execution_count": 311,
   "metadata": {},
   "outputs": [
    {
     "name": "stdout",
     "output_type": "stream",
     "text": [
      "7 Jahre entsprechen 2555 Tage\n"
     ]
    }
   ],
   "source": [
    "jahre_nach_tage(jahre=7)"
   ]
  },
  {
   "cell_type": "code",
   "execution_count": 312,
   "metadata": {},
   "outputs": [
    {
     "ename": "TypeError",
     "evalue": "jahre_nach_tage() got an unexpected keyword argument 'years'",
     "output_type": "error",
     "traceback": [
      "\u001b[1;31m---------------------------------------------------------------------------\u001b[0m",
      "\u001b[1;31mTypeError\u001b[0m                                 Traceback (most recent call last)",
      "\u001b[1;32m<ipython-input-312-9353895d52f0>\u001b[0m in \u001b[0;36m<module>\u001b[1;34m()\u001b[0m\n\u001b[1;32m----> 1\u001b[1;33m \u001b[0mjahre_nach_tage\u001b[0m\u001b[1;33m(\u001b[0m\u001b[0myears\u001b[0m\u001b[1;33m=\u001b[0m\u001b[1;36m12\u001b[0m\u001b[1;33m)\u001b[0m\u001b[1;33m\u001b[0m\u001b[0m\n\u001b[0m",
      "\u001b[1;31mTypeError\u001b[0m: jahre_nach_tage() got an unexpected keyword argument 'years'"
     ]
    }
   ],
   "source": [
    "jahre_nach_tage(years=12)"
   ]
  },
  {
   "cell_type": "code",
   "execution_count": 313,
   "metadata": {
    "collapsed": true
   },
   "outputs": [],
   "source": [
    "def foo(a=3, b=3):\n",
    "    print(\"a^2 + b = {0}^2 + {1} =\".format(a,b), a**2+b)"
   ]
  },
  {
   "cell_type": "code",
   "execution_count": 314,
   "metadata": {},
   "outputs": [
    {
     "name": "stdout",
     "output_type": "stream",
     "text": [
      "a^2 + b = 3^2 + 3 = 12\n"
     ]
    }
   ],
   "source": [
    "foo()"
   ]
  },
  {
   "cell_type": "code",
   "execution_count": 315,
   "metadata": {},
   "outputs": [
    {
     "name": "stdout",
     "output_type": "stream",
     "text": [
      "a^2 + b = 3^2 + 4 = 13\n"
     ]
    }
   ],
   "source": [
    "foo(b=4)"
   ]
  },
  {
   "cell_type": "code",
   "execution_count": 316,
   "metadata": {},
   "outputs": [
    {
     "name": "stdout",
     "output_type": "stream",
     "text": [
      "a^2 + b = 2^2 + 3 = 7\n"
     ]
    }
   ],
   "source": [
    "foo(a=2)"
   ]
  },
  {
   "cell_type": "code",
   "execution_count": 317,
   "metadata": {},
   "outputs": [
    {
     "name": "stdout",
     "output_type": "stream",
     "text": [
      "a^2 + b = 7^2 + 3 = 52\n"
     ]
    }
   ],
   "source": [
    "foo(7)"
   ]
  },
  {
   "cell_type": "code",
   "execution_count": 318,
   "metadata": {},
   "outputs": [
    {
     "name": "stdout",
     "output_type": "stream",
     "text": [
      "a^2 + b = 7^2 + 9 = 58\n"
     ]
    }
   ],
   "source": [
    "foo(7,9)"
   ]
  },
  {
   "cell_type": "markdown",
   "metadata": {},
   "source": [
    "Benennen wir die Parameter beim Aufruf explizit, dann hat dies den Vorteil, dass es die Lesbarkeit des Codes erhöhen kann."
   ]
  },
  {
   "cell_type": "code",
   "execution_count": 319,
   "metadata": {},
   "outputs": [
    {
     "name": "stdout",
     "output_type": "stream",
     "text": [
      "a^2 + b = 7^2 + 9 = 58\n"
     ]
    }
   ],
   "source": [
    "foo(a=7,b=9)"
   ]
  },
  {
   "cell_type": "markdown",
   "metadata": {},
   "source": [
    "## Funktionen mit mehreren Rückgabewerten"
   ]
  },
  {
   "cell_type": "code",
   "execution_count": 320,
   "metadata": {
    "collapsed": true
   },
   "outputs": [],
   "source": [
    "def mittelwerte(liste):\n",
    "    return (3, 4)"
   ]
  },
  {
   "cell_type": "code",
   "execution_count": 321,
   "metadata": {
    "collapsed": true
   },
   "outputs": [],
   "source": [
    "ergebnis = mittelwerte([])"
   ]
  },
  {
   "cell_type": "code",
   "execution_count": 322,
   "metadata": {},
   "outputs": [
    {
     "data": {
      "text/plain": [
       "(3, 4)"
      ]
     },
     "execution_count": 322,
     "metadata": {},
     "output_type": "execute_result"
    }
   ],
   "source": [
    "ergebnis"
   ]
  },
  {
   "cell_type": "code",
   "execution_count": 323,
   "metadata": {},
   "outputs": [
    {
     "data": {
      "text/plain": [
       "tuple"
      ]
     },
     "execution_count": 323,
     "metadata": {},
     "output_type": "execute_result"
    }
   ],
   "source": [
    "type(ergebnis)"
   ]
  },
  {
   "cell_type": "markdown",
   "metadata": {},
   "source": [
    "## Quiz-Time!\n",
    "\n",
    "Schreiben Sie die Funktion `Mittelwerte()`, so dass für eine gegebene Liste von Zahlen sowohl das arithmetische Mittel, als auch der Median zurückgegeben wird!"
   ]
  },
  {
   "cell_type": "code",
   "execution_count": 324,
   "metadata": {
    "collapsed": true
   },
   "outputs": [],
   "source": [
    "liste1 = [100, 20, 50, 90, 10]"
   ]
  },
  {
   "cell_type": "code",
   "execution_count": 325,
   "metadata": {},
   "outputs": [
    {
     "data": {
      "text/plain": [
       "[100, 20, 50, 90, 10]"
      ]
     },
     "execution_count": 325,
     "metadata": {},
     "output_type": "execute_result"
    }
   ],
   "source": [
    "liste1"
   ]
  },
  {
   "cell_type": "code",
   "execution_count": 326,
   "metadata": {
    "collapsed": true
   },
   "outputs": [],
   "source": [
    "def mittelwerte(liste):\n",
    "    \"\"\"\n",
    "    Diese Funktion berechnet gleich zwei Mittelwerte:\n",
    "    das arithmetische Mittel und den Median\n",
    "    \n",
    "    Eingabe: eine Liste von Zahlen\n",
    "    Rückgabewert: ein Zweitupel (arithm. Mittelwert, Median)\n",
    "    \"\"\"\n",
    "    \n",
    "    N = len(liste)\n",
    "    \n",
    "    # 1. Berechne arithmetisches Mittel\n",
    "    summe = 0\n",
    "    for i in liste:\n",
    "        summe += i\n",
    "    arith_mittel = summe / N\n",
    "    \n",
    "    # 2. Berechne Median\n",
    "    liste_sortiert = sorted(liste)\n",
    "    print(liste_sortiert)\n",
    "    N = len(liste_sortiert)    \n",
    "    if len(liste_sortiert) % 2 == 1:\n",
    "        median = liste_sortiert[N//2]\n",
    "    else:\n",
    "        median = (liste_sortiert[N//2-1] + liste_sortiert[(N//2)])/2\n",
    "    \n",
    "    # 3. Gebe beide Mittelwerte zurück\n",
    "    return (arith_mittel, median)"
   ]
  },
  {
   "cell_type": "code",
   "execution_count": 327,
   "metadata": {},
   "outputs": [
    {
     "name": "stdout",
     "output_type": "stream",
     "text": [
      "[10, 20, 50, 90, 100]\n"
     ]
    },
    {
     "data": {
      "text/plain": [
       "(54.0, 50)"
      ]
     },
     "execution_count": 327,
     "metadata": {},
     "output_type": "execute_result"
    }
   ],
   "source": [
    "mittelwerte(liste1)"
   ]
  },
  {
   "cell_type": "code",
   "execution_count": 328,
   "metadata": {},
   "outputs": [
    {
     "name": "stdout",
     "output_type": "stream",
     "text": [
      "[10, 20, 50, 60, 90, 100]\n"
     ]
    },
    {
     "data": {
      "text/plain": [
       "(55.0, 55.0)"
      ]
     },
     "execution_count": 328,
     "metadata": {},
     "output_type": "execute_result"
    }
   ],
   "source": [
    "liste2 = [100, 20, 50, 90, 10, 60]\n",
    "mittelwerte(liste2)"
   ]
  },
  {
   "cell_type": "code",
   "execution_count": 329,
   "metadata": {},
   "outputs": [
    {
     "name": "stdout",
     "output_type": "stream",
     "text": [
      "Help on function mittelwerte in module __main__:\n",
      "\n",
      "mittelwerte(liste)\n",
      "    Diese Funktion berechnet gleich zwei Mittelwerte:\n",
      "    das arithmetische Mittel und den Median\n",
      "    \n",
      "    Eingabe: eine Liste von Zahlen\n",
      "    Rückgabewert: ein Zweitupel (arithm. Mittelwert, Median)\n",
      "\n"
     ]
    }
   ],
   "source": [
    "help(mittelwerte)"
   ]
  },
  {
   "cell_type": "markdown",
   "metadata": {},
   "source": [
    "## Sicherheitsüberprüfung für Funktionsargumente"
   ]
  },
  {
   "cell_type": "code",
   "execution_count": 330,
   "metadata": {},
   "outputs": [
    {
     "ename": "TypeError",
     "evalue": "unsupported operand type(s) for +=: 'int' and 'str'",
     "output_type": "error",
     "traceback": [
      "\u001b[1;31m---------------------------------------------------------------------------\u001b[0m",
      "\u001b[1;31mTypeError\u001b[0m                                 Traceback (most recent call last)",
      "\u001b[1;32m<ipython-input-330-32e0677df023>\u001b[0m in \u001b[0;36m<module>\u001b[1;34m()\u001b[0m\n\u001b[1;32m----> 1\u001b[1;33m \u001b[0mmittelwerte\u001b[0m\u001b[1;33m(\u001b[0m \u001b[1;34m\"ÄtschiBätsch! Nix Liste als Eingabe hier!\"\u001b[0m \u001b[1;33m)\u001b[0m\u001b[1;33m\u001b[0m\u001b[0m\n\u001b[0m",
      "\u001b[1;32m<ipython-input-326-fd88ba2af231>\u001b[0m in \u001b[0;36mmittelwerte\u001b[1;34m(liste)\u001b[0m\n\u001b[0;32m     13\u001b[0m     \u001b[0msumme\u001b[0m \u001b[1;33m=\u001b[0m \u001b[1;36m0\u001b[0m\u001b[1;33m\u001b[0m\u001b[0m\n\u001b[0;32m     14\u001b[0m     \u001b[1;32mfor\u001b[0m \u001b[0mi\u001b[0m \u001b[1;32min\u001b[0m \u001b[0mliste\u001b[0m\u001b[1;33m:\u001b[0m\u001b[1;33m\u001b[0m\u001b[0m\n\u001b[1;32m---> 15\u001b[1;33m         \u001b[0msumme\u001b[0m \u001b[1;33m+=\u001b[0m \u001b[0mi\u001b[0m\u001b[1;33m\u001b[0m\u001b[0m\n\u001b[0m\u001b[0;32m     16\u001b[0m     \u001b[0marith_mittel\u001b[0m \u001b[1;33m=\u001b[0m \u001b[0msumme\u001b[0m \u001b[1;33m/\u001b[0m \u001b[0mN\u001b[0m\u001b[1;33m\u001b[0m\u001b[0m\n\u001b[0;32m     17\u001b[0m \u001b[1;33m\u001b[0m\u001b[0m\n",
      "\u001b[1;31mTypeError\u001b[0m: unsupported operand type(s) for +=: 'int' and 'str'"
     ]
    }
   ],
   "source": [
    "mittelwerte( \"ÄtschiBätsch! Nix Liste als Eingabe hier!\" )"
   ]
  },
  {
   "cell_type": "code",
   "execution_count": 331,
   "metadata": {
    "collapsed": true
   },
   "outputs": [],
   "source": [
    "def mittelwerte2(liste):\n",
    "    \"\"\"\n",
    "    Diese Funktion berechnet gleich zwei Mittelwerte:\n",
    "    das arithmetische Mittel und den Median\n",
    "    \n",
    "    Eingabe: eine Liste von Zahlen\n",
    "    Rückgabewert: ein Zweitupel (arithm. Mittelwert, Median)\n",
    "    \"\"\"\n",
    "    \n",
    "    # Checke ob Eingabe wirklich eine Liste ist!\n",
    "    if not isinstance(liste, list):\n",
    "        print(\"Hey! Als Eingabe bitte nur eine Liste!\")\n",
    "        return\n",
    "    \n",
    "    N = len(liste)\n",
    "    \n",
    "    # 1. Berechne arithmetisches Mittel\n",
    "    summe = 0\n",
    "    for i in liste:\n",
    "        summe += i\n",
    "    arith_mittel = summe / N\n",
    "    \n",
    "    # 2. Berechne Median\n",
    "    liste_sortiert = sorted(liste)\n",
    "    print(liste_sortiert)\n",
    "    N = len(liste_sortiert)    \n",
    "    if len(liste_sortiert) % 2 == 1:\n",
    "        median = liste_sortiert[N//2]\n",
    "    else:\n",
    "        median = (liste_sortiert[N//2-1] + liste_sortiert[(N//2)])/2\n",
    "    \n",
    "    # 3. Gebe beide Mittelwerte zurück\n",
    "    return (arith_mittel, median)"
   ]
  },
  {
   "cell_type": "code",
   "execution_count": 332,
   "metadata": {},
   "outputs": [
    {
     "name": "stdout",
     "output_type": "stream",
     "text": [
      "Hey! Als Eingabe bitte nur eine Liste!\n"
     ]
    }
   ],
   "source": [
    "mittelwerte2( \"ÄtschiBätsch! Nix Liste als Eingabe hier!\" )"
   ]
  },
  {
   "cell_type": "code",
   "execution_count": 333,
   "metadata": {},
   "outputs": [
    {
     "ename": "TypeError",
     "evalue": "unsupported operand type(s) for +=: 'int' and 'str'",
     "output_type": "error",
     "traceback": [
      "\u001b[1;31m---------------------------------------------------------------------------\u001b[0m",
      "\u001b[1;31mTypeError\u001b[0m                                 Traceback (most recent call last)",
      "\u001b[1;32m<ipython-input-333-40280b22e244>\u001b[0m in \u001b[0;36m<module>\u001b[1;34m()\u001b[0m\n\u001b[1;32m----> 1\u001b[1;33m \u001b[0mmittelwerte2\u001b[0m\u001b[1;33m(\u001b[0m \u001b[1;33m[\u001b[0m\u001b[1;34m\"Hier\"\u001b[0m\u001b[1;33m,\u001b[0m \u001b[1;34m\"hast\"\u001b[0m\u001b[1;33m,\u001b[0m \u001b[1;34m\"du\"\u001b[0m\u001b[1;33m,\u001b[0m \u001b[1;34m\"eine\"\u001b[0m\u001b[1;33m,\u001b[0m \u001b[1;34m\"Liste!\"\u001b[0m\u001b[1;33m]\u001b[0m \u001b[1;33m)\u001b[0m\u001b[1;33m\u001b[0m\u001b[0m\n\u001b[0m",
      "\u001b[1;32m<ipython-input-331-162c7b053de9>\u001b[0m in \u001b[0;36mmittelwerte2\u001b[1;34m(liste)\u001b[0m\n\u001b[0;32m     18\u001b[0m     \u001b[0msumme\u001b[0m \u001b[1;33m=\u001b[0m \u001b[1;36m0\u001b[0m\u001b[1;33m\u001b[0m\u001b[0m\n\u001b[0;32m     19\u001b[0m     \u001b[1;32mfor\u001b[0m \u001b[0mi\u001b[0m \u001b[1;32min\u001b[0m \u001b[0mliste\u001b[0m\u001b[1;33m:\u001b[0m\u001b[1;33m\u001b[0m\u001b[0m\n\u001b[1;32m---> 20\u001b[1;33m         \u001b[0msumme\u001b[0m \u001b[1;33m+=\u001b[0m \u001b[0mi\u001b[0m\u001b[1;33m\u001b[0m\u001b[0m\n\u001b[0m\u001b[0;32m     21\u001b[0m     \u001b[0marith_mittel\u001b[0m \u001b[1;33m=\u001b[0m \u001b[0msumme\u001b[0m \u001b[1;33m/\u001b[0m \u001b[0mN\u001b[0m\u001b[1;33m\u001b[0m\u001b[0m\n\u001b[0;32m     22\u001b[0m \u001b[1;33m\u001b[0m\u001b[0m\n",
      "\u001b[1;31mTypeError\u001b[0m: unsupported operand type(s) for +=: 'int' and 'str'"
     ]
    }
   ],
   "source": [
    "mittelwerte2( [\"Hier\", \"hast\", \"du\", \"eine\", \"Liste!\"] )"
   ]
  },
  {
   "cell_type": "code",
   "execution_count": 334,
   "metadata": {
    "collapsed": true
   },
   "outputs": [],
   "source": [
    "def mittelwerte3(liste):\n",
    "    \"\"\"\n",
    "    Diese Funktion berechnet gleich zwei Mittelwerte:\n",
    "    das arithmetische Mittel und den Median\n",
    "    \n",
    "    Eingabe: eine Liste von Zahlen\n",
    "    Rückgabewert: ein Zweitupel (arithm. Mittelwert, Median)\n",
    "    \"\"\"\n",
    "    \n",
    "    # Checke ob Eingabe wirklich eine Liste ist!\n",
    "    if not isinstance(liste, list):\n",
    "        print(\"Hey! Als Eingabe bitte nur eine Liste!\")\n",
    "        return\n",
    "    \n",
    "    # Checke jetzt, ob jeder Eintrag in der Liste wirklich\n",
    "    # eine Zahl ist!\n",
    "    for e in liste:\n",
    "        if not isinstance(e, (int, float) ):\n",
    "            print(\"Hey nur Zahlen in der Liste bitte!\")\n",
    "            return\n",
    "    \n",
    "    N = len(liste)\n",
    "    \n",
    "    # 1. Berechne arithmetisches Mittel\n",
    "    summe = 0\n",
    "    for i in liste:\n",
    "        summe += i\n",
    "    arith_mittel = summe / N\n",
    "    \n",
    "    # 2. Berechne Median\n",
    "    liste_sortiert = sorted(liste)\n",
    "    print(liste_sortiert)\n",
    "    N = len(liste_sortiert)    \n",
    "    if len(liste_sortiert) % 2 == 1:\n",
    "        median = liste_sortiert[N//2]\n",
    "    else:\n",
    "        median = (liste_sortiert[N//2-1] + liste_sortiert[(N//2)])/2\n",
    "    \n",
    "    # 3. Gebe beide Mittelwerte zurück\n",
    "    return (arith_mittel, median)"
   ]
  },
  {
   "cell_type": "code",
   "execution_count": 335,
   "metadata": {},
   "outputs": [
    {
     "name": "stdout",
     "output_type": "stream",
     "text": [
      "Hey nur Zahlen in der Liste bitte!\n"
     ]
    }
   ],
   "source": [
    "mittelwerte3( [\"Hier\", \"hast\", \"du\", \"eine\", \"Liste!\"] )"
   ]
  },
  {
   "cell_type": "code",
   "execution_count": 336,
   "metadata": {},
   "outputs": [
    {
     "name": "stdout",
     "output_type": "stream",
     "text": [
      "Hey nur Zahlen in der Liste bitte!\n"
     ]
    }
   ],
   "source": [
    "mittelwerte3( [3, 7, \"du\", \"eine\", \"Liste!\"] )"
   ]
  },
  {
   "cell_type": "code",
   "execution_count": 337,
   "metadata": {},
   "outputs": [
    {
     "name": "stdout",
     "output_type": "stream",
     "text": [
      "[-5.0, 1, 2.5, 3, 7, 19]\n"
     ]
    },
    {
     "data": {
      "text/plain": [
       "(4.583333333333333, 2.75)"
      ]
     },
     "execution_count": 337,
     "metadata": {},
     "output_type": "execute_result"
    }
   ],
   "source": [
    "mittelwerte3( [3, 7, 1, 19, -5.0, 2.5] )"
   ]
  },
  {
   "cell_type": "markdown",
   "metadata": {},
   "source": [
    "## Werden übergebene Variablen verändert?\n",
    "\n",
    "Werden unveränderliche Objekte (immutable) wie Strings, Integers, Floats, Tupel an eine Funktion übergeben, werden diese auch nicht verändert. Es verhält sich wie \"Call by Value\".\n",
    "\n",
    "Werden veränderliche Objekte (mutable) wie Listen, Dictionaries, etc. an eine Funktion übergeben, können diese in der Funktion verändert werden. Es verhält sich wie \"Call by Reference\"."
   ]
  },
  {
   "cell_type": "code",
   "execution_count": 338,
   "metadata": {},
   "outputs": [
    {
     "name": "stdout",
     "output_type": "stream",
     "text": [
      "In foo1(): x= 43\n",
      "Nach Funktionsaufruf: x= 42\n"
     ]
    }
   ],
   "source": [
    "def foo1(x):\n",
    "    x=43\n",
    "    print(\"In foo1(): x=\", x)\n",
    "    \n",
    "x=42\n",
    "foo1(x)\n",
    "print(\"Nach Funktionsaufruf: x=\", x)"
   ]
  },
  {
   "cell_type": "code",
   "execution_count": 339,
   "metadata": {},
   "outputs": [
    {
     "name": "stdout",
     "output_type": "stream",
     "text": [
      "In foo1(): x= 43\n",
      "Nach Funktionsaufruf: x= Eine Zeichenkette\n"
     ]
    }
   ],
   "source": [
    "x=\"Eine Zeichenkette\"\n",
    "foo1(x)\n",
    "print(\"Nach Funktionsaufruf: x=\", x)"
   ]
  },
  {
   "cell_type": "code",
   "execution_count": 340,
   "metadata": {},
   "outputs": [
    {
     "name": "stdout",
     "output_type": "stream",
     "text": [
      "In foo1(): x= 43\n",
      "Nach Funktionsaufruf: x= [1, 2, 3]\n"
     ]
    }
   ],
   "source": [
    "x=[1,2,3]\n",
    "foo1(x)\n",
    "print(\"Nach Funktionsaufruf: x=\", x)"
   ]
  },
  {
   "cell_type": "code",
   "execution_count": 341,
   "metadata": {},
   "outputs": [
    {
     "name": "stdout",
     "output_type": "stream",
     "text": [
      "Nach Funktionsaufruf: x= [1, 2, 3, 7]\n"
     ]
    }
   ],
   "source": [
    "def foo2(x):\n",
    "    x.append( 7 )\n",
    "    \n",
    "x = [1,2,3]\n",
    "foo2(x)\n",
    "print(\"Nach Funktionsaufruf: x=\", x)"
   ]
  },
  {
   "cell_type": "markdown",
   "metadata": {},
   "source": [
    "## Lokale und globale Variablen"
   ]
  },
  {
   "cell_type": "markdown",
   "metadata": {},
   "source": [
    "Folgende Funktion greift auf die globale Variable `s` zu:"
   ]
  },
  {
   "cell_type": "code",
   "execution_count": 342,
   "metadata": {},
   "outputs": [
    {
     "name": "stdout",
     "output_type": "stream",
     "text": [
      "Zeichenkette 1\n"
     ]
    }
   ],
   "source": [
    "def f():\n",
    "    print(s)\n",
    "    \n",
    "s = \"Zeichenkette 1\"\n",
    "f()"
   ]
  },
  {
   "cell_type": "markdown",
   "metadata": {},
   "source": [
    "Im folgenden Programm gibt es eine lokale und eine globale Variable `s`:"
   ]
  },
  {
   "cell_type": "code",
   "execution_count": 343,
   "metadata": {},
   "outputs": [
    {
     "name": "stdout",
     "output_type": "stream",
     "text": [
      "Zeichenkette 2\n",
      "Zeichenkette 1\n"
     ]
    }
   ],
   "source": [
    "def f2():\n",
    "    s = \"Zeichenkette 2\" # das s hier ist lokal\n",
    "    print(s)\n",
    "    \n",
    "s = \"Zeichenkette 1\" # das s hier ist global\n",
    "f2()\n",
    "print(s)"
   ]
  },
  {
   "cell_type": "markdown",
   "metadata": {},
   "source": [
    "Jetzt \"tricksen\" wir Python aus!\n",
    "\n",
    "Ist das erste `s` in Funktion `f3()` jetzt die globale Variable und das zweite `s` die lokale Variable?\n",
    "\n",
    "Das wäre sehr verwirrend! Wir können sehen, dass sich Python jetzt auch beschwert:\n",
    "\n",
    "ein und der gleiche Variablenname kann innerhalb einer Funktion nicht zuerst global und dann lokal sein. Das würde zu sehr schwer verstehbarem Code führen und viel Raum für mögliche Fehler bieten!\n",
    "\n",
    "Deswegen nimmt Python an, dass `s` eine lokale Variable ist.\n",
    "Dann wiederum dürfen wir `s` aber nicht benutzen, bevor wir sie definiert haben."
   ]
  },
  {
   "cell_type": "code",
   "execution_count": 344,
   "metadata": {},
   "outputs": [
    {
     "ename": "UnboundLocalError",
     "evalue": "local variable 's' referenced before assignment",
     "output_type": "error",
     "traceback": [
      "\u001b[1;31m---------------------------------------------------------------------------\u001b[0m",
      "\u001b[1;31mUnboundLocalError\u001b[0m                         Traceback (most recent call last)",
      "\u001b[1;32m<ipython-input-344-62d46a6f0973>\u001b[0m in \u001b[0;36m<module>\u001b[1;34m()\u001b[0m\n\u001b[0;32m      5\u001b[0m \u001b[1;33m\u001b[0m\u001b[0m\n\u001b[0;32m      6\u001b[0m \u001b[0ms\u001b[0m \u001b[1;33m=\u001b[0m \u001b[1;34m\"Zeichenkette 1\"\u001b[0m\u001b[1;33m\u001b[0m\u001b[0m\n\u001b[1;32m----> 7\u001b[1;33m \u001b[0mf3\u001b[0m\u001b[1;33m(\u001b[0m\u001b[1;33m)\u001b[0m\u001b[1;33m\u001b[0m\u001b[0m\n\u001b[0m\u001b[0;32m      8\u001b[0m \u001b[0mprint\u001b[0m\u001b[1;33m(\u001b[0m\u001b[0ms\u001b[0m\u001b[1;33m)\u001b[0m\u001b[1;33m\u001b[0m\u001b[0m\n",
      "\u001b[1;32m<ipython-input-344-62d46a6f0973>\u001b[0m in \u001b[0;36mf3\u001b[1;34m()\u001b[0m\n\u001b[0;32m      1\u001b[0m \u001b[1;32mdef\u001b[0m \u001b[0mf3\u001b[0m\u001b[1;33m(\u001b[0m\u001b[1;33m)\u001b[0m\u001b[1;33m:\u001b[0m\u001b[1;33m\u001b[0m\u001b[0m\n\u001b[1;32m----> 2\u001b[1;33m     \u001b[0mprint\u001b[0m\u001b[1;33m(\u001b[0m\u001b[0ms\u001b[0m\u001b[1;33m)\u001b[0m\u001b[1;33m\u001b[0m\u001b[0m\n\u001b[0m\u001b[0;32m      3\u001b[0m     \u001b[0ms\u001b[0m \u001b[1;33m=\u001b[0m \u001b[1;34m\"Zeichenkette 2\"\u001b[0m\u001b[1;33m\u001b[0m\u001b[0m\n\u001b[0;32m      4\u001b[0m     \u001b[0mprint\u001b[0m\u001b[1;33m(\u001b[0m\u001b[0ms\u001b[0m\u001b[1;33m)\u001b[0m\u001b[1;33m\u001b[0m\u001b[0m\n\u001b[0;32m      5\u001b[0m \u001b[1;33m\u001b[0m\u001b[0m\n",
      "\u001b[1;31mUnboundLocalError\u001b[0m: local variable 's' referenced before assignment"
     ]
    }
   ],
   "source": [
    "def f3():\n",
    "    print(s)\n",
    "    s = \"Zeichenkette 2\"\n",
    "    print(s)    \n",
    "    \n",
    "s = \"Zeichenkette 1\"\n",
    "f3()\n",
    "print(s)"
   ]
  },
  {
   "cell_type": "markdown",
   "metadata": {},
   "source": [
    "Wollen wir innerhalb einer Funktion auf eine globale Variable schreibend zugreifen, müssen wir diese als explizit global mittels des entsprechenden Schlüsselwortes `global` deklarieren."
   ]
  },
  {
   "cell_type": "code",
   "execution_count": 345,
   "metadata": {},
   "outputs": [
    {
     "name": "stdout",
     "output_type": "stream",
     "text": [
      "Zeichenkette 1\n",
      "Zeichenkette 2\n",
      "Zeichenkette 2\n"
     ]
    }
   ],
   "source": [
    "def f4():\n",
    "    global s\n",
    "    print(s)\n",
    "    s = \"Zeichenkette 2\"\n",
    "    print(s)\n",
    "    \n",
    "s = \"Zeichenkette 1\"\n",
    "f4()\n",
    "print(s)"
   ]
  },
  {
   "cell_type": "code",
   "execution_count": 346,
   "metadata": {},
   "outputs": [
    {
     "name": "stdout",
     "output_type": "stream",
     "text": [
      "Alter Wert\n"
     ]
    }
   ],
   "source": [
    "def f5():\n",
    "    s = \"Neuer Wert\" # s lokal\n",
    "    \n",
    "s = \"Alter Wert\" # s global\n",
    "f5()\n",
    "print(s)"
   ]
  },
  {
   "cell_type": "code",
   "execution_count": 347,
   "metadata": {},
   "outputs": [
    {
     "name": "stdout",
     "output_type": "stream",
     "text": [
      "Neuer Wert\n"
     ]
    }
   ],
   "source": [
    "def f6():\n",
    "    global s\n",
    "    s = \"Neuer Wert\" # s global\n",
    "    \n",
    "s = \"Alter Wert\" # s global\n",
    "f6()\n",
    "print(s)"
   ]
  },
  {
   "cell_type": "markdown",
   "metadata": {},
   "source": [
    "## Funktionen in Funktionen definieren"
   ]
  },
  {
   "cell_type": "code",
   "execution_count": 348,
   "metadata": {
    "collapsed": true
   },
   "outputs": [],
   "source": [
    "def komplizierte_berechnung(x):\n",
    "    \n",
    "    konstante = 1.23\n",
    "    \n",
    "    def teilberechnung1(x):\n",
    "        return x**3 * konstante\n",
    "        \n",
    "    def teilberechnung2(x):\n",
    "        return x**2 + konstante\n",
    "    \n",
    "    return teilberechnung1(x)+teilberechnung2(x)"
   ]
  },
  {
   "cell_type": "code",
   "execution_count": 349,
   "metadata": {},
   "outputs": [
    {
     "data": {
      "text/plain": [
       "179.98"
      ]
     },
     "execution_count": 349,
     "metadata": {},
     "output_type": "execute_result"
    }
   ],
   "source": [
    "komplizierte_berechnung(5.0)"
   ]
  },
  {
   "cell_type": "code",
   "execution_count": 350,
   "metadata": {},
   "outputs": [
    {
     "ename": "NameError",
     "evalue": "name 'teilberechnung1' is not defined",
     "output_type": "error",
     "traceback": [
      "\u001b[1;31m---------------------------------------------------------------------------\u001b[0m",
      "\u001b[1;31mNameError\u001b[0m                                 Traceback (most recent call last)",
      "\u001b[1;32m<ipython-input-350-ff6167ca8dc1>\u001b[0m in \u001b[0;36m<module>\u001b[1;34m()\u001b[0m\n\u001b[1;32m----> 1\u001b[1;33m \u001b[0mteilberechnung1\u001b[0m\u001b[1;33m(\u001b[0m\u001b[1;36m2.0\u001b[0m\u001b[1;33m)\u001b[0m\u001b[1;33m\u001b[0m\u001b[0m\n\u001b[0m",
      "\u001b[1;31mNameError\u001b[0m: name 'teilberechnung1' is not defined"
     ]
    }
   ],
   "source": [
    "teilberechnung1(2.0)"
   ]
  },
  {
   "cell_type": "markdown",
   "metadata": {},
   "source": [
    "## Variable Anzahl von Funktionsparametern"
   ]
  },
  {
   "cell_type": "markdown",
   "metadata": {},
   "source": [
    "Eine Variable Anzahl von Funktionsparametern kann mit einem * eingeleitet werden.\n",
    "\n",
    "Das folgende Beispiel zeigt, dass die Parameter dann in einem n-Tupel gesammelt werden."
   ]
  },
  {
   "cell_type": "code",
   "execution_count": 351,
   "metadata": {
    "collapsed": true
   },
   "outputs": [],
   "source": [
    "def arithm_mittel(*zahlen):\n",
    "    print(zahlen)\n",
    "    print(type(zahlen))"
   ]
  },
  {
   "cell_type": "code",
   "execution_count": 352,
   "metadata": {},
   "outputs": [
    {
     "name": "stdout",
     "output_type": "stream",
     "text": [
      "(1, 2, 3)\n",
      "<class 'tuple'>\n"
     ]
    }
   ],
   "source": [
    "arithm_mittel(1,2,3)"
   ]
  },
  {
   "cell_type": "code",
   "execution_count": 353,
   "metadata": {},
   "outputs": [
    {
     "name": "stdout",
     "output_type": "stream",
     "text": [
      "(1, 2, 3, 4)\n",
      "<class 'tuple'>\n"
     ]
    }
   ],
   "source": [
    "arithm_mittel(1,2,3,4)"
   ]
  },
  {
   "cell_type": "code",
   "execution_count": 354,
   "metadata": {},
   "outputs": [
    {
     "name": "stdout",
     "output_type": "stream",
     "text": [
      "(1,)\n",
      "<class 'tuple'>\n"
     ]
    }
   ],
   "source": [
    "arithm_mittel(1)"
   ]
  },
  {
   "cell_type": "code",
   "execution_count": 355,
   "metadata": {
    "collapsed": true
   },
   "outputs": [],
   "source": [
    "def arithm_mittel(*zahlen):\n",
    "    return sum(zahlen) / len(zahlen)    "
   ]
  },
  {
   "cell_type": "code",
   "execution_count": 356,
   "metadata": {},
   "outputs": [
    {
     "data": {
      "text/plain": [
       "2.0"
      ]
     },
     "execution_count": 356,
     "metadata": {},
     "output_type": "execute_result"
    }
   ],
   "source": [
    "arithm_mittel(1,2,3)"
   ]
  },
  {
   "cell_type": "code",
   "execution_count": 357,
   "metadata": {},
   "outputs": [
    {
     "data": {
      "text/plain": [
       "2.5"
      ]
     },
     "execution_count": 357,
     "metadata": {},
     "output_type": "execute_result"
    }
   ],
   "source": [
    "arithm_mittel(1,2,3,4)"
   ]
  },
  {
   "cell_type": "code",
   "execution_count": 358,
   "metadata": {},
   "outputs": [
    {
     "data": {
      "text/plain": [
       "1.0"
      ]
     },
     "execution_count": 358,
     "metadata": {},
     "output_type": "execute_result"
    }
   ],
   "source": [
    "arithm_mittel(1)"
   ]
  },
  {
   "cell_type": "markdown",
   "metadata": {},
   "source": [
    "## Ein Stern (*) in Funktionsaufrufen"
   ]
  },
  {
   "cell_type": "code",
   "execution_count": 359,
   "metadata": {
    "collapsed": true
   },
   "outputs": [],
   "source": [
    "liste = [1,2,3]"
   ]
  },
  {
   "cell_type": "code",
   "execution_count": 360,
   "metadata": {},
   "outputs": [
    {
     "ename": "TypeError",
     "evalue": "unsupported operand type(s) for +: 'int' and 'list'",
     "output_type": "error",
     "traceback": [
      "\u001b[1;31m---------------------------------------------------------------------------\u001b[0m",
      "\u001b[1;31mTypeError\u001b[0m                                 Traceback (most recent call last)",
      "\u001b[1;32m<ipython-input-360-47558e8949a3>\u001b[0m in \u001b[0;36m<module>\u001b[1;34m()\u001b[0m\n\u001b[1;32m----> 1\u001b[1;33m \u001b[0marithm_mittel\u001b[0m\u001b[1;33m(\u001b[0m\u001b[0mliste\u001b[0m\u001b[1;33m)\u001b[0m\u001b[1;33m\u001b[0m\u001b[0m\n\u001b[0m",
      "\u001b[1;32m<ipython-input-355-0afaa26638c6>\u001b[0m in \u001b[0;36marithm_mittel\u001b[1;34m(*zahlen)\u001b[0m\n\u001b[0;32m      1\u001b[0m \u001b[1;32mdef\u001b[0m \u001b[0marithm_mittel\u001b[0m\u001b[1;33m(\u001b[0m\u001b[1;33m*\u001b[0m\u001b[0mzahlen\u001b[0m\u001b[1;33m)\u001b[0m\u001b[1;33m:\u001b[0m\u001b[1;33m\u001b[0m\u001b[0m\n\u001b[1;32m----> 2\u001b[1;33m     \u001b[1;32mreturn\u001b[0m \u001b[0msum\u001b[0m\u001b[1;33m(\u001b[0m\u001b[0mzahlen\u001b[0m\u001b[1;33m)\u001b[0m \u001b[1;33m/\u001b[0m \u001b[0mlen\u001b[0m\u001b[1;33m(\u001b[0m\u001b[0mzahlen\u001b[0m\u001b[1;33m)\u001b[0m\u001b[1;33m\u001b[0m\u001b[0m\n\u001b[0m",
      "\u001b[1;31mTypeError\u001b[0m: unsupported operand type(s) for +: 'int' and 'list'"
     ]
    }
   ],
   "source": [
    "arithm_mittel(liste)"
   ]
  },
  {
   "cell_type": "markdown",
   "metadata": {},
   "source": [
    "Wir müssten irgendwie erstmal die Liste \"entpacken\". Dann könnten wir die Funktion `arithm_mittel()` passend mit den richtigen Argumenten \"füttern\". Dies geht mit einem `*` vor der Liste im Funktionsaufruf:"
   ]
  },
  {
   "cell_type": "code",
   "execution_count": 361,
   "metadata": {},
   "outputs": [
    {
     "data": {
      "text/plain": [
       "2.0"
      ]
     },
     "execution_count": 361,
     "metadata": {},
     "output_type": "execute_result"
    }
   ],
   "source": [
    "arithm_mittel(*liste)"
   ]
  },
  {
   "cell_type": "markdown",
   "metadata": {},
   "source": [
    "# Kommentare"
   ]
  },
  {
   "cell_type": "markdown",
   "metadata": {},
   "source": [
    "Eigentlich kennt Python nur eine Art Kommentare zu kennzeichnen: das # Zeichen"
   ]
  },
  {
   "cell_type": "code",
   "execution_count": 362,
   "metadata": {},
   "outputs": [
    {
     "name": "stdout",
     "output_type": "stream",
     "text": [
      "42\n"
     ]
    }
   ],
   "source": [
    "# Gebe den Sinn des Lebens aus\n",
    "print(42)"
   ]
  },
  {
   "cell_type": "code",
   "execution_count": 363,
   "metadata": {},
   "outputs": [
    {
     "name": "stdout",
     "output_type": "stream",
     "text": [
      "42\n"
     ]
    }
   ],
   "source": [
    "print(42) # Sinn des Lebens ausgeben"
   ]
  },
  {
   "cell_type": "markdown",
   "metadata": {},
   "source": [
    "Mehrzeilige Kommentare kann man so generieren:"
   ]
  },
  {
   "cell_type": "code",
   "execution_count": 364,
   "metadata": {},
   "outputs": [
    {
     "name": "stdout",
     "output_type": "stream",
     "text": [
      "42\n"
     ]
    }
   ],
   "source": [
    "# Folgende Codezeilen\n",
    "# berechnen den Sinn des Lebens\n",
    "# und geben ihn auch noch aus!\n",
    "a = 7*7-7\n",
    "print(a)"
   ]
  },
  {
   "cell_type": "markdown",
   "metadata": {},
   "source": [
    "Mit dreimaligen doppelten Anführungszeichen geht es auch. Aber Vorsicht: nur an bestimmten Stellen wird dadurch kein Bytecode erzeugt! Denn hinter einer Funktionsdefintion wird der Kommentar dann nämlich nicht ignoriert, sondern der entsprechung __doc__ DocString der Funktion gesetzt!"
   ]
  },
  {
   "cell_type": "code",
   "execution_count": 365,
   "metadata": {
    "collapsed": true
   },
   "outputs": [],
   "source": [
    "def foo():\n",
    "    \"\"\"\n",
    "    Hier ist ein mehrzeiliger\n",
    "    Kommentar. Aber der wird nicht\n",
    "    wirklich von Python ignoriert,\n",
    "    sondern setzt foo.__doc__\n",
    "    \"\"\"\n",
    "\n",
    "foo()"
   ]
  },
  {
   "cell_type": "code",
   "execution_count": 366,
   "metadata": {},
   "outputs": [
    {
     "name": "stdout",
     "output_type": "stream",
     "text": [
      "\n",
      "    Hier ist ein mehrzeiliger\n",
      "    Kommentar. Aber der wird nicht\n",
      "    wirklich von Python ignoriert,\n",
      "    sondern setzt foo.__doc__\n",
      "    \n"
     ]
    }
   ],
   "source": [
    "print(foo.__doc__)"
   ]
  },
  {
   "cell_type": "code",
   "execution_count": 367,
   "metadata": {
    "collapsed": true
   },
   "outputs": [],
   "source": [
    "def foo():\n",
    "    \n",
    "    print(42)\n",
    "    \n",
    "    \"\"\"\n",
    "    Der Kommentar hier dagegen\n",
    "    ist mehrzeilig und wird von\n",
    "    Python wirklich ignoriert!\n",
    "    \"\"\""
   ]
  },
  {
   "cell_type": "code",
   "execution_count": 368,
   "metadata": {},
   "outputs": [
    {
     "name": "stdout",
     "output_type": "stream",
     "text": [
      "42\n"
     ]
    }
   ],
   "source": [
    "foo()"
   ]
  },
  {
   "cell_type": "code",
   "execution_count": 369,
   "metadata": {},
   "outputs": [
    {
     "name": "stdout",
     "output_type": "stream",
     "text": [
      "None\n"
     ]
    }
   ],
   "source": [
    "print(foo.__doc__)"
   ]
  },
  {
   "cell_type": "markdown",
   "metadata": {},
   "source": [
    "# Dictionaries\n",
    "\n",
    "Speichern\n",
    "\n",
    "    Key : Value\n",
    "    \n",
    "Paare."
   ]
  },
  {
   "cell_type": "markdown",
   "metadata": {},
   "source": [
    "## Definition"
   ]
  },
  {
   "cell_type": "code",
   "execution_count": 370,
   "metadata": {
    "collapsed": true
   },
   "outputs": [],
   "source": [
    "abk = { \"FR\" : \"Frankreich\", \"DE\" : \"Deutschland\", \"US\" : \"United States\" }"
   ]
  },
  {
   "cell_type": "code",
   "execution_count": 371,
   "metadata": {},
   "outputs": [
    {
     "data": {
      "text/plain": [
       "{'DE': 'Deutschland', 'FR': 'Frankreich', 'US': 'United States'}"
      ]
     },
     "execution_count": 371,
     "metadata": {},
     "output_type": "execute_result"
    }
   ],
   "source": [
    "abk"
   ]
  },
  {
   "cell_type": "markdown",
   "metadata": {},
   "source": [
    "## Zugriff auf Values über Keys"
   ]
  },
  {
   "cell_type": "code",
   "execution_count": 372,
   "metadata": {},
   "outputs": [
    {
     "data": {
      "text/plain": [
       "'Deutschland'"
      ]
     },
     "execution_count": 372,
     "metadata": {},
     "output_type": "execute_result"
    }
   ],
   "source": [
    "abk[\"DE\"]"
   ]
  },
  {
   "cell_type": "code",
   "execution_count": 373,
   "metadata": {
    "collapsed": true
   },
   "outputs": [],
   "source": [
    "abk[\"DE\"] = \"Neuer Wert\""
   ]
  },
  {
   "cell_type": "code",
   "execution_count": 374,
   "metadata": {},
   "outputs": [
    {
     "data": {
      "text/plain": [
       "'Neuer Wert'"
      ]
     },
     "execution_count": 374,
     "metadata": {},
     "output_type": "execute_result"
    }
   ],
   "source": [
    "abk[\"DE\"]"
   ]
  },
  {
   "cell_type": "code",
   "execution_count": 375,
   "metadata": {},
   "outputs": [
    {
     "ename": "KeyError",
     "evalue": "'IT'",
     "output_type": "error",
     "traceback": [
      "\u001b[1;31m---------------------------------------------------------------------------\u001b[0m",
      "\u001b[1;31mKeyError\u001b[0m                                  Traceback (most recent call last)",
      "\u001b[1;32m<ipython-input-375-0235a28281aa>\u001b[0m in \u001b[0;36m<module>\u001b[1;34m()\u001b[0m\n\u001b[1;32m----> 1\u001b[1;33m \u001b[0mabk\u001b[0m\u001b[1;33m[\u001b[0m\u001b[1;34m\"IT\"\u001b[0m\u001b[1;33m]\u001b[0m\u001b[1;33m\u001b[0m\u001b[0m\n\u001b[0m",
      "\u001b[1;31mKeyError\u001b[0m: 'IT'"
     ]
    }
   ],
   "source": [
    "abk[\"IT\"]"
   ]
  },
  {
   "cell_type": "markdown",
   "metadata": {},
   "source": [
    "## get() Funktion\n",
    "\n",
    "Um zu vermeiden, dass es einen Fehler gibt, wenn man auf das Dictionary über einen Key zugreift, den es noch nicht gibt, kann man auch die `get()` Funktion verwenden.\n",
    "\n",
    "Gibt es den Key noch nicht, wird der spezielle Wert `None` zurückgeliefert:"
   ]
  },
  {
   "cell_type": "code",
   "execution_count": 376,
   "metadata": {},
   "outputs": [
    {
     "name": "stdout",
     "output_type": "stream",
     "text": [
      "Neuer Wert\n"
     ]
    }
   ],
   "source": [
    "print( abk.get(\"DE\") )"
   ]
  },
  {
   "cell_type": "code",
   "execution_count": 377,
   "metadata": {},
   "outputs": [
    {
     "name": "stdout",
     "output_type": "stream",
     "text": [
      "None\n"
     ]
    }
   ],
   "source": [
    "print( abk.get(\"IT\") )"
   ]
  },
  {
   "cell_type": "markdown",
   "metadata": {},
   "source": [
    "## Testen, ob ein Key in einem Dictionary vorkommt"
   ]
  },
  {
   "cell_type": "code",
   "execution_count": 378,
   "metadata": {},
   "outputs": [
    {
     "name": "stdout",
     "output_type": "stream",
     "text": [
      "Abkürzung nicht vorhanden\n"
     ]
    }
   ],
   "source": [
    "if \"IT\" in abk:\n",
    "    print(\"Abkürzung vorhanden\")\n",
    "else:\n",
    "    print(\"Abkürzung nicht vorhanden\")"
   ]
  },
  {
   "cell_type": "markdown",
   "metadata": {},
   "source": [
    "## Gültige Keys für ein Dictionary\n",
    "\n",
    "Gültige Keys sind alle unveränderlichen (immutable) Datentypen, also int, floats, Strings, Tupel.\n",
    "\n",
    "Aber keine Listen oder Dictionaries (mutable)."
   ]
  },
  {
   "cell_type": "code",
   "execution_count": 379,
   "metadata": {
    "collapsed": true
   },
   "outputs": [],
   "source": [
    "d1 = { 42: \"Sinn des Lebens\", 3.14159 : \"Das ist doch PI!\",\n",
    "       (1,2,3) : \"Das ist ein Tupel\" }"
   ]
  },
  {
   "cell_type": "code",
   "execution_count": 380,
   "metadata": {},
   "outputs": [
    {
     "data": {
      "text/plain": [
       "'Sinn des Lebens'"
      ]
     },
     "execution_count": 380,
     "metadata": {},
     "output_type": "execute_result"
    }
   ],
   "source": [
    "d1[42]"
   ]
  },
  {
   "cell_type": "code",
   "execution_count": 381,
   "metadata": {},
   "outputs": [
    {
     "data": {
      "text/plain": [
       "'Das ist doch PI!'"
      ]
     },
     "execution_count": 381,
     "metadata": {},
     "output_type": "execute_result"
    }
   ],
   "source": [
    "d1[3.14159]"
   ]
  },
  {
   "cell_type": "code",
   "execution_count": 382,
   "metadata": {},
   "outputs": [
    {
     "data": {
      "text/plain": [
       "'Das ist ein Tupel'"
      ]
     },
     "execution_count": 382,
     "metadata": {},
     "output_type": "execute_result"
    }
   ],
   "source": [
    "d1[(1,2,3)]"
   ]
  },
  {
   "cell_type": "code",
   "execution_count": 383,
   "metadata": {
    "scrolled": true
   },
   "outputs": [
    {
     "ename": "TypeError",
     "evalue": "unhashable type: 'list'",
     "output_type": "error",
     "traceback": [
      "\u001b[1;31m---------------------------------------------------------------------------\u001b[0m",
      "\u001b[1;31mTypeError\u001b[0m                                 Traceback (most recent call last)",
      "\u001b[1;32m<ipython-input-383-4a620bcb53c6>\u001b[0m in \u001b[0;36m<module>\u001b[1;34m()\u001b[0m\n\u001b[1;32m----> 1\u001b[1;33m \u001b[0md2\u001b[0m \u001b[1;33m=\u001b[0m \u001b[1;33m{\u001b[0m \u001b[1;33m[\u001b[0m\u001b[1;36m1\u001b[0m\u001b[1;33m,\u001b[0m\u001b[1;36m2\u001b[0m\u001b[1;33m,\u001b[0m\u001b[1;36m3\u001b[0m\u001b[1;33m]\u001b[0m \u001b[1;33m:\u001b[0m \u001b[1;34m\"Das ist eine Liste\"\u001b[0m \u001b[1;33m}\u001b[0m\u001b[1;33m\u001b[0m\u001b[0m\n\u001b[0m",
      "\u001b[1;31mTypeError\u001b[0m: unhashable type: 'list'"
     ]
    }
   ],
   "source": [
    "d2 = { [1,2,3] : \"Das ist eine Liste\" }"
   ]
  },
  {
   "cell_type": "markdown",
   "metadata": {},
   "source": [
    "## Über die Keys eines Dictionaries iterieren"
   ]
  },
  {
   "cell_type": "code",
   "execution_count": 384,
   "metadata": {},
   "outputs": [
    {
     "data": {
      "text/plain": [
       "{'DE': 'Neuer Wert', 'FR': 'Frankreich', 'US': 'United States'}"
      ]
     },
     "execution_count": 384,
     "metadata": {},
     "output_type": "execute_result"
    }
   ],
   "source": [
    "abk"
   ]
  },
  {
   "cell_type": "code",
   "execution_count": 385,
   "metadata": {},
   "outputs": [
    {
     "name": "stdout",
     "output_type": "stream",
     "text": [
      "FR\n",
      "DE\n",
      "US\n"
     ]
    }
   ],
   "source": [
    "for key in abk:\n",
    "    print(key)"
   ]
  },
  {
   "cell_type": "code",
   "execution_count": 386,
   "metadata": {},
   "outputs": [
    {
     "name": "stdout",
     "output_type": "stream",
     "text": [
      "FR --> Frankreich\n",
      "DE --> Neuer Wert\n",
      "US --> United States\n"
     ]
    }
   ],
   "source": [
    "for key in abk:\n",
    "    print(key, \"-->\", abk[key])"
   ]
  },
  {
   "cell_type": "markdown",
   "metadata": {},
   "source": [
    "## Verschachtelte Dictionaries"
   ]
  },
  {
   "cell_type": "code",
   "execution_count": 387,
   "metadata": {
    "collapsed": true
   },
   "outputs": [],
   "source": [
    "w1 = { \"auto\": \"car\", \"haus\" : \"house\" }\n",
    "w2 = { \"auto\": \"coche\", \"haus\": \"casa\" }\n",
    "w = { \"de->en\": w1, \"de->es\": w2 }"
   ]
  },
  {
   "cell_type": "code",
   "execution_count": 388,
   "metadata": {},
   "outputs": [
    {
     "data": {
      "text/plain": [
       "{'auto': 'car', 'haus': 'house'}"
      ]
     },
     "execution_count": 388,
     "metadata": {},
     "output_type": "execute_result"
    }
   ],
   "source": [
    "w[\"de->en\"]"
   ]
  },
  {
   "cell_type": "code",
   "execution_count": 389,
   "metadata": {},
   "outputs": [
    {
     "data": {
      "text/plain": [
       "'car'"
      ]
     },
     "execution_count": 389,
     "metadata": {},
     "output_type": "execute_result"
    }
   ],
   "source": [
    "w[\"de->en\"][\"auto\"]"
   ]
  },
  {
   "cell_type": "code",
   "execution_count": 390,
   "metadata": {},
   "outputs": [
    {
     "data": {
      "text/plain": [
       "'coche'"
      ]
     },
     "execution_count": 390,
     "metadata": {},
     "output_type": "execute_result"
    }
   ],
   "source": [
    "w[\"de->es\"][\"auto\"]"
   ]
  },
  {
   "cell_type": "markdown",
   "metadata": {},
   "source": [
    "## Einen Eintrag aus einem Dictionary löschen"
   ]
  },
  {
   "cell_type": "code",
   "execution_count": 397,
   "metadata": {},
   "outputs": [
    {
     "data": {
      "text/plain": [
       "'car'"
      ]
     },
     "execution_count": 397,
     "metadata": {},
     "output_type": "execute_result"
    }
   ],
   "source": [
    "w1.pop(\"auto\")"
   ]
  },
  {
   "cell_type": "code",
   "execution_count": 398,
   "metadata": {},
   "outputs": [
    {
     "data": {
      "text/plain": [
       "{'haus': 'house'}"
      ]
     },
     "execution_count": 398,
     "metadata": {},
     "output_type": "execute_result"
    }
   ],
   "source": [
    "w1"
   ]
  },
  {
   "cell_type": "code",
   "execution_count": 399,
   "metadata": {
    "collapsed": true
   },
   "outputs": [],
   "source": [
    "del w2[\"auto\"]"
   ]
  },
  {
   "cell_type": "code",
   "execution_count": 400,
   "metadata": {},
   "outputs": [
    {
     "data": {
      "text/plain": [
       "{'haus': 'casa'}"
      ]
     },
     "execution_count": 400,
     "metadata": {},
     "output_type": "execute_result"
    }
   ],
   "source": [
    "w2"
   ]
  },
  {
   "cell_type": "code",
   "execution_count": null,
   "metadata": {
    "collapsed": true
   },
   "outputs": [],
   "source": []
  }
 ],
 "metadata": {
  "kernelspec": {
   "display_name": "Python 3",
   "language": "python",
   "name": "python3"
  },
  "language_info": {
   "codemirror_mode": {
    "name": "ipython",
    "version": 3
   },
   "file_extension": ".py",
   "mimetype": "text/x-python",
   "name": "python",
   "nbconvert_exporter": "python",
   "pygments_lexer": "ipython3",
   "version": "3.6.2"
  },
  "toc": {
   "base_numbering": 1,
   "nav_menu": {
    "height": "418px",
    "width": "426px"
   },
   "number_sections": true,
   "sideBar": true,
   "skip_h1_title": false,
   "title_cell": "Inhaltsverzeichnis",
   "title_sidebar": "Inhalte",
   "toc_cell": true,
   "toc_position": {
    "height": "calc(100% - 180px)",
    "left": "10px",
    "top": "150px",
    "width": "235px"
   },
   "toc_section_display": true,
   "toc_window_display": true
  }
 },
 "nbformat": 4,
 "nbformat_minor": 2
}

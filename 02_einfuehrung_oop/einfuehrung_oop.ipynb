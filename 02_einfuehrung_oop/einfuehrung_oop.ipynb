{
 "cells": [
  {
   "cell_type": "markdown",
   "metadata": {
    "toc": true
   },
   "source": [
    "<h1>Inhalte<span class=\"tocSkip\"></span></h1>\n",
    "<div class=\"toc\"><ul class=\"toc-item\"><li><span><a href=\"#Was-ist-eine-Klasse?\" data-toc-modified-id=\"Was-ist-eine-Klasse?-1\"><span class=\"toc-item-num\">1&nbsp;&nbsp;</span>Was ist eine Klasse?</a></span></li><li><span><a href=\"#Ein-einfaches-erstes-Beispiel\" data-toc-modified-id=\"Ein-einfaches-erstes-Beispiel-2\"><span class=\"toc-item-num\">2&nbsp;&nbsp;</span>Ein einfaches erstes Beispiel</a></span></li><li><span><a href=\"#Informationen-über-das-Objekt-ausgeben\" data-toc-modified-id=\"Informationen-über-das-Objekt-ausgeben-3\"><span class=\"toc-item-num\">3&nbsp;&nbsp;</span>Informationen über das Objekt ausgeben</a></span></li><li><span><a href=\"#Wieso-eigentlich-das-self?\" data-toc-modified-id=\"Wieso-eigentlich-das-self?-4\"><span class=\"toc-item-num\">4&nbsp;&nbsp;</span>Wieso eigentlich das <code>self</code>?</a></span></li><li><span><a href=\"#Dynamische-Typisierung-und-Klassen\" data-toc-modified-id=\"Dynamische-Typisierung-und-Klassen-5\"><span class=\"toc-item-num\">5&nbsp;&nbsp;</span>Dynamische Typisierung und Klassen</a></span></li><li><span><a href=\"#In-Python-ist-alles-ein-Objekt\" data-toc-modified-id=\"In-Python-ist-alles-ein-Objekt-6\"><span class=\"toc-item-num\">6&nbsp;&nbsp;</span>In Python ist alles ein Objekt</a></span></li><li><span><a href=\"#Variablen-referenzieren-nur-Objekte\" data-toc-modified-id=\"Variablen-referenzieren-nur-Objekte-7\"><span class=\"toc-item-num\">7&nbsp;&nbsp;</span>Variablen referenzieren nur Objekte</a></span></li><li><span><a href=\"#Die-__del__-Methode\" data-toc-modified-id=\"Die-__del__-Methode-8\"><span class=\"toc-item-num\">8&nbsp;&nbsp;</span>Die <code>__del__</code> Methode</a></span></li><li><span><a href=\"#Prinzip-der-OOP:-Vererbung\" data-toc-modified-id=\"Prinzip-der-OOP:-Vererbung-9\"><span class=\"toc-item-num\">9&nbsp;&nbsp;</span>Prinzip der OOP: Vererbung</a></span><ul class=\"toc-item\"><li><span><a href=\"#Eine-erstes-Vererbungsbeispiel\" data-toc-modified-id=\"Eine-erstes-Vererbungsbeispiel-9.1\"><span class=\"toc-item-num\">9.1&nbsp;&nbsp;</span>Eine erstes Vererbungsbeispiel</a></span></li><li><span><a href=\"#Überschreiben-von-Methoden-in-abgeleiteten-Klassen\" data-toc-modified-id=\"Überschreiben-von-Methoden-in-abgeleiteten-Klassen-9.2\"><span class=\"toc-item-num\">9.2&nbsp;&nbsp;</span>Überschreiben von Methoden in abgeleiteten Klassen</a></span></li><li><span><a href=\"#Abstrakte-Basis-Klassen\" data-toc-modified-id=\"Abstrakte-Basis-Klassen-9.3\"><span class=\"toc-item-num\">9.3&nbsp;&nbsp;</span>Abstrakte Basis Klassen</a></span></li></ul></li><li><span><a href=\"#Prinzip-der-OOP:-Datenkapselung\" data-toc-modified-id=\"Prinzip-der-OOP:-Datenkapselung-10\"><span class=\"toc-item-num\">10&nbsp;&nbsp;</span>Prinzip der OOP: Datenkapselung</a></span><ul class=\"toc-item\"><li><span><a href=\"#Fehlende-Zugriffsspezifizierer-private,-protected,-public\" data-toc-modified-id=\"Fehlende-Zugriffsspezifizierer-private,-protected,-public-10.1\"><span class=\"toc-item-num\">10.1&nbsp;&nbsp;</span>Fehlende Zugriffsspezifizierer <code>private</code>, <code>protected</code>, <code>public</code></a></span></li><li><span><a href=\"#Ein-Beispiel-zur-Unterstrichtnotation:\" data-toc-modified-id=\"Ein-Beispiel-zur-Unterstrichtnotation:-10.2\"><span class=\"toc-item-num\">10.2&nbsp;&nbsp;</span>Ein Beispiel zur Unterstrichtnotation:</a></span></li><li><span><a href=\"#Also-keine-Datenkapselung?-Doch!\" data-toc-modified-id=\"Also-keine-Datenkapselung?-Doch!-10.3\"><span class=\"toc-item-num\">10.3&nbsp;&nbsp;</span>Also keine Datenkapselung? Doch!</a></span></li><li><span><a href=\"#Zugriff-auf-Variablen-in-abgeleiteten-Klassen\" data-toc-modified-id=\"Zugriff-auf-Variablen-in-abgeleiteten-Klassen-10.4\"><span class=\"toc-item-num\">10.4&nbsp;&nbsp;</span>Zugriff auf Variablen in abgeleiteten Klassen</a></span></li><li><span><a href=\"#Quiz-Time!\" data-toc-modified-id=\"Quiz-Time!-10.5\"><span class=\"toc-item-num\">10.5&nbsp;&nbsp;</span>Quiz-Time!</a></span></li><li><span><a href=\"#Properties\" data-toc-modified-id=\"Properties-10.6\"><span class=\"toc-item-num\">10.6&nbsp;&nbsp;</span>Properties</a></span></li></ul></li></ul></div>"
   ]
  },
  {
   "cell_type": "markdown",
   "metadata": {},
   "source": [
    "# Was ist eine Klasse?\n",
    "\n",
    "Eine Klasse ist eine Vorlage, um Objekte zu erzeugen.\n",
    "\n",
    "Objekte in einer Programmiersprache wiederum bündeln alle Eigenschaften und Funktionen, die zu einem Objekt (\"Ding\") in der Welt gehören.\n",
    "\n",
    "![Szene aus einem Aufbaustrategiespiel](screenshot_aufbaustrategiespiel.png)\n",
    "\n",
    "Quelle: Stronghold Crusader 2 - BUILDING A KINGDOM, https://youtu.be/npD_dvPp49c\n",
    "\n",
    "Jedes mal wenn man die Vorlage (Klasse) verwendet, um ein neues Objekt zu erzeugen, sagt man auch: man erzeugt eine neue *Instanz der Klasse*.\n",
    "\n",
    "Wir könnten viele Listen von Eigenschaften der Objekte in der Spielwelt halten, z.B. für Ritter:\n",
    "\n",
    "    Positionen=[Ritter1, Ritter2, Ritter3, ...] = [(10,3), (20,19), (0,5), ...]\n",
    "    Energiestand=[Ritter1, Ritter2, Ritter3, ...] = [0.5, 0.9, 0.01, ...]\n",
    "    Zielposition=[Ritter1, Ritter2, Ritter3, ...] = [(60,40), (60,40), (60,40), ...]\n",
    "    \n",
    "Dann wird es aber unübersichtlich, was zusammen gehört, denn solche Listen haben wir auch für andere Objekte.\n",
    "\n",
    "Daher bündelt man all die Eigenschaften, die zu einem Objekt gehören in einer Klasse:\n",
    "\n",
    "    Klasse Ritter:\n",
    "    - Position\n",
    "    - Energiestand\n",
    "    - Zielposition\n",
    "    \n",
    "Und statt eine Liste von vielen Funktionen zu haben wie\n",
    "\n",
    "    GeheZuZielPosition(Ritter, ZielPosition)\n",
    "    ErweitereStadtMauer(Höhe)\n",
    "    ProduziereMehl(Mühle,Korn)\n",
    "    \n",
    "bündelt man auch diejenigen Funktionen zu der entsprechende Klasse:\n",
    "\n",
    "    Klasse Ritter:\n",
    "    - Position\n",
    "    - Energiestand\n",
    "    - Zielposition\n",
    "    - GeheZuZielPosition(Ritter, ZielPosition)\n",
    "    \n",
    "Die Funktionen, die zu einer Klasse gehören, nennt man dann auch *Methoden* oder *Klassenmethoden*."
   ]
  },
  {
   "cell_type": "markdown",
   "metadata": {},
   "source": [
    "# Ein einfaches erstes Beispiel"
   ]
  },
  {
   "cell_type": "code",
   "execution_count": 2,
   "metadata": {
    "collapsed": true
   },
   "outputs": [],
   "source": [
    "class zeitreihe:\n",
    "    pass"
   ]
  },
  {
   "cell_type": "markdown",
   "metadata": {},
   "source": [
    "Wir haben eine erste Zeitreihe (die noch nichts kann), aber wir können schon Instanzen hiervon erzeugen:"
   ]
  },
  {
   "cell_type": "code",
   "execution_count": 5,
   "metadata": {
    "collapsed": true
   },
   "outputs": [],
   "source": [
    "z1 = zeitreihe()"
   ]
  },
  {
   "cell_type": "code",
   "execution_count": 7,
   "metadata": {},
   "outputs": [
    {
     "data": {
      "text/plain": [
       "2138025387456"
      ]
     },
     "execution_count": 7,
     "metadata": {},
     "output_type": "execute_result"
    }
   ],
   "source": [
    "id(z1)"
   ]
  },
  {
   "cell_type": "code",
   "execution_count": 8,
   "metadata": {
    "collapsed": true
   },
   "outputs": [],
   "source": [
    "z2 = zeitreihe()"
   ]
  },
  {
   "cell_type": "code",
   "execution_count": 9,
   "metadata": {},
   "outputs": [
    {
     "data": {
      "text/plain": [
       "2138025387680"
      ]
     },
     "execution_count": 9,
     "metadata": {},
     "output_type": "execute_result"
    }
   ],
   "source": [
    "id(z2)"
   ]
  },
  {
   "cell_type": "markdown",
   "metadata": {},
   "source": [
    "Wir wollen der Zeitreihenklasse nun die Möglichkeit geben, einige Dinge zu speichern:"
   ]
  },
  {
   "cell_type": "code",
   "execution_count": 10,
   "metadata": {
    "collapsed": true
   },
   "outputs": [],
   "source": [
    "class zeitreihe:\n",
    "    \n",
    "    def __init__(self, sensortyp, daten, abtastrate, aufnahmedatum):\n",
    "        self.sensortyp = sensortyp\n",
    "        self.daten = daten\n",
    "        self.abtastrate = abtastrate\n",
    "        self.aufnahmedatum = aufnahmedatum"
   ]
  },
  {
   "cell_type": "code",
   "execution_count": 11,
   "metadata": {},
   "outputs": [
    {
     "ename": "TypeError",
     "evalue": "__init__() missing 4 required positional arguments: 'sensortyp', 'daten', 'abtastrate', and 'aufnahmedatum'",
     "output_type": "error",
     "traceback": [
      "\u001b[1;31m---------------------------------------------------------------------------\u001b[0m",
      "\u001b[1;31mTypeError\u001b[0m                                 Traceback (most recent call last)",
      "\u001b[1;32m<ipython-input-11-22bab2caeb6d>\u001b[0m in \u001b[0;36m<module>\u001b[1;34m()\u001b[0m\n\u001b[1;32m----> 1\u001b[1;33m \u001b[0mz1\u001b[0m \u001b[1;33m=\u001b[0m \u001b[0mzeitreihe\u001b[0m\u001b[1;33m(\u001b[0m\u001b[1;33m)\u001b[0m\u001b[1;33m\u001b[0m\u001b[0m\n\u001b[0m",
      "\u001b[1;31mTypeError\u001b[0m: __init__() missing 4 required positional arguments: 'sensortyp', 'daten', 'abtastrate', and 'aufnahmedatum'"
     ]
    }
   ],
   "source": [
    "z1 = zeitreihe()"
   ]
  },
  {
   "cell_type": "code",
   "execution_count": 28,
   "metadata": {
    "collapsed": true
   },
   "outputs": [],
   "source": [
    "from datetime import datetime\n",
    "\n",
    "s = \"abstandssensor\"\n",
    "d = [10, 21, 23, 24, 25, 12]\n",
    "a = 1.0\n",
    "aufdatum = datetime(year=2019, month=3, day=14, hour=10, minute=18, second=33)"
   ]
  },
  {
   "cell_type": "code",
   "execution_count": 29,
   "metadata": {},
   "outputs": [
    {
     "data": {
      "text/plain": [
       "datetime.datetime(2019, 3, 14, 10, 18, 33)"
      ]
     },
     "execution_count": 29,
     "metadata": {},
     "output_type": "execute_result"
    }
   ],
   "source": [
    "aufdatum"
   ]
  },
  {
   "cell_type": "code",
   "execution_count": 30,
   "metadata": {},
   "outputs": [
    {
     "name": "stdout",
     "output_type": "stream",
     "text": [
      "2019-03-14 10:18:33\n"
     ]
    }
   ],
   "source": [
    "print(aufdatum)"
   ]
  },
  {
   "cell_type": "code",
   "execution_count": 34,
   "metadata": {
    "collapsed": true
   },
   "outputs": [],
   "source": [
    "z1 = zeitreihe(s,d,a,aufdatum)"
   ]
  },
  {
   "cell_type": "markdown",
   "metadata": {},
   "source": [
    "Da die Parameter Namen tragen, müssen wir uns aber nicht an die Reihenfolge der Parameter wie in `__init__()` angegeben halten:"
   ]
  },
  {
   "cell_type": "code",
   "execution_count": 37,
   "metadata": {
    "collapsed": true
   },
   "outputs": [],
   "source": [
    "z1 = zeitreihe(aufnahmedatum=aufdatum, daten=d, sensortyp=s, abtastrate=a)"
   ]
  },
  {
   "cell_type": "markdown",
   "metadata": {},
   "source": [
    "# Informationen über das Objekt ausgeben\n",
    "\n",
    "Wir geben unserer Klasse nun auch eine erste \"echte\" Methode `gebe_infos_aus()`:"
   ]
  },
  {
   "cell_type": "code",
   "execution_count": 85,
   "metadata": {
    "collapsed": true
   },
   "outputs": [],
   "source": [
    "class zeitreihe:\n",
    "    \n",
    "    def __init__(self, sensortyp, daten, abtastrate, aufnahmedatum):\n",
    "        self.sensortyp = sensortyp\n",
    "        self.daten = daten\n",
    "        self.abtastrate = abtastrate\n",
    "        self.aufnahmedatum = aufnahmedatum\n",
    "        \n",
    "    def gebe_infos_aus(self):    \n",
    "        print(\"Die Zeitreihe wurde aufgenommen mit: {0}\\n\" \\\n",
    "               \"Es liegen insgesamt {1} Datenpunkte vor\\n\" \\\n",
    "               \"Abtastrate war:  {2} Datenpunkte pro Sekunde\\n\" \\\n",
    "               \"Erster Datenpunkt wurde aufgenommen am: {3}\\n\" \\\n",
    "               .format(\n",
    "                  self.sensortyp,\n",
    "                  len(self.daten),\n",
    "                  self.abtastrate,\n",
    "                  self.aufnahmedatum)\n",
    "             )\n",
    "        "
   ]
  },
  {
   "cell_type": "code",
   "execution_count": 86,
   "metadata": {
    "collapsed": true
   },
   "outputs": [],
   "source": [
    "z1 = zeitreihe(s,d,a,aufdatum)"
   ]
  },
  {
   "cell_type": "code",
   "execution_count": 87,
   "metadata": {},
   "outputs": [
    {
     "name": "stdout",
     "output_type": "stream",
     "text": [
      "Die Zeitreihe wurde aufgenommen mit: abstandssensor\n",
      "Es liegen insgesamt 6 Datenpunkte vor\n",
      "Abtastrate war:  1.0 Datenpunkte pro Sekunde\n",
      "Erster Datenpunkt wurde aufgenommen am: 2019-03-14 10:18:33\n",
      "\n"
     ]
    }
   ],
   "source": [
    "z1.gebe_infos_aus()"
   ]
  },
  {
   "cell_type": "markdown",
   "metadata": {},
   "source": [
    "Nett wäre es nun noch, wenn wir auch mittels `print()` Informationen zum Objekt ausgeben könnten, wie es für andere Python Objekte auch geht:"
   ]
  },
  {
   "cell_type": "code",
   "execution_count": 88,
   "metadata": {},
   "outputs": [
    {
     "name": "stdout",
     "output_type": "stream",
     "text": [
      "2019-03-14 10:18:33\n"
     ]
    }
   ],
   "source": [
    "print(aufdatum)"
   ]
  },
  {
   "cell_type": "code",
   "execution_count": 89,
   "metadata": {},
   "outputs": [
    {
     "name": "stdout",
     "output_type": "stream",
     "text": [
      "<__main__.zeitreihe object at 0x000001F1CC4CB898>\n"
     ]
    }
   ],
   "source": [
    "print(z1)"
   ]
  },
  {
   "cell_type": "markdown",
   "metadata": {},
   "source": [
    "Oder z.B. funktioniert `print()` ja auch mit Dictionaries:"
   ]
  },
  {
   "cell_type": "code",
   "execution_count": 94,
   "metadata": {
    "collapsed": true
   },
   "outputs": [],
   "source": [
    "d = { \"Key1\": 17, \"Key2\": 894 }"
   ]
  },
  {
   "cell_type": "code",
   "execution_count": 96,
   "metadata": {},
   "outputs": [
    {
     "name": "stdout",
     "output_type": "stream",
     "text": [
      "{'Key1': 17, 'Key2': 894}\n"
     ]
    }
   ],
   "source": [
    "print(d)"
   ]
  },
  {
   "cell_type": "code",
   "execution_count": 129,
   "metadata": {
    "collapsed": true
   },
   "outputs": [],
   "source": [
    "class zeitreihe:\n",
    "    \n",
    "    def __init__(self, sensortyp, daten, abtastrate, aufnahmedatum):\n",
    "        self.sensortyp = sensortyp\n",
    "        self.daten = daten\n",
    "        self.abtastrate = abtastrate\n",
    "        self.aufnahmedatum = aufnahmedatum\n",
    "        \n",
    "    def gebe_infos_aus(self):\n",
    "        print(self)\n",
    "        \n",
    "    def __str__(self):\n",
    "        return \"Die Zeitreihe wurde aufgenommen mit: {0}\\n\" \\\n",
    "               \"Es liegen insgesamt {1} Datenpunkte vor\\n\" \\\n",
    "               \"Abtastrate war:  {2} Datenpunkte pro Sekunde\\n\" \\\n",
    "               \"Erster Datenpunkt wurde aufgenommen am: {3}\\n\" \\\n",
    "               .format(\n",
    "                  self.sensortyp,\n",
    "                  len(self.daten),\n",
    "                  self.abtastrate,\n",
    "                  self.aufnahmedatum)\n",
    "        \n",
    "        "
   ]
  },
  {
   "cell_type": "code",
   "execution_count": 130,
   "metadata": {
    "collapsed": true
   },
   "outputs": [],
   "source": [
    "z1 = zeitreihe(s,d,a,aufdatum)"
   ]
  },
  {
   "cell_type": "code",
   "execution_count": 103,
   "metadata": {},
   "outputs": [
    {
     "name": "stdout",
     "output_type": "stream",
     "text": [
      "Die Zeitreihe wurde aufgenommen mit: abstandssensor\n",
      "Es liegen insgesamt 2 Datenpunkte vor\n",
      "Abtastrate war:  1.0 Datenpunkte pro Sekunde\n",
      "Erster Datenpunkt wurde aufgenommen am: 2019-03-14 10:18:33\n",
      "\n"
     ]
    }
   ],
   "source": [
    "print(z1)"
   ]
  },
  {
   "cell_type": "code",
   "execution_count": 104,
   "metadata": {},
   "outputs": [
    {
     "name": "stdout",
     "output_type": "stream",
     "text": [
      "Die Zeitreihe wurde aufgenommen mit: abstandssensor\n",
      "Es liegen insgesamt 2 Datenpunkte vor\n",
      "Abtastrate war:  1.0 Datenpunkte pro Sekunde\n",
      "Erster Datenpunkt wurde aufgenommen am: 2019-03-14 10:18:33\n",
      "\n"
     ]
    }
   ],
   "source": [
    "z1.gebe_infos_aus()"
   ]
  },
  {
   "cell_type": "code",
   "execution_count": 107,
   "metadata": {},
   "outputs": [
    {
     "name": "stdout",
     "output_type": "stream",
     "text": [
      "Hier sind einige Infos über deine Zeitreihe:\n",
      "Die Zeitreihe wurde aufgenommen mit: abstandssensor\n",
      "Es liegen insgesamt 2 Datenpunkte vor\n",
      "Abtastrate war:  1.0 Datenpunkte pro Sekunde\n",
      "Erster Datenpunkt wurde aufgenommen am: 2019-03-14 10:18:33\n",
      "\n"
     ]
    }
   ],
   "source": [
    "print(\"Hier sind einige Infos über deine Zeitreihe:\\n\" + str(z1))"
   ]
  },
  {
   "cell_type": "markdown",
   "metadata": {},
   "source": [
    "# Wieso eigentlich das `self`?"
   ]
  },
  {
   "cell_type": "markdown",
   "metadata": {},
   "source": [
    "Hierzu ein \"Easter egg\", das in Python versteckt ist:"
   ]
  },
  {
   "cell_type": "code",
   "execution_count": 108,
   "metadata": {},
   "outputs": [
    {
     "name": "stdout",
     "output_type": "stream",
     "text": [
      "The Zen of Python, by Tim Peters\n",
      "\n",
      "Beautiful is better than ugly.\n",
      "Explicit is better than implicit.\n",
      "Simple is better than complex.\n",
      "Complex is better than complicated.\n",
      "Flat is better than nested.\n",
      "Sparse is better than dense.\n",
      "Readability counts.\n",
      "Special cases aren't special enough to break the rules.\n",
      "Although practicality beats purity.\n",
      "Errors should never pass silently.\n",
      "Unless explicitly silenced.\n",
      "In the face of ambiguity, refuse the temptation to guess.\n",
      "There should be one-- and preferably only one --obvious way to do it.\n",
      "Although that way may not be obvious at first unless you're Dutch.\n",
      "Now is better than never.\n",
      "Although never is often better than *right* now.\n",
      "If the implementation is hard to explain, it's a bad idea.\n",
      "If the implementation is easy to explain, it may be a good idea.\n",
      "Namespaces are one honking great idea -- let's do more of those!\n"
     ]
    }
   ],
   "source": [
    "import this"
   ]
  },
  {
   "cell_type": "markdown",
   "metadata": {},
   "source": [
    "Dies sind einige der wichtigsten Design-Regeln, nach denen Python entwickelt wurde und weiterhin wird.\n",
    "\n",
    "Das `self` passt gut zur Python 2. Design-Regel:\n",
    "\n",
    "    \"Explicit is better than implicit\"\n",
    "    \n",
    "Die Funktionen, die in der Klasse `zeitreihe` definiert sind, müssen stets für ein konkretes Objekt aufgerufen werden und nicht für alle. Welches Objekt hier gemeint ist, wird durch\n",
    "den `self` Parameter **explizit** angegeben.\n",
    "\n",
    "Auf der Aufrufseite\n",
    "\n",
    "z1.gebe_infos_aus()\n",
    "\n",
    "geben wir das Objekt explizit an. Wir wollen `gebe_infos_aus()` heute für das Objekt `z1` aufrufen.\n",
    "\n",
    "Auf der Funktionsdefinitionsseite `gebe_infos_aus()` ist es daher naheliegend die Identität des Objektes, für das den Funktionsaufruf gilt, auch explizit zu machen.\n",
    "\n",
    "Der Aufruf"
   ]
  },
  {
   "cell_type": "code",
   "execution_count": 112,
   "metadata": {},
   "outputs": [
    {
     "name": "stdout",
     "output_type": "stream",
     "text": [
      "Die Zeitreihe wurde aufgenommen mit: abstandssensor\n",
      "Es liegen insgesamt 2 Datenpunkte vor\n",
      "Abtastrate war:  1.0 Datenpunkte pro Sekunde\n",
      "Erster Datenpunkt wurde aufgenommen am: 2019-03-14 10:18:33\n",
      "\n"
     ]
    }
   ],
   "source": [
    "z1.gebe_infos_aus()"
   ]
  },
  {
   "cell_type": "markdown",
   "metadata": {},
   "source": [
    "ist dabei auch gleichbedeutend mit"
   ]
  },
  {
   "cell_type": "code",
   "execution_count": 114,
   "metadata": {},
   "outputs": [
    {
     "name": "stdout",
     "output_type": "stream",
     "text": [
      "Die Zeitreihe wurde aufgenommen mit: abstandssensor\n",
      "Es liegen insgesamt 2 Datenpunkte vor\n",
      "Abtastrate war:  1.0 Datenpunkte pro Sekunde\n",
      "Erster Datenpunkt wurde aufgenommen am: 2019-03-14 10:18:33\n",
      "\n"
     ]
    }
   ],
   "source": [
    "zeitreihe.gebe_infos_aus(z1)"
   ]
  },
  {
   "cell_type": "markdown",
   "metadata": {},
   "source": [
    "bei dem das Objekt als Funktionsargument angegeben wurde."
   ]
  },
  {
   "cell_type": "markdown",
   "metadata": {},
   "source": [
    "# Dynamische Typisierung und Klassen"
   ]
  },
  {
   "cell_type": "markdown",
   "metadata": {},
   "source": [
    "Man sollte einen wichtigen Unterschied zu C und C++ berücksichtigen. In der `__init__` Methode werden dynamisch die Membervariablen erzeugt! Erinnern Sie sich, dass Python dynamisch Variablen anlegt. Es gibt hier nicht wie in C und C++ statische Variablendeklarationen.\n",
    "\n",
    "Das sollen folgende Beispiele verdeutlichen!"
   ]
  },
  {
   "cell_type": "code",
   "execution_count": 149,
   "metadata": {
    "collapsed": true
   },
   "outputs": [],
   "source": [
    "class zeitreihe:\n",
    "    pass"
   ]
  },
  {
   "cell_type": "code",
   "execution_count": 150,
   "metadata": {
    "collapsed": true
   },
   "outputs": [],
   "source": [
    "z1 = zeitreihe()"
   ]
  },
  {
   "cell_type": "code",
   "execution_count": 151,
   "metadata": {
    "collapsed": true
   },
   "outputs": [],
   "source": [
    "z1.sensortyp = \"abstandssensor\""
   ]
  },
  {
   "cell_type": "code",
   "execution_count": 152,
   "metadata": {
    "collapsed": true
   },
   "outputs": [],
   "source": [
    "z2 = zeitreihe()"
   ]
  },
  {
   "cell_type": "code",
   "execution_count": 153,
   "metadata": {},
   "outputs": [
    {
     "name": "stdout",
     "output_type": "stream",
     "text": [
      "abstandssensor\n"
     ]
    }
   ],
   "source": [
    "print(z1.sensortyp)"
   ]
  },
  {
   "cell_type": "code",
   "execution_count": 154,
   "metadata": {},
   "outputs": [
    {
     "ename": "AttributeError",
     "evalue": "'zeitreihe' object has no attribute 'sensortyp'",
     "output_type": "error",
     "traceback": [
      "\u001b[1;31m---------------------------------------------------------------------------\u001b[0m",
      "\u001b[1;31mAttributeError\u001b[0m                            Traceback (most recent call last)",
      "\u001b[1;32m<ipython-input-154-d092e0a33a6d>\u001b[0m in \u001b[0;36m<module>\u001b[1;34m()\u001b[0m\n\u001b[1;32m----> 1\u001b[1;33m \u001b[0mprint\u001b[0m\u001b[1;33m(\u001b[0m\u001b[0mz2\u001b[0m\u001b[1;33m.\u001b[0m\u001b[0msensortyp\u001b[0m\u001b[1;33m)\u001b[0m\u001b[1;33m\u001b[0m\u001b[0m\n\u001b[0m",
      "\u001b[1;31mAttributeError\u001b[0m: 'zeitreihe' object has no attribute 'sensortyp'"
     ]
    }
   ],
   "source": [
    "print(z2.sensortyp)"
   ]
  },
  {
   "cell_type": "markdown",
   "metadata": {},
   "source": [
    "Wir können auch Python's eingebaute `dir` Funktion verwenden, um uns eine Liste aller Attribute eines Objektes ausgeben zu lass"
   ]
  },
  {
   "cell_type": "code",
   "execution_count": 155,
   "metadata": {},
   "outputs": [
    {
     "data": {
      "text/plain": [
       "['__class__',\n",
       " '__delattr__',\n",
       " '__dict__',\n",
       " '__dir__',\n",
       " '__doc__',\n",
       " '__eq__',\n",
       " '__format__',\n",
       " '__ge__',\n",
       " '__getattribute__',\n",
       " '__gt__',\n",
       " '__hash__',\n",
       " '__init__',\n",
       " '__init_subclass__',\n",
       " '__le__',\n",
       " '__lt__',\n",
       " '__module__',\n",
       " '__ne__',\n",
       " '__new__',\n",
       " '__reduce__',\n",
       " '__reduce_ex__',\n",
       " '__repr__',\n",
       " '__setattr__',\n",
       " '__sizeof__',\n",
       " '__str__',\n",
       " '__subclasshook__',\n",
       " '__weakref__',\n",
       " 'sensortyp']"
      ]
     },
     "execution_count": 155,
     "metadata": {},
     "output_type": "execute_result"
    }
   ],
   "source": [
    "dir(z1)"
   ]
  },
  {
   "cell_type": "markdown",
   "metadata": {},
   "source": [
    "z1 hat ein Attribut `sensortyp`, während z2 es nicht hat:"
   ]
  },
  {
   "cell_type": "code",
   "execution_count": 156,
   "metadata": {},
   "outputs": [
    {
     "data": {
      "text/plain": [
       "['__class__',\n",
       " '__delattr__',\n",
       " '__dict__',\n",
       " '__dir__',\n",
       " '__doc__',\n",
       " '__eq__',\n",
       " '__format__',\n",
       " '__ge__',\n",
       " '__getattribute__',\n",
       " '__gt__',\n",
       " '__hash__',\n",
       " '__init__',\n",
       " '__init_subclass__',\n",
       " '__le__',\n",
       " '__lt__',\n",
       " '__module__',\n",
       " '__ne__',\n",
       " '__new__',\n",
       " '__reduce__',\n",
       " '__reduce_ex__',\n",
       " '__repr__',\n",
       " '__setattr__',\n",
       " '__sizeof__',\n",
       " '__str__',\n",
       " '__subclasshook__',\n",
       " '__weakref__']"
      ]
     },
     "execution_count": 156,
     "metadata": {},
     "output_type": "execute_result"
    }
   ],
   "source": [
    "dir(z2)"
   ]
  },
  {
   "cell_type": "markdown",
   "metadata": {},
   "source": [
    "Die Attribute eines Objektes werden übrigens in `__dict__` gespeichert: einem Dictionary!"
   ]
  },
  {
   "cell_type": "code",
   "execution_count": 157,
   "metadata": {},
   "outputs": [
    {
     "data": {
      "text/plain": [
       "{'sensortyp': 'abstandssensor'}"
      ]
     },
     "execution_count": 157,
     "metadata": {},
     "output_type": "execute_result"
    }
   ],
   "source": [
    "z1.__dict__"
   ]
  },
  {
   "cell_type": "markdown",
   "metadata": {},
   "source": [
    "Die Attribute eines Objektes können nicht nur dynamisch erzeugt werden. Wir können sie auch dynamisch wieder löschen!"
   ]
  },
  {
   "cell_type": "code",
   "execution_count": 158,
   "metadata": {
    "collapsed": true
   },
   "outputs": [],
   "source": [
    "class zeitreihe:\n",
    "    \n",
    "    def __init__(self, sensortyp, daten, abtastrate, aufnahmedatum):\n",
    "        self.sensortyp = sensortyp\n",
    "        self.daten = daten\n",
    "        self.abtastrate = abtastrate\n",
    "        self.aufnahmedatum = aufnahmedatum\n",
    "        \n",
    "    def gebe_infos_aus(self):\n",
    "        print(self)\n",
    "        \n",
    "    def __str__(self):\n",
    "        return \"Die Zeitreihe wurde aufgenommen mit: {0}\\n\" \\\n",
    "               \"Es liegen insgesamt {1} Datenpunkte vor\\n\" \\\n",
    "               \"Abtastrate war:  {2} Datenpunkte pro Sekunde\\n\" \\\n",
    "               \"Erster Datenpunkt wurde aufgenommen am: {3}\\n\" \\\n",
    "               .format(\n",
    "                  self.sensortyp,\n",
    "                  len(self.daten),\n",
    "                  self.abtastrate,\n",
    "                  self.aufnahmedatum)"
   ]
  },
  {
   "cell_type": "code",
   "execution_count": 159,
   "metadata": {
    "collapsed": true
   },
   "outputs": [],
   "source": [
    "z1 = zeitreihe(s,d,a,aufdatum)"
   ]
  },
  {
   "cell_type": "code",
   "execution_count": 160,
   "metadata": {},
   "outputs": [
    {
     "name": "stdout",
     "output_type": "stream",
     "text": [
      "Die Zeitreihe wurde aufgenommen mit: abstandssensor\n",
      "Es liegen insgesamt 2 Datenpunkte vor\n",
      "Abtastrate war:  1.0 Datenpunkte pro Sekunde\n",
      "Erster Datenpunkt wurde aufgenommen am: 2019-03-14 10:18:33\n",
      "\n"
     ]
    }
   ],
   "source": [
    "print(z1)"
   ]
  },
  {
   "cell_type": "code",
   "execution_count": 161,
   "metadata": {},
   "outputs": [
    {
     "data": {
      "text/plain": [
       "{'abtastrate': 1.0,\n",
       " 'aufnahmedatum': datetime.datetime(2019, 3, 14, 10, 18, 33),\n",
       " 'daten': {'Key1': 17, 'Key2': 894},\n",
       " 'sensortyp': 'abstandssensor'}"
      ]
     },
     "execution_count": 161,
     "metadata": {},
     "output_type": "execute_result"
    }
   ],
   "source": [
    "z1.__dict__"
   ]
  },
  {
   "cell_type": "code",
   "execution_count": 162,
   "metadata": {
    "collapsed": true
   },
   "outputs": [],
   "source": [
    "del z1.daten"
   ]
  },
  {
   "cell_type": "code",
   "execution_count": 163,
   "metadata": {},
   "outputs": [
    {
     "data": {
      "text/plain": [
       "{'abtastrate': 1.0,\n",
       " 'aufnahmedatum': datetime.datetime(2019, 3, 14, 10, 18, 33),\n",
       " 'sensortyp': 'abstandssensor'}"
      ]
     },
     "execution_count": 163,
     "metadata": {},
     "output_type": "execute_result"
    }
   ],
   "source": [
    "z1.__dict__"
   ]
  },
  {
   "cell_type": "code",
   "execution_count": 164,
   "metadata": {},
   "outputs": [
    {
     "data": {
      "text/plain": [
       "{}"
      ]
     },
     "execution_count": 164,
     "metadata": {},
     "output_type": "execute_result"
    }
   ],
   "source": [
    "z2.__dict__"
   ]
  },
  {
   "cell_type": "markdown",
   "metadata": {},
   "source": [
    "Jetzt gibt es natürlich Probleme, wenn wir `gebe_infos_aus()` aufrufen, denn es gibt ja `z1.daten` nicht mehr!"
   ]
  },
  {
   "cell_type": "code",
   "execution_count": 169,
   "metadata": {},
   "outputs": [
    {
     "ename": "AttributeError",
     "evalue": "'zeitreihe' object has no attribute 'daten'",
     "output_type": "error",
     "traceback": [
      "\u001b[1;31m---------------------------------------------------------------------------\u001b[0m",
      "\u001b[1;31mAttributeError\u001b[0m                            Traceback (most recent call last)",
      "\u001b[1;32m<ipython-input-169-72e0209c6b4c>\u001b[0m in \u001b[0;36m<module>\u001b[1;34m()\u001b[0m\n\u001b[1;32m----> 1\u001b[1;33m \u001b[0mz1\u001b[0m\u001b[1;33m.\u001b[0m\u001b[0mgebe_infos_aus\u001b[0m\u001b[1;33m(\u001b[0m\u001b[1;33m)\u001b[0m\u001b[1;33m\u001b[0m\u001b[0m\n\u001b[0m",
      "\u001b[1;32m<ipython-input-158-57f739215742>\u001b[0m in \u001b[0;36mgebe_infos_aus\u001b[1;34m(self)\u001b[0m\n\u001b[0;32m      8\u001b[0m \u001b[1;33m\u001b[0m\u001b[0m\n\u001b[0;32m      9\u001b[0m     \u001b[1;32mdef\u001b[0m \u001b[0mgebe_infos_aus\u001b[0m\u001b[1;33m(\u001b[0m\u001b[0mself\u001b[0m\u001b[1;33m)\u001b[0m\u001b[1;33m:\u001b[0m\u001b[1;33m\u001b[0m\u001b[0m\n\u001b[1;32m---> 10\u001b[1;33m         \u001b[0mprint\u001b[0m\u001b[1;33m(\u001b[0m\u001b[0mself\u001b[0m\u001b[1;33m)\u001b[0m\u001b[1;33m\u001b[0m\u001b[0m\n\u001b[0m\u001b[0;32m     11\u001b[0m \u001b[1;33m\u001b[0m\u001b[0m\n\u001b[0;32m     12\u001b[0m     \u001b[1;32mdef\u001b[0m \u001b[0m__str__\u001b[0m\u001b[1;33m(\u001b[0m\u001b[0mself\u001b[0m\u001b[1;33m)\u001b[0m\u001b[1;33m:\u001b[0m\u001b[1;33m\u001b[0m\u001b[0m\n",
      "\u001b[1;32m<ipython-input-158-57f739215742>\u001b[0m in \u001b[0;36m__str__\u001b[1;34m(self)\u001b[0m\n\u001b[0;32m     13\u001b[0m         return \"Die Zeitreihe wurde aufgenommen mit: {0}\\n\"                \"Es liegen insgesamt {1} Datenpunkte vor\\n\"                \"Abtastrate war:  {2} Datenpunkte pro Sekunde\\n\"                \"Erster Datenpunkt wurde aufgenommen am: {3}\\n\"                .format(\n\u001b[0;32m     14\u001b[0m                   \u001b[0mself\u001b[0m\u001b[1;33m.\u001b[0m\u001b[0msensortyp\u001b[0m\u001b[1;33m,\u001b[0m\u001b[1;33m\u001b[0m\u001b[0m\n\u001b[1;32m---> 15\u001b[1;33m                   \u001b[0mlen\u001b[0m\u001b[1;33m(\u001b[0m\u001b[0mself\u001b[0m\u001b[1;33m.\u001b[0m\u001b[0mdaten\u001b[0m\u001b[1;33m)\u001b[0m\u001b[1;33m,\u001b[0m\u001b[1;33m\u001b[0m\u001b[0m\n\u001b[0m\u001b[0;32m     16\u001b[0m                   \u001b[0mself\u001b[0m\u001b[1;33m.\u001b[0m\u001b[0mabtastrate\u001b[0m\u001b[1;33m,\u001b[0m\u001b[1;33m\u001b[0m\u001b[0m\n\u001b[0;32m     17\u001b[0m                   self.aufnahmedatum)\n",
      "\u001b[1;31mAttributeError\u001b[0m: 'zeitreihe' object has no attribute 'daten'"
     ]
    }
   ],
   "source": [
    "z1.gebe_infos_aus()"
   ]
  },
  {
   "cell_type": "code",
   "execution_count": 170,
   "metadata": {},
   "outputs": [
    {
     "ename": "AttributeError",
     "evalue": "'zeitreihe' object has no attribute 'daten'",
     "output_type": "error",
     "traceback": [
      "\u001b[1;31m---------------------------------------------------------------------------\u001b[0m",
      "\u001b[1;31mAttributeError\u001b[0m                            Traceback (most recent call last)",
      "\u001b[1;32m<ipython-input-170-54e413187b22>\u001b[0m in \u001b[0;36m<module>\u001b[1;34m()\u001b[0m\n\u001b[1;32m----> 1\u001b[1;33m \u001b[0mprint\u001b[0m\u001b[1;33m(\u001b[0m\u001b[0mz1\u001b[0m\u001b[1;33m)\u001b[0m\u001b[1;33m\u001b[0m\u001b[0m\n\u001b[0m",
      "\u001b[1;32m<ipython-input-158-57f739215742>\u001b[0m in \u001b[0;36m__str__\u001b[1;34m(self)\u001b[0m\n\u001b[0;32m     13\u001b[0m         return \"Die Zeitreihe wurde aufgenommen mit: {0}\\n\"                \"Es liegen insgesamt {1} Datenpunkte vor\\n\"                \"Abtastrate war:  {2} Datenpunkte pro Sekunde\\n\"                \"Erster Datenpunkt wurde aufgenommen am: {3}\\n\"                .format(\n\u001b[0;32m     14\u001b[0m                   \u001b[0mself\u001b[0m\u001b[1;33m.\u001b[0m\u001b[0msensortyp\u001b[0m\u001b[1;33m,\u001b[0m\u001b[1;33m\u001b[0m\u001b[0m\n\u001b[1;32m---> 15\u001b[1;33m                   \u001b[0mlen\u001b[0m\u001b[1;33m(\u001b[0m\u001b[0mself\u001b[0m\u001b[1;33m.\u001b[0m\u001b[0mdaten\u001b[0m\u001b[1;33m)\u001b[0m\u001b[1;33m,\u001b[0m\u001b[1;33m\u001b[0m\u001b[0m\n\u001b[0m\u001b[0;32m     16\u001b[0m                   \u001b[0mself\u001b[0m\u001b[1;33m.\u001b[0m\u001b[0mabtastrate\u001b[0m\u001b[1;33m,\u001b[0m\u001b[1;33m\u001b[0m\u001b[0m\n\u001b[0;32m     17\u001b[0m                   self.aufnahmedatum)\n",
      "\u001b[1;31mAttributeError\u001b[0m: 'zeitreihe' object has no attribute 'daten'"
     ]
    }
   ],
   "source": [
    "print(z1)"
   ]
  },
  {
   "cell_type": "markdown",
   "metadata": {},
   "source": [
    "Man könnte nun meinen, dass man auch Methoden dynamisch löschen könnte. Aber diese gehörem nicht zum Objekt, sondern zur Klasse (Vorlage), da sie nur 1x im Speicher gehalten werden. Ein Löschen ist daher nicht möglich!"
   ]
  },
  {
   "cell_type": "code",
   "execution_count": 174,
   "metadata": {},
   "outputs": [
    {
     "ename": "SyntaxError",
     "evalue": "can't delete function call (<ipython-input-174-de1616efb6d5>, line 1)",
     "output_type": "error",
     "traceback": [
      "\u001b[1;36m  File \u001b[1;32m\"<ipython-input-174-de1616efb6d5>\"\u001b[1;36m, line \u001b[1;32m1\u001b[0m\n\u001b[1;33m    del z1.gebe_infos_aus()\u001b[0m\n\u001b[1;37m       ^\u001b[0m\n\u001b[1;31mSyntaxError\u001b[0m\u001b[1;31m:\u001b[0m can't delete function call\n"
     ]
    }
   ],
   "source": [
    "del z1.gebe_infos_aus()"
   ]
  },
  {
   "cell_type": "markdown",
   "metadata": {},
   "source": [
    "# In Python ist alles ein Objekt\n",
    "\n",
    "Die Variablen(namen) referenzieren nur das Objekt"
   ]
  },
  {
   "cell_type": "code",
   "execution_count": 188,
   "metadata": {
    "collapsed": true
   },
   "outputs": [],
   "source": [
    "zahl1 = 1.2345"
   ]
  },
  {
   "cell_type": "code",
   "execution_count": 189,
   "metadata": {},
   "outputs": [
    {
     "name": "stdout",
     "output_type": "stream",
     "text": [
      "<class 'float'>\n"
     ]
    }
   ],
   "source": [
    "print( type(zahl1) )"
   ]
  },
  {
   "cell_type": "code",
   "execution_count": 193,
   "metadata": {
    "collapsed": true
   },
   "outputs": [],
   "source": [
    "zk = \"Zeichenkettenbeispiel\""
   ]
  },
  {
   "cell_type": "code",
   "execution_count": 194,
   "metadata": {},
   "outputs": [
    {
     "name": "stdout",
     "output_type": "stream",
     "text": [
      "<class 'str'>\n"
     ]
    }
   ],
   "source": [
    "print( type(zk) )"
   ]
  },
  {
   "cell_type": "code",
   "execution_count": 195,
   "metadata": {
    "collapsed": true
   },
   "outputs": [],
   "source": [
    "def foo():\n",
    "    return 42"
   ]
  },
  {
   "cell_type": "code",
   "execution_count": 196,
   "metadata": {},
   "outputs": [
    {
     "name": "stdout",
     "output_type": "stream",
     "text": [
      "<class 'function'>\n"
     ]
    }
   ],
   "source": [
    "print( type(foo) )"
   ]
  },
  {
   "cell_type": "code",
   "execution_count": 198,
   "metadata": {},
   "outputs": [
    {
     "name": "stdout",
     "output_type": "stream",
     "text": [
      "<class 'module'>\n"
     ]
    }
   ],
   "source": [
    "import math\n",
    "print( type(math) )"
   ]
  },
  {
   "cell_type": "code",
   "execution_count": 199,
   "metadata": {
    "collapsed": true
   },
   "outputs": [],
   "source": [
    "class klasse123:\n",
    "    pass"
   ]
  },
  {
   "cell_type": "code",
   "execution_count": 201,
   "metadata": {},
   "outputs": [
    {
     "name": "stdout",
     "output_type": "stream",
     "text": [
      "<class 'type'>\n"
     ]
    }
   ],
   "source": [
    "print( type(klasse123) )"
   ]
  },
  {
   "cell_type": "markdown",
   "metadata": {},
   "source": [
    "# Variablen referenzieren nur Objekte"
   ]
  },
  {
   "cell_type": "code",
   "execution_count": 202,
   "metadata": {
    "collapsed": true
   },
   "outputs": [],
   "source": [
    "x = 41"
   ]
  },
  {
   "cell_type": "code",
   "execution_count": 210,
   "metadata": {},
   "outputs": [
    {
     "name": "stdout",
     "output_type": "stream",
     "text": [
      "<class 'int'>\n"
     ]
    }
   ],
   "source": [
    "print( type(x) )"
   ]
  },
  {
   "cell_type": "code",
   "execution_count": 203,
   "metadata": {},
   "outputs": [
    {
     "data": {
      "text/plain": [
       "1870393712"
      ]
     },
     "execution_count": 203,
     "metadata": {},
     "output_type": "execute_result"
    }
   ],
   "source": [
    "id(x)"
   ]
  },
  {
   "cell_type": "code",
   "execution_count": 204,
   "metadata": {
    "collapsed": true
   },
   "outputs": [],
   "source": [
    "def foo():\n",
    "    print(\"x=\",x, \"id(x)=\",id(x))    "
   ]
  },
  {
   "cell_type": "code",
   "execution_count": 205,
   "metadata": {},
   "outputs": [
    {
     "name": "stdout",
     "output_type": "stream",
     "text": [
      "x= 41 id(x)= 1870393712\n"
     ]
    }
   ],
   "source": [
    "foo()"
   ]
  },
  {
   "cell_type": "code",
   "execution_count": 206,
   "metadata": {
    "collapsed": true
   },
   "outputs": [],
   "source": [
    "def foo(a):\n",
    "    print(\"a=\",a, \"id(a)=\",id(a))"
   ]
  },
  {
   "cell_type": "code",
   "execution_count": 207,
   "metadata": {},
   "outputs": [
    {
     "name": "stdout",
     "output_type": "stream",
     "text": [
      "a= 41 id(a)= 1870393712\n"
     ]
    }
   ],
   "source": [
    "foo(x)"
   ]
  },
  {
   "cell_type": "code",
   "execution_count": 208,
   "metadata": {
    "collapsed": true
   },
   "outputs": [],
   "source": [
    "def foo(a):\n",
    "    print(\"a=\",a, \"id(a)=\",id(a))\n",
    "    a = 42\n",
    "    print(\"a=\",a, \"id(a)=\",id(a))"
   ]
  },
  {
   "cell_type": "code",
   "execution_count": 209,
   "metadata": {},
   "outputs": [
    {
     "name": "stdout",
     "output_type": "stream",
     "text": [
      "a= 41 id(a)= 1870393712\n",
      "a= 42 id(a)= 1870393744\n"
     ]
    }
   ],
   "source": [
    "foo(x)"
   ]
  },
  {
   "cell_type": "code",
   "execution_count": 211,
   "metadata": {
    "collapsed": true
   },
   "outputs": [],
   "source": [
    "def foo(a):\n",
    "    print(\"a=\",a, \"id(a)=\",id(a))\n",
    "    a.append( 42 )\n",
    "    print(\"a=\",a, \"id(a)=\",id(a))"
   ]
  },
  {
   "cell_type": "code",
   "execution_count": 212,
   "metadata": {
    "collapsed": true
   },
   "outputs": [],
   "source": [
    "a = [1,2,3]"
   ]
  },
  {
   "cell_type": "code",
   "execution_count": 213,
   "metadata": {},
   "outputs": [
    {
     "name": "stdout",
     "output_type": "stream",
     "text": [
      "<class 'list'>\n"
     ]
    }
   ],
   "source": [
    "print(type(a))"
   ]
  },
  {
   "cell_type": "code",
   "execution_count": 214,
   "metadata": {},
   "outputs": [
    {
     "data": {
      "text/plain": [
       "2138026483016"
      ]
     },
     "execution_count": 214,
     "metadata": {},
     "output_type": "execute_result"
    }
   ],
   "source": [
    "id(a)"
   ]
  },
  {
   "cell_type": "markdown",
   "metadata": {},
   "source": [
    "Quiz-Time!\n",
    "\n",
    "Was passiert, wenn ich nun das Objekt, das `a` referenziert, verändere, z.B. in dem ich den Wert 42 hinzufüge. Wird die zweite ausgegebene ID gleich oder verschieden sein?"
   ]
  },
  {
   "cell_type": "code",
   "execution_count": 215,
   "metadata": {},
   "outputs": [
    {
     "name": "stdout",
     "output_type": "stream",
     "text": [
      "a= [1, 2, 3] id(a)= 2138026483016\n",
      "a= [1, 2, 3, 42] id(a)= 2138026483016\n"
     ]
    }
   ],
   "source": [
    "foo( a )"
   ]
  },
  {
   "cell_type": "markdown",
   "metadata": {},
   "source": [
    "D.h. die Liste hat sich verändert. Es ist aber immer noch das gleiche Listenobjekt!\n",
    "\n",
    "\n",
    "Quiz-Time!\n",
    "\n",
    "Und was ist im folgenden Fall?"
   ]
  },
  {
   "cell_type": "code",
   "execution_count": 218,
   "metadata": {
    "collapsed": true
   },
   "outputs": [],
   "source": [
    "def foo(a):\n",
    "    print(\"a=\",a, \"id(a)=\",id(a))\n",
    "    a = [10,11,12]\n",
    "    print(\"a=\",a, \"id(a)=\",id(a))"
   ]
  },
  {
   "cell_type": "code",
   "execution_count": 219,
   "metadata": {},
   "outputs": [
    {
     "name": "stdout",
     "output_type": "stream",
     "text": [
      "a= [1, 2, 3, 42] id(a)= 2138026483016\n",
      "a= [10, 11, 12] id(a)= 2138026187464\n"
     ]
    }
   ],
   "source": [
    "foo(a)"
   ]
  },
  {
   "cell_type": "markdown",
   "metadata": {},
   "source": [
    "Quiz-Time!\n",
    "\n",
    "Wir die Identität von x und y gleich sein oder verschieden?"
   ]
  },
  {
   "cell_type": "code",
   "execution_count": 221,
   "metadata": {},
   "outputs": [
    {
     "name": "stdout",
     "output_type": "stream",
     "text": [
      "2138026517808\n",
      "2138026517808\n"
     ]
    }
   ],
   "source": [
    "x = 1234\n",
    "y = x\n",
    "print(id(x))\n",
    "print(id(y))"
   ]
  },
  {
   "cell_type": "code",
   "execution_count": 223,
   "metadata": {},
   "outputs": [
    {
     "name": "stdout",
     "output_type": "stream",
     "text": [
      "2138026186992\n",
      "2138026186992\n",
      "2138026186992\n"
     ]
    }
   ],
   "source": [
    "x = \"Hallo Welt!\"\n",
    "y = x\n",
    "z = y\n",
    "print(id(x))\n",
    "print(id(y))\n",
    "print(id(z))"
   ]
  },
  {
   "cell_type": "code",
   "execution_count": 224,
   "metadata": {},
   "outputs": [
    {
     "name": "stdout",
     "output_type": "stream",
     "text": [
      "2138026186288\n",
      "2138026432048\n"
     ]
    }
   ],
   "source": [
    "x = \"Hallo Welt!\"\n",
    "y = \"Hallo Welt!\"\n",
    "print(id(x))\n",
    "print(id(y))"
   ]
  },
  {
   "cell_type": "markdown",
   "metadata": {},
   "source": [
    "Es ist hier - bei dem Beispiel mit den identischen Strings \"Hallo Welt!\" - der Implementierung des Python-Interpeters überlassen, ob x und y erstmal auf das gleiche Objekt zeigen oder nicht:\n",
    "\n",
    ">Each implementation of the Python language is free to make its own tradeoffs in allocating immutable objects (such as strings) -- either making a new one, or finding an existing equal one and using one more reference to it, are just fine from the language's point of view.\n",
    "\n",
    "Source: https://stackoverflow.com/questions/2123925/when-does-python-allocate-new-memory-for-identical-strings"
   ]
  },
  {
   "cell_type": "code",
   "execution_count": 227,
   "metadata": {},
   "outputs": [
    {
     "name": "stdout",
     "output_type": "stream",
     "text": [
      "2138026517776\n",
      "2138026518000\n"
     ]
    }
   ],
   "source": [
    "x = 999\n",
    "y = 999\n",
    "print(id(x))\n",
    "print(id(y))"
   ]
  },
  {
   "cell_type": "code",
   "execution_count": 228,
   "metadata": {},
   "outputs": [
    {
     "name": "stdout",
     "output_type": "stream",
     "text": [
      "2138026518032\n",
      "2138026518032\n"
     ]
    }
   ],
   "source": [
    "x = 999\n",
    "y = x\n",
    "print(id(x))\n",
    "print(id(y))"
   ]
  },
  {
   "cell_type": "code",
   "execution_count": 230,
   "metadata": {},
   "outputs": [
    {
     "name": "stdout",
     "output_type": "stream",
     "text": [
      "2138026518032\n",
      "2138026517936\n"
     ]
    }
   ],
   "source": [
    "y = 1000\n",
    "print(id(x))\n",
    "print(id(y))"
   ]
  },
  {
   "cell_type": "markdown",
   "metadata": {},
   "source": [
    "# Die `__del__` Methode"
   ]
  },
  {
   "cell_type": "markdown",
   "metadata": {},
   "source": [
    "Wenn keine Variable ein Objekt mehr referenziert, kann das Objekt gelöscht werden.\n",
    "\n",
    "Darum kümmert sich der sog. `Garbage collector` automatisch.\n",
    "\n",
    "Bevor das Objekt wirklich gelöscht wird, wird jedoch noch die `__del__` Methode der entsprechenden Klasse aufgerufen. Damit kann man \"Aufräumarbeiten\", wie z.B. Wegspeichern von Daten in einer Datei, Herunterfahren von Hardware, etc. durchführen.\n"
   ]
  },
  {
   "cell_type": "code",
   "execution_count": 231,
   "metadata": {
    "collapsed": true
   },
   "outputs": [],
   "source": [
    "class zeitreihe:\n",
    "    \n",
    "    def __init__(self, sensortyp, daten, abtastrate, aufnahmedatum):\n",
    "        self.sensortyp = sensortyp\n",
    "        self.daten = daten\n",
    "        self.abtastrate = abtastrate\n",
    "        self.aufnahmedatum = aufnahmedatum\n",
    "        \n",
    "    def gebe_infos_aus(self):\n",
    "        print(self)\n",
    "        \n",
    "    def __str__(self):\n",
    "        return \"Die Zeitreihe wurde aufgenommen mit: {0}\\n\" \\\n",
    "               \"Es liegen insgesamt {1} Datenpunkte vor\\n\" \\\n",
    "               \"Abtastrate war:  {2} Datenpunkte pro Sekunde\\n\" \\\n",
    "               \"Erster Datenpunkt wurde aufgenommen am: {3}\\n\" \\\n",
    "               .format(\n",
    "                  self.sensortyp,\n",
    "                  len(self.daten),\n",
    "                  self.abtastrate,\n",
    "                  self.aufnahmedatum)\n",
    "            \n",
    "    def __del__(self):\n",
    "        print(\"Ich sage danke für die Zusammenarbeit und auf Wiedersehen!\")"
   ]
  },
  {
   "cell_type": "code",
   "execution_count": 232,
   "metadata": {
    "collapsed": true
   },
   "outputs": [],
   "source": [
    "z1 = zeitreihe(s,d,a,aufdatum)"
   ]
  },
  {
   "cell_type": "code",
   "execution_count": 233,
   "metadata": {},
   "outputs": [
    {
     "name": "stdout",
     "output_type": "stream",
     "text": [
      "2\n"
     ]
    }
   ],
   "source": [
    "import sys\n",
    "print(sys.getrefcount(z1))"
   ]
  },
  {
   "cell_type": "code",
   "execution_count": 234,
   "metadata": {
    "collapsed": true
   },
   "outputs": [],
   "source": [
    "def foo(zr):\n",
    "    print(zr)\n",
    "    print(sys.getrefcount(z1))"
   ]
  },
  {
   "cell_type": "code",
   "execution_count": 235,
   "metadata": {},
   "outputs": [
    {
     "name": "stdout",
     "output_type": "stream",
     "text": [
      "Die Zeitreihe wurde aufgenommen mit: abstandssensor\n",
      "Es liegen insgesamt 2 Datenpunkte vor\n",
      "Abtastrate war:  [1, 2, 3, 42] Datenpunkte pro Sekunde\n",
      "Erster Datenpunkt wurde aufgenommen am: 2019-03-14 10:18:33\n",
      "\n",
      "4\n"
     ]
    }
   ],
   "source": [
    "foo(z1)"
   ]
  },
  {
   "cell_type": "markdown",
   "metadata": {},
   "source": [
    "Wieso 4 Referenzen?\n",
    "\n",
    "- z1 referenziert das Zeitreihenobjekt\n",
    "- zr referenziert das Zeitreihenobjekt\n",
    "- sys.getrefcount(z1) referenziert das Zeitreihenobjekt\n",
    "- der sog. Funktionsstack: bei jedem Aufruf einer Funktion mit Argumenten werden alle Argumente auf einem sog. Stapelspeicher=Stack gespeichert"
   ]
  },
  {
   "cell_type": "code",
   "execution_count": 236,
   "metadata": {},
   "outputs": [
    {
     "name": "stdout",
     "output_type": "stream",
     "text": [
      "2\n"
     ]
    }
   ],
   "source": [
    "print(sys.getrefcount(z1))"
   ]
  },
  {
   "cell_type": "code",
   "execution_count": 237,
   "metadata": {},
   "outputs": [
    {
     "name": "stdout",
     "output_type": "stream",
     "text": [
      "Ich sage danke für die Zusammenarbeit und auf Wiedersehen!\n"
     ]
    }
   ],
   "source": [
    "del z1"
   ]
  },
  {
   "cell_type": "markdown",
   "metadata": {},
   "source": [
    "# Prinzip der OOP: Vererbung"
   ]
  },
  {
   "cell_type": "markdown",
   "metadata": {},
   "source": [
    "## Eine erstes Vererbungsbeispiel"
   ]
  },
  {
   "cell_type": "code",
   "execution_count": 1,
   "metadata": {
    "collapsed": true
   },
   "outputs": [],
   "source": [
    "class person:\n",
    "    \n",
    "    def __init__(self, vorname, nachname):\n",
    "        self.vorname = vorname\n",
    "        self.nachname = nachname\n",
    "        \n",
    "class student(person):\n",
    "    \n",
    "    def __init__(self, vorname, nachname, matrnr):\n",
    "        person.__init__(self, vorname, nachname)\n",
    "        self.matrnr = matrnr\n",
    "        \n",
    "class mitarbeiter(person):\n",
    "    \n",
    "    def __init__(self, vorname, nachname, gehalt):\n",
    "        person.__init__(self, vorname, nachname)\n",
    "        self.gehalt = gehalt"
   ]
  },
  {
   "cell_type": "code",
   "execution_count": 2,
   "metadata": {
    "collapsed": true
   },
   "outputs": [],
   "source": [
    "s1 = student(\"Homer\", \"Simpson\", \"007\")"
   ]
  },
  {
   "cell_type": "code",
   "execution_count": 3,
   "metadata": {},
   "outputs": [
    {
     "data": {
      "text/plain": [
       "__main__.student"
      ]
     },
     "execution_count": 3,
     "metadata": {},
     "output_type": "execute_result"
    }
   ],
   "source": [
    "type(s1)"
   ]
  },
  {
   "cell_type": "code",
   "execution_count": 4,
   "metadata": {
    "collapsed": true
   },
   "outputs": [],
   "source": [
    "m1 = mitarbeiter(\"Anna\", \"Angestellt\", \"3000\")"
   ]
  },
  {
   "cell_type": "code",
   "execution_count": 5,
   "metadata": {},
   "outputs": [
    {
     "data": {
      "text/plain": [
       "__main__.mitarbeiter"
      ]
     },
     "execution_count": 5,
     "metadata": {},
     "output_type": "execute_result"
    }
   ],
   "source": [
    "type(m1)"
   ]
  },
  {
   "cell_type": "code",
   "execution_count": 6,
   "metadata": {},
   "outputs": [
    {
     "data": {
      "text/plain": [
       "'Simpson'"
      ]
     },
     "execution_count": 6,
     "metadata": {},
     "output_type": "execute_result"
    }
   ],
   "source": [
    "s1.nachname"
   ]
  },
  {
   "cell_type": "code",
   "execution_count": 7,
   "metadata": {},
   "outputs": [
    {
     "data": {
      "text/plain": [
       "'Angestellt'"
      ]
     },
     "execution_count": 7,
     "metadata": {},
     "output_type": "execute_result"
    }
   ],
   "source": [
    "m1.nachname"
   ]
  },
  {
   "cell_type": "code",
   "execution_count": 8,
   "metadata": {},
   "outputs": [
    {
     "data": {
      "text/plain": [
       "'007'"
      ]
     },
     "execution_count": 8,
     "metadata": {},
     "output_type": "execute_result"
    }
   ],
   "source": [
    "s1.matrnr"
   ]
  },
  {
   "cell_type": "code",
   "execution_count": 9,
   "metadata": {},
   "outputs": [
    {
     "ename": "AttributeError",
     "evalue": "'student' object has no attribute 'gehalt'",
     "output_type": "error",
     "traceback": [
      "\u001b[1;31m---------------------------------------------------------------------------\u001b[0m",
      "\u001b[1;31mAttributeError\u001b[0m                            Traceback (most recent call last)",
      "\u001b[1;32m<ipython-input-9-dc7be9c65192>\u001b[0m in \u001b[0;36m<module>\u001b[1;34m()\u001b[0m\n\u001b[1;32m----> 1\u001b[1;33m \u001b[0ms1\u001b[0m\u001b[1;33m.\u001b[0m\u001b[0mgehalt\u001b[0m\u001b[1;33m\u001b[0m\u001b[0m\n\u001b[0m",
      "\u001b[1;31mAttributeError\u001b[0m: 'student' object has no attribute 'gehalt'"
     ]
    }
   ],
   "source": [
    "s1.gehalt"
   ]
  },
  {
   "cell_type": "code",
   "execution_count": 10,
   "metadata": {},
   "outputs": [
    {
     "data": {
      "text/plain": [
       "'3000'"
      ]
     },
     "execution_count": 10,
     "metadata": {},
     "output_type": "execute_result"
    }
   ],
   "source": [
    "m1.gehalt"
   ]
  },
  {
   "cell_type": "code",
   "execution_count": 11,
   "metadata": {},
   "outputs": [
    {
     "ename": "AttributeError",
     "evalue": "'mitarbeiter' object has no attribute 'matrnr'",
     "output_type": "error",
     "traceback": [
      "\u001b[1;31m---------------------------------------------------------------------------\u001b[0m",
      "\u001b[1;31mAttributeError\u001b[0m                            Traceback (most recent call last)",
      "\u001b[1;32m<ipython-input-11-598993f81e89>\u001b[0m in \u001b[0;36m<module>\u001b[1;34m()\u001b[0m\n\u001b[1;32m----> 1\u001b[1;33m \u001b[0mm1\u001b[0m\u001b[1;33m.\u001b[0m\u001b[0mmatrnr\u001b[0m\u001b[1;33m\u001b[0m\u001b[0m\n\u001b[0m",
      "\u001b[1;31mAttributeError\u001b[0m: 'mitarbeiter' object has no attribute 'matrnr'"
     ]
    }
   ],
   "source": [
    "m1.matrnr"
   ]
  },
  {
   "cell_type": "markdown",
   "metadata": {},
   "source": [
    "## Überschreiben von Methoden in abgeleiteten Klassen"
   ]
  },
  {
   "cell_type": "code",
   "execution_count": 12,
   "metadata": {
    "collapsed": true
   },
   "outputs": [],
   "source": [
    "class person:\n",
    "    \n",
    "    def __init__(self, vorname, nachname):\n",
    "        self.vorname = vorname\n",
    "        self.nachname = nachname\n",
    "        \n",
    "    def infos(self):\n",
    "        print(\"Vorname: \", self.vorname)\n",
    "        print(\"Nachname: \", self.nachname)\n",
    "        \n",
    "class student(person):\n",
    "    \n",
    "    def __init__(self, vorname, nachname, matrnr):\n",
    "        person.__init__(self, vorname, nachname)\n",
    "        self.matrnr = matrnr\n",
    "        \n",
    "class mitarbeiter(person):\n",
    "    \n",
    "    def __init__(self, vorname, nachname, gehalt):\n",
    "        person.__init__(self, vorname, nachname)\n",
    "        self.gehalt = gehalt"
   ]
  },
  {
   "cell_type": "code",
   "execution_count": 13,
   "metadata": {
    "collapsed": true
   },
   "outputs": [],
   "source": [
    "s1 = student(\"Homer\", \"Simpson\", \"007\")\n",
    "m1 = mitarbeiter(\"Anna\", \"Angestellt\", \"3000\")"
   ]
  },
  {
   "cell_type": "code",
   "execution_count": 14,
   "metadata": {},
   "outputs": [
    {
     "name": "stdout",
     "output_type": "stream",
     "text": [
      "Vorname:  Homer\n",
      "Nachname:  Simpson\n"
     ]
    }
   ],
   "source": [
    "s1.infos()"
   ]
  },
  {
   "cell_type": "code",
   "execution_count": 15,
   "metadata": {},
   "outputs": [
    {
     "name": "stdout",
     "output_type": "stream",
     "text": [
      "Vorname:  Anna\n",
      "Nachname:  Angestellt\n"
     ]
    }
   ],
   "source": [
    "m1.infos()"
   ]
  },
  {
   "cell_type": "markdown",
   "metadata": {},
   "source": [
    "Aber Studenten haben ja auch Matrikel-Nummern und Angestellte ein Gehalt. Wie können wir diese Info auch noch ausgeben?"
   ]
  },
  {
   "cell_type": "code",
   "execution_count": 16,
   "metadata": {
    "collapsed": true
   },
   "outputs": [],
   "source": [
    "class person:\n",
    "    \n",
    "    def __init__(self, vorname, nachname):\n",
    "        self.vorname = vorname\n",
    "        self.nachname = nachname\n",
    "        \n",
    "    def infos(self):\n",
    "        print(\"Vorname: \", self.vorname)\n",
    "        print(\"Nachname: \", self.nachname)\n",
    "        \n",
    "class student(person):\n",
    "    \n",
    "    def __init__(self, vorname, nachname, matrnr):\n",
    "        person.__init__(self, vorname, nachname)\n",
    "        self.matrnr = matrnr\n",
    "        \n",
    "    def infos(self):\n",
    "        print(\"Matr-Nr: \", self.matrnr)\n",
    "        \n",
    "class mitarbeiter(person):\n",
    "    \n",
    "    def __init__(self, vorname, nachname, gehalt):\n",
    "        person.__init__(self, vorname, nachname)\n",
    "        self.gehalt = gehalt\n",
    "        \n",
    "    def infos(self):\n",
    "        print(\"Gehalt: \", self.gehalt)"
   ]
  },
  {
   "cell_type": "code",
   "execution_count": 17,
   "metadata": {
    "collapsed": true
   },
   "outputs": [],
   "source": [
    "s1 = student(\"Homer\", \"Simpson\", \"007\")\n",
    "m1 = mitarbeiter(\"Anna\", \"Angestellt\", \"3000\")"
   ]
  },
  {
   "cell_type": "code",
   "execution_count": 18,
   "metadata": {},
   "outputs": [
    {
     "name": "stdout",
     "output_type": "stream",
     "text": [
      "Matr-Nr:  007\n"
     ]
    }
   ],
   "source": [
    "s1.infos()"
   ]
  },
  {
   "cell_type": "code",
   "execution_count": 19,
   "metadata": {},
   "outputs": [
    {
     "name": "stdout",
     "output_type": "stream",
     "text": [
      "Gehalt:  3000\n"
     ]
    }
   ],
   "source": [
    "m1.infos()"
   ]
  },
  {
   "cell_type": "markdown",
   "metadata": {},
   "source": [
    "Schade! Jetzt sehen wir nur die spezielleren Attribute der abgeleiteten Klassen. Wir würden gerne auch noch den Namen zusätzlich ausgeben.\n",
    "\n",
    "Quiz-Time!\n",
    "\n",
    "Wie geht das?"
   ]
  },
  {
   "cell_type": "code",
   "execution_count": 20,
   "metadata": {
    "collapsed": true
   },
   "outputs": [],
   "source": [
    "class person:\n",
    "    \n",
    "    def __init__(self, vorname, nachname):\n",
    "        self.vorname = vorname\n",
    "        self.nachname = nachname\n",
    "        \n",
    "    def infos(self):\n",
    "        print(\"Vorname: \", self.vorname)\n",
    "        print(\"Nachname: \", self.nachname)\n",
    "        \n",
    "class student(person):\n",
    "    \n",
    "    def __init__(self, vorname, nachname, matrnr):\n",
    "        person.__init__(self, vorname, nachname)\n",
    "        self.matrnr = matrnr\n",
    "        \n",
    "    def infos(self):\n",
    "        person.infos(self)\n",
    "        print(\"Matr-Nr: \", self.matrnr)\n",
    "        \n",
    "class mitarbeiter(person):\n",
    "    \n",
    "    def __init__(self, vorname, nachname, gehalt):\n",
    "        person.__init__(self, vorname, nachname)\n",
    "        self.gehalt = gehalt\n",
    "        \n",
    "    def infos(self):\n",
    "        person.infos(self)\n",
    "        print(\"Gehalt: \", self.gehalt)"
   ]
  },
  {
   "cell_type": "code",
   "execution_count": 21,
   "metadata": {
    "collapsed": true
   },
   "outputs": [],
   "source": [
    "s1 = student(\"Homer\", \"Simpson\", \"007\")\n",
    "m1 = mitarbeiter(\"Anna\", \"Angestellt\", \"3000\")"
   ]
  },
  {
   "cell_type": "code",
   "execution_count": 22,
   "metadata": {},
   "outputs": [
    {
     "name": "stdout",
     "output_type": "stream",
     "text": [
      "Vorname:  Homer\n",
      "Nachname:  Simpson\n",
      "Matr-Nr:  007\n"
     ]
    }
   ],
   "source": [
    "s1.infos()"
   ]
  },
  {
   "cell_type": "code",
   "execution_count": 23,
   "metadata": {},
   "outputs": [
    {
     "name": "stdout",
     "output_type": "stream",
     "text": [
      "Vorname:  Anna\n",
      "Nachname:  Angestellt\n",
      "Gehalt:  3000\n"
     ]
    }
   ],
   "source": [
    "m1.infos()"
   ]
  },
  {
   "cell_type": "markdown",
   "metadata": {},
   "source": [
    "## Abstrakte Basis Klassen"
   ]
  },
  {
   "cell_type": "code",
   "execution_count": 24,
   "metadata": {
    "collapsed": true
   },
   "outputs": [],
   "source": [
    "class person:\n",
    "    \n",
    "    def __init__(self, vorname, nachname):\n",
    "        self.vorname = vorname\n",
    "        self.nachname = nachname\n",
    "        \n",
    "    def infos(self):\n",
    "        print(\"Vorname: \", self.vorname)\n",
    "        print(\"Nachname: \", self.nachname)\n",
    "        \n",
    "    def mache_was(self):\n",
    "        pass\n",
    "        \n",
    "class student(person):\n",
    "    \n",
    "    def __init__(self, vorname, nachname, matrnr):\n",
    "        person.__init__(self, vorname, nachname)\n",
    "        self.matrnr = matrnr\n",
    "        \n",
    "    def infos(self):\n",
    "        person.infos(self)\n",
    "        print(\"Matr-Nr: \", self.matrnr)\n",
    "        \n",
    "    def mache_was(self):\n",
    "        print(\"Ich studiere\")\n",
    "        \n",
    "class mitarbeiter(person):\n",
    "    \n",
    "    def __init__(self, vorname, nachname, gehalt):\n",
    "        person.__init__(self, vorname, nachname)\n",
    "        self.gehalt = gehalt\n",
    "        \n",
    "    def infos(self):\n",
    "        person.infos(self)\n",
    "        print(\"Gehalt: \", self.gehalt)\n",
    "        \n",
    "    def mache_was(self):\n",
    "        print(\"Ich arbeite\")"
   ]
  },
  {
   "cell_type": "code",
   "execution_count": 25,
   "metadata": {
    "collapsed": true
   },
   "outputs": [],
   "source": [
    "s1 = student(\"Homer\", \"Simpson\", \"007\")\n",
    "m1 = mitarbeiter(\"Anna\", \"Angestellt\", \"3000\")"
   ]
  },
  {
   "cell_type": "code",
   "execution_count": 26,
   "metadata": {},
   "outputs": [
    {
     "name": "stdout",
     "output_type": "stream",
     "text": [
      "Ich studiere\n"
     ]
    }
   ],
   "source": [
    "s1.mache_was()"
   ]
  },
  {
   "cell_type": "code",
   "execution_count": 27,
   "metadata": {},
   "outputs": [
    {
     "name": "stdout",
     "output_type": "stream",
     "text": [
      "Ich arbeite\n"
     ]
    }
   ],
   "source": [
    "m1.mache_was()"
   ]
  },
  {
   "cell_type": "markdown",
   "metadata": {},
   "source": [
    "Aber wir könnten auch Instanzen der Klasse Person erzeugen. Manchmal ist dies vom Design her nicht erwünscht! Die Basisklasse soll dann mehr die gemeinsamen Attribute der abgeleiteten Klasse beinhalten oder ein bestimmtes Interface vorgeben.\n",
    "\n",
    "Daher machen wir jetzt die Klasse `person` abstrakt, d.h. man kann dann keine Instanzen mehr von `person` erzeugen:"
   ]
  },
  {
   "cell_type": "code",
   "execution_count": 28,
   "metadata": {
    "collapsed": true
   },
   "outputs": [],
   "source": [
    "p1 = person(\"Peter\", \"Person\")"
   ]
  },
  {
   "cell_type": "code",
   "execution_count": 29,
   "metadata": {
    "collapsed": true
   },
   "outputs": [],
   "source": [
    "p1.mache_was()"
   ]
  },
  {
   "cell_type": "code",
   "execution_count": 30,
   "metadata": {
    "collapsed": true
   },
   "outputs": [],
   "source": [
    "from abc import ABC, abstractmethod\n",
    "\n",
    "class person(ABC):\n",
    "    \n",
    "    def __init__(self, vorname, nachname):\n",
    "        self.vorname = vorname\n",
    "        self.nachname = nachname\n",
    "        \n",
    "    def infos(self):\n",
    "        print(\"Vorname: \", self.vorname)\n",
    "        print(\"Nachname: \", self.nachname)\n",
    "        \n",
    "    @abstractmethod\n",
    "    def mache_was(self):\n",
    "        pass\n",
    "        \n",
    "class student(person):\n",
    "    \n",
    "    def __init__(self, vorname, nachname, matrnr):\n",
    "        person.__init__(self, vorname, nachname)\n",
    "        self.matrnr = matrnr\n",
    "        \n",
    "    def infos(self):\n",
    "        person.infos(self)\n",
    "        print(\"Matr-Nr: \", self.matrnr)\n",
    "        \n",
    "    def mache_was(self):\n",
    "        print(\"Ich studiere\")\n",
    "        \n",
    "class mitarbeiter(person):\n",
    "    \n",
    "    def __init__(self, vorname, nachname, gehalt):\n",
    "        person.__init__(self, vorname, nachname)\n",
    "        self.gehalt = gehalt\n",
    "        \n",
    "    def infos(self):\n",
    "        person.infos(self)\n",
    "        print(\"Gehalt: \", self.gehalt)\n",
    "        \n",
    "    def mache_was(self):\n",
    "        print(\"Ich arbeite\")"
   ]
  },
  {
   "cell_type": "code",
   "execution_count": 31,
   "metadata": {
    "collapsed": true
   },
   "outputs": [],
   "source": [
    "s1 = student(\"Homer\", \"Simpson\", \"007\")\n",
    "m1 = mitarbeiter(\"Anna\", \"Angestellt\", \"3000\")"
   ]
  },
  {
   "cell_type": "code",
   "execution_count": 32,
   "metadata": {},
   "outputs": [
    {
     "ename": "TypeError",
     "evalue": "Can't instantiate abstract class person with abstract methods mache_was",
     "output_type": "error",
     "traceback": [
      "\u001b[1;31m---------------------------------------------------------------------------\u001b[0m",
      "\u001b[1;31mTypeError\u001b[0m                                 Traceback (most recent call last)",
      "\u001b[1;32m<ipython-input-32-711950f193ee>\u001b[0m in \u001b[0;36m<module>\u001b[1;34m()\u001b[0m\n\u001b[1;32m----> 1\u001b[1;33m \u001b[0mp1\u001b[0m \u001b[1;33m=\u001b[0m \u001b[0mperson\u001b[0m\u001b[1;33m(\u001b[0m\u001b[1;34m\"Peter\"\u001b[0m\u001b[1;33m,\u001b[0m \u001b[1;34m\"Person\"\u001b[0m\u001b[1;33m)\u001b[0m\u001b[1;33m\u001b[0m\u001b[0m\n\u001b[0m",
      "\u001b[1;31mTypeError\u001b[0m: Can't instantiate abstract class person with abstract methods mache_was"
     ]
    }
   ],
   "source": [
    "p1 = person(\"Peter\", \"Person\")"
   ]
  },
  {
   "cell_type": "markdown",
   "metadata": {
    "collapsed": true
   },
   "source": [
    "# Prinzip der OOP: Datenkapselung\n",
    "\n",
    "## Fehlende Zugriffsspezifizierer `private`, `protected`, `public`\n",
    "\n",
    "Python kennt solche Zugriffsspezifizierer der Einfachheit halber nicht!\n",
    "\n",
    "Stattdessen gibt es folgende Notation:\n",
    "\n",
    "1. Alle Variablen, Methoden ohne einen _ vorne können von innerhalb und außerhalb der Klasse zugegriffen weren\n",
    "\n",
    "2. Variablen und Methoden mit einem _ vorne signalisieren: Achtung! Hierauf sollte man eher nicht von außen zugreifen. Man kann es, aber es wird nicht garantiert, dass die Klasse auch noch in Zukunft diese Variable oder Methode anbieten wird! (API)\n",
    "\n",
    "3. Variablen und Methoden mit zwei \\_\\_ vorne können nur umständlich von außen zugegriffen werden. Man kann es aber trotzdem!"
   ]
  },
  {
   "cell_type": "markdown",
   "metadata": {},
   "source": [
    "## Ein Beispiel zur Unterstrichtnotation:"
   ]
  },
  {
   "cell_type": "code",
   "execution_count": 49,
   "metadata": {},
   "outputs": [],
   "source": [
    "class test(object):\n",
    "    \n",
    "    def __init__(self):\n",
    "        \n",
    "        self.var1 = 41   # public\n",
    "        self._var2 = 42  # protected\n",
    "        self.__var3 = 43 # private"
   ]
  },
  {
   "cell_type": "code",
   "execution_count": 50,
   "metadata": {
    "collapsed": true
   },
   "outputs": [],
   "source": [
    "t = test()"
   ]
  },
  {
   "cell_type": "code",
   "execution_count": 51,
   "metadata": {},
   "outputs": [
    {
     "data": {
      "text/plain": [
       "<__main__.test at 0x15eb4a78898>"
      ]
     },
     "execution_count": 51,
     "metadata": {},
     "output_type": "execute_result"
    }
   ],
   "source": [
    "t"
   ]
  },
  {
   "cell_type": "code",
   "execution_count": 41,
   "metadata": {},
   "outputs": [
    {
     "name": "stdout",
     "output_type": "stream",
     "text": [
      "41\n"
     ]
    }
   ],
   "source": [
    "print(t.var1)"
   ]
  },
  {
   "cell_type": "code",
   "execution_count": 42,
   "metadata": {
    "collapsed": true
   },
   "outputs": [],
   "source": [
    "t.var1=100"
   ]
  },
  {
   "cell_type": "code",
   "execution_count": 43,
   "metadata": {},
   "outputs": [
    {
     "name": "stdout",
     "output_type": "stream",
     "text": [
      "100\n"
     ]
    }
   ],
   "source": [
    "print(t.var1)"
   ]
  },
  {
   "cell_type": "code",
   "execution_count": 45,
   "metadata": {},
   "outputs": [
    {
     "name": "stdout",
     "output_type": "stream",
     "text": [
      "42\n"
     ]
    }
   ],
   "source": [
    "print(t._var2)"
   ]
  },
  {
   "cell_type": "code",
   "execution_count": 46,
   "metadata": {
    "collapsed": true
   },
   "outputs": [],
   "source": [
    "t._var2 = 100"
   ]
  },
  {
   "cell_type": "code",
   "execution_count": 47,
   "metadata": {},
   "outputs": [
    {
     "name": "stdout",
     "output_type": "stream",
     "text": [
      "100\n"
     ]
    }
   ],
   "source": [
    "print(t._var2)"
   ]
  },
  {
   "cell_type": "code",
   "execution_count": 48,
   "metadata": {},
   "outputs": [
    {
     "ename": "AttributeError",
     "evalue": "'test' object has no attribute '__var3'",
     "output_type": "error",
     "traceback": [
      "\u001b[1;31m---------------------------------------------------------------------------\u001b[0m",
      "\u001b[1;31mAttributeError\u001b[0m                            Traceback (most recent call last)",
      "\u001b[1;32m<ipython-input-48-e7f264fdb0c2>\u001b[0m in \u001b[0;36m<module>\u001b[1;34m()\u001b[0m\n\u001b[1;32m----> 1\u001b[1;33m \u001b[0mprint\u001b[0m\u001b[1;33m(\u001b[0m\u001b[0mt\u001b[0m\u001b[1;33m.\u001b[0m\u001b[0m__var3\u001b[0m\u001b[1;33m)\u001b[0m\u001b[1;33m\u001b[0m\u001b[0m\n\u001b[0m",
      "\u001b[1;31mAttributeError\u001b[0m: 'test' object has no attribute '__var3'"
     ]
    }
   ],
   "source": [
    "print(t.__var3)"
   ]
  },
  {
   "cell_type": "markdown",
   "metadata": {},
   "source": [
    "Die Variable `__var3` scheint nicht mehr da zu sein. Sie ist es aber. Python wurde nur angewiesen sie zu \"verstecken\". Dazu verwendet Python das sog. \"Name mangling\" (zu Deutsch etwa: \"Namensverstümmelung\"). Sie kann über diesen verstümmelten Namen, dem jetzt `_Klassenname` als Präfix hinzugefügt wurde, aber noch zugegriffen werden:"
   ]
  },
  {
   "cell_type": "code",
   "execution_count": 54,
   "metadata": {},
   "outputs": [
    {
     "name": "stdout",
     "output_type": "stream",
     "text": [
      "43\n"
     ]
    }
   ],
   "source": [
    "print(t._test__var3)"
   ]
  },
  {
   "cell_type": "code",
   "execution_count": 55,
   "metadata": {
    "collapsed": true
   },
   "outputs": [],
   "source": [
    "t._test__var3 = 100"
   ]
  },
  {
   "cell_type": "code",
   "execution_count": 56,
   "metadata": {},
   "outputs": [
    {
     "name": "stdout",
     "output_type": "stream",
     "text": [
      "100\n"
     ]
    }
   ],
   "source": [
    "print(t._test__var3)"
   ]
  },
  {
   "cell_type": "markdown",
   "metadata": {},
   "source": [
    "Der Hintergrund des \"Name mangling\" ist es, z.B. bei häufig verwendeten Namen z.B. `info()` Namenskonflikte mit identischen Methoden in abgeleiteten Klassen zu vermeiden."
   ]
  },
  {
   "cell_type": "markdown",
   "metadata": {},
   "source": [
    "## Also keine Datenkapselung? Doch!\n",
    "\n",
    "Python kennt nur bedingt Zugriffsspezifierer. Trotzdem kann man das Konzept der Datenkapselung natürlich umsetzen, indem man nicht von außen auf Klassenvariablen und Methoden zugreift, die mit einem `_` oder einem `__` gekennzeichnet sind.\n",
    "\n",
    "Um es mit den Worten von Guido van Rossum zu sagen:\n",
    "\n",
    "    \"We’re all adults here\""
   ]
  },
  {
   "cell_type": "markdown",
   "metadata": {},
   "source": [
    "## Zugriff auf Variablen in abgeleiteten Klassen"
   ]
  },
  {
   "cell_type": "code",
   "execution_count": 82,
   "metadata": {},
   "outputs": [],
   "source": [
    "class test(object):\n",
    "    \n",
    "    def __init__(self):        \n",
    "        self.var1 = 41   # public\n",
    "        self._var2 = 42  # protected\n",
    "        self.__var3 = 43 # private\n",
    "        \n",
    "class test2(test):\n",
    "    \n",
    "    def mache_was(self):\n",
    "        print(self.var1)\n",
    "        print(self._var2)\n",
    "        print(self._test__var3)"
   ]
  },
  {
   "cell_type": "code",
   "execution_count": 83,
   "metadata": {
    "collapsed": true
   },
   "outputs": [],
   "source": [
    "t2 = test2()"
   ]
  },
  {
   "cell_type": "code",
   "execution_count": 84,
   "metadata": {},
   "outputs": [
    {
     "name": "stdout",
     "output_type": "stream",
     "text": [
      "41\n"
     ]
    }
   ],
   "source": [
    "print(t2.var1)"
   ]
  },
  {
   "cell_type": "code",
   "execution_count": 85,
   "metadata": {},
   "outputs": [
    {
     "name": "stdout",
     "output_type": "stream",
     "text": [
      "42\n"
     ]
    }
   ],
   "source": [
    "print(t2._var2)"
   ]
  },
  {
   "cell_type": "code",
   "execution_count": 86,
   "metadata": {},
   "outputs": [
    {
     "name": "stdout",
     "output_type": "stream",
     "text": [
      "43\n"
     ]
    }
   ],
   "source": [
    "print(t2._test__var3)"
   ]
  },
  {
   "cell_type": "code",
   "execution_count": 87,
   "metadata": {},
   "outputs": [
    {
     "name": "stdout",
     "output_type": "stream",
     "text": [
      "41\n",
      "42\n",
      "43\n"
     ]
    }
   ],
   "source": [
    "t2.mache_was()"
   ]
  },
  {
   "cell_type": "markdown",
   "metadata": {},
   "source": [
    "## Quiz-Time!"
   ]
  },
  {
   "cell_type": "markdown",
   "metadata": {},
   "source": [
    "Funktioniert folgender Code? (Einschätzung: schwierige Frage)"
   ]
  },
  {
   "cell_type": "code",
   "execution_count": 89,
   "metadata": {},
   "outputs": [
    {
     "ename": "AttributeError",
     "evalue": "'test2' object has no attribute 'var1'",
     "output_type": "error",
     "traceback": [
      "\u001b[1;31m---------------------------------------------------------------------------\u001b[0m",
      "\u001b[1;31mAttributeError\u001b[0m                            Traceback (most recent call last)",
      "\u001b[1;32m<ipython-input-89-19930fd738fd>\u001b[0m in \u001b[0;36m<module>\u001b[1;34m()\u001b[0m\n\u001b[0;32m     18\u001b[0m \u001b[1;33m\u001b[0m\u001b[0m\n\u001b[0;32m     19\u001b[0m \u001b[0mt2\u001b[0m \u001b[1;33m=\u001b[0m \u001b[0mtest2\u001b[0m\u001b[1;33m(\u001b[0m\u001b[1;33m)\u001b[0m\u001b[1;33m\u001b[0m\u001b[0m\n\u001b[1;32m---> 20\u001b[1;33m \u001b[0mt2\u001b[0m\u001b[1;33m.\u001b[0m\u001b[0mmache_was\u001b[0m\u001b[1;33m(\u001b[0m\u001b[1;33m)\u001b[0m\u001b[1;33m\u001b[0m\u001b[0m\n\u001b[0m",
      "\u001b[1;32m<ipython-input-89-19930fd738fd>\u001b[0m in \u001b[0;36mmache_was\u001b[1;34m(self)\u001b[0m\n\u001b[0;32m     12\u001b[0m \u001b[1;33m\u001b[0m\u001b[0m\n\u001b[0;32m     13\u001b[0m     \u001b[1;32mdef\u001b[0m \u001b[0mmache_was\u001b[0m\u001b[1;33m(\u001b[0m\u001b[0mself\u001b[0m\u001b[1;33m)\u001b[0m\u001b[1;33m:\u001b[0m\u001b[1;33m\u001b[0m\u001b[0m\n\u001b[1;32m---> 14\u001b[1;33m         \u001b[0mprint\u001b[0m\u001b[1;33m(\u001b[0m\u001b[0mself\u001b[0m\u001b[1;33m.\u001b[0m\u001b[0mvar1\u001b[0m\u001b[1;33m)\u001b[0m\u001b[1;33m\u001b[0m\u001b[0m\n\u001b[0m\u001b[0;32m     15\u001b[0m         \u001b[0mprint\u001b[0m\u001b[1;33m(\u001b[0m\u001b[0mself\u001b[0m\u001b[1;33m.\u001b[0m\u001b[0m_var2\u001b[0m\u001b[1;33m)\u001b[0m\u001b[1;33m\u001b[0m\u001b[0m\n\u001b[0;32m     16\u001b[0m         \u001b[0mprint\u001b[0m\u001b[1;33m(\u001b[0m\u001b[0mself\u001b[0m\u001b[1;33m.\u001b[0m\u001b[0m_test__var3\u001b[0m\u001b[1;33m)\u001b[0m\u001b[1;33m\u001b[0m\u001b[0m\n",
      "\u001b[1;31mAttributeError\u001b[0m: 'test2' object has no attribute 'var1'"
     ]
    }
   ],
   "source": [
    "class test(object):\n",
    "    \n",
    "    def __init__(self):        \n",
    "        self.var1 = 41   # public\n",
    "        self._var2 = 42  # protected\n",
    "        self.__var3 = 43 # private\n",
    "        \n",
    "class test2(test):\n",
    "    \n",
    "    def __init__(self):\n",
    "        self.__var3 = 44\n",
    "    \n",
    "    def mache_was(self):\n",
    "        print(self.var1)\n",
    "        print(self._var2)\n",
    "        print(self._test__var3)\n",
    "        print(self.__var3)\n",
    "        \n",
    "t2 = test2()\n",
    "t2.mache_was()"
   ]
  },
  {
   "cell_type": "markdown",
   "metadata": {},
   "source": [
    "Lösung:\n",
    "\n",
    "Nein! Wir haben vergessen, in der `__init__` Methode von `test2` die `__init__` Methode der Basisklasse aufzurufen. Da `var1`, `_var2`, `__var3` dynamisch erzeugte werden ist dieser Aufruf sehr wichtig! "
   ]
  },
  {
   "cell_type": "code",
   "execution_count": 93,
   "metadata": {},
   "outputs": [
    {
     "name": "stdout",
     "output_type": "stream",
     "text": [
      "41\n",
      "42\n",
      "43\n",
      "44\n"
     ]
    }
   ],
   "source": [
    "class test(object):\n",
    "    \n",
    "    def __init__(self):        \n",
    "        self.var1 = 41   # public\n",
    "        self._var2 = 42  # protected\n",
    "        self.__var3 = 43 # private\n",
    "        \n",
    "class test2(test):\n",
    "    \n",
    "    def __init__(self):\n",
    "        test.__init__(self)\n",
    "        self.__var3 = 44\n",
    "    \n",
    "    def mache_was(self):\n",
    "        \"\"\"\n",
    "        Versuch auf verschiedene Variablen\n",
    "        zuzugreifen\n",
    "        \"\"\"\n",
    "        print(self.var1)\n",
    "        print(self._var2)\n",
    "        print(self._test__var3)\n",
    "        print(self.__var3)\n",
    "        \n",
    "t2 = test2()\n",
    "t2.mache_was()"
   ]
  },
  {
   "cell_type": "markdown",
   "metadata": {},
   "source": [
    "## Properties"
   ]
  },
  {
   "cell_type": "markdown",
   "metadata": {},
   "source": [
    "Wir erzeugen eine Klasse `A`, die irgend etwas innerhalb der Methode `compute()` berechnet:"
   ]
  },
  {
   "cell_type": "code",
   "execution_count": 135,
   "metadata": {
    "collapsed": true
   },
   "outputs": [],
   "source": [
    "class A:\n",
    "    \n",
    "    def __init__(self):\n",
    "        self.x = 1.0\n",
    "    \n",
    "    def compute(self):        \n",
    "        print(\"Ergebnis=\", 1/self.x)"
   ]
  },
  {
   "cell_type": "markdown",
   "metadata": {},
   "source": [
    "Wir benutzen diese \"Berechnungsklasse\" nun, um mal was zu berechnen:"
   ]
  },
  {
   "cell_type": "code",
   "execution_count": 136,
   "metadata": {
    "collapsed": true
   },
   "outputs": [],
   "source": [
    "meinA = A()"
   ]
  },
  {
   "cell_type": "code",
   "execution_count": 137,
   "metadata": {
    "collapsed": true
   },
   "outputs": [],
   "source": [
    "meinA.x = 42"
   ]
  },
  {
   "cell_type": "code",
   "execution_count": 138,
   "metadata": {},
   "outputs": [
    {
     "name": "stdout",
     "output_type": "stream",
     "text": [
      "Ergebnis= 0.023809523809523808\n"
     ]
    }
   ],
   "source": [
    "meinA.compute()"
   ]
  },
  {
   "cell_type": "code",
   "execution_count": 139,
   "metadata": {
    "collapsed": true
   },
   "outputs": [],
   "source": [
    "meinA.x = 0"
   ]
  },
  {
   "cell_type": "markdown",
   "metadata": {},
   "source": [
    "Wir sehen schon, dass der folgende Berechnungsauruf schief gehen muss, da die Division durch 0 nicht definiert ist. Das Objekt `meinA` nimmt den Input `x=0` aber erstmal ganz \"brav\" und stillschweigend an und erst beim Berechnungsauruf bekommen wir über die Fehlermeldung mit, dass der Input `x=0` anscheinend ungültig ist."
   ]
  },
  {
   "cell_type": "code",
   "execution_count": 140,
   "metadata": {},
   "outputs": [
    {
     "ename": "ZeroDivisionError",
     "evalue": "division by zero",
     "output_type": "error",
     "traceback": [
      "\u001b[1;31m---------------------------------------------------------------------------\u001b[0m",
      "\u001b[1;31mZeroDivisionError\u001b[0m                         Traceback (most recent call last)",
      "\u001b[1;32m<ipython-input-140-b43672f2989e>\u001b[0m in \u001b[0;36m<module>\u001b[1;34m()\u001b[0m\n\u001b[1;32m----> 1\u001b[1;33m \u001b[0mmeinA\u001b[0m\u001b[1;33m.\u001b[0m\u001b[0mcompute\u001b[0m\u001b[1;33m(\u001b[0m\u001b[1;33m)\u001b[0m\u001b[1;33m\u001b[0m\u001b[0m\n\u001b[0m",
      "\u001b[1;32m<ipython-input-135-40916c3da8ca>\u001b[0m in \u001b[0;36mcompute\u001b[1;34m(self)\u001b[0m\n\u001b[0;32m      5\u001b[0m \u001b[1;33m\u001b[0m\u001b[0m\n\u001b[0;32m      6\u001b[0m     \u001b[1;32mdef\u001b[0m \u001b[0mcompute\u001b[0m\u001b[1;33m(\u001b[0m\u001b[0mself\u001b[0m\u001b[1;33m)\u001b[0m\u001b[1;33m:\u001b[0m\u001b[1;33m\u001b[0m\u001b[0m\n\u001b[1;32m----> 7\u001b[1;33m         \u001b[0mprint\u001b[0m\u001b[1;33m(\u001b[0m\u001b[1;34m\"Ergebnis=\"\u001b[0m\u001b[1;33m,\u001b[0m \u001b[1;36m1\u001b[0m\u001b[1;33m/\u001b[0m\u001b[0mself\u001b[0m\u001b[1;33m.\u001b[0m\u001b[0mx\u001b[0m\u001b[1;33m)\u001b[0m\u001b[1;33m\u001b[0m\u001b[0m\n\u001b[0m",
      "\u001b[1;31mZeroDivisionError\u001b[0m: division by zero"
     ]
    }
   ],
   "source": [
    "meinA.compute()"
   ]
  },
  {
   "cell_type": "markdown",
   "metadata": {},
   "source": [
    "Daher erweitern wir die Klasse `A` nun so, dass wir explizit eine Methode zum Setzen des Inputs anbieten, der überprüft, ob der Input gültig ist."
   ]
  },
  {
   "cell_type": "code",
   "execution_count": 142,
   "metadata": {},
   "outputs": [],
   "source": [
    "class A:\n",
    "    \n",
    "    def __init__(self):\n",
    "        self.x = 1.0\n",
    "        \n",
    "    def set_input(self, x):\n",
    "        if x == 0:\n",
    "            print(\"Sorry! Der Input darf nicht 0 sein!\")\n",
    "            return        \n",
    "        self.x = x\n",
    "        \n",
    "    def get_input(self, x):\n",
    "        return self.x\n",
    "    \n",
    "    def compute(self):        \n",
    "        print(\"Ergebnis=\", 1/self.x)"
   ]
  },
  {
   "cell_type": "code",
   "execution_count": 143,
   "metadata": {
    "collapsed": true
   },
   "outputs": [],
   "source": [
    "meinA = A()"
   ]
  },
  {
   "cell_type": "code",
   "execution_count": 145,
   "metadata": {},
   "outputs": [
    {
     "name": "stdout",
     "output_type": "stream",
     "text": [
      "Sorry! Der Input darf nicht 0 sein!\n"
     ]
    }
   ],
   "source": [
    "meinA.set_input(0)"
   ]
  },
  {
   "cell_type": "code",
   "execution_count": 146,
   "metadata": {
    "collapsed": true
   },
   "outputs": [],
   "source": [
    "meinA.set_input(2)"
   ]
  },
  {
   "cell_type": "code",
   "execution_count": 147,
   "metadata": {},
   "outputs": [
    {
     "name": "stdout",
     "output_type": "stream",
     "text": [
      "Ergebnis= 0.5\n"
     ]
    }
   ],
   "source": [
    "meinA.compute()"
   ]
  },
  {
   "cell_type": "markdown",
   "metadata": {},
   "source": [
    "Dies ist nun ein gängiges Muster in der OOP: man hat gewisse Daten, die man von außen setzen bzw. von außen abrufen möchte und kapselt diese Daten über `setter` und `getter` Methoden.\n",
    "\n",
    "Damit man die alte Schreibweise\n",
    "\n",
    "    meinA.x = 42\n",
    "    \n",
    "weiterhin verwenden kann und trotzdem eine Sicherheitsüberprüfung durchführen kann, bietet Python sog. *Properties* an:"
   ]
  },
  {
   "cell_type": "code",
   "execution_count": 156,
   "metadata": {},
   "outputs": [],
   "source": [
    "class A:\n",
    "    \n",
    "    def __init__(self):\n",
    "        # Wir verstecken diese Variable x vor\n",
    "        # Zugriff von außen durch __\n",
    "        self.__x = 1.0 \n",
    "        \n",
    "    def set_input(self, x):\n",
    "        if x == 0:\n",
    "            print(\"Sorry! Der Input darf nicht 0 sein!\")\n",
    "            return    \n",
    "        else:\n",
    "            print(\"Der Input für die Berechnung ist ok!\")\n",
    "        self.__x = x\n",
    "        \n",
    "    def get_input(self):\n",
    "        print(\"Ich liefere dir den Wert von x zurück!\")\n",
    "        return self.__x\n",
    "    \n",
    "    def compute(self):        \n",
    "        print(\"Ergebnis=\", 1/self.__x)\n",
    "        \n",
    "    x = property(get_input, set_input)"
   ]
  },
  {
   "cell_type": "code",
   "execution_count": 157,
   "metadata": {
    "scrolled": true
   },
   "outputs": [],
   "source": [
    "meinA = A()"
   ]
  },
  {
   "cell_type": "code",
   "execution_count": 158,
   "metadata": {},
   "outputs": [
    {
     "name": "stdout",
     "output_type": "stream",
     "text": [
      "Der Input für die Berechnung ist ok!\n"
     ]
    }
   ],
   "source": [
    "meinA.x = 123"
   ]
  },
  {
   "cell_type": "code",
   "execution_count": 159,
   "metadata": {},
   "outputs": [
    {
     "name": "stdout",
     "output_type": "stream",
     "text": [
      "Ich liefere dir den Wert von x zurück!\n"
     ]
    }
   ],
   "source": [
    "y = meinA.x"
   ]
  },
  {
   "cell_type": "code",
   "execution_count": 160,
   "metadata": {},
   "outputs": [
    {
     "name": "stdout",
     "output_type": "stream",
     "text": [
      "123\n"
     ]
    }
   ],
   "source": [
    "print(y)"
   ]
  },
  {
   "cell_type": "code",
   "execution_count": 161,
   "metadata": {},
   "outputs": [
    {
     "name": "stdout",
     "output_type": "stream",
     "text": [
      "Ergebnis= 0.008130081300813009\n"
     ]
    }
   ],
   "source": [
    "meinA.compute()"
   ]
  },
  {
   "cell_type": "code",
   "execution_count": null,
   "metadata": {
    "collapsed": true
   },
   "outputs": [],
   "source": []
  }
 ],
 "metadata": {
  "kernelspec": {
   "display_name": "Python 3",
   "language": "python",
   "name": "python3"
  },
  "language_info": {
   "codemirror_mode": {
    "name": "ipython",
    "version": 3
   },
   "file_extension": ".py",
   "mimetype": "text/x-python",
   "name": "python",
   "nbconvert_exporter": "python",
   "pygments_lexer": "ipython3",
   "version": "3.6.2"
  },
  "toc": {
   "base_numbering": 1,
   "nav_menu": {},
   "number_sections": true,
   "sideBar": true,
   "skip_h1_title": false,
   "title_cell": "Inhalte",
   "title_sidebar": "Inhaltsverzeichnis",
   "toc_cell": true,
   "toc_position": {
    "height": "calc(100% - 180px)",
    "left": "10px",
    "top": "150px",
    "width": "238px"
   },
   "toc_section_display": true,
   "toc_window_display": true
  }
 },
 "nbformat": 4,
 "nbformat_minor": 2
}

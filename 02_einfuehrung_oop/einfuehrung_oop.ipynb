{
 "cells": [
  {
   "cell_type": "markdown",
   "metadata": {
    "toc": true
   },
   "source": [
    "<h1>Inhalte<span class=\"tocSkip\"></span></h1>\n",
    "<div class=\"toc\"><ul class=\"toc-item\"><li><span><a href=\"#Was-ist-eine-Klasse?\" data-toc-modified-id=\"Was-ist-eine-Klasse?-1\"><span class=\"toc-item-num\">1&nbsp;&nbsp;</span>Was ist eine Klasse?</a></span></li><li><span><a href=\"#Ein-einfaches-erstes-Beispiel\" data-toc-modified-id=\"Ein-einfaches-erstes-Beispiel-2\"><span class=\"toc-item-num\">2&nbsp;&nbsp;</span>Ein einfaches erstes Beispiel</a></span></li><li><span><a href=\"#Informationen-über-das-Objekt-ausgeben\" data-toc-modified-id=\"Informationen-über-das-Objekt-ausgeben-3\"><span class=\"toc-item-num\">3&nbsp;&nbsp;</span>Informationen über das Objekt ausgeben</a></span></li><li><span><a href=\"#Wieso-eigentlich-das-self?\" data-toc-modified-id=\"Wieso-eigentlich-das-self?-4\"><span class=\"toc-item-num\">4&nbsp;&nbsp;</span>Wieso eigentlich das <code>self</code>?</a></span></li></ul></div>"
   ]
  },
  {
   "cell_type": "markdown",
   "metadata": {},
   "source": [
    "# Was ist eine Klasse?\n",
    "\n",
    "Eine Klasse ist eine Vorlage, um Objekte zu erzeugen.\n",
    "\n",
    "Objekte in einer Programmiersprache wiederum bündeln alle Eigenschaften und Funktionen, die zu einem Objekt (\"Ding\") in der Welt gehören.\n",
    "\n",
    "![Szene aus einem Aufbaustrategiespiel](screenshot_aufbaustrategiespiel.png)\n",
    "\n",
    "Quelle: Stronghold Crusader 2 - BUILDING A KINGDOM, https://youtu.be/npD_dvPp49c\n",
    "\n",
    "Jedes mal wenn man die Vorlage (Klasse) verwendet, um ein neues Objekt zu erzeugen, sagt man auch: man erzeugt eine neue *Instanz der Klasse*."
   ]
  },
  {
   "cell_type": "markdown",
   "metadata": {},
   "source": [
    "# Ein einfaches erstes Beispiel"
   ]
  },
  {
   "cell_type": "code",
   "execution_count": 2,
   "metadata": {
    "collapsed": true
   },
   "outputs": [],
   "source": [
    "class zeitreihe:\n",
    "    pass"
   ]
  },
  {
   "cell_type": "markdown",
   "metadata": {},
   "source": [
    "Wir haben eine erste Zeitreihe (die noch nichts kann), aber wir können schon Instanzen hiervon erzeugen:"
   ]
  },
  {
   "cell_type": "code",
   "execution_count": 5,
   "metadata": {
    "collapsed": true
   },
   "outputs": [],
   "source": [
    "z1 = zeitreihe()"
   ]
  },
  {
   "cell_type": "code",
   "execution_count": 7,
   "metadata": {},
   "outputs": [
    {
     "data": {
      "text/plain": [
       "2138025387456"
      ]
     },
     "execution_count": 7,
     "metadata": {},
     "output_type": "execute_result"
    }
   ],
   "source": [
    "id(z1)"
   ]
  },
  {
   "cell_type": "code",
   "execution_count": 8,
   "metadata": {
    "collapsed": true
   },
   "outputs": [],
   "source": [
    "z2 = zeitreihe()"
   ]
  },
  {
   "cell_type": "code",
   "execution_count": 9,
   "metadata": {},
   "outputs": [
    {
     "data": {
      "text/plain": [
       "2138025387680"
      ]
     },
     "execution_count": 9,
     "metadata": {},
     "output_type": "execute_result"
    }
   ],
   "source": [
    "id(z2)"
   ]
  },
  {
   "cell_type": "markdown",
   "metadata": {},
   "source": [
    "Wir wollen der Zeitreihenklasse nun die Möglichkeit geben, einige Dinge zu speichern:"
   ]
  },
  {
   "cell_type": "code",
   "execution_count": 10,
   "metadata": {
    "collapsed": true
   },
   "outputs": [],
   "source": [
    "class zeitreihe:\n",
    "    \n",
    "    def __init__(self, sensortyp, daten, abtastrate, aufnahmedatum):\n",
    "        self.sensortyp = sensortyp\n",
    "        self.daten = daten\n",
    "        self.abtastrate = abtastrate\n",
    "        self.aufnahmedatum = aufnahmedatum"
   ]
  },
  {
   "cell_type": "code",
   "execution_count": 11,
   "metadata": {},
   "outputs": [
    {
     "ename": "TypeError",
     "evalue": "__init__() missing 4 required positional arguments: 'sensortyp', 'daten', 'abtastrate', and 'aufnahmedatum'",
     "output_type": "error",
     "traceback": [
      "\u001b[1;31m---------------------------------------------------------------------------\u001b[0m",
      "\u001b[1;31mTypeError\u001b[0m                                 Traceback (most recent call last)",
      "\u001b[1;32m<ipython-input-11-22bab2caeb6d>\u001b[0m in \u001b[0;36m<module>\u001b[1;34m()\u001b[0m\n\u001b[1;32m----> 1\u001b[1;33m \u001b[0mz1\u001b[0m \u001b[1;33m=\u001b[0m \u001b[0mzeitreihe\u001b[0m\u001b[1;33m(\u001b[0m\u001b[1;33m)\u001b[0m\u001b[1;33m\u001b[0m\u001b[0m\n\u001b[0m",
      "\u001b[1;31mTypeError\u001b[0m: __init__() missing 4 required positional arguments: 'sensortyp', 'daten', 'abtastrate', and 'aufnahmedatum'"
     ]
    }
   ],
   "source": [
    "z1 = zeitreihe()"
   ]
  },
  {
   "cell_type": "code",
   "execution_count": 28,
   "metadata": {},
   "outputs": [],
   "source": [
    "from datetime import datetime\n",
    "\n",
    "s = \"abstandssensor\"\n",
    "d = [10, 21, 23, 24, 25, 12]\n",
    "a = 1.0\n",
    "aufdatum = datetime(year=2019, month=3, day=14, hour=10, minute=18, second=33)"
   ]
  },
  {
   "cell_type": "code",
   "execution_count": 29,
   "metadata": {},
   "outputs": [
    {
     "data": {
      "text/plain": [
       "datetime.datetime(2019, 3, 14, 10, 18, 33)"
      ]
     },
     "execution_count": 29,
     "metadata": {},
     "output_type": "execute_result"
    }
   ],
   "source": [
    "aufdatum"
   ]
  },
  {
   "cell_type": "code",
   "execution_count": 30,
   "metadata": {},
   "outputs": [
    {
     "name": "stdout",
     "output_type": "stream",
     "text": [
      "2019-03-14 10:18:33\n"
     ]
    }
   ],
   "source": [
    "print(aufdatum)"
   ]
  },
  {
   "cell_type": "code",
   "execution_count": 34,
   "metadata": {
    "collapsed": true
   },
   "outputs": [],
   "source": [
    "z1 = zeitreihe(s,d,a,aufdatum)"
   ]
  },
  {
   "cell_type": "markdown",
   "metadata": {},
   "source": [
    "Da die Parameter Namen tragen, müssen wir uns aber nicht an die Reihenfolge der Parameter wie in `__init__()` angegeben halten:"
   ]
  },
  {
   "cell_type": "code",
   "execution_count": 37,
   "metadata": {},
   "outputs": [],
   "source": [
    "z1 = zeitreihe(aufnahmedatum=aufdatum, daten=d, sensortyp=s, abtastrate=a)"
   ]
  },
  {
   "cell_type": "markdown",
   "metadata": {},
   "source": [
    "# Informationen über das Objekt ausgeben\n",
    "\n",
    "Wir geben unserer Klasse nun auch eine erste \"echte\" Methode `gebe_infos_aus()`:"
   ]
  },
  {
   "cell_type": "code",
   "execution_count": 85,
   "metadata": {},
   "outputs": [],
   "source": [
    "class zeitreihe:\n",
    "    \n",
    "    def __init__(self, sensortyp, daten, abtastrate, aufnahmedatum):\n",
    "        self.sensortyp = sensortyp\n",
    "        self.daten = daten\n",
    "        self.abtastrate = abtastrate\n",
    "        self.aufnahmedatum = aufnahmedatum\n",
    "        \n",
    "    def gebe_infos_aus(self):    \n",
    "        print(\"Die Zeitreihe wurde aufgenommen mit: {0}\\n\" \\\n",
    "               \"Es liegen insgesamt {1} Datenpunkte vor\\n\" \\\n",
    "               \"Abtastrate war:  {2} Datenpunkte pro Sekunde\\n\" \\\n",
    "               \"Erster Datenpunkt wurde aufgenommen am: {3}\\n\" \\\n",
    "               .format(\n",
    "                  self.sensortyp,\n",
    "                  len(self.daten),\n",
    "                  self.abtastrate,\n",
    "                  self.aufnahmedatum)\n",
    "             )\n",
    "        "
   ]
  },
  {
   "cell_type": "code",
   "execution_count": 86,
   "metadata": {
    "collapsed": true
   },
   "outputs": [],
   "source": [
    "z1 = zeitreihe(s,d,a,aufdatum)"
   ]
  },
  {
   "cell_type": "code",
   "execution_count": 87,
   "metadata": {},
   "outputs": [
    {
     "name": "stdout",
     "output_type": "stream",
     "text": [
      "Die Zeitreihe wurde aufgenommen mit: abstandssensor\n",
      "Es liegen insgesamt 6 Datenpunkte vor\n",
      "Abtastrate war:  1.0 Datenpunkte pro Sekunde\n",
      "Erster Datenpunkt wurde aufgenommen am: 2019-03-14 10:18:33\n",
      "\n"
     ]
    }
   ],
   "source": [
    "z1.gebe_infos_aus()"
   ]
  },
  {
   "cell_type": "markdown",
   "metadata": {},
   "source": [
    "Nett wäre es nun noch, wenn wir auch mittels `print()` Informationen zum Objekt ausgeben könnten, wie es für andere Python Objekte auch geht:"
   ]
  },
  {
   "cell_type": "code",
   "execution_count": 88,
   "metadata": {},
   "outputs": [
    {
     "name": "stdout",
     "output_type": "stream",
     "text": [
      "2019-03-14 10:18:33\n"
     ]
    }
   ],
   "source": [
    "print(aufdatum)"
   ]
  },
  {
   "cell_type": "code",
   "execution_count": 89,
   "metadata": {},
   "outputs": [
    {
     "name": "stdout",
     "output_type": "stream",
     "text": [
      "<__main__.zeitreihe object at 0x000001F1CC4CB898>\n"
     ]
    }
   ],
   "source": [
    "print(z1)"
   ]
  },
  {
   "cell_type": "markdown",
   "metadata": {},
   "source": [
    "Oder z.B. funktioniert `print()` ja auch mit Dictionaries:"
   ]
  },
  {
   "cell_type": "code",
   "execution_count": 94,
   "metadata": {
    "collapsed": true
   },
   "outputs": [],
   "source": [
    "d = { \"Key1\": 17, \"Key2\": 894 }"
   ]
  },
  {
   "cell_type": "code",
   "execution_count": 96,
   "metadata": {},
   "outputs": [
    {
     "name": "stdout",
     "output_type": "stream",
     "text": [
      "{'Key1': 17, 'Key2': 894}\n"
     ]
    }
   ],
   "source": [
    "print(d)"
   ]
  },
  {
   "cell_type": "code",
   "execution_count": 101,
   "metadata": {},
   "outputs": [],
   "source": [
    "class zeitreihe:\n",
    "    \n",
    "    def __init__(self, sensortyp, daten, abtastrate, aufnahmedatum):\n",
    "        self.sensortyp = sensortyp\n",
    "        self.daten = daten\n",
    "        self.abtastrate = abtastrate\n",
    "        self.aufnahmedatum = aufnahmedatum\n",
    "        \n",
    "    def gebe_infos_aus(self):\n",
    "        print(self)\n",
    "        \n",
    "    def __str__(self):\n",
    "        return \"Die Zeitreihe wurde aufgenommen mit: {0}\\n\" \\\n",
    "               \"Es liegen insgesamt {1} Datenpunkte vor\\n\" \\\n",
    "               \"Abtastrate war:  {2} Datenpunkte pro Sekunde\\n\" \\\n",
    "               \"Erster Datenpunkt wurde aufgenommen am: {3}\\n\" \\\n",
    "               .format(\n",
    "                  self.sensortyp,\n",
    "                  len(self.daten),\n",
    "                  self.abtastrate,\n",
    "                  self.aufnahmedatum)\n",
    "        \n",
    "        "
   ]
  },
  {
   "cell_type": "code",
   "execution_count": 102,
   "metadata": {
    "collapsed": true
   },
   "outputs": [],
   "source": [
    "z1 = zeitreihe(s,d,a,aufdatum)"
   ]
  },
  {
   "cell_type": "code",
   "execution_count": 103,
   "metadata": {},
   "outputs": [
    {
     "name": "stdout",
     "output_type": "stream",
     "text": [
      "Die Zeitreihe wurde aufgenommen mit: abstandssensor\n",
      "Es liegen insgesamt 2 Datenpunkte vor\n",
      "Abtastrate war:  1.0 Datenpunkte pro Sekunde\n",
      "Erster Datenpunkt wurde aufgenommen am: 2019-03-14 10:18:33\n",
      "\n"
     ]
    }
   ],
   "source": [
    "print(z1)"
   ]
  },
  {
   "cell_type": "code",
   "execution_count": 104,
   "metadata": {},
   "outputs": [
    {
     "name": "stdout",
     "output_type": "stream",
     "text": [
      "Die Zeitreihe wurde aufgenommen mit: abstandssensor\n",
      "Es liegen insgesamt 2 Datenpunkte vor\n",
      "Abtastrate war:  1.0 Datenpunkte pro Sekunde\n",
      "Erster Datenpunkt wurde aufgenommen am: 2019-03-14 10:18:33\n",
      "\n"
     ]
    }
   ],
   "source": [
    "z1.gebe_infos_aus()"
   ]
  },
  {
   "cell_type": "code",
   "execution_count": 107,
   "metadata": {},
   "outputs": [
    {
     "name": "stdout",
     "output_type": "stream",
     "text": [
      "Hier sind einige Infos über deine Zeitreihe:\n",
      "Die Zeitreihe wurde aufgenommen mit: abstandssensor\n",
      "Es liegen insgesamt 2 Datenpunkte vor\n",
      "Abtastrate war:  1.0 Datenpunkte pro Sekunde\n",
      "Erster Datenpunkt wurde aufgenommen am: 2019-03-14 10:18:33\n",
      "\n"
     ]
    }
   ],
   "source": [
    "print(\"Hier sind einige Infos über deine Zeitreihe:\\n\" + str(z1))"
   ]
  },
  {
   "cell_type": "markdown",
   "metadata": {},
   "source": [
    "# Wieso eigentlich das `self`?"
   ]
  },
  {
   "cell_type": "markdown",
   "metadata": {},
   "source": [
    "Hierzu ein \"Easter egg\", das in Python versteckt ist:"
   ]
  },
  {
   "cell_type": "code",
   "execution_count": 108,
   "metadata": {},
   "outputs": [
    {
     "name": "stdout",
     "output_type": "stream",
     "text": [
      "The Zen of Python, by Tim Peters\n",
      "\n",
      "Beautiful is better than ugly.\n",
      "Explicit is better than implicit.\n",
      "Simple is better than complex.\n",
      "Complex is better than complicated.\n",
      "Flat is better than nested.\n",
      "Sparse is better than dense.\n",
      "Readability counts.\n",
      "Special cases aren't special enough to break the rules.\n",
      "Although practicality beats purity.\n",
      "Errors should never pass silently.\n",
      "Unless explicitly silenced.\n",
      "In the face of ambiguity, refuse the temptation to guess.\n",
      "There should be one-- and preferably only one --obvious way to do it.\n",
      "Although that way may not be obvious at first unless you're Dutch.\n",
      "Now is better than never.\n",
      "Although never is often better than *right* now.\n",
      "If the implementation is hard to explain, it's a bad idea.\n",
      "If the implementation is easy to explain, it may be a good idea.\n",
      "Namespaces are one honking great idea -- let's do more of those!\n"
     ]
    }
   ],
   "source": [
    "import this"
   ]
  },
  {
   "cell_type": "markdown",
   "metadata": {},
   "source": [
    "Dies sind einige der wichtigsten Design-Regeln, nach denen Python entwickelt wurde und weiterhin wird.\n",
    "\n",
    "Das `self` passt gut zur Python 2. Design-Regel:\n",
    "\n",
    "    \"Explicit is better than implicit\"\n",
    "    \n",
    "Die Funktionen, die in der Klasse `zeitreihe` definiert sind, müssen stets für ein konkretes Objekt aufgerufen werden und nicht für alle. Welches Objekt hier gemeint ist, wird durch\n",
    "den `self` Parameter **explizit** angegeben.\n",
    "\n",
    "Auf der Aufrufseite\n",
    "\n",
    "z1.gebe_infos_aus()\n",
    "\n",
    "geben wir das Objekt explizit an. Wir wollen `gebe_infos_aus()` heute für das Objekt `z1` aufrufen.\n",
    "\n",
    "Auf der Funktionsdefinitionsseite `gebe_infos_aus()` ist es daher naheliegend die Identität des Objektes, für das den Funktionsaufruf gilt, auch explizit zu machen.\n",
    "\n",
    "Der Aufruf"
   ]
  },
  {
   "cell_type": "code",
   "execution_count": 112,
   "metadata": {},
   "outputs": [
    {
     "name": "stdout",
     "output_type": "stream",
     "text": [
      "Die Zeitreihe wurde aufgenommen mit: abstandssensor\n",
      "Es liegen insgesamt 2 Datenpunkte vor\n",
      "Abtastrate war:  1.0 Datenpunkte pro Sekunde\n",
      "Erster Datenpunkt wurde aufgenommen am: 2019-03-14 10:18:33\n",
      "\n"
     ]
    }
   ],
   "source": [
    "z1.gebe_infos_aus()"
   ]
  },
  {
   "cell_type": "markdown",
   "metadata": {},
   "source": [
    "ist dabei auch gleichbedeutend mit"
   ]
  },
  {
   "cell_type": "code",
   "execution_count": 114,
   "metadata": {},
   "outputs": [
    {
     "name": "stdout",
     "output_type": "stream",
     "text": [
      "Die Zeitreihe wurde aufgenommen mit: abstandssensor\n",
      "Es liegen insgesamt 2 Datenpunkte vor\n",
      "Abtastrate war:  1.0 Datenpunkte pro Sekunde\n",
      "Erster Datenpunkt wurde aufgenommen am: 2019-03-14 10:18:33\n",
      "\n"
     ]
    }
   ],
   "source": [
    "zeitreihe.gebe_infos_aus(z1)"
   ]
  },
  {
   "cell_type": "markdown",
   "metadata": {},
   "source": [
    "bei dem das Objekt als Funktionsargument angegeben wurde."
   ]
  },
  {
   "cell_type": "code",
   "execution_count": null,
   "metadata": {
    "collapsed": true
   },
   "outputs": [],
   "source": []
  }
 ],
 "metadata": {
  "kernelspec": {
   "display_name": "Python 3",
   "language": "python",
   "name": "python3"
  },
  "language_info": {
   "codemirror_mode": {
    "name": "ipython",
    "version": 3
   },
   "file_extension": ".py",
   "mimetype": "text/x-python",
   "name": "python",
   "nbconvert_exporter": "python",
   "pygments_lexer": "ipython3",
   "version": "3.6.2"
  },
  "toc": {
   "base_numbering": 1,
   "nav_menu": {},
   "number_sections": true,
   "sideBar": true,
   "skip_h1_title": false,
   "title_cell": "Inhalte",
   "title_sidebar": "Inhaltsverzeichnis",
   "toc_cell": true,
   "toc_position": {},
   "toc_section_display": true,
   "toc_window_display": true
  }
 },
 "nbformat": 4,
 "nbformat_minor": 2
}

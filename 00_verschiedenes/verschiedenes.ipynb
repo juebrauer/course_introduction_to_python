{
 "cells": [
  {
   "cell_type": "markdown",
   "metadata": {
    "toc": true
   },
   "source": [
    "<h1>Table of Contents<span class=\"tocSkip\"></span></h1>\n",
    "<div class=\"toc\"><ul class=\"toc-item\"><li><span><a href=\"#Wie-kann-man-aus-einer-Liste-alle-Einträge-x-löschen?\" data-toc-modified-id=\"Wie-kann-man-aus-einer-Liste-alle-Einträge-x-löschen?-1\"><span class=\"toc-item-num\">1&nbsp;&nbsp;</span>Wie kann man aus einer Liste alle Einträge x löschen?</a></span></li><li><span><a href=\"#Parameter-im-JSON-Format-speichern-und-wieder-einlesen\" data-toc-modified-id=\"Parameter-im-JSON-Format-speichern-und-wieder-einlesen-2\"><span class=\"toc-item-num\">2&nbsp;&nbsp;</span>Parameter im JSON Format speichern und wieder einlesen</a></span><ul class=\"toc-item\"><li><span><a href=\"#Parameter-im-JSON-Format-speichern\" data-toc-modified-id=\"Parameter-im-JSON-Format-speichern-2.1\"><span class=\"toc-item-num\">2.1&nbsp;&nbsp;</span>Parameter im JSON-Format speichern</a></span></li><li><span><a href=\"#Parameter-aus-JSON-Datei-einlesen\" data-toc-modified-id=\"Parameter-aus-JSON-Datei-einlesen-2.2\"><span class=\"toc-item-num\">2.2&nbsp;&nbsp;</span>Parameter aus JSON-Datei einlesen</a></span></li></ul></li><li><span><a href=\"#Bündige-Ausgaben-mit-Format\" data-toc-modified-id=\"Bündige-Ausgaben-mit-Format-3\"><span class=\"toc-item-num\">3&nbsp;&nbsp;</span>Bündige Ausgaben mit Format</a></span></li><li><span><a href=\"#Wozu-der-@staticmethod-Function-Decorator?\" data-toc-modified-id=\"Wozu-der-@staticmethod-Function-Decorator?-4\"><span class=\"toc-item-num\">4&nbsp;&nbsp;</span>Wozu der <code>@staticmethod</code> Function Decorator?</a></span></li></ul></div>"
   ]
  },
  {
   "cell_type": "markdown",
   "metadata": {},
   "source": [
    "# Wie kann man aus einer Liste alle Einträge x löschen?"
   ]
  },
  {
   "cell_type": "code",
   "execution_count": 2,
   "metadata": {
    "collapsed": true
   },
   "outputs": [],
   "source": [
    "L = [2,4,6,8,10,8,12,8,8]"
   ]
  },
  {
   "cell_type": "code",
   "execution_count": 3,
   "metadata": {
    "collapsed": true
   },
   "outputs": [],
   "source": [
    "L.remove(8)"
   ]
  },
  {
   "cell_type": "code",
   "execution_count": 4,
   "metadata": {},
   "outputs": [
    {
     "data": {
      "text/plain": [
       "[2, 4, 6, 10, 8, 12, 8, 8]"
      ]
     },
     "execution_count": 4,
     "metadata": {},
     "output_type": "execute_result"
    }
   ],
   "source": [
    "L"
   ]
  },
  {
   "cell_type": "markdown",
   "metadata": {},
   "source": [
    "Lösung mittels List-Comprehension:"
   ]
  },
  {
   "cell_type": "code",
   "execution_count": 8,
   "metadata": {},
   "outputs": [
    {
     "data": {
      "text/plain": [
       "[2, 4, 6, 10, 12]"
      ]
     },
     "execution_count": 8,
     "metadata": {},
     "output_type": "execute_result"
    }
   ],
   "source": [
    "[i for i in L if i != 8]"
   ]
  },
  {
   "cell_type": "markdown",
   "metadata": {},
   "source": [
    "Lösung mittels while-Schleife und in-Operator:"
   ]
  },
  {
   "cell_type": "code",
   "execution_count": 9,
   "metadata": {
    "collapsed": true
   },
   "outputs": [],
   "source": [
    "L = [2,4,6,8,10,8,12,8,8]"
   ]
  },
  {
   "cell_type": "code",
   "execution_count": 10,
   "metadata": {},
   "outputs": [
    {
     "data": {
      "text/plain": [
       "True"
      ]
     },
     "execution_count": 10,
     "metadata": {},
     "output_type": "execute_result"
    }
   ],
   "source": [
    "8 in L"
   ]
  },
  {
   "cell_type": "code",
   "execution_count": 11,
   "metadata": {
    "collapsed": true
   },
   "outputs": [],
   "source": [
    "while 8 in L:\n",
    "    L.remove(8)"
   ]
  },
  {
   "cell_type": "code",
   "execution_count": 12,
   "metadata": {},
   "outputs": [
    {
     "data": {
      "text/plain": [
       "[2, 4, 6, 10, 12]"
      ]
     },
     "execution_count": 12,
     "metadata": {},
     "output_type": "execute_result"
    }
   ],
   "source": [
    "L"
   ]
  },
  {
   "cell_type": "markdown",
   "metadata": {},
   "source": [
    "Achtung! Die zweite Lösung ist ineffizient. Weil wir `remove()` immer wieder neu aufrufen, muss immer wieder neu durch die Liste L gegangen werden!"
   ]
  },
  {
   "cell_type": "markdown",
   "metadata": {},
   "source": [
    "# Parameter im JSON Format speichern und wieder einlesen"
   ]
  },
  {
   "cell_type": "markdown",
   "metadata": {},
   "source": [
    "## Parameter im JSON-Format speichern"
   ]
  },
  {
   "cell_type": "code",
   "execution_count": 52,
   "metadata": {
    "collapsed": true
   },
   "outputs": [],
   "source": [
    "params = { \"sensor\": \"druck\", \"abtastrate\": 0.123, \"alpha\": 25, \\\n",
    "           \"weiteres\" : [1,2,3,4,5,6] }"
   ]
  },
  {
   "cell_type": "code",
   "execution_count": 53,
   "metadata": {
    "collapsed": true
   },
   "outputs": [],
   "source": [
    "import json"
   ]
  },
  {
   "cell_type": "code",
   "execution_count": 54,
   "metadata": {
    "collapsed": true
   },
   "outputs": [],
   "source": [
    "fobj = open(\"meine_json_datei.json\", \"w\")"
   ]
  },
  {
   "cell_type": "code",
   "execution_count": 55,
   "metadata": {
    "collapsed": true
   },
   "outputs": [],
   "source": [
    "json.dump(params, fobj, indent=4, sort_keys=True)"
   ]
  },
  {
   "cell_type": "code",
   "execution_count": 56,
   "metadata": {
    "collapsed": true
   },
   "outputs": [],
   "source": [
    "fobj.close()"
   ]
  },
  {
   "cell_type": "markdown",
   "metadata": {},
   "source": [
    "## Parameter aus JSON-Datei einlesen"
   ]
  },
  {
   "cell_type": "code",
   "execution_count": 57,
   "metadata": {
    "collapsed": true
   },
   "outputs": [],
   "source": [
    "import json"
   ]
  },
  {
   "cell_type": "code",
   "execution_count": 58,
   "metadata": {
    "collapsed": true
   },
   "outputs": [],
   "source": [
    "fobj2 = open(\"meine_json_datei.json\", \"r\")"
   ]
  },
  {
   "cell_type": "code",
   "execution_count": 59,
   "metadata": {
    "collapsed": true
   },
   "outputs": [],
   "source": [
    "data = json.load(fobj2)"
   ]
  },
  {
   "cell_type": "code",
   "execution_count": 60,
   "metadata": {},
   "outputs": [
    {
     "data": {
      "text/plain": [
       "{'abtastrate': 0.123,\n",
       " 'alpha': 25,\n",
       " 'sensor': 'druck',\n",
       " 'weiteres': [1, 2, 3, 4, 5, 6]}"
      ]
     },
     "execution_count": 60,
     "metadata": {},
     "output_type": "execute_result"
    }
   ],
   "source": [
    "data"
   ]
  },
  {
   "cell_type": "code",
   "execution_count": 61,
   "metadata": {},
   "outputs": [
    {
     "data": {
      "text/plain": [
       "dict"
      ]
     },
     "execution_count": 61,
     "metadata": {},
     "output_type": "execute_result"
    }
   ],
   "source": [
    "type(data)"
   ]
  },
  {
   "cell_type": "code",
   "execution_count": 62,
   "metadata": {},
   "outputs": [
    {
     "data": {
      "text/plain": [
       "0.123"
      ]
     },
     "execution_count": 62,
     "metadata": {},
     "output_type": "execute_result"
    }
   ],
   "source": [
    "data[\"abtastrate\"]"
   ]
  },
  {
   "cell_type": "markdown",
   "metadata": {
    "collapsed": true
   },
   "source": [
    "# Bündige Ausgaben mit Format"
   ]
  },
  {
   "cell_type": "code",
   "execution_count": 1,
   "metadata": {
    "collapsed": true
   },
   "outputs": [],
   "source": [
    "zk1 = \"Dies ist ein sehr sehr langer Text\"\n",
    "zk2 = \"Kurzer Text\"\n",
    "z1 = 123\n",
    "z2 = 4.56789"
   ]
  },
  {
   "cell_type": "markdown",
   "metadata": {},
   "source": [
    "Textfeld mit 60 Zeichen. Rechtsbünding ausgeben."
   ]
  },
  {
   "cell_type": "code",
   "execution_count": 5,
   "metadata": {},
   "outputs": [
    {
     "name": "stdout",
     "output_type": "stream",
     "text": [
      "                          Dies ist ein sehr sehr langer Text\n"
     ]
    }
   ],
   "source": [
    "print(\"{0:>60}\".format(zk1))"
   ]
  },
  {
   "cell_type": "markdown",
   "metadata": {},
   "source": [
    "Textfeld mit 60 Zeichen. Linksbündig ausgeben."
   ]
  },
  {
   "cell_type": "code",
   "execution_count": 6,
   "metadata": {},
   "outputs": [
    {
     "name": "stdout",
     "output_type": "stream",
     "text": [
      "Dies ist ein sehr sehr langer Text                          \n"
     ]
    }
   ],
   "source": [
    "print(\"{0:<60}\".format(zk1))"
   ]
  },
  {
   "cell_type": "markdown",
   "metadata": {},
   "source": [
    "Textfeld mit 60 Zeichen. Zentriert ausgeben."
   ]
  },
  {
   "cell_type": "code",
   "execution_count": 7,
   "metadata": {},
   "outputs": [
    {
     "name": "stdout",
     "output_type": "stream",
     "text": [
      "             Dies ist ein sehr sehr langer Text             \n"
     ]
    }
   ],
   "source": [
    "print(\"{0:^60}\".format(zk1))"
   ]
  },
  {
   "cell_type": "markdown",
   "metadata": {},
   "source": [
    "Textfeld mit 60 Zeichen. Dann Leerzeichen, dann nächster Parameter."
   ]
  },
  {
   "cell_type": "code",
   "execution_count": 18,
   "metadata": {},
   "outputs": [
    {
     "name": "stdout",
     "output_type": "stream",
     "text": [
      "Dies ist ein sehr sehr langer Text      :123\n"
     ]
    }
   ],
   "source": [
    "print(\"{0:40}: {1}\".format(zk1,z1))"
   ]
  },
  {
   "cell_type": "code",
   "execution_count": 19,
   "metadata": {},
   "outputs": [
    {
     "name": "stdout",
     "output_type": "stream",
     "text": [
      "Dies ist ein sehr sehr langer Text      : 123\n",
      "Kurzer Text                             : 4.56789\n"
     ]
    }
   ],
   "source": [
    "print(\"{0:40}: {1}\".format(zk1,z1))\n",
    "print(\"{0:40}: {1}\".format(zk2,z2))"
   ]
  },
  {
   "cell_type": "markdown",
   "metadata": {},
   "source": [
    "Beide Zahlen rechtsbündig ausgeben:"
   ]
  },
  {
   "cell_type": "code",
   "execution_count": 20,
   "metadata": {},
   "outputs": [
    {
     "name": "stdout",
     "output_type": "stream",
     "text": [
      "Dies ist ein sehr sehr langer Text      :        123\n",
      "Kurzer Text                             :    4.56789\n"
     ]
    }
   ],
   "source": [
    "print(\"{0:40}: {1:>10}\".format(zk1,z1))\n",
    "print(\"{0:40}: {1:>10}\".format(zk2,z2))"
   ]
  },
  {
   "cell_type": "markdown",
   "metadata": {},
   "source": [
    "Füllzeichen für Textfeld = .\n",
    "\n",
    "Füllzeichen für Zahlenfeld = _"
   ]
  },
  {
   "cell_type": "code",
   "execution_count": 29,
   "metadata": {},
   "outputs": [
    {
     "name": "stdout",
     "output_type": "stream",
     "text": [
      "Dies ist ein sehr sehr langer Text......: _______123\n",
      "Kurzer Text.............................: ___4.56789\n"
     ]
    }
   ],
   "source": [
    "print(\"{0:.<40}: {1:_>10}\".format(zk1,z1))\n",
    "print(\"{0:.<40}: {1:_>10}\".format(zk2,z2))"
   ]
  },
  {
   "cell_type": "markdown",
   "metadata": {},
   "source": [
    "Führende Nullen bei Zahl:"
   ]
  },
  {
   "cell_type": "code",
   "execution_count": 54,
   "metadata": {},
   "outputs": [
    {
     "name": "stdout",
     "output_type": "stream",
     "text": [
      "Dies ist ein sehr sehr langer Text......: 0000000123\n",
      "Kurzer Text.............................: 0004.56789\n"
     ]
    }
   ],
   "source": [
    "print(\"{0:.<40}: {1:0>10}\".format(zk1,z1))\n",
    "print(\"{0:.<40}: {1:0>10}\".format(zk2,z2))"
   ]
  },
  {
   "cell_type": "markdown",
   "metadata": {},
   "source": [
    "Zwei Nachkommastellen Genauigkeit bei gebrochener Zahl:"
   ]
  },
  {
   "cell_type": "code",
   "execution_count": 55,
   "metadata": {},
   "outputs": [
    {
     "name": "stdout",
     "output_type": "stream",
     "text": [
      "Dies ist ein sehr sehr langer Text......: 0000000123\n",
      "Kurzer Text.............................: 0000004.57\n"
     ]
    }
   ],
   "source": [
    "print(\"{0:.<40}: {1:0>10}\".format(zk1,z1))\n",
    "print(\"{0:.<40}: {1:0>10.2f}\".format(zk2,z2))"
   ]
  },
  {
   "cell_type": "markdown",
   "metadata": {},
   "source": [
    "# Wozu der `@staticmethod` Function Decorator?"
   ]
  },
  {
   "cell_type": "markdown",
   "metadata": {},
   "source": [
    "Das fragen sich auch andere:\n",
    "\n",
    "https://stackoverflow.com/questions/43587044/do-we-really-need-staticmethod-decorator-in-python-to-declare-static-method"
   ]
  },
  {
   "cell_type": "code",
   "execution_count": 56,
   "metadata": {
    "collapsed": true
   },
   "outputs": [],
   "source": [
    "class A:\n",
    "    def foo():\n",
    "        print(\"Hallo!\")"
   ]
  },
  {
   "cell_type": "code",
   "execution_count": 58,
   "metadata": {},
   "outputs": [
    {
     "name": "stdout",
     "output_type": "stream",
     "text": [
      "Hallo!\n"
     ]
    }
   ],
   "source": [
    "A.foo()"
   ]
  },
  {
   "cell_type": "code",
   "execution_count": 59,
   "metadata": {
    "collapsed": true
   },
   "outputs": [],
   "source": [
    "a1 = A()"
   ]
  },
  {
   "cell_type": "markdown",
   "metadata": {},
   "source": [
    "Folgender Aufruf geht nicht:"
   ]
  },
  {
   "cell_type": "code",
   "execution_count": 60,
   "metadata": {},
   "outputs": [
    {
     "ename": "TypeError",
     "evalue": "foo() takes 0 positional arguments but 1 was given",
     "output_type": "error",
     "traceback": [
      "\u001b[1;31m---------------------------------------------------------------------------\u001b[0m",
      "\u001b[1;31mTypeError\u001b[0m                                 Traceback (most recent call last)",
      "\u001b[1;32m<ipython-input-60-fcc4a92ad31e>\u001b[0m in \u001b[0;36m<module>\u001b[1;34m()\u001b[0m\n\u001b[1;32m----> 1\u001b[1;33m \u001b[0ma1\u001b[0m\u001b[1;33m.\u001b[0m\u001b[0mfoo\u001b[0m\u001b[1;33m(\u001b[0m\u001b[1;33m)\u001b[0m\u001b[1;33m\u001b[0m\u001b[0m\n\u001b[0m",
      "\u001b[1;31mTypeError\u001b[0m: foo() takes 0 positional arguments but 1 was given"
     ]
    }
   ],
   "source": [
    "a1.foo()"
   ]
  },
  {
   "cell_type": "markdown",
   "metadata": {},
   "source": [
    "Mit dem Dekorator `@staticmethod` geht der Aufruf dann aber doch, d.h. dass wir dann auch die Methode von einer Instanzvariablen (einem Objekt) der Klasse A aufrufen können:"
   ]
  },
  {
   "cell_type": "code",
   "execution_count": 62,
   "metadata": {
    "collapsed": true
   },
   "outputs": [],
   "source": [
    "class A:\n",
    "    \n",
    "    @staticmethod\n",
    "    def foo():\n",
    "        print(\"Hallo!\")"
   ]
  },
  {
   "cell_type": "code",
   "execution_count": 63,
   "metadata": {
    "collapsed": true
   },
   "outputs": [],
   "source": [
    "a1 = A()"
   ]
  },
  {
   "cell_type": "code",
   "execution_count": 64,
   "metadata": {},
   "outputs": [
    {
     "name": "stdout",
     "output_type": "stream",
     "text": [
      "Hallo!\n"
     ]
    }
   ],
   "source": [
    "A.foo()"
   ]
  },
  {
   "cell_type": "code",
   "execution_count": 65,
   "metadata": {},
   "outputs": [
    {
     "name": "stdout",
     "output_type": "stream",
     "text": [
      "Hallo!\n"
     ]
    }
   ],
   "source": [
    "a1.foo()"
   ]
  },
  {
   "cell_type": "code",
   "execution_count": null,
   "metadata": {
    "collapsed": true
   },
   "outputs": [],
   "source": []
  }
 ],
 "metadata": {
  "kernelspec": {
   "display_name": "Python 3",
   "language": "python",
   "name": "python3"
  },
  "language_info": {
   "codemirror_mode": {
    "name": "ipython",
    "version": 3
   },
   "file_extension": ".py",
   "mimetype": "text/x-python",
   "name": "python",
   "nbconvert_exporter": "python",
   "pygments_lexer": "ipython3",
   "version": "3.6.2"
  },
  "toc": {
   "base_numbering": 1,
   "nav_menu": {},
   "number_sections": true,
   "sideBar": true,
   "skip_h1_title": false,
   "title_cell": "Table of Contents",
   "title_sidebar": "Contents",
   "toc_cell": true,
   "toc_position": {},
   "toc_section_display": true,
   "toc_window_display": true
  }
 },
 "nbformat": 4,
 "nbformat_minor": 4
}

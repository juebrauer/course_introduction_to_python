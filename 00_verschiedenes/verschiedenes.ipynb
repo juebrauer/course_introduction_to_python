{
 "cells": [
  {
   "cell_type": "markdown",
   "metadata": {
    "toc": true
   },
   "source": [
    "<h1>Inhaltsverzeichnis<span class=\"tocSkip\"></span></h1>\n",
    "<div class=\"toc\"><ul class=\"toc-item\"><li><span><a href=\"#Wie-kann-man-aus-einer-Liste-alle-Einträge-x-löschen?\" data-toc-modified-id=\"Wie-kann-man-aus-einer-Liste-alle-Einträge-x-löschen?-1\"><span class=\"toc-item-num\">1&nbsp;&nbsp;</span>Wie kann man aus einer Liste alle Einträge x löschen?</a></span></li><li><span><a href=\"#Parameter-im-JSON-Format-speichern-und-wieder-einlesen\" data-toc-modified-id=\"Parameter-im-JSON-Format-speichern-und-wieder-einlesen-2\"><span class=\"toc-item-num\">2&nbsp;&nbsp;</span>Parameter im JSON Format speichern und wieder einlesen</a></span><ul class=\"toc-item\"><li><span><a href=\"#Parameter-im-JSON-Format-speichern\" data-toc-modified-id=\"Parameter-im-JSON-Format-speichern-2.1\"><span class=\"toc-item-num\">2.1&nbsp;&nbsp;</span>Parameter im JSON-Format speichern</a></span></li><li><span><a href=\"#Parameter-aus-JSON-Datei-einlesen\" data-toc-modified-id=\"Parameter-aus-JSON-Datei-einlesen-2.2\"><span class=\"toc-item-num\">2.2&nbsp;&nbsp;</span>Parameter aus JSON-Datei einlesen</a></span></li></ul></li><li><span><a href=\"#Bündige-Ausgaben-mit-Format\" data-toc-modified-id=\"Bündige-Ausgaben-mit-Format-3\"><span class=\"toc-item-num\">3&nbsp;&nbsp;</span>Bündige Ausgaben mit Format</a></span></li><li><span><a href=\"#Wozu-der-@staticmethod-Function-Decorator?\" data-toc-modified-id=\"Wozu-der-@staticmethod-Function-Decorator?-4\"><span class=\"toc-item-num\">4&nbsp;&nbsp;</span>Wozu der <code>@staticmethod</code> Function Decorator?</a></span></li><li><span><a href=\"#hdf5-Format\" data-toc-modified-id=\"hdf5-Format-5\"><span class=\"toc-item-num\">5&nbsp;&nbsp;</span>hdf5 Format</a></span><ul class=\"toc-item\"><li><span><a href=\"#Mal-Daten-im-hdf5-Format-wegschreiben\" data-toc-modified-id=\"Mal-Daten-im-hdf5-Format-wegschreiben-5.1\"><span class=\"toc-item-num\">5.1&nbsp;&nbsp;</span>Mal Daten im hdf5 Format wegschreiben</a></span></li><li><span><a href=\"#Daten-wieder-einlesen\" data-toc-modified-id=\"Daten-wieder-einlesen-5.2\"><span class=\"toc-item-num\">5.2&nbsp;&nbsp;</span>Daten wieder einlesen</a></span></li><li><span><a href=\"#Keys-einer-hdf5-Datei-ausgeben\" data-toc-modified-id=\"Keys-einer-hdf5-Datei-ausgeben-5.3\"><span class=\"toc-item-num\">5.3&nbsp;&nbsp;</span>Keys einer hdf5 Datei ausgeben</a></span></li><li><span><a href=\"#Datasets-sind-nur-Referenzen-auf-die-Daten,-nicht-die-Daten-selber!\" data-toc-modified-id=\"Datasets-sind-nur-Referenzen-auf-die-Daten,-nicht-die-Daten-selber!-5.4\"><span class=\"toc-item-num\">5.4&nbsp;&nbsp;</span>Datasets sind nur Referenzen auf die Daten, nicht die Daten selber!</a></span></li><li><span><a href=\"#Daten-auch-nach-Schließen-noch-verfügbar-machen\" data-toc-modified-id=\"Daten-auch-nach-Schließen-noch-verfügbar-machen-5.5\"><span class=\"toc-item-num\">5.5&nbsp;&nbsp;</span>Daten auch nach Schließen noch verfügbar machen</a></span></li><li><span><a href=\"#Daten-ändern\" data-toc-modified-id=\"Daten-ändern-5.6\"><span class=\"toc-item-num\">5.6&nbsp;&nbsp;</span>Daten ändern</a></span></li><li><span><a href=\"#Datentyp-für-Datensatz-festlegen\" data-toc-modified-id=\"Datentyp-für-Datensatz-festlegen-5.7\"><span class=\"toc-item-num\">5.7&nbsp;&nbsp;</span>Datentyp für Datensatz festlegen</a></span></li><li><span><a href=\"#Kompression\" data-toc-modified-id=\"Kompression-5.8\"><span class=\"toc-item-num\">5.8&nbsp;&nbsp;</span>Kompression</a></span></li><li><span><a href=\"#Gruppen-Organisationsprinzip\" data-toc-modified-id=\"Gruppen-Organisationsprinzip-5.9\"><span class=\"toc-item-num\">5.9&nbsp;&nbsp;</span>Gruppen-Organisationsprinzip</a></span></li><li><span><a href=\"#Gruppen-ausgeben\" data-toc-modified-id=\"Gruppen-ausgeben-5.10\"><span class=\"toc-item-num\">5.10&nbsp;&nbsp;</span>Gruppen ausgeben</a></span></li><li><span><a href=\"#Metadaten-speichern\" data-toc-modified-id=\"Metadaten-speichern-5.11\"><span class=\"toc-item-num\">5.11&nbsp;&nbsp;</span>Metadaten speichern</a></span></li><li><span><a href=\"#Metadaten-wieder-ausgeben\" data-toc-modified-id=\"Metadaten-wieder-ausgeben-5.12\"><span class=\"toc-item-num\">5.12&nbsp;&nbsp;</span>Metadaten wieder ausgeben</a></span></li></ul></li><li><span><a href=\"#Unterschied:-subplots()-vs.-subplot()\" data-toc-modified-id=\"Unterschied:-subplots()-vs.-subplot()-6\"><span class=\"toc-item-num\">6&nbsp;&nbsp;</span>Unterschied: subplots() vs. subplot()</a></span><ul class=\"toc-item\"><li><span><a href=\"#subplot()\" data-toc-modified-id=\"subplot()-6.1\"><span class=\"toc-item-num\">6.1&nbsp;&nbsp;</span><code>subplot()</code></a></span></li><li><span><a href=\"#subplots()\" data-toc-modified-id=\"subplots()-6.2\"><span class=\"toc-item-num\">6.2&nbsp;&nbsp;</span><code>subplots()</code></a></span></li><li><span><a href=\"#add_subplot()\" data-toc-modified-id=\"add_subplot()-6.3\"><span class=\"toc-item-num\">6.3&nbsp;&nbsp;</span><code>add_subplot()</code></a></span></li><li><span><a href=\"#Unterschied:-plt.subplot()-vs-fig.add_subplot\" data-toc-modified-id=\"Unterschied:-plt.subplot()-vs-fig.add_subplot-6.4\"><span class=\"toc-item-num\">6.4&nbsp;&nbsp;</span>Unterschied: <code>plt.subplot()</code> vs <code>fig.add_subplot</code></a></span></li></ul></li><li><span><a href=\"#Gruppenbildung:-wer-sind-die-Gruppenmitglieder?\" data-toc-modified-id=\"Gruppenbildung:-wer-sind-die-Gruppenmitglieder?-7\"><span class=\"toc-item-num\">7&nbsp;&nbsp;</span>Gruppenbildung: wer sind die Gruppenmitglieder?</a></span></li></ul></div>"
   ]
  },
  {
   "cell_type": "markdown",
   "metadata": {},
   "source": [
    "# Wie kann man aus einer Liste alle Einträge x löschen?"
   ]
  },
  {
   "cell_type": "code",
   "execution_count": 2,
   "metadata": {
    "collapsed": true
   },
   "outputs": [],
   "source": [
    "L = [2,4,6,8,10,8,12,8,8]"
   ]
  },
  {
   "cell_type": "code",
   "execution_count": 3,
   "metadata": {
    "collapsed": true
   },
   "outputs": [],
   "source": [
    "L.remove(8)"
   ]
  },
  {
   "cell_type": "code",
   "execution_count": 4,
   "metadata": {},
   "outputs": [
    {
     "data": {
      "text/plain": [
       "[2, 4, 6, 10, 8, 12, 8, 8]"
      ]
     },
     "execution_count": 4,
     "metadata": {},
     "output_type": "execute_result"
    }
   ],
   "source": [
    "L"
   ]
  },
  {
   "cell_type": "markdown",
   "metadata": {},
   "source": [
    "Lösung mittels List-Comprehension:"
   ]
  },
  {
   "cell_type": "code",
   "execution_count": 8,
   "metadata": {},
   "outputs": [
    {
     "data": {
      "text/plain": [
       "[2, 4, 6, 10, 12]"
      ]
     },
     "execution_count": 8,
     "metadata": {},
     "output_type": "execute_result"
    }
   ],
   "source": [
    "[i for i in L if i != 8]"
   ]
  },
  {
   "cell_type": "markdown",
   "metadata": {},
   "source": [
    "Lösung mittels while-Schleife und in-Operator:"
   ]
  },
  {
   "cell_type": "code",
   "execution_count": 9,
   "metadata": {
    "collapsed": true
   },
   "outputs": [],
   "source": [
    "L = [2,4,6,8,10,8,12,8,8]"
   ]
  },
  {
   "cell_type": "code",
   "execution_count": 10,
   "metadata": {},
   "outputs": [
    {
     "data": {
      "text/plain": [
       "True"
      ]
     },
     "execution_count": 10,
     "metadata": {},
     "output_type": "execute_result"
    }
   ],
   "source": [
    "8 in L"
   ]
  },
  {
   "cell_type": "code",
   "execution_count": 11,
   "metadata": {
    "collapsed": true
   },
   "outputs": [],
   "source": [
    "while 8 in L:\n",
    "    L.remove(8)"
   ]
  },
  {
   "cell_type": "code",
   "execution_count": 12,
   "metadata": {},
   "outputs": [
    {
     "data": {
      "text/plain": [
       "[2, 4, 6, 10, 12]"
      ]
     },
     "execution_count": 12,
     "metadata": {},
     "output_type": "execute_result"
    }
   ],
   "source": [
    "L"
   ]
  },
  {
   "cell_type": "markdown",
   "metadata": {},
   "source": [
    "Achtung! Die zweite Lösung ist ineffizient. Weil wir `remove()` immer wieder neu aufrufen, muss immer wieder neu durch die Liste L gegangen werden!"
   ]
  },
  {
   "cell_type": "markdown",
   "metadata": {},
   "source": [
    "# Parameter im JSON Format speichern und wieder einlesen"
   ]
  },
  {
   "cell_type": "markdown",
   "metadata": {},
   "source": [
    "## Parameter im JSON-Format speichern"
   ]
  },
  {
   "cell_type": "code",
   "execution_count": 52,
   "metadata": {
    "collapsed": true
   },
   "outputs": [],
   "source": [
    "params = { \"sensor\": \"druck\", \"abtastrate\": 0.123, \"alpha\": 25, \\\n",
    "           \"weiteres\" : [1,2,3,4,5,6] }"
   ]
  },
  {
   "cell_type": "code",
   "execution_count": 53,
   "metadata": {
    "collapsed": true
   },
   "outputs": [],
   "source": [
    "import json"
   ]
  },
  {
   "cell_type": "code",
   "execution_count": 54,
   "metadata": {
    "collapsed": true
   },
   "outputs": [],
   "source": [
    "fobj = open(\"meine_json_datei.json\", \"w\")"
   ]
  },
  {
   "cell_type": "code",
   "execution_count": 55,
   "metadata": {
    "collapsed": true
   },
   "outputs": [],
   "source": [
    "json.dump(params, fobj, indent=4, sort_keys=True)"
   ]
  },
  {
   "cell_type": "code",
   "execution_count": 56,
   "metadata": {
    "collapsed": true
   },
   "outputs": [],
   "source": [
    "fobj.close()"
   ]
  },
  {
   "cell_type": "markdown",
   "metadata": {},
   "source": [
    "## Parameter aus JSON-Datei einlesen"
   ]
  },
  {
   "cell_type": "code",
   "execution_count": 57,
   "metadata": {
    "collapsed": true
   },
   "outputs": [],
   "source": [
    "import json"
   ]
  },
  {
   "cell_type": "code",
   "execution_count": 58,
   "metadata": {
    "collapsed": true
   },
   "outputs": [],
   "source": [
    "fobj2 = open(\"meine_json_datei.json\", \"r\")"
   ]
  },
  {
   "cell_type": "code",
   "execution_count": 59,
   "metadata": {
    "collapsed": true
   },
   "outputs": [],
   "source": [
    "data = json.load(fobj2)"
   ]
  },
  {
   "cell_type": "code",
   "execution_count": 60,
   "metadata": {},
   "outputs": [
    {
     "data": {
      "text/plain": [
       "{'abtastrate': 0.123,\n",
       " 'alpha': 25,\n",
       " 'sensor': 'druck',\n",
       " 'weiteres': [1, 2, 3, 4, 5, 6]}"
      ]
     },
     "execution_count": 60,
     "metadata": {},
     "output_type": "execute_result"
    }
   ],
   "source": [
    "data"
   ]
  },
  {
   "cell_type": "code",
   "execution_count": 61,
   "metadata": {},
   "outputs": [
    {
     "data": {
      "text/plain": [
       "dict"
      ]
     },
     "execution_count": 61,
     "metadata": {},
     "output_type": "execute_result"
    }
   ],
   "source": [
    "type(data)"
   ]
  },
  {
   "cell_type": "code",
   "execution_count": 62,
   "metadata": {},
   "outputs": [
    {
     "data": {
      "text/plain": [
       "0.123"
      ]
     },
     "execution_count": 62,
     "metadata": {},
     "output_type": "execute_result"
    }
   ],
   "source": [
    "data[\"abtastrate\"]"
   ]
  },
  {
   "cell_type": "markdown",
   "metadata": {
    "collapsed": true
   },
   "source": [
    "# Bündige Ausgaben mit Format"
   ]
  },
  {
   "cell_type": "code",
   "execution_count": 1,
   "metadata": {
    "collapsed": true
   },
   "outputs": [],
   "source": [
    "zk1 = \"Dies ist ein sehr sehr langer Text\"\n",
    "zk2 = \"Kurzer Text\"\n",
    "z1 = 123\n",
    "z2 = 4.56789"
   ]
  },
  {
   "cell_type": "markdown",
   "metadata": {},
   "source": [
    "Textfeld mit 60 Zeichen. Rechtsbünding ausgeben."
   ]
  },
  {
   "cell_type": "code",
   "execution_count": 5,
   "metadata": {},
   "outputs": [
    {
     "name": "stdout",
     "output_type": "stream",
     "text": [
      "                          Dies ist ein sehr sehr langer Text\n"
     ]
    }
   ],
   "source": [
    "print(\"{0:>60}\".format(zk1))"
   ]
  },
  {
   "cell_type": "markdown",
   "metadata": {},
   "source": [
    "Textfeld mit 60 Zeichen. Linksbündig ausgeben."
   ]
  },
  {
   "cell_type": "code",
   "execution_count": 6,
   "metadata": {},
   "outputs": [
    {
     "name": "stdout",
     "output_type": "stream",
     "text": [
      "Dies ist ein sehr sehr langer Text                          \n"
     ]
    }
   ],
   "source": [
    "print(\"{0:<60}\".format(zk1))"
   ]
  },
  {
   "cell_type": "markdown",
   "metadata": {},
   "source": [
    "Textfeld mit 60 Zeichen. Zentriert ausgeben."
   ]
  },
  {
   "cell_type": "code",
   "execution_count": 7,
   "metadata": {},
   "outputs": [
    {
     "name": "stdout",
     "output_type": "stream",
     "text": [
      "             Dies ist ein sehr sehr langer Text             \n"
     ]
    }
   ],
   "source": [
    "print(\"{0:^60}\".format(zk1))"
   ]
  },
  {
   "cell_type": "markdown",
   "metadata": {},
   "source": [
    "Textfeld mit 60 Zeichen. Dann Leerzeichen, dann nächster Parameter."
   ]
  },
  {
   "cell_type": "code",
   "execution_count": 18,
   "metadata": {},
   "outputs": [
    {
     "name": "stdout",
     "output_type": "stream",
     "text": [
      "Dies ist ein sehr sehr langer Text      :123\n"
     ]
    }
   ],
   "source": [
    "print(\"{0:40}: {1}\".format(zk1,z1))"
   ]
  },
  {
   "cell_type": "code",
   "execution_count": 19,
   "metadata": {},
   "outputs": [
    {
     "name": "stdout",
     "output_type": "stream",
     "text": [
      "Dies ist ein sehr sehr langer Text      : 123\n",
      "Kurzer Text                             : 4.56789\n"
     ]
    }
   ],
   "source": [
    "print(\"{0:40}: {1}\".format(zk1,z1))\n",
    "print(\"{0:40}: {1}\".format(zk2,z2))"
   ]
  },
  {
   "cell_type": "markdown",
   "metadata": {},
   "source": [
    "Beide Zahlen rechtsbündig ausgeben:"
   ]
  },
  {
   "cell_type": "code",
   "execution_count": 20,
   "metadata": {},
   "outputs": [
    {
     "name": "stdout",
     "output_type": "stream",
     "text": [
      "Dies ist ein sehr sehr langer Text      :        123\n",
      "Kurzer Text                             :    4.56789\n"
     ]
    }
   ],
   "source": [
    "print(\"{0:40}: {1:>10}\".format(zk1,z1))\n",
    "print(\"{0:40}: {1:>10}\".format(zk2,z2))"
   ]
  },
  {
   "cell_type": "markdown",
   "metadata": {},
   "source": [
    "Füllzeichen für Textfeld = .\n",
    "\n",
    "Füllzeichen für Zahlenfeld = _"
   ]
  },
  {
   "cell_type": "code",
   "execution_count": 29,
   "metadata": {},
   "outputs": [
    {
     "name": "stdout",
     "output_type": "stream",
     "text": [
      "Dies ist ein sehr sehr langer Text......: _______123\n",
      "Kurzer Text.............................: ___4.56789\n"
     ]
    }
   ],
   "source": [
    "print(\"{0:.<40}: {1:_>10}\".format(zk1,z1))\n",
    "print(\"{0:.<40}: {1:_>10}\".format(zk2,z2))"
   ]
  },
  {
   "cell_type": "markdown",
   "metadata": {},
   "source": [
    "Führende Nullen bei Zahl:"
   ]
  },
  {
   "cell_type": "code",
   "execution_count": 54,
   "metadata": {},
   "outputs": [
    {
     "name": "stdout",
     "output_type": "stream",
     "text": [
      "Dies ist ein sehr sehr langer Text......: 0000000123\n",
      "Kurzer Text.............................: 0004.56789\n"
     ]
    }
   ],
   "source": [
    "print(\"{0:.<40}: {1:0>10}\".format(zk1,z1))\n",
    "print(\"{0:.<40}: {1:0>10}\".format(zk2,z2))"
   ]
  },
  {
   "cell_type": "markdown",
   "metadata": {},
   "source": [
    "Zwei Nachkommastellen Genauigkeit bei gebrochener Zahl:"
   ]
  },
  {
   "cell_type": "code",
   "execution_count": 55,
   "metadata": {},
   "outputs": [
    {
     "name": "stdout",
     "output_type": "stream",
     "text": [
      "Dies ist ein sehr sehr langer Text......: 0000000123\n",
      "Kurzer Text.............................: 0000004.57\n"
     ]
    }
   ],
   "source": [
    "print(\"{0:.<40}: {1:0>10}\".format(zk1,z1))\n",
    "print(\"{0:.<40}: {1:0>10.2f}\".format(zk2,z2))"
   ]
  },
  {
   "cell_type": "markdown",
   "metadata": {},
   "source": [
    "# Wozu der `@staticmethod` Function Decorator?"
   ]
  },
  {
   "cell_type": "markdown",
   "metadata": {},
   "source": [
    "Das fragen sich auch andere:\n",
    "\n",
    "https://stackoverflow.com/questions/43587044/do-we-really-need-staticmethod-decorator-in-python-to-declare-static-method"
   ]
  },
  {
   "cell_type": "code",
   "execution_count": 56,
   "metadata": {
    "collapsed": true
   },
   "outputs": [],
   "source": [
    "class A:\n",
    "    def foo():\n",
    "        print(\"Hallo!\")"
   ]
  },
  {
   "cell_type": "code",
   "execution_count": 58,
   "metadata": {},
   "outputs": [
    {
     "name": "stdout",
     "output_type": "stream",
     "text": [
      "Hallo!\n"
     ]
    }
   ],
   "source": [
    "A.foo()"
   ]
  },
  {
   "cell_type": "code",
   "execution_count": 59,
   "metadata": {
    "collapsed": true
   },
   "outputs": [],
   "source": [
    "a1 = A()"
   ]
  },
  {
   "cell_type": "markdown",
   "metadata": {},
   "source": [
    "Folgender Aufruf geht nicht:"
   ]
  },
  {
   "cell_type": "code",
   "execution_count": 60,
   "metadata": {},
   "outputs": [
    {
     "ename": "TypeError",
     "evalue": "foo() takes 0 positional arguments but 1 was given",
     "output_type": "error",
     "traceback": [
      "\u001b[1;31m---------------------------------------------------------------------------\u001b[0m",
      "\u001b[1;31mTypeError\u001b[0m                                 Traceback (most recent call last)",
      "\u001b[1;32m<ipython-input-60-fcc4a92ad31e>\u001b[0m in \u001b[0;36m<module>\u001b[1;34m()\u001b[0m\n\u001b[1;32m----> 1\u001b[1;33m \u001b[0ma1\u001b[0m\u001b[1;33m.\u001b[0m\u001b[0mfoo\u001b[0m\u001b[1;33m(\u001b[0m\u001b[1;33m)\u001b[0m\u001b[1;33m\u001b[0m\u001b[0m\n\u001b[0m",
      "\u001b[1;31mTypeError\u001b[0m: foo() takes 0 positional arguments but 1 was given"
     ]
    }
   ],
   "source": [
    "a1.foo()"
   ]
  },
  {
   "cell_type": "markdown",
   "metadata": {},
   "source": [
    "Mit dem Dekorator `@staticmethod` geht der Aufruf dann aber doch, d.h. dass wir dann auch die Methode von einer Instanzvariablen (einem Objekt) der Klasse A aufrufen können:"
   ]
  },
  {
   "cell_type": "code",
   "execution_count": 62,
   "metadata": {
    "collapsed": true
   },
   "outputs": [],
   "source": [
    "class A:\n",
    "    \n",
    "    @staticmethod\n",
    "    def foo():\n",
    "        print(\"Hallo!\")"
   ]
  },
  {
   "cell_type": "code",
   "execution_count": 63,
   "metadata": {
    "collapsed": true
   },
   "outputs": [],
   "source": [
    "a1 = A()"
   ]
  },
  {
   "cell_type": "code",
   "execution_count": 64,
   "metadata": {},
   "outputs": [
    {
     "name": "stdout",
     "output_type": "stream",
     "text": [
      "Hallo!\n"
     ]
    }
   ],
   "source": [
    "A.foo()"
   ]
  },
  {
   "cell_type": "code",
   "execution_count": 65,
   "metadata": {},
   "outputs": [
    {
     "name": "stdout",
     "output_type": "stream",
     "text": [
      "Hallo!\n"
     ]
    }
   ],
   "source": [
    "a1.foo()"
   ]
  },
  {
   "cell_type": "markdown",
   "metadata": {
    "collapsed": true
   },
   "source": [
    "# hdf5 Format"
   ]
  },
  {
   "cell_type": "markdown",
   "metadata": {},
   "source": [
    "## Mal Daten im hdf5 Format wegschreiben"
   ]
  },
  {
   "cell_type": "code",
   "execution_count": 11,
   "metadata": {},
   "outputs": [
    {
     "name": "stdout",
     "output_type": "stream",
     "text": [
      "-2.70550911672\n",
      "3.11822477431\n",
      "[ 0.86285881  0.23717803 -1.4260296   0.19701277  0.2333283 ]\n",
      "-3.50676618597\n",
      "3.64805502772\n",
      "[ 0.86353139 -1.29826831 -0.51647234  1.42388143 -0.17552074]\n"
     ]
    }
   ],
   "source": [
    "import h5py\n",
    "import numpy as np\n",
    "\n",
    "arr1 = np.random.randn(1000)\n",
    "arr2 = np.random.randn(1000)\n",
    "\n",
    "print(min(arr1))\n",
    "print(max(arr1))\n",
    "print(arr1[:5])\n",
    "\n",
    "print(min(arr2))\n",
    "print(max(arr2))\n",
    "print(arr2[:5])\n",
    "\n",
    "f = h5py.File('random.hdf5', 'w')\n",
    "dset = f.create_dataset(\"arr1\", data=arr1)\n",
    "dset = f.create_dataset(\"arr2\", data=arr2)\n",
    "f.close()"
   ]
  },
  {
   "cell_type": "markdown",
   "metadata": {
    "collapsed": true
   },
   "source": [
    "## Daten wieder einlesen"
   ]
  },
  {
   "cell_type": "code",
   "execution_count": 17,
   "metadata": {},
   "outputs": [
    {
     "name": "stdout",
     "output_type": "stream",
     "text": [
      "<class 'h5py._hl.dataset.Dataset'>\n",
      "-2.70550911672\n",
      "3.11822477431\n",
      "[ 0.86285881  0.23717803 -1.4260296   0.19701277  0.2333283 ]\n",
      "<class 'h5py._hl.dataset.Dataset'>\n",
      "-3.50676618597\n",
      "3.64805502772\n",
      "[ 0.86353139 -1.29826831 -0.51647234  1.42388143 -0.17552074]\n"
     ]
    }
   ],
   "source": [
    "f = h5py.File('random.hdf5', 'r')\n",
    "\n",
    "arr1_dataset = f['arr1']\n",
    "print(type(arr1_dataset))\n",
    "print(min(arr1_dataset))\n",
    "print(max(arr1_dataset))\n",
    "print(arr1_dataset[:5])\n",
    "\n",
    "arr2_dataset = f['arr2']\n",
    "print(type(arr2_dataset))\n",
    "print(min(arr2_dataset))\n",
    "print(max(arr2_dataset))\n",
    "print(arr2_dataset[:5])\n",
    "\n",
    "f.close()"
   ]
  },
  {
   "cell_type": "markdown",
   "metadata": {},
   "source": [
    "## Keys einer hdf5 Datei ausgeben"
   ]
  },
  {
   "cell_type": "code",
   "execution_count": 15,
   "metadata": {},
   "outputs": [
    {
     "name": "stdout",
     "output_type": "stream",
     "text": [
      "arr1\n",
      "arr2\n"
     ]
    }
   ],
   "source": [
    "f = h5py.File('random.hdf5', 'r')\n",
    "for key in f.keys():\n",
    "    print(key)\n",
    "f.close()"
   ]
  },
  {
   "cell_type": "markdown",
   "metadata": {},
   "source": [
    "## Datasets sind nur Referenzen auf die Daten, nicht die Daten selber!"
   ]
  },
  {
   "cell_type": "code",
   "execution_count": 20,
   "metadata": {},
   "outputs": [
    {
     "name": "stdout",
     "output_type": "stream",
     "text": [
      "<class 'h5py._hl.dataset.Dataset'>\n",
      "-2.70550911672\n",
      "3.11822477431\n",
      "[ 0.86285881  0.23717803 -1.4260296   0.19701277  0.2333283 ]\n",
      "Eintrag mit Index 42 =  0.499495351078\n"
     ]
    }
   ],
   "source": [
    "f = h5py.File('random.hdf5', 'r')\n",
    "\n",
    "arr1_dataset = f['arr1']\n",
    "print(type(arr1_dataset))\n",
    "print(min(arr1_dataset))\n",
    "print(max(arr1_dataset))\n",
    "print(arr1_dataset[:5])\n",
    "print(\"Eintrag mit Index 42 = \", arr1_dataset[42])\n",
    "\n",
    "f.close()\n",
    "\n",
    "# Das wird schief gehen, weil die Datei schon zu ist\n",
    "# Damit funktioniert die Referenz auf die Daten nicht mehr\n",
    "# Datasets sind nur Referenzen auf die Daten,\n",
    "# nicht die Daten selber!\n",
    "#print(\"Eintrag mit Index 42 = \", arr1_dataset[42])"
   ]
  },
  {
   "cell_type": "markdown",
   "metadata": {},
   "source": [
    "## Daten auch nach Schließen noch verfügbar machen"
   ]
  },
  {
   "cell_type": "code",
   "execution_count": 23,
   "metadata": {},
   "outputs": [
    {
     "name": "stdout",
     "output_type": "stream",
     "text": [
      "-2.70550911672\n",
      "3.11822477431\n",
      "[ 0.86285881  0.23717803 -1.4260296   0.19701277  0.2333283 ]\n",
      "Eintrag mit Index 42 =  0.499495351078\n",
      "<class 'h5py._hl.dataset.Dataset'>\n",
      "Eintrag mit Index 42 =  0.499495351078\n",
      "<class 'numpy.ndarray'>\n"
     ]
    }
   ],
   "source": [
    "f = h5py.File('random.hdf5', 'r')\n",
    "\n",
    "arr1_dataset = f['arr1']\n",
    "\n",
    "print(min(arr1_dataset))\n",
    "print(max(arr1_dataset))\n",
    "print(arr1_dataset[:5])\n",
    "print(\"Eintrag mit Index 42 = \", arr1_dataset[42])\n",
    "print(type(arr1_dataset))\n",
    "\n",
    "data = arr1_dataset[:43]\n",
    "\n",
    "f.close()\n",
    "\n",
    "# Das wird schief gehen, weil die Datei schon zu ist\n",
    "# Damit funktioniert die Referenz auf die Daten nicht mehr\n",
    "# Datasets sind nur Referenzen auf die Daten,\n",
    "# nicht die Daten selber!\n",
    "print(\"Eintrag mit Index 42 = \", data[42])\n",
    "print(type(data))"
   ]
  },
  {
   "cell_type": "markdown",
   "metadata": {},
   "source": [
    "## Daten ändern"
   ]
  },
  {
   "cell_type": "markdown",
   "metadata": {},
   "source": [
    "Daten schreiben:"
   ]
  },
  {
   "cell_type": "code",
   "execution_count": 17,
   "metadata": {
    "collapsed": true
   },
   "outputs": [],
   "source": [
    "import h5py\n",
    "f = h5py.File('ein_paar_daten.hdf5', 'w')\n",
    "dset = f.create_dataset(\"arr1\", data=[1,2,3])\n",
    "f.close()"
   ]
  },
  {
   "cell_type": "markdown",
   "metadata": {},
   "source": [
    "Daten wieder einlesen:"
   ]
  },
  {
   "cell_type": "code",
   "execution_count": 18,
   "metadata": {},
   "outputs": [
    {
     "name": "stdout",
     "output_type": "stream",
     "text": [
      "[1 2 3]\n"
     ]
    }
   ],
   "source": [
    "f = h5py.File('ein_paar_daten.hdf5', 'r')\n",
    "dset = f[\"arr1\"]\n",
    "print(dset[:])\n",
    "f.close()"
   ]
  },
  {
   "cell_type": "markdown",
   "metadata": {},
   "source": [
    "Daten mal abändern:"
   ]
  },
  {
   "cell_type": "code",
   "execution_count": 21,
   "metadata": {},
   "outputs": [
    {
     "name": "stdout",
     "output_type": "stream",
     "text": [
      "[3 2 3]\n"
     ]
    }
   ],
   "source": [
    "import h5py\n",
    "f = h5py.File('ein_paar_daten.hdf5', 'r+') # Achtung! \"r+\" !\n",
    "dset = f[\"arr1\"]\n",
    "print(dset[:])\n",
    "\n",
    "# Daten ändern\n",
    "dset[0] = dset[0]+1\n",
    "\n",
    "f.close()"
   ]
  },
  {
   "cell_type": "markdown",
   "metadata": {},
   "source": [
    "## Datentyp für Datensatz festlegen"
   ]
  },
  {
   "cell_type": "code",
   "execution_count": 31,
   "metadata": {
    "collapsed": true
   },
   "outputs": [],
   "source": [
    "import numpy as np\n",
    "arr = np.random.randn(100000)\n",
    "\n",
    "f = h5py.File('integer_1.hdf5', 'w')\n",
    "d = f.create_dataset('dataset', (100000,), dtype='i1')\n",
    "d[:] = arr\n",
    "f.close()\n",
    "\n",
    "f = h5py.File('integer_8.hdf5', 'w')\n",
    "d = f.create_dataset('dataset', (100000,), dtype='i8')\n",
    "d[:] = arr\n",
    "f.close()"
   ]
  },
  {
   "cell_type": "markdown",
   "metadata": {},
   "source": [
    "## Kompression"
   ]
  },
  {
   "cell_type": "code",
   "execution_count": 33,
   "metadata": {
    "collapsed": true
   },
   "outputs": [],
   "source": [
    "import h5py\n",
    "import numpy as np\n",
    "\n",
    "arr = np.random.randn(100000)\n",
    "\n",
    "with h5py.File('integer_1_compr.hdf5', 'w') as f:\n",
    "    d = f.create_dataset('dataset', (100000,), dtype='i1', compression=\"gzip\", compression_opts=9)\n",
    "    d[:] = arr\n",
    "\n",
    "with h5py.File('integer_8_compr.hdf5', 'w') as f:\n",
    "    d = f.create_dataset('dataset', (100000,), dtype='i8', compression=\"gzip\", compression_opts=9)\n",
    "    d[:] = arr"
   ]
  },
  {
   "cell_type": "markdown",
   "metadata": {},
   "source": [
    "## Gruppen-Organisationsprinzip"
   ]
  },
  {
   "cell_type": "code",
   "execution_count": 34,
   "metadata": {
    "collapsed": true
   },
   "outputs": [],
   "source": [
    "import numpy as np\n",
    "import h5py\n",
    "\n",
    "arr = np.random.randn(1000)\n",
    "\n",
    "with h5py.File('groups.hdf5', 'w') as f:\n",
    "    g = f.create_group('Base_Group')\n",
    "    gg = g.create_group('Sub_Group')\n",
    "\n",
    "    d = g.create_dataset('default', data=arr)\n",
    "    dd = gg.create_dataset('default', data=arr)"
   ]
  },
  {
   "cell_type": "code",
   "execution_count": 35,
   "metadata": {},
   "outputs": [
    {
     "name": "stdout",
     "output_type": "stream",
     "text": [
      "-2.8012220308\n",
      "-2.8012220308\n"
     ]
    }
   ],
   "source": [
    "with h5py.File('groups.hdf5', 'r') as f:\n",
    "    d = f['Base_Group/default']\n",
    "    dd = f['Base_Group/Sub_Group/default']\n",
    "    print(d[1])\n",
    "    print(dd[1])"
   ]
  },
  {
   "cell_type": "markdown",
   "metadata": {},
   "source": [
    "## Gruppen ausgeben"
   ]
  },
  {
   "cell_type": "code",
   "execution_count": 36,
   "metadata": {},
   "outputs": [
    {
     "name": "stdout",
     "output_type": "stream",
     "text": [
      "Base_Group\n"
     ]
    }
   ],
   "source": [
    "with h5py.File('groups.hdf5', 'r') as f:\n",
    "    for k in f.keys():\n",
    "        print(k)"
   ]
  },
  {
   "cell_type": "markdown",
   "metadata": {},
   "source": [
    "Problem: wir müssen das rekursiv machen!\n",
    "\n",
    "Deswegen gibt es eine `visit()` Methode:"
   ]
  },
  {
   "cell_type": "code",
   "execution_count": 39,
   "metadata": {},
   "outputs": [
    {
     "name": "stdout",
     "output_type": "stream",
     "text": [
      "<class 'h5py._hl.files.File'>\n",
      "Base_Group <class 'str'>\n",
      "Base_Group/Sub_Group <class 'str'>\n",
      "Base_Group/Sub_Group/default <class 'str'>\n",
      "Base_Group/default <class 'str'>\n"
     ]
    }
   ],
   "source": [
    "def get_all(name):\n",
    "   print(name)\n",
    "\n",
    "with h5py.File('groups.hdf5', 'r') as f:\n",
    "    print(type(f))\n",
    "    f.visit(get_all)"
   ]
  },
  {
   "cell_type": "markdown",
   "metadata": {},
   "source": [
    "## Metadaten speichern"
   ]
  },
  {
   "cell_type": "code",
   "execution_count": 42,
   "metadata": {
    "collapsed": true
   },
   "outputs": [],
   "source": [
    "import numpy as np\n",
    "import h5py\n",
    "\n",
    "mu1 = 5\n",
    "mu2 = -5\n",
    "arr1 = np.random.normal(mu1,10,1000)\n",
    "arr2 = np.random.normal(mu2,10,1000)\n",
    "\n",
    "with h5py.File('groups.hdf5', 'w') as f:\n",
    "    g = f.create_group('Base_Group')\n",
    "    g.attrs[\"Infos\"] = \"Das ist die Basisgruppe\"\n",
    "    \n",
    "    gg = g.create_group('Sub_Group')\n",
    "    gg.attrs[\"Infos\"] = \"Das ist ne Untergruppe\"\n",
    "\n",
    "    d = g.create_dataset('default', data=arr1)\n",
    "    d.attrs[\"Mean\"] = mu1\n",
    "    \n",
    "    dd = gg.create_dataset('default', data=arr2)\n",
    "    dd.attrs[\"Mean\"] = mu2"
   ]
  },
  {
   "cell_type": "code",
   "execution_count": 43,
   "metadata": {},
   "outputs": [
    {
     "name": "stdout",
     "output_type": "stream",
     "text": [
      "<class 'h5py._hl.files.File'>\n",
      "Base_Group\n",
      "Base_Group/Sub_Group\n",
      "Base_Group/Sub_Group/default\n",
      "Base_Group/default\n"
     ]
    }
   ],
   "source": [
    "def get_all(name):\n",
    "   print(name)\n",
    "\n",
    "with h5py.File('groups.hdf5', 'r') as f:\n",
    "    print(type(f))\n",
    "    f.visit(get_all)"
   ]
  },
  {
   "cell_type": "markdown",
   "metadata": {},
   "source": [
    "## Metadaten wieder ausgeben"
   ]
  },
  {
   "cell_type": "code",
   "execution_count": 46,
   "metadata": {},
   "outputs": [
    {
     "name": "stdout",
     "output_type": "stream",
     "text": [
      "13.4153969435 5\n",
      "-0.30300026668 -5\n"
     ]
    }
   ],
   "source": [
    "with h5py.File('groups.hdf5', 'r') as f:\n",
    "    d = f['Base_Group/default']\n",
    "    dd = f['Base_Group/Sub_Group/default']\n",
    "    print(d[1], d.attrs[\"Mean\"])\n",
    "    print(dd[1], dd.attrs[\"Mean\"])"
   ]
  },
  {
   "cell_type": "markdown",
   "metadata": {
    "collapsed": true
   },
   "source": [
    "# Unterschied: subplots() vs. subplot()"
   ]
  },
  {
   "cell_type": "code",
   "execution_count": 4,
   "metadata": {},
   "outputs": [],
   "source": [
    "import numpy as np\n",
    "\n",
    "zr = [0]\n",
    "for i in range(1,100):\n",
    "    zr.append( zr[i-1]+np.random.randint(-5,5) )"
   ]
  },
  {
   "cell_type": "markdown",
   "metadata": {},
   "source": [
    "## `subplot()`"
   ]
  },
  {
   "cell_type": "code",
   "execution_count": 20,
   "metadata": {},
   "outputs": [
    {
     "data": {
      "image/png": "[encoded data removed]",
      "text/plain": [
       "<matplotlib.figure.Figure at 0x1f32e121208>"
      ]
     },
     "metadata": {},
     "output_type": "display_data"
    }
   ],
   "source": [
    "import matplotlib.pyplot as plt\n",
    "\n",
    "fig = plt.figure(1)\n",
    "\n",
    "ax1 = plt.subplot(231)\n",
    "ax2 = plt.subplot(232)\n",
    "ax3 = plt.subplot(233)\n",
    "ax4 = plt.subplot(234)\n",
    "ax5 = plt.subplot(235)\n",
    "ax6 = plt.subplot(236)\n",
    "\n",
    "all_axes = [ax1,ax2,ax3,ax4,ax5,ax6]\n",
    "\n",
    "for a in all_axes:\n",
    "    a.plot(zr)\n",
    "    \n",
    "plt.show()"
   ]
  },
  {
   "cell_type": "markdown",
   "metadata": {},
   "source": [
    "## `subplots()`"
   ]
  },
  {
   "cell_type": "code",
   "execution_count": 21,
   "metadata": {},
   "outputs": [
    {
     "name": "stdout",
     "output_type": "stream",
     "text": [
      "<class 'numpy.ndarray'>\n",
      "(2, 3)\n"
     ]
    },
    {
     "data": {
      "image/png": "[encoded data removed]",
      "text/plain": [
       "<matplotlib.figure.Figure at 0x1f32cc8dda0>"
      ]
     },
     "metadata": {},
     "output_type": "display_data"
    }
   ],
   "source": [
    "H = 2\n",
    "W = 3\n",
    "fig, all_axes = plt.subplots(nrows=H, ncols=W)\n",
    "\n",
    "print(type(all_axes))\n",
    "print(all_axes.shape)\n",
    "\n",
    "for y in range(0,H):\n",
    "    for x in range(0,W):\n",
    "        ax = all_axes[y][x]\n",
    "        ax.plot(zr)\n",
    "    \n",
    "plt.show()"
   ]
  },
  {
   "cell_type": "markdown",
   "metadata": {},
   "source": [
    "## `add_subplot()`"
   ]
  },
  {
   "cell_type": "code",
   "execution_count": 26,
   "metadata": {},
   "outputs": [
    {
     "data": {
      "image/png": "[encoded data removed]",
      "text/plain": [
       "<matplotlib.figure.Figure at 0x1f32c809f28>"
      ]
     },
     "metadata": {},
     "output_type": "display_data"
    }
   ],
   "source": [
    "fig = plt.figure()\n",
    "\n",
    "# Hier erhalten wir eine Referenz auf das\n",
    "# axis Objekt, mit dem wir weiter arbeiten können\n",
    "ax = fig.add_subplot(231)\n",
    "\n",
    "ax.set_title(\"Titel\")\n",
    "ax.plot(zr)\n",
    "\n",
    "plt.show()"
   ]
  },
  {
   "cell_type": "markdown",
   "metadata": {},
   "source": [
    "## Unterschied: `plt.subplot()` vs `fig.add_subplot`"
   ]
  },
  {
   "cell_type": "markdown",
   "metadata": {},
   "source": [
    "Siehe Notes Section:\n",
    "\n",
    "https://matplotlib.org/3.1.1/api/_as_gen/matplotlib.pyplot.subplot.html"
   ]
  },
  {
   "cell_type": "code",
   "execution_count": 40,
   "metadata": {},
   "outputs": [
    {
     "data": {
      "image/png": "[encoded data removed]",
      "text/plain": [
       "<matplotlib.figure.Figure at 0x1f32cd04198>"
      ]
     },
     "metadata": {},
     "output_type": "display_data"
    }
   ],
   "source": [
    "import matplotlib.pyplot as plt\n",
    "\n",
    "# Plotte eine Linie.\n",
    "# Erzeugt implizit einen subplot(111)\n",
    "plt.plot([1,2,3])\n",
    "\n",
    "# \"now create a subplot which represents the top plot of a grid\n",
    "# with 2 rows and 1 column. Since this subplot will overlap the\n",
    "# first, the plot (and its axes) previously created, will be removed\"\n",
    "#\n",
    "# source: see link above\n",
    "plt.subplot(211)\n",
    "plt.show()"
   ]
  },
  {
   "cell_type": "code",
   "execution_count": 39,
   "metadata": {},
   "outputs": [
    {
     "data": {
      "image/png": "[encoded data removed]",
      "text/plain": [
       "<matplotlib.figure.Figure at 0x1f32ccfcac8>"
      ]
     },
     "metadata": {},
     "output_type": "display_data"
    }
   ],
   "source": [
    "import matplotlib.pyplot as plt\n",
    "\n",
    "# Erzeuge Figure\n",
    "fig = plt.figure()\n",
    "\n",
    "# Plotte eine einfache Linie\n",
    "plt.plot([1,2,3])\n",
    "\n",
    "# Dieser subplot hier zeichnet sich einfach\n",
    "# über den vorherigen!\n",
    "fig.add_subplot(211)\n",
    "\n",
    "plt.show()"
   ]
  },
  {
   "cell_type": "markdown",
   "metadata": {},
   "source": [
    "# Gruppenbildung: wer sind die Gruppenmitglieder?"
   ]
  },
  {
   "cell_type": "code",
   "execution_count": 41,
   "metadata": {
    "collapsed": true
   },
   "outputs": [],
   "source": [
    "import numpy as np\n",
    "import pandas as pd\n",
    "df = pd.DataFrame( {\"col1\" : [\"F\", \"G\", \"F\", \"F\", \"G\"],\n",
    "                    \"col2\" : [0.2, 0.2, 0.2, 0.3, 0.3],\n",
    "                    \"data\" : np.random.randn(5)\n",
    "                   }\n",
    "                 )"
   ]
  },
  {
   "cell_type": "code",
   "execution_count": 42,
   "metadata": {
    "collapsed": true
   },
   "outputs": [],
   "source": [
    "grouped = df[\"data\"].groupby( df[\"col1\"] )"
   ]
  },
  {
   "cell_type": "code",
   "execution_count": 44,
   "metadata": {},
   "outputs": [
    {
     "data": {
      "text/plain": [
       "{'F': Int64Index([0, 2, 3], dtype='int64'),\n",
       " 'G': Int64Index([1, 4], dtype='int64')}"
      ]
     },
     "execution_count": 44,
     "metadata": {},
     "output_type": "execute_result"
    }
   ],
   "source": [
    "grouped.groups"
   ]
  },
  {
   "cell_type": "code",
   "execution_count": 50,
   "metadata": {},
   "outputs": [
    {
     "data": {
      "text/plain": [
       "['F', 'G']"
      ]
     },
     "execution_count": 50,
     "metadata": {},
     "output_type": "execute_result"
    }
   ],
   "source": [
    "list(grouped.groups)"
   ]
  },
  {
   "cell_type": "code",
   "execution_count": 49,
   "metadata": {},
   "outputs": [
    {
     "data": {
      "text/plain": [
       "['F', 'G']"
      ]
     },
     "execution_count": 49,
     "metadata": {},
     "output_type": "execute_result"
    }
   ],
   "source": [
    "list(grouped.groups)"
   ]
  },
  {
   "cell_type": "code",
   "execution_count": 51,
   "metadata": {},
   "outputs": [
    {
     "data": {
      "text/plain": [
       "Int64Index([0, 2, 3], dtype='int64')"
      ]
     },
     "execution_count": 51,
     "metadata": {},
     "output_type": "execute_result"
    }
   ],
   "source": [
    "grouped.groups[\"F\"]"
   ]
  },
  {
   "cell_type": "code",
   "execution_count": 52,
   "metadata": {},
   "outputs": [
    {
     "data": {
      "text/plain": [
       "[0, 2, 3]"
      ]
     },
     "execution_count": 52,
     "metadata": {},
     "output_type": "execute_result"
    }
   ],
   "source": [
    "list(grouped.groups[\"F\"])"
   ]
  },
  {
   "cell_type": "code",
   "execution_count": null,
   "metadata": {
    "collapsed": true
   },
   "outputs": [],
   "source": []
  }
 ],
 "metadata": {
  "kernelspec": {
   "display_name": "Python 3",
   "language": "python",
   "name": "python3"
  },
  "language_info": {
   "codemirror_mode": {
    "name": "ipython",
    "version": 3
   },
   "file_extension": ".py",
   "mimetype": "text/x-python",
   "name": "python",
   "nbconvert_exporter": "python",
   "pygments_lexer": "ipython3",
   "version": "3.6.2"
  },
  "toc": {
   "base_numbering": 1,
   "nav_menu": {},
   "number_sections": true,
   "sideBar": true,
   "skip_h1_title": false,
   "title_cell": "Inhaltsverzeichnis",
   "title_sidebar": "Inhalte",
   "toc_cell": true,
   "toc_position": {
    "height": "calc(100% - 180px)",
    "left": "10px",
    "top": "150px",
    "width": "212px"
   },
   "toc_section_display": true,
   "toc_window_display": true
  }
 },
 "nbformat": 4,
 "nbformat_minor": 4
}

{
 "cells": [
  {
   "cell_type": "markdown",
   "metadata": {
    "toc": true
   },
   "source": [
    "<h1>Inhaltsverzeichnis<span class=\"tocSkip\"></span></h1>\n",
    "<div class=\"toc\"><ul class=\"toc-item\"><li><span><a href=\"#Textdateien\" data-toc-modified-id=\"Textdateien-1\"><span class=\"toc-item-num\">1&nbsp;&nbsp;</span>Textdateien</a></span><ul class=\"toc-item\"><li><span><a href=\"#Zeile-für-Zeile-auslesen\" data-toc-modified-id=\"Zeile-für-Zeile-auslesen-1.1\"><span class=\"toc-item-num\">1.1&nbsp;&nbsp;</span>Zeile für Zeile auslesen</a></span></li></ul></li></ul></div>"
   ]
  },
  {
   "cell_type": "markdown",
   "metadata": {},
   "source": [
    "# Textdateien"
   ]
  },
  {
   "cell_type": "markdown",
   "metadata": {},
   "source": [
    "## Zeile für Zeile auslesen"
   ]
  },
  {
   "cell_type": "code",
   "execution_count": 17,
   "metadata": {},
   "outputs": [],
   "source": [
    "fobj = open(\"test1.txt\", \"r\") # r steht für read"
   ]
  },
  {
   "cell_type": "code",
   "execution_count": 18,
   "metadata": {},
   "outputs": [
    {
     "data": {
      "text/plain": [
       "_io.TextIOWrapper"
      ]
     },
     "execution_count": 18,
     "metadata": {},
     "output_type": "execute_result"
    }
   ],
   "source": [
    "type(fobj)"
   ]
  },
  {
   "cell_type": "code",
   "execution_count": 19,
   "metadata": {},
   "outputs": [
    {
     "name": "stdout",
     "output_type": "stream",
     "text": [
      "Zeile1 fÃ¤ngt hier an und endet hier.\n",
      "\n",
      "Zeile2 ist hier.\n",
      "\n",
      "\n",
      "\n",
      "Zeile4 sagt: Zeile3 ist leer.\n",
      "\n",
      "Und noch eine Zeile5\n"
     ]
    }
   ],
   "source": [
    "for zeile in fobj:\n",
    "    print(zeile)"
   ]
  },
  {
   "cell_type": "markdown",
   "metadata": {},
   "source": [
    "Wir bemerken die vielen Leerzeilen. Die kommen daher, dass `print()` nach der Ausgabe jeder Zeichenkette auch noch mal eine Leerzeile macht. Die eingelesen Zeilen besitzen aber auch das Newline Steuerzeichen `\\n`.\n",
    "\n",
    "Bedienen können wir uns der Hilfsmethode `rstrip()` der String-Klasse, die alle Whitespaces vom rechten Rand löscht:"
   ]
  },
  {
   "cell_type": "code",
   "execution_count": 20,
   "metadata": {},
   "outputs": [
    {
     "name": "stdout",
     "output_type": "stream",
     "text": [
      "Zeile1 fÃ¤ngt hier an und endet hier.\n",
      "Zeile2 ist hier.\n",
      "\n",
      "Zeile4 sagt: Zeile3 ist leer.\n",
      "Und noch eine Zeile5\n"
     ]
    }
   ],
   "source": [
    "fobj = open(\"test1.txt\", \"r\")\n",
    "for zeile in fobj:\n",
    "    zeile = zeile.rstrip()\n",
    "    print(zeile)"
   ]
  },
  {
   "cell_type": "markdown",
   "metadata": {},
   "source": [
    "Jetzt fällt uns auf, dass das ä nicht richtig ausgeben wurde. Wir lesen die Datei nochmal mittels einer anderen Codierung:"
   ]
  },
  {
   "cell_type": "code",
   "execution_count": 22,
   "metadata": {},
   "outputs": [
    {
     "name": "stdout",
     "output_type": "stream",
     "text": [
      "Zeile1 fängt hier an und endet hier.\n",
      "Zeile2 ist hier.\n",
      "\n",
      "Zeile4 sagt: Zeile3 ist leer.\n",
      "Und noch eine Zeile5\n"
     ]
    }
   ],
   "source": [
    "fobj = open(\"test1.txt\", \"r\", encoding=\"utf8\")\n",
    "for zeile in fobj:\n",
    "    zeile = zeile.rstrip()\n",
    "    print(zeile)"
   ]
  },
  {
   "cell_type": "markdown",
   "metadata": {},
   "source": [
    "Geschafft!"
   ]
  },
  {
   "cell_type": "code",
   "execution_count": null,
   "metadata": {
    "collapsed": true
   },
   "outputs": [],
   "source": []
  }
 ],
 "metadata": {
  "kernelspec": {
   "display_name": "Python 3",
   "language": "python",
   "name": "python3"
  },
  "language_info": {
   "codemirror_mode": {
    "name": "ipython",
    "version": 3
   },
   "file_extension": ".py",
   "mimetype": "text/x-python",
   "name": "python",
   "nbconvert_exporter": "python",
   "pygments_lexer": "ipython3",
   "version": "3.6.2"
  },
  "toc": {
   "base_numbering": 1,
   "nav_menu": {
    "height": "139px",
    "width": "306px"
   },
   "number_sections": true,
   "sideBar": true,
   "skip_h1_title": false,
   "title_cell": "Inhaltsverzeichnis",
   "title_sidebar": "Inhalte",
   "toc_cell": true,
   "toc_position": {},
   "toc_section_display": true,
   "toc_window_display": true
  }
 },
 "nbformat": 4,
 "nbformat_minor": 2
}

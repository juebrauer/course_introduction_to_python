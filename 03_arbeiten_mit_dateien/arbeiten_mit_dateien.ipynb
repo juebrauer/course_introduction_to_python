{
 "cells": [
  {
   "cell_type": "markdown",
   "metadata": {
    "toc": true
   },
   "source": [
    "<h1>Inhaltsverzeichnis<span class=\"tocSkip\"></span></h1>\n",
    "<div class=\"toc\"><ul class=\"toc-item\"><li><span><a href=\"#Textdateien\" data-toc-modified-id=\"Textdateien-1\"><span class=\"toc-item-num\">1&nbsp;&nbsp;</span>Textdateien</a></span><ul class=\"toc-item\"><li><span><a href=\"#Zeile-für-Zeile-auslesen\" data-toc-modified-id=\"Zeile-für-Zeile-auslesen-1.1\"><span class=\"toc-item-num\">1.1&nbsp;&nbsp;</span>Zeile für Zeile auslesen</a></span></li><li><span><a href=\"#Zeile-für-Zeile-schreiben\" data-toc-modified-id=\"Zeile-für-Zeile-schreiben-1.2\"><span class=\"toc-item-num\">1.2&nbsp;&nbsp;</span>Zeile für Zeile schreiben</a></span></li><li><span><a href=\"#Eine-ganze-Textdatei-in-einem-Rutsch-einlesen\" data-toc-modified-id=\"Eine-ganze-Textdatei-in-einem-Rutsch-einlesen-1.3\"><span class=\"toc-item-num\">1.3&nbsp;&nbsp;</span>Eine ganze Textdatei in einem Rutsch einlesen</a></span></li><li><span><a href=\"#with-Anweisung\" data-toc-modified-id=\"with-Anweisung-1.4\"><span class=\"toc-item-num\">1.4&nbsp;&nbsp;</span>with-Anweisung</a></span></li></ul></li><li><span><a href=\"#Binärdateien\" data-toc-modified-id=\"Binärdateien-2\"><span class=\"toc-item-num\">2&nbsp;&nbsp;</span>Binärdateien</a></span><ul class=\"toc-item\"><li><span><a href=\"#Binärdaten-wegschreiben\" data-toc-modified-id=\"Binärdaten-wegschreiben-2.1\"><span class=\"toc-item-num\">2.1&nbsp;&nbsp;</span>Binärdaten wegschreiben</a></span></li><li><span><a href=\"#Binärdaten-wieder-einlesen\" data-toc-modified-id=\"Binärdaten-wieder-einlesen-2.2\"><span class=\"toc-item-num\">2.2&nbsp;&nbsp;</span>Binärdaten wieder einlesen</a></span></li></ul></li><li><span><a href=\"#Pickle\" data-toc-modified-id=\"Pickle-3\"><span class=\"toc-item-num\">3&nbsp;&nbsp;</span>Pickle</a></span><ul class=\"toc-item\"><li><span><a href=\"#Daten-einlegen\" data-toc-modified-id=\"Daten-einlegen-3.1\"><span class=\"toc-item-num\">3.1&nbsp;&nbsp;</span>Daten einlegen</a></span></li><li><span><a href=\"#Daten-wiederherstellen\" data-toc-modified-id=\"Daten-wiederherstellen-3.2\"><span class=\"toc-item-num\">3.2&nbsp;&nbsp;</span>Daten wiederherstellen</a></span></li><li><span><a href=\"#Problem-des-pickle-Ansatzes\" data-toc-modified-id=\"Problem-des-pickle-Ansatzes-3.3\"><span class=\"toc-item-num\">3.3&nbsp;&nbsp;</span>Problem des pickle-Ansatzes</a></span></li></ul></li><li><span><a href=\"#Shelve\" data-toc-modified-id=\"Shelve-4\"><span class=\"toc-item-num\">4&nbsp;&nbsp;</span>Shelve</a></span><ul class=\"toc-item\"><li><span><a href=\"#Ein-Regal-erstellen\" data-toc-modified-id=\"Ein-Regal-erstellen-4.1\"><span class=\"toc-item-num\">4.1&nbsp;&nbsp;</span>Ein Regal erstellen</a></span></li><li><span><a href=\"#Das-Regal-wiederherstellen\" data-toc-modified-id=\"Das-Regal-wiederherstellen-4.2\"><span class=\"toc-item-num\">4.2&nbsp;&nbsp;</span>Das Regal wiederherstellen</a></span></li></ul></li></ul></div>"
   ]
  },
  {
   "cell_type": "markdown",
   "metadata": {},
   "source": [
    "# Textdateien"
   ]
  },
  {
   "cell_type": "markdown",
   "metadata": {},
   "source": [
    "## Zeile für Zeile auslesen"
   ]
  },
  {
   "cell_type": "code",
   "execution_count": 24,
   "metadata": {},
   "outputs": [],
   "source": [
    "fobj = open(\"test1.txt\", \"r\") # r steht für read"
   ]
  },
  {
   "cell_type": "code",
   "execution_count": 25,
   "metadata": {},
   "outputs": [
    {
     "data": {
      "text/plain": [
       "_io.TextIOWrapper"
      ]
     },
     "execution_count": 25,
     "metadata": {},
     "output_type": "execute_result"
    }
   ],
   "source": [
    "type(fobj)"
   ]
  },
  {
   "cell_type": "code",
   "execution_count": 26,
   "metadata": {},
   "outputs": [
    {
     "name": "stdout",
     "output_type": "stream",
     "text": [
      "Zeile1 fÃ¤ngt hier an und endet hier.\n",
      "\n",
      "Zeile2 ist hier.\n",
      "\n",
      "\n",
      "\n",
      "Zeile4 sagt: Zeile3 ist leer.\n",
      "\n",
      "Und noch eine Zeile5\n"
     ]
    }
   ],
   "source": [
    "for zeile in fobj:\n",
    "    print(zeile)\n",
    "fobj.close()"
   ]
  },
  {
   "cell_type": "markdown",
   "metadata": {},
   "source": [
    "Wir bemerken die vielen Leerzeilen. Die kommen daher, dass `print()` nach der Ausgabe jeder Zeichenkette auch noch mal eine Leerzeile macht. Die eingelesen Zeilen besitzen aber auch das Newline Steuerzeichen `\\n`.\n",
    "\n",
    "Bedienen können wir uns der Hilfsmethode `rstrip()` der String-Klasse, die alle Whitespaces vom rechten Rand löscht:"
   ]
  },
  {
   "cell_type": "code",
   "execution_count": 27,
   "metadata": {},
   "outputs": [
    {
     "name": "stdout",
     "output_type": "stream",
     "text": [
      "Zeile1 fÃ¤ngt hier an und endet hier.\n",
      "Zeile2 ist hier.\n",
      "\n",
      "Zeile4 sagt: Zeile3 ist leer.\n",
      "Und noch eine Zeile5\n"
     ]
    }
   ],
   "source": [
    "fobj = open(\"test1.txt\", \"r\")\n",
    "for zeile in fobj:\n",
    "    zeile = zeile.rstrip()\n",
    "    print(zeile)\n",
    "fobj.close()    "
   ]
  },
  {
   "cell_type": "markdown",
   "metadata": {},
   "source": [
    "Jetzt fällt uns auf, dass das ä nicht richtig ausgeben wurde. Wir lesen die Datei nochmal mittels einer anderen Codierung:"
   ]
  },
  {
   "cell_type": "code",
   "execution_count": 28,
   "metadata": {},
   "outputs": [
    {
     "name": "stdout",
     "output_type": "stream",
     "text": [
      "Zeile1 fängt hier an und endet hier.\n",
      "Zeile2 ist hier.\n",
      "\n",
      "Zeile4 sagt: Zeile3 ist leer.\n",
      "Und noch eine Zeile5\n"
     ]
    }
   ],
   "source": [
    "fobj = open(\"test1.txt\", \"r\", encoding=\"utf8\")\n",
    "for zeile in fobj:\n",
    "    zeile = zeile.rstrip()\n",
    "    print(zeile)\n",
    "fobj.close()"
   ]
  },
  {
   "cell_type": "markdown",
   "metadata": {},
   "source": [
    "Geschafft!"
   ]
  },
  {
   "cell_type": "markdown",
   "metadata": {},
   "source": [
    "## Zeile für Zeile schreiben"
   ]
  },
  {
   "cell_type": "code",
   "execution_count": 30,
   "metadata": {},
   "outputs": [
    {
     "name": "stdout",
     "output_type": "stream",
     "text": [
      "Zeile1 ist hier.\n",
      "Jetzt komme Nr 2.\n",
      "Ich bin Nr. 3\n",
      "stop\n"
     ]
    }
   ],
   "source": [
    "fobj = open(\"test2.txt\", \"w\", encoding=\"utf8\")\n",
    "\n",
    "while True:\n",
    "    eingabe = input()\n",
    "    if eingabe != \"stop\":\n",
    "        fobj.write( eingabe + \"\\n\" )\n",
    "    else:\n",
    "        break\n",
    "\n",
    "fobj.close()        "
   ]
  },
  {
   "cell_type": "markdown",
   "metadata": {},
   "source": [
    "## Eine ganze Textdatei in einem Rutsch einlesen"
   ]
  },
  {
   "cell_type": "code",
   "execution_count": 31,
   "metadata": {
    "collapsed": true
   },
   "outputs": [],
   "source": [
    "alle_zeilen = open(\"test1.txt\", \"r\").readlines()"
   ]
  },
  {
   "cell_type": "code",
   "execution_count": 32,
   "metadata": {},
   "outputs": [
    {
     "data": {
      "text/plain": [
       "['Zeile1 fÃ¤ngt hier an und endet hier.\\n',\n",
       " 'Zeile2 ist hier.\\n',\n",
       " '\\n',\n",
       " 'Zeile4 sagt: Zeile3 ist leer.\\n',\n",
       " 'Und noch eine Zeile5']"
      ]
     },
     "execution_count": 32,
     "metadata": {},
     "output_type": "execute_result"
    }
   ],
   "source": [
    "alle_zeilen"
   ]
  },
  {
   "cell_type": "code",
   "execution_count": 33,
   "metadata": {},
   "outputs": [
    {
     "data": {
      "text/plain": [
       "list"
      ]
     },
     "execution_count": 33,
     "metadata": {},
     "output_type": "execute_result"
    }
   ],
   "source": [
    "type(alle_zeilen)"
   ]
  },
  {
   "cell_type": "code",
   "execution_count": 35,
   "metadata": {},
   "outputs": [],
   "source": [
    "alle_zeilen = open(\"test1.txt\", \"r\").read()"
   ]
  },
  {
   "cell_type": "code",
   "execution_count": 36,
   "metadata": {},
   "outputs": [
    {
     "data": {
      "text/plain": [
       "'Zeile1 fÃ¤ngt hier an und endet hier.\\nZeile2 ist hier.\\n\\nZeile4 sagt: Zeile3 ist leer.\\nUnd noch eine Zeile5'"
      ]
     },
     "execution_count": 36,
     "metadata": {},
     "output_type": "execute_result"
    }
   ],
   "source": [
    "alle_zeilen"
   ]
  },
  {
   "cell_type": "code",
   "execution_count": 37,
   "metadata": {},
   "outputs": [
    {
     "data": {
      "text/plain": [
       "str"
      ]
     },
     "execution_count": 37,
     "metadata": {},
     "output_type": "execute_result"
    }
   ],
   "source": [
    "type(alle_zeilen)"
   ]
  },
  {
   "cell_type": "markdown",
   "metadata": {},
   "source": [
    "## with-Anweisung\n",
    "\n",
    "Oft findet man das `open` zusammen mit der sog. `with` Anweisung.\n",
    "\n",
    "Wird der `with`-Block beendet oder tritt eine Ausnahme auf, wird die Datei dann automatisch geschlossen."
   ]
  },
  {
   "cell_type": "code",
   "execution_count": 39,
   "metadata": {},
   "outputs": [
    {
     "name": "stdout",
     "output_type": "stream",
     "text": [
      "Zeile1 fängt hier an und endet hier.\n",
      "Zeile2 ist hier.\n",
      "\n",
      "Zeile4 sagt: Zeile3 ist leer.\n",
      "Und noch eine Zeile5\n"
     ]
    }
   ],
   "source": [
    "with open(\"test1.txt\", \"r\", encoding=\"utf8\") as fobj:\n",
    "    for zeile in fobj:\n",
    "        zeile = zeile.rstrip()\n",
    "        print(zeile)\n",
    "    fobj.close()"
   ]
  },
  {
   "cell_type": "markdown",
   "metadata": {},
   "source": [
    "# Binärdateien"
   ]
  },
  {
   "cell_type": "markdown",
   "metadata": {},
   "source": [
    "## Binärdaten wegschreiben"
   ]
  },
  {
   "cell_type": "code",
   "execution_count": 77,
   "metadata": {
    "collapsed": true
   },
   "outputs": [],
   "source": [
    "fobj = open(\"test.bin\",\"wb\") \n",
    "fobj.write(b\"H\")\n",
    "fobj.write(b\"a\") \n",
    "fobj.write(b\"l\")\n",
    "fobj.write(b\"l\")\n",
    "fobj.write(b\"o\")\n",
    "fobj.write(b\"!\")\n",
    "fobj.close()"
   ]
  },
  {
   "cell_type": "markdown",
   "metadata": {},
   "source": [
    "## Binärdaten wieder einlesen"
   ]
  },
  {
   "cell_type": "code",
   "execution_count": 83,
   "metadata": {},
   "outputs": [
    {
     "name": "stdout",
     "output_type": "stream",
     "text": [
      "Next byte is b'H', int-value=72\n",
      "Next byte is b'a', int-value=97\n",
      "Next byte is b'l', int-value=108\n",
      "Next byte is b'l', int-value=108\n",
      "Next byte is b'o', int-value=111\n",
      "Next byte is b'!', int-value=33\n"
     ]
    }
   ],
   "source": [
    "fobj = open(\"test.bin\",\"rb\") \n",
    "byte = fobj.read(1)\n",
    "while byte != b\"\":\n",
    "    print( \"Next byte is {}, int-value={}\"\n",
    "          .format(byte, int.from_bytes(byte, byteorder='little')) )\n",
    "    byte = fobj.read(1)"
   ]
  },
  {
   "cell_type": "code",
   "execution_count": 80,
   "metadata": {},
   "outputs": [
    {
     "name": "stdout",
     "output_type": "stream",
     "text": [
      "<class 'bytes'>\n"
     ]
    }
   ],
   "source": [
    "print(type(byte))"
   ]
  },
  {
   "cell_type": "markdown",
   "metadata": {},
   "source": [
    "Jetzt versuchen wir mal eine Zeichenkette in der Datei zu speichern:"
   ]
  },
  {
   "cell_type": "code",
   "execution_count": 96,
   "metadata": {
    "collapsed": true
   },
   "outputs": [],
   "source": [
    "mein_str = \"hello world\"\n",
    "mein_str_als_bytes = str.encode(my_str)"
   ]
  },
  {
   "cell_type": "code",
   "execution_count": 97,
   "metadata": {},
   "outputs": [
    {
     "data": {
      "text/plain": [
       "bytes"
      ]
     },
     "execution_count": 97,
     "metadata": {},
     "output_type": "execute_result"
    }
   ],
   "source": [
    "type(mein_str_als_bytes)"
   ]
  },
  {
   "cell_type": "code",
   "execution_count": 98,
   "metadata": {
    "collapsed": true
   },
   "outputs": [],
   "source": [
    "fobj = open(\"test.bin\",\"wb\") "
   ]
  },
  {
   "cell_type": "code",
   "execution_count": 99,
   "metadata": {},
   "outputs": [
    {
     "data": {
      "text/plain": [
       "11"
      ]
     },
     "execution_count": 99,
     "metadata": {},
     "output_type": "execute_result"
    }
   ],
   "source": [
    "fobj.write( mein_str_als_bytes )"
   ]
  },
  {
   "cell_type": "code",
   "execution_count": 100,
   "metadata": {
    "collapsed": true
   },
   "outputs": [],
   "source": [
    "fobj.close()"
   ]
  },
  {
   "cell_type": "code",
   "execution_count": 101,
   "metadata": {
    "collapsed": true
   },
   "outputs": [],
   "source": [
    "fobj = open(\"test.bin\",\"rb\") "
   ]
  },
  {
   "cell_type": "code",
   "execution_count": 102,
   "metadata": {
    "collapsed": true
   },
   "outputs": [],
   "source": [
    "bytes_read = fobj.read()"
   ]
  },
  {
   "cell_type": "code",
   "execution_count": 103,
   "metadata": {},
   "outputs": [
    {
     "data": {
      "text/plain": [
       "b'hello world'"
      ]
     },
     "execution_count": 103,
     "metadata": {},
     "output_type": "execute_result"
    }
   ],
   "source": [
    "bytes_read"
   ]
  },
  {
   "cell_type": "code",
   "execution_count": 104,
   "metadata": {},
   "outputs": [],
   "source": [
    "str_wieder_eingelesen = bytes_read.decode()"
   ]
  },
  {
   "cell_type": "code",
   "execution_count": 105,
   "metadata": {},
   "outputs": [
    {
     "name": "stdout",
     "output_type": "stream",
     "text": [
      "hello world\n"
     ]
    }
   ],
   "source": [
    "print(str_wieder_eingelesen)"
   ]
  },
  {
   "cell_type": "markdown",
   "metadata": {},
   "source": [
    "# Pickle\n",
    "\n",
    "Das englische Wort \"to pickle\" meint soviel wie \"etwas einlegen\". Was legen wir hier ein? Wir legen Daten in eine Datei ein, um sie zu sichern und später wiederherzustellen."
   ]
  },
  {
   "cell_type": "markdown",
   "metadata": {},
   "source": [
    "## Daten einlegen"
   ]
  },
  {
   "cell_type": "code",
   "execution_count": 109,
   "metadata": {
    "collapsed": true
   },
   "outputs": [],
   "source": [
    "ein_paar_daten = [42, \"Der Sinn des Lebens\", 42.123]"
   ]
  },
  {
   "cell_type": "code",
   "execution_count": 110,
   "metadata": {
    "collapsed": true
   },
   "outputs": [],
   "source": [
    "import pickle\n",
    "fobj = open(\"test.pkl\", \"wb\")\n",
    "pickle.dump(ein_paar_daten, fobj)\n",
    "fobj.close()"
   ]
  },
  {
   "cell_type": "markdown",
   "metadata": {},
   "source": [
    "## Daten wiederherstellen"
   ]
  },
  {
   "cell_type": "code",
   "execution_count": 112,
   "metadata": {
    "collapsed": true
   },
   "outputs": [],
   "source": [
    "import pickle\n",
    "fobj = open(\"test.pkl\", \"rb\")\n",
    "die_daten = pickle.load(fobj)"
   ]
  },
  {
   "cell_type": "code",
   "execution_count": 113,
   "metadata": {},
   "outputs": [
    {
     "data": {
      "text/plain": [
       "list"
      ]
     },
     "execution_count": 113,
     "metadata": {},
     "output_type": "execute_result"
    }
   ],
   "source": [
    "type(die_daten)"
   ]
  },
  {
   "cell_type": "code",
   "execution_count": 114,
   "metadata": {},
   "outputs": [
    {
     "name": "stdout",
     "output_type": "stream",
     "text": [
      "[42, 'Der Sinn des Lebens', 42.123]\n"
     ]
    }
   ],
   "source": [
    "print(die_daten)"
   ]
  },
  {
   "cell_type": "markdown",
   "metadata": {},
   "source": [
    "## Problem des pickle-Ansatzes"
   ]
  },
  {
   "cell_type": "markdown",
   "metadata": {},
   "source": [
    "Doch was ist, wenn wir mehrere Datenstrukturen pickeln wollen?"
   ]
  },
  {
   "cell_type": "code",
   "execution_count": 118,
   "metadata": {
    "collapsed": true
   },
   "outputs": [],
   "source": [
    "noch_mehr_daten = [1,2,3,10,20,30]\n",
    "und_noch_mehr_daten = \"abcdef123456\""
   ]
  },
  {
   "cell_type": "code",
   "execution_count": 119,
   "metadata": {
    "collapsed": true
   },
   "outputs": [],
   "source": [
    "import pickle\n",
    "fobj = open(\"test.pkl\", \"wb\")\n",
    "pickle.dump(ein_paar_daten, fobj)\n",
    "pickle.dump(noch_mehr_daten, fobj)\n",
    "pickle.dump(und_noch_mehr_daten, fobj)\n",
    "fobj.close()"
   ]
  },
  {
   "cell_type": "code",
   "execution_count": 120,
   "metadata": {
    "collapsed": true
   },
   "outputs": [],
   "source": [
    "import pickle\n",
    "fobj = open(\"test.pkl\", \"rb\")\n",
    "d1 = pickle.load(fobj)\n",
    "d2 = pickle.load(fobj)\n",
    "d3 = pickle.load(fobj)\n",
    "fobj.close()"
   ]
  },
  {
   "cell_type": "code",
   "execution_count": 121,
   "metadata": {},
   "outputs": [
    {
     "name": "stdout",
     "output_type": "stream",
     "text": [
      "[42, 'Der Sinn des Lebens', 42.123]\n",
      "[1, 2, 3, 10, 20, 30]\n",
      "abcdef123456\n"
     ]
    }
   ],
   "source": [
    "print(d1)\n",
    "print(d2)\n",
    "print(d3)"
   ]
  },
  {
   "cell_type": "markdown",
   "metadata": {},
   "source": [
    "Man sieht: man muss die Reihenfolge des Wegschreibens beim Einlesen berücksichtigen. Das ist evtl. fehleranfällig. Noch leichter geht es daher mit dem `shelve`-Modul."
   ]
  },
  {
   "cell_type": "markdown",
   "metadata": {},
   "source": [
    "# Shelve"
   ]
  },
  {
   "cell_type": "markdown",
   "metadata": {},
   "source": [
    "## Ein Regal erstellen"
   ]
  },
  {
   "cell_type": "code",
   "execution_count": 14,
   "metadata": {
    "collapsed": true
   },
   "outputs": [],
   "source": [
    "import shelve"
   ]
  },
  {
   "cell_type": "code",
   "execution_count": 15,
   "metadata": {
    "collapsed": true
   },
   "outputs": [],
   "source": [
    "s = shelve.open(\"MeinRegal\")"
   ]
  },
  {
   "cell_type": "markdown",
   "metadata": {},
   "source": [
    "Man kann nun das Shelf wie ein Dictionary benutzen.\n",
    "\n",
    "Durch jeden neuen Eintrag werden die Daten abgespeichert."
   ]
  },
  {
   "cell_type": "code",
   "execution_count": 16,
   "metadata": {},
   "outputs": [],
   "source": [
    "s[\"eine liste\"] = [1,2,3]\n",
    "s[\"eine zk\"] = \"Hallo!\"\n",
    "s[\"eine zahl\"] = 456"
   ]
  },
  {
   "cell_type": "code",
   "execution_count": 17,
   "metadata": {},
   "outputs": [
    {
     "data": {
      "text/plain": [
       "<shelve.DbfilenameShelf at 0x27b4bbe15c0>"
      ]
     },
     "execution_count": 17,
     "metadata": {},
     "output_type": "execute_result"
    }
   ],
   "source": [
    "s"
   ]
  },
  {
   "cell_type": "code",
   "execution_count": 18,
   "metadata": {},
   "outputs": [
    {
     "name": "stdout",
     "output_type": "stream",
     "text": [
      "<shelve.DbfilenameShelf object at 0x0000027B4BBE15C0>\n"
     ]
    }
   ],
   "source": [
    "print(s)"
   ]
  },
  {
   "cell_type": "code",
   "execution_count": 19,
   "metadata": {},
   "outputs": [
    {
     "data": {
      "text/plain": [
       "3"
      ]
     },
     "execution_count": 19,
     "metadata": {},
     "output_type": "execute_result"
    }
   ],
   "source": [
    "len(s)"
   ]
  },
  {
   "cell_type": "code",
   "execution_count": 20,
   "metadata": {
    "collapsed": true
   },
   "outputs": [],
   "source": [
    "s.close()"
   ]
  },
  {
   "cell_type": "markdown",
   "metadata": {},
   "source": [
    "## Das Regal wiederherstellen"
   ]
  },
  {
   "cell_type": "code",
   "execution_count": 8,
   "metadata": {
    "collapsed": true
   },
   "outputs": [],
   "source": [
    "import shelve\n",
    "t = shelve.open(\"MeinRegal\")"
   ]
  },
  {
   "cell_type": "code",
   "execution_count": 9,
   "metadata": {},
   "outputs": [
    {
     "name": "stdout",
     "output_type": "stream",
     "text": [
      "eine liste\n",
      "eine zk\n",
      "eine zahl\n",
      "was neues\n"
     ]
    }
   ],
   "source": [
    "for d in t:\n",
    "    print(d)"
   ]
  },
  {
   "cell_type": "code",
   "execution_count": 10,
   "metadata": {},
   "outputs": [
    {
     "name": "stdout",
     "output_type": "stream",
     "text": [
      "[1, 2, 3]\n"
     ]
    }
   ],
   "source": [
    "print( t[\"eine liste\"] )"
   ]
  },
  {
   "cell_type": "code",
   "execution_count": 11,
   "metadata": {},
   "outputs": [
    {
     "data": {
      "text/plain": [
       "'Hallo!'"
      ]
     },
     "execution_count": 11,
     "metadata": {},
     "output_type": "execute_result"
    }
   ],
   "source": [
    "t[\"eine zk\"]"
   ]
  },
  {
   "cell_type": "code",
   "execution_count": 12,
   "metadata": {},
   "outputs": [
    {
     "data": {
      "text/plain": [
       "456"
      ]
     },
     "execution_count": 12,
     "metadata": {},
     "output_type": "execute_result"
    }
   ],
   "source": [
    "t[\"eine zahl\"]"
   ]
  },
  {
   "cell_type": "markdown",
   "metadata": {},
   "source": [
    "Jetzt fügen wir was neues in das Regal ein:"
   ]
  },
  {
   "cell_type": "code",
   "execution_count": 13,
   "metadata": {
    "collapsed": true
   },
   "outputs": [],
   "source": [
    "t[\"was neues\"] = \"Hier was Neues!\""
   ]
  },
  {
   "cell_type": "code",
   "execution_count": 14,
   "metadata": {
    "collapsed": true
   },
   "outputs": [],
   "source": [
    "t[\"was neues\"] = \"Wird überschrieben!\""
   ]
  },
  {
   "cell_type": "code",
   "execution_count": 15,
   "metadata": {},
   "outputs": [
    {
     "data": {
      "text/plain": [
       "'Wird überschrieben!'"
      ]
     },
     "execution_count": 15,
     "metadata": {},
     "output_type": "execute_result"
    }
   ],
   "source": [
    "t[\"was neues\"]"
   ]
  },
  {
   "cell_type": "code",
   "execution_count": 16,
   "metadata": {
    "collapsed": true
   },
   "outputs": [],
   "source": [
    "t.close()"
   ]
  },
  {
   "cell_type": "code",
   "execution_count": null,
   "metadata": {
    "collapsed": true
   },
   "outputs": [],
   "source": []
  }
 ],
 "metadata": {
  "kernelspec": {
   "display_name": "Python 3",
   "language": "python",
   "name": "python3"
  },
  "language_info": {
   "codemirror_mode": {
    "name": "ipython",
    "version": 3
   },
   "file_extension": ".py",
   "mimetype": "text/x-python",
   "name": "python",
   "nbconvert_exporter": "python",
   "pygments_lexer": "ipython3",
   "version": "3.6.2"
  },
  "toc": {
   "base_numbering": 1,
   "nav_menu": {
    "height": "139px",
    "width": "306px"
   },
   "number_sections": true,
   "sideBar": true,
   "skip_h1_title": false,
   "title_cell": "Inhaltsverzeichnis",
   "title_sidebar": "Inhalte",
   "toc_cell": true,
   "toc_position": {},
   "toc_section_display": true,
   "toc_window_display": true
  }
 },
 "nbformat": 4,
 "nbformat_minor": 2
}

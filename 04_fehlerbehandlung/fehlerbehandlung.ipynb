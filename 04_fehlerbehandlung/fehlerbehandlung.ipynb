{
 "cells": [
  {
   "cell_type": "markdown",
   "metadata": {
    "toc": true
   },
   "source": [
    "<h1>Inhaltsverzeichnis<span class=\"tocSkip\"></span></h1>\n",
    "<div class=\"toc\"><ul class=\"toc-item\"><li><span><a href=\"#Motivation\" data-toc-modified-id=\"Motivation-1\"><span class=\"toc-item-num\">1&nbsp;&nbsp;</span>Motivation</a></span></li><li><span><a href=\"#Wir-wollen-es-besser-machen\" data-toc-modified-id=\"Wir-wollen-es-besser-machen-2\"><span class=\"toc-item-num\">2&nbsp;&nbsp;</span>Wir wollen es besser machen</a></span></li><li><span><a href=\"#Abfangen-mehrerer-Exceptions\" data-toc-modified-id=\"Abfangen-mehrerer-Exceptions-3\"><span class=\"toc-item-num\">3&nbsp;&nbsp;</span>Abfangen mehrerer Exceptions</a></span></li><li><span><a href=\"#Wer-fängt-die-Ausnahme,-wenn-wir-nicht?\" data-toc-modified-id=\"Wer-fängt-die-Ausnahme,-wenn-wir-nicht?-4\"><span class=\"toc-item-num\">4&nbsp;&nbsp;</span>Wer fängt die Ausnahme, wenn wir nicht?</a></span></li><li><span><a href=\"#Optionale-else-Klausel\" data-toc-modified-id=\"Optionale-else-Klausel-5\"><span class=\"toc-item-num\">5&nbsp;&nbsp;</span>Optionale else-Klausel</a></span></li><li><span><a href=\"#Fehler-fangen-und-weiter-reichen\" data-toc-modified-id=\"Fehler-fangen-und-weiter-reichen-6\"><span class=\"toc-item-num\">6&nbsp;&nbsp;</span>Fehler fangen und weiter reichen</a></span></li><li><span><a href=\"#Der-finally-Block\" data-toc-modified-id=\"Der-finally-Block-7\"><span class=\"toc-item-num\">7&nbsp;&nbsp;</span>Der <code>finally</code> Block</a></span></li><li><span><a href=\"#Eigene-Exceptions-definieren-und-&quot;werfen&quot;\" data-toc-modified-id=\"Eigene-Exceptions-definieren-und-&quot;werfen&quot;-8\"><span class=\"toc-item-num\">8&nbsp;&nbsp;</span>Eigene Exceptions definieren und \"werfen\"</a></span></li></ul></div>"
   ]
  },
  {
   "cell_type": "markdown",
   "metadata": {},
   "source": [
    "# Motivation"
   ]
  },
  {
   "cell_type": "code",
   "execution_count": 1,
   "metadata": {},
   "outputs": [
    {
     "name": "stdout",
     "output_type": "stream",
     "text": [
      "Bitte gab mal ne Zahl ein: 42\n",
      "<class 'str'>\n"
     ]
    }
   ],
   "source": [
    "zahl = input(\"Bitte gab mal ne Zahl ein: \")\n",
    "print(type(zahl))\n",
    "zahl = int(zahl)"
   ]
  },
  {
   "cell_type": "markdown",
   "metadata": {},
   "source": [
    "Jetzt geben wir absichtlich keine Zahl ein und schauen was passiert:"
   ]
  },
  {
   "cell_type": "code",
   "execution_count": 2,
   "metadata": {},
   "outputs": [
    {
     "name": "stdout",
     "output_type": "stream",
     "text": [
      "Bitte gab mal ne Zahl ein: 42fdfd\n"
     ]
    },
    {
     "ename": "ValueError",
     "evalue": "invalid literal for int() with base 10: '42fdfd'",
     "output_type": "error",
     "traceback": [
      "\u001b[1;31m---------------------------------------------------------------------------\u001b[0m",
      "\u001b[1;31mValueError\u001b[0m                                Traceback (most recent call last)",
      "\u001b[1;32m<ipython-input-2-986f8da3a21d>\u001b[0m in \u001b[0;36m<module>\u001b[1;34m()\u001b[0m\n\u001b[0;32m      1\u001b[0m \u001b[0mzahl\u001b[0m \u001b[1;33m=\u001b[0m \u001b[0minput\u001b[0m\u001b[1;33m(\u001b[0m\u001b[1;34m\"Bitte gab mal ne Zahl ein: \"\u001b[0m\u001b[1;33m)\u001b[0m\u001b[1;33m\u001b[0m\u001b[0m\n\u001b[1;32m----> 2\u001b[1;33m \u001b[0mzahl\u001b[0m \u001b[1;33m=\u001b[0m \u001b[0mint\u001b[0m\u001b[1;33m(\u001b[0m\u001b[0mzahl\u001b[0m\u001b[1;33m)\u001b[0m\u001b[1;33m\u001b[0m\u001b[0m\n\u001b[0m",
      "\u001b[1;31mValueError\u001b[0m: invalid literal for int() with base 10: '42fdfd'"
     ]
    }
   ],
   "source": [
    "zahl = input(\"Bitte gab mal ne Zahl ein: \")\n",
    "zahl = int(zahl)"
   ]
  },
  {
   "cell_type": "markdown",
   "metadata": {},
   "source": [
    "# Wir wollen es besser machen"
   ]
  },
  {
   "cell_type": "code",
   "execution_count": 3,
   "metadata": {},
   "outputs": [
    {
     "name": "stdout",
     "output_type": "stream",
     "text": [
      "Bitte gab mal ne Zahl ein: 43fdfs\n",
      "Ups! Da ging wohl was schief!\n"
     ]
    }
   ],
   "source": [
    "try:\n",
    "    zahl = input(\"Bitte gab mal ne Zahl ein: \")\n",
    "    zahl = int(zahl)\n",
    "except ValueError:\n",
    "    print(\"Ups! Da ging wohl was schief!\")    "
   ]
  },
  {
   "cell_type": "code",
   "execution_count": 4,
   "metadata": {},
   "outputs": [
    {
     "name": "stdout",
     "output_type": "stream",
     "text": [
      "Bitte gab mal ne Zahl ein: Ätschi-Bätschi!\n",
      "Ups! Da ging wohl was schief!\n"
     ]
    }
   ],
   "source": [
    "try:\n",
    "    zahl = input(\"Bitte gab mal ne Zahl ein: \")\n",
    "    zahl = int(zahl)\n",
    "except ValueError:\n",
    "    print(\"Ups! Da ging wohl was schief!\")  "
   ]
  },
  {
   "cell_type": "code",
   "execution_count": 15,
   "metadata": {},
   "outputs": [
    {
     "name": "stdout",
     "output_type": "stream",
     "text": [
      "Bitte gab mal ne Zahl ein: lalala\n",
      "Irgendein Fehler, welcher auch immer!\n"
     ]
    }
   ],
   "source": [
    "try:\n",
    "    zahl = input(\"Bitte gab mal ne Zahl ein: \")\n",
    "    zahl = int(zahl)\n",
    "except:\n",
    "    print(\"Irgendein Fehler, welcher auch immer!\") "
   ]
  },
  {
   "cell_type": "markdown",
   "metadata": {},
   "source": [
    "# Abfangen mehrerer Exceptions"
   ]
  },
  {
   "cell_type": "markdown",
   "metadata": {},
   "source": [
    "Abfangen aller möglichen Fehler:"
   ]
  },
  {
   "cell_type": "code",
   "execution_count": 8,
   "metadata": {},
   "outputs": [
    {
     "name": "stdout",
     "output_type": "stream",
     "text": [
      "Bitte gab mal ne Zahl ein: Mache ich nicht!\n",
      "(<class 'ValueError'>, ValueError(\"invalid literal for int() with base 10: 'Mache ich nicht!'\",), <traceback object at 0x000001C4FE37B7C8>)\n",
      "Fehler!\n",
      "Fehlertyp: <class 'ValueError'>,\n",
      "Fehlertext: invalid literal for int() with base 10: 'Mache ich nicht!'\n"
     ]
    }
   ],
   "source": [
    "import sys\n",
    "\n",
    "try:\n",
    "    zahl = input(\"Bitte gab mal ne Zahl ein: \")\n",
    "    zahl = int(zahl)\n",
    "except:\n",
    "    fehlerinfos = sys.exc_info()\n",
    "    print(fehlerinfos)\n",
    "    print(\"Fehler!\\nFehlertyp: {0},\\nFehlertext: {1}\"\n",
    "          .format(fehlerinfos[0], fehlerinfos[1]))"
   ]
  },
  {
   "cell_type": "markdown",
   "metadata": {},
   "source": [
    "Besser: nur die Fehler abfangen, die man auch behandeln kann!\n",
    "\n",
    "Wir können diese dann auch auflisten:"
   ]
  },
  {
   "cell_type": "code",
   "execution_count": 27,
   "metadata": {},
   "outputs": [
    {
     "name": "stdout",
     "output_type": "stream",
     "text": [
      "Bitte gab mal ne Zahl ein: 12\n",
      "Danke für die Zahl! Ich rechne dann mal damit!\n",
      "Berechnungsergebnis ist: 0.08333333333333333\n"
     ]
    }
   ],
   "source": [
    "import sys\n",
    "\n",
    "try:\n",
    "    zahl = input(\"Bitte gab mal ne Zahl ein: \")\n",
    "    zahl = int(zahl)\n",
    "    print(\"Danke für die Zahl! Ich rechne dann mal damit!\")\n",
    "    neue_zahl = 1/zahl\n",
    "    print(\"Berechnungsergebnis ist:\", neue_zahl)\n",
    "except ValueError:\n",
    "    print(\"Ungültige Zahl!\")   "
   ]
  },
  {
   "cell_type": "code",
   "execution_count": 28,
   "metadata": {},
   "outputs": [
    {
     "name": "stdout",
     "output_type": "stream",
     "text": [
      "Bitte gab mal ne Zahl ein: -Unsinn\n",
      "Ungültige Zahl!\n"
     ]
    }
   ],
   "source": [
    "import sys\n",
    "\n",
    "try:\n",
    "    zahl = input(\"Bitte gab mal ne Zahl ein: \")\n",
    "    zahl = int(zahl)\n",
    "    print(\"Danke für die Zahl! Ich rechne dann mal damit!\")\n",
    "    neue_zahl = 1/zahl\n",
    "    print(\"Berechnungsergebnis ist:\", neue_zahl)\n",
    "except ValueError:\n",
    "    print(\"Ungültige Zahl!\") "
   ]
  },
  {
   "cell_type": "code",
   "execution_count": 29,
   "metadata": {},
   "outputs": [
    {
     "name": "stdout",
     "output_type": "stream",
     "text": [
      "Bitte gab mal ne Zahl ein: 0\n",
      "Danke für die Zahl! Ich rechne dann mal damit!\n"
     ]
    },
    {
     "ename": "ZeroDivisionError",
     "evalue": "division by zero",
     "output_type": "error",
     "traceback": [
      "\u001b[1;31m---------------------------------------------------------------------------\u001b[0m",
      "\u001b[1;31mZeroDivisionError\u001b[0m                         Traceback (most recent call last)",
      "\u001b[1;32m<ipython-input-29-06c169c92aa9>\u001b[0m in \u001b[0;36m<module>\u001b[1;34m()\u001b[0m\n\u001b[0;32m      5\u001b[0m     \u001b[0mzahl\u001b[0m \u001b[1;33m=\u001b[0m \u001b[0mint\u001b[0m\u001b[1;33m(\u001b[0m\u001b[0mzahl\u001b[0m\u001b[1;33m)\u001b[0m\u001b[1;33m\u001b[0m\u001b[0m\n\u001b[0;32m      6\u001b[0m     \u001b[0mprint\u001b[0m\u001b[1;33m(\u001b[0m\u001b[1;34m\"Danke für die Zahl! Ich rechne dann mal damit!\"\u001b[0m\u001b[1;33m)\u001b[0m\u001b[1;33m\u001b[0m\u001b[0m\n\u001b[1;32m----> 7\u001b[1;33m     \u001b[0mneue_zahl\u001b[0m \u001b[1;33m=\u001b[0m \u001b[1;36m1\u001b[0m\u001b[1;33m/\u001b[0m\u001b[0mzahl\u001b[0m\u001b[1;33m\u001b[0m\u001b[0m\n\u001b[0m\u001b[0;32m      8\u001b[0m     \u001b[0mprint\u001b[0m\u001b[1;33m(\u001b[0m\u001b[1;34m\"Berechnungsergebnis ist:\"\u001b[0m\u001b[1;33m,\u001b[0m \u001b[0mneue_zahl\u001b[0m\u001b[1;33m)\u001b[0m\u001b[1;33m\u001b[0m\u001b[0m\n\u001b[0;32m      9\u001b[0m \u001b[1;32mexcept\u001b[0m \u001b[0mValueError\u001b[0m\u001b[1;33m:\u001b[0m\u001b[1;33m\u001b[0m\u001b[0m\n",
      "\u001b[1;31mZeroDivisionError\u001b[0m: division by zero"
     ]
    }
   ],
   "source": [
    "import sys\n",
    "\n",
    "try:\n",
    "    zahl = input(\"Bitte gab mal ne Zahl ein: \")\n",
    "    zahl = int(zahl)\n",
    "    print(\"Danke für die Zahl! Ich rechne dann mal damit!\")\n",
    "    neue_zahl = 1/zahl\n",
    "    print(\"Berechnungsergebnis ist:\", neue_zahl)\n",
    "except ValueError:\n",
    "    print(\"Ungültige Zahl!\") "
   ]
  },
  {
   "cell_type": "markdown",
   "metadata": {},
   "source": [
    "D.h. hier kann neben dem `ValueError` auch noch ein weiterer Fehler entstehen: der `ZeroDivisionError`. Den wollen wir jetzt auch noch auffangen:"
   ]
  },
  {
   "cell_type": "code",
   "execution_count": 1,
   "metadata": {},
   "outputs": [
    {
     "name": "stdout",
     "output_type": "stream",
     "text": [
      "Bitte gab mal ne Zahl ein: 0\n",
      "Danke für die Zahl! Ich rechne dann mal damit!\n",
      "Habe versucht durch null zu teilen. Dabei ging es mir schlecht.\n"
     ]
    }
   ],
   "source": [
    "import sys\n",
    "\n",
    "try:\n",
    "    zahl = input(\"Bitte gab mal ne Zahl ein: \")\n",
    "    zahl = int(zahl)\n",
    "    print(\"Danke für die Zahl! Ich rechne dann mal damit!\")\n",
    "    neue_zahl = 1/zahl\n",
    "    print(\"Berechnungsergebnis ist:\", neue_zahl)\n",
    "except ValueError:\n",
    "    print(\"Ungültige Zahl!\")\n",
    "except ZeroDivisionError:\n",
    "    print(\"Habe versucht durch null zu teilen. Dabei ging es mir schlecht.\")\n",
    "except:\n",
    "    print(\"Sonstiger Fehler!\")"
   ]
  },
  {
   "cell_type": "code",
   "execution_count": 4,
   "metadata": {},
   "outputs": [
    {
     "name": "stdout",
     "output_type": "stream",
     "text": [
      "Bitte gab mal ne Zahl ein: -Unsinn\n",
      "Es gab mal wieder einen Fehler!\n"
     ]
    }
   ],
   "source": [
    "import sys\n",
    "\n",
    "try:\n",
    "    zahl = input(\"Bitte gab mal ne Zahl ein: \")\n",
    "    zahl = int(zahl)\n",
    "    print(\"Danke für die Zahl! Ich rechne dann mal damit!\")\n",
    "    neue_zahl = 1/zahl\n",
    "    print(\"Berechnungsergebnis ist:\", neue_zahl)\n",
    "except (ValueError, ZeroDivisionError):\n",
    "    print(\"Es gab mal wieder einen Fehler!\")"
   ]
  },
  {
   "cell_type": "code",
   "execution_count": 7,
   "metadata": {},
   "outputs": [
    {
     "name": "stdout",
     "output_type": "stream",
     "text": [
      "Bitte gab mal ne Zahl ein: -Unsinn\n",
      "Es gab mal wieder einen Fehler!\n",
      "Fehlertext: invalid literal for int() with base 10: '-Unsinn'\n"
     ]
    }
   ],
   "source": [
    "import sys\n",
    "\n",
    "try:\n",
    "    zahl = input(\"Bitte gab mal ne Zahl ein: \")\n",
    "    zahl = int(zahl)\n",
    "    print(\"Danke für die Zahl! Ich rechne dann mal damit!\")\n",
    "    neue_zahl = 1/zahl\n",
    "    print(\"Berechnungsergebnis ist:\", neue_zahl)\n",
    "except (ValueError, ZeroDivisionError) as e:\n",
    "    print(\"Es gab mal wieder einen Fehler!\")\n",
    "    print(\"Fehlertext:\", e)"
   ]
  },
  {
   "cell_type": "markdown",
   "metadata": {},
   "source": [
    "# Wer fängt die Ausnahme, wenn wir nicht?"
   ]
  },
  {
   "cell_type": "code",
   "execution_count": 11,
   "metadata": {},
   "outputs": [
    {
     "name": "stdout",
     "output_type": "stream",
     "text": [
      "Bitte gab mal ne Zahl ein: -Unsinn\n",
      "Fehler innen drinnen gefangen\n",
      "Fehlertext: invalid literal for int() with base 10: '-Unsinn'\n"
     ]
    }
   ],
   "source": [
    "try:\n",
    "    \n",
    "    try:\n",
    "        zahl = input(\"Bitte gab mal ne Zahl ein: \")\n",
    "        zahl = int(zahl)\n",
    "        print(\"Danke für die Zahl! Ich rechne dann mal damit!\")\n",
    "        neue_zahl = 1/zahl\n",
    "        print(\"Berechnungsergebnis ist:\", neue_zahl)\n",
    "    except ValueError as e:\n",
    "        print(\"Fehler innen drinnen gefangen\")\n",
    "        print(\"Fehlertext:\", e)\n",
    "        \n",
    "except ZeroDivisionError as e:\n",
    "    print(\"Fehler außen gefangen\")\n",
    "    print(\"Fehlertext:\", e)"
   ]
  },
  {
   "cell_type": "code",
   "execution_count": 12,
   "metadata": {},
   "outputs": [
    {
     "name": "stdout",
     "output_type": "stream",
     "text": [
      "Bitte gab mal ne Zahl ein: 0\n",
      "Danke für die Zahl! Ich rechne dann mal damit!\n",
      "Fehler außen gefangen\n",
      "Fehlertext: division by zero\n"
     ]
    }
   ],
   "source": [
    "try:\n",
    "    \n",
    "    try:\n",
    "        zahl = input(\"Bitte gab mal ne Zahl ein: \")\n",
    "        zahl = int(zahl)\n",
    "        print(\"Danke für die Zahl! Ich rechne dann mal damit!\")\n",
    "        neue_zahl = 1/zahl\n",
    "        print(\"Berechnungsergebnis ist:\", neue_zahl)\n",
    "    except ValueError as e:\n",
    "        print(\"Fehler innen drinnen gefangen\")\n",
    "        print(\"Fehlertext:\", e)\n",
    "        \n",
    "except ZeroDivisionError as e:\n",
    "    print(\"Fehler außen gefangen\")\n",
    "    print(\"Fehlertext:\", e)"
   ]
  },
  {
   "cell_type": "code",
   "execution_count": 13,
   "metadata": {
    "collapsed": true
   },
   "outputs": [],
   "source": [
    "def foo(x):\n",
    "    y = 1/x\n",
    "    return y"
   ]
  },
  {
   "cell_type": "code",
   "execution_count": 14,
   "metadata": {},
   "outputs": [
    {
     "ename": "ZeroDivisionError",
     "evalue": "division by zero",
     "output_type": "error",
     "traceback": [
      "\u001b[1;31m---------------------------------------------------------------------------\u001b[0m",
      "\u001b[1;31mZeroDivisionError\u001b[0m                         Traceback (most recent call last)",
      "\u001b[1;32m<ipython-input-14-f3d11c7578dc>\u001b[0m in \u001b[0;36m<module>\u001b[1;34m()\u001b[0m\n\u001b[1;32m----> 1\u001b[1;33m \u001b[0mfoo\u001b[0m\u001b[1;33m(\u001b[0m\u001b[1;36m0\u001b[0m\u001b[1;33m)\u001b[0m\u001b[1;33m\u001b[0m\u001b[0m\n\u001b[0m",
      "\u001b[1;32m<ipython-input-13-16564200813d>\u001b[0m in \u001b[0;36mfoo\u001b[1;34m(x)\u001b[0m\n\u001b[0;32m      1\u001b[0m \u001b[1;32mdef\u001b[0m \u001b[0mfoo\u001b[0m\u001b[1;33m(\u001b[0m\u001b[0mx\u001b[0m\u001b[1;33m)\u001b[0m\u001b[1;33m:\u001b[0m\u001b[1;33m\u001b[0m\u001b[0m\n\u001b[1;32m----> 2\u001b[1;33m     \u001b[0my\u001b[0m \u001b[1;33m=\u001b[0m \u001b[1;36m1\u001b[0m\u001b[1;33m/\u001b[0m\u001b[0mx\u001b[0m\u001b[1;33m\u001b[0m\u001b[0m\n\u001b[0m\u001b[0;32m      3\u001b[0m     \u001b[1;32mreturn\u001b[0m \u001b[0my\u001b[0m\u001b[1;33m\u001b[0m\u001b[0m\n",
      "\u001b[1;31mZeroDivisionError\u001b[0m: division by zero"
     ]
    }
   ],
   "source": [
    "foo(0)"
   ]
  },
  {
   "cell_type": "code",
   "execution_count": 16,
   "metadata": {},
   "outputs": [
    {
     "name": "stdout",
     "output_type": "stream",
     "text": [
      "Fehler: division by zero\n"
     ]
    }
   ],
   "source": [
    "def foo(x):\n",
    "    y = 1/x\n",
    "    return y\n",
    "\n",
    "try:\n",
    "    foo(0)\n",
    "except ZeroDivisionError as e:\n",
    "    print(\"Fehler:\", e)"
   ]
  },
  {
   "cell_type": "code",
   "execution_count": 21,
   "metadata": {
    "collapsed": true
   },
   "outputs": [],
   "source": [
    "class foo:\n",
    "    \n",
    "    def mache_was(self, x):\n",
    "        y = 1/x\n",
    "        return y"
   ]
  },
  {
   "cell_type": "code",
   "execution_count": 22,
   "metadata": {
    "collapsed": true
   },
   "outputs": [],
   "source": [
    "A = foo()"
   ]
  },
  {
   "cell_type": "code",
   "execution_count": 23,
   "metadata": {},
   "outputs": [
    {
     "ename": "ZeroDivisionError",
     "evalue": "division by zero",
     "output_type": "error",
     "traceback": [
      "\u001b[1;31m---------------------------------------------------------------------------\u001b[0m",
      "\u001b[1;31mZeroDivisionError\u001b[0m                         Traceback (most recent call last)",
      "\u001b[1;32m<ipython-input-23-01e9f6ba2bcd>\u001b[0m in \u001b[0;36m<module>\u001b[1;34m()\u001b[0m\n\u001b[1;32m----> 1\u001b[1;33m \u001b[0mA\u001b[0m\u001b[1;33m.\u001b[0m\u001b[0mmache_was\u001b[0m\u001b[1;33m(\u001b[0m\u001b[1;36m0\u001b[0m\u001b[1;33m)\u001b[0m\u001b[1;33m\u001b[0m\u001b[0m\n\u001b[0m",
      "\u001b[1;32m<ipython-input-21-df8e6c8a79c7>\u001b[0m in \u001b[0;36mmache_was\u001b[1;34m(self, x)\u001b[0m\n\u001b[0;32m      2\u001b[0m \u001b[1;33m\u001b[0m\u001b[0m\n\u001b[0;32m      3\u001b[0m     \u001b[1;32mdef\u001b[0m \u001b[0mmache_was\u001b[0m\u001b[1;33m(\u001b[0m\u001b[0mself\u001b[0m\u001b[1;33m,\u001b[0m \u001b[0mx\u001b[0m\u001b[1;33m)\u001b[0m\u001b[1;33m:\u001b[0m\u001b[1;33m\u001b[0m\u001b[0m\n\u001b[1;32m----> 4\u001b[1;33m         \u001b[0my\u001b[0m \u001b[1;33m=\u001b[0m \u001b[1;36m1\u001b[0m\u001b[1;33m/\u001b[0m\u001b[0mx\u001b[0m\u001b[1;33m\u001b[0m\u001b[0m\n\u001b[0m\u001b[0;32m      5\u001b[0m         \u001b[1;32mreturn\u001b[0m \u001b[0my\u001b[0m\u001b[1;33m\u001b[0m\u001b[0m\n",
      "\u001b[1;31mZeroDivisionError\u001b[0m: division by zero"
     ]
    }
   ],
   "source": [
    "A.mache_was(0)"
   ]
  },
  {
   "cell_type": "code",
   "execution_count": 25,
   "metadata": {},
   "outputs": [
    {
     "name": "stdout",
     "output_type": "stream",
     "text": [
      "Fehler: division by zero\n"
     ]
    }
   ],
   "source": [
    "try:\n",
    "    A=foo()\n",
    "    A.mache_was(0)\n",
    "except BaseException as e: # fängt jeglichen Fehler\n",
    "    print(\"Fehler:\", e)"
   ]
  },
  {
   "cell_type": "markdown",
   "metadata": {},
   "source": [
    "Hinweis: fängt man die Ausnahme `BaseException` fängt man auch jeglichen Fehler ab, da alle Fehler von dieser Basisklasse abgeleitet sind."
   ]
  },
  {
   "cell_type": "markdown",
   "metadata": {},
   "source": [
    "# Optionale else-Klausel"
   ]
  },
  {
   "cell_type": "code",
   "execution_count": 28,
   "metadata": {},
   "outputs": [
    {
     "name": "stdout",
     "output_type": "stream",
     "text": [
      "Bitte gab mal ne Zahl ein: -Unsinn\n",
      "Fehler!\n",
      "Fertig!\n"
     ]
    }
   ],
   "source": [
    "try:\n",
    "    zahl = input(\"Bitte gab mal ne Zahl ein: \")\n",
    "    zahl = int(zahl)\n",
    "except:\n",
    "    print(\"Fehler!\")\n",
    "else:\n",
    "    print(\"Puh! Alles ging gut! (Erfolgsfall)\")\n",
    "print(\"Fertig!\")"
   ]
  },
  {
   "cell_type": "code",
   "execution_count": 29,
   "metadata": {},
   "outputs": [
    {
     "name": "stdout",
     "output_type": "stream",
     "text": [
      "Bitte gab mal ne Zahl ein: 42\n",
      "Puh! Alles ging gut! (Erfolgsfall)\n",
      "Fertig!\n"
     ]
    }
   ],
   "source": [
    "try:\n",
    "    zahl = input(\"Bitte gab mal ne Zahl ein: \")\n",
    "    zahl = int(zahl)\n",
    "except:\n",
    "    print(\"Fehler!\")\n",
    "else:\n",
    "    print(\"Puh! Alles ging gut! (Erfolgsfall)\")\n",
    "print(\"Fertig!\")"
   ]
  },
  {
   "cell_type": "markdown",
   "metadata": {},
   "source": [
    "# Fehler fangen und weiter reichen"
   ]
  },
  {
   "cell_type": "code",
   "execution_count": 30,
   "metadata": {},
   "outputs": [
    {
     "name": "stdout",
     "output_type": "stream",
     "text": [
      "Bitte gab mal ne Zahl ein: -Unsinn\n",
      "Fehler abgefangen in Funktion!\n",
      "Fehler abgefangen weiter oben!\n"
     ]
    }
   ],
   "source": [
    "def frage_zahl_ab():\n",
    "\n",
    "    try:\n",
    "        zahl = input(\"Bitte gab mal ne Zahl ein: \")\n",
    "        zahl = int(zahl)\n",
    "    except:\n",
    "        print(\"Fehler abgefangen in Funktion!\")\n",
    "        raise\n",
    "        \n",
    "\n",
    "try:\n",
    "    frage_zahl_ab()\n",
    "except:\n",
    "    print(\"Fehler abgefangen weiter oben!\")"
   ]
  },
  {
   "cell_type": "code",
   "execution_count": 31,
   "metadata": {},
   "outputs": [
    {
     "name": "stdout",
     "output_type": "stream",
     "text": [
      "Bitte gab mal ne Zahl ein: -Unsinn\n",
      "Fehler abgefangen in Funktion!\n",
      "Fehler abgefangen weiter oben!\n"
     ]
    }
   ],
   "source": [
    "def frage_zahl_ab():\n",
    "\n",
    "    try:\n",
    "        zahl = input(\"Bitte gab mal ne Zahl ein: \")\n",
    "        zahl = int(zahl)\n",
    "    except ValueError:\n",
    "        print(\"Fehler abgefangen in Funktion!\")\n",
    "        raise ValueError\n",
    "        \n",
    "\n",
    "try:\n",
    "    frage_zahl_ab()\n",
    "except ValueError:\n",
    "    print(\"Fehler abgefangen weiter oben!\")"
   ]
  },
  {
   "cell_type": "markdown",
   "metadata": {},
   "source": [
    "# Der `finally` Block"
   ]
  },
  {
   "cell_type": "markdown",
   "metadata": {},
   "source": [
    "Der `finally` Block wird immer ausgeführt. Egal ob einer Fehler aufgetreten ist oder nicht."
   ]
  },
  {
   "cell_type": "code",
   "execution_count": 36,
   "metadata": {},
   "outputs": [
    {
     "name": "stdout",
     "output_type": "stream",
     "text": [
      "Eingelesene Zeilen: ['Eine kleine Textdatei.\\n', 'Hat nur 2 Zeilen, nix besonderes.']\n",
      "Fehler!\n",
      "Datei wird geschlossen.\n"
     ]
    }
   ],
   "source": [
    "try:\n",
    "    fobj = open(\"test.txt\")\n",
    "    zeilen = fobj.readlines()\n",
    "    print(\"Eingelesene Zeilen:\", zeilen)\n",
    "    zahl = int(zeilen[0])\n",
    "    #fobj.close() # könnte sein, dass wir das hier nie erreichen!\n",
    "except:\n",
    "    print(\"Fehler!\")\n",
    "finally:\n",
    "    print(\"Datei wird geschlossen.\")\n",
    "    fobj.close()    "
   ]
  },
  {
   "cell_type": "markdown",
   "metadata": {},
   "source": [
    "# Eigene Exceptions definieren und \"werfen\""
   ]
  },
  {
   "cell_type": "code",
   "execution_count": 41,
   "metadata": {
    "collapsed": true
   },
   "outputs": [],
   "source": [
    "class GehaltUnplausibelError(Exception):\n",
    "    pass\n",
    "\n",
    "def gehalt_eingeben():\n",
    "    gehalt = int(input(\"Ihr Monatsgehalt: \"))\n",
    "    if gehalt > 100000:\n",
    "        raise GehaltUnplausibelError(\"Error! Das glaube ich nicht!\")\n",
    "    print(\"Ok.\")"
   ]
  },
  {
   "cell_type": "code",
   "execution_count": 42,
   "metadata": {},
   "outputs": [
    {
     "name": "stdout",
     "output_type": "stream",
     "text": [
      "Ihr Monatsgehalt: 200000\n"
     ]
    },
    {
     "ename": "GehaltUnplausibelError",
     "evalue": "Error! Das glaube ich nicht!",
     "output_type": "error",
     "traceback": [
      "\u001b[1;31m---------------------------------------------------------------------------\u001b[0m",
      "\u001b[1;31mGehaltUnplausibelError\u001b[0m                    Traceback (most recent call last)",
      "\u001b[1;32m<ipython-input-42-933ffd56544a>\u001b[0m in \u001b[0;36m<module>\u001b[1;34m()\u001b[0m\n\u001b[1;32m----> 1\u001b[1;33m \u001b[0mgehalt_eingeben\u001b[0m\u001b[1;33m(\u001b[0m\u001b[1;33m)\u001b[0m\u001b[1;33m\u001b[0m\u001b[0m\n\u001b[0m",
      "\u001b[1;32m<ipython-input-41-111da616e1af>\u001b[0m in \u001b[0;36mgehalt_eingeben\u001b[1;34m()\u001b[0m\n\u001b[0;32m      5\u001b[0m     \u001b[0mgehalt\u001b[0m \u001b[1;33m=\u001b[0m \u001b[0mint\u001b[0m\u001b[1;33m(\u001b[0m\u001b[0minput\u001b[0m\u001b[1;33m(\u001b[0m\u001b[1;34m\"Ihr Monatsgehalt: \"\u001b[0m\u001b[1;33m)\u001b[0m\u001b[1;33m)\u001b[0m\u001b[1;33m\u001b[0m\u001b[0m\n\u001b[0;32m      6\u001b[0m     \u001b[1;32mif\u001b[0m \u001b[0mgehalt\u001b[0m \u001b[1;33m>\u001b[0m \u001b[1;36m100000\u001b[0m\u001b[1;33m:\u001b[0m\u001b[1;33m\u001b[0m\u001b[0m\n\u001b[1;32m----> 7\u001b[1;33m         \u001b[1;32mraise\u001b[0m \u001b[0mGehaltUnplausibelError\u001b[0m\u001b[1;33m(\u001b[0m\u001b[1;34m\"Error! Das glaube ich nicht!\"\u001b[0m\u001b[1;33m)\u001b[0m\u001b[1;33m\u001b[0m\u001b[0m\n\u001b[0m\u001b[0;32m      8\u001b[0m     \u001b[0mprint\u001b[0m\u001b[1;33m(\u001b[0m\u001b[1;34m\"Ok.\"\u001b[0m\u001b[1;33m)\u001b[0m\u001b[1;33m\u001b[0m\u001b[0m\n",
      "\u001b[1;31mGehaltUnplausibelError\u001b[0m: Error! Das glaube ich nicht!"
     ]
    }
   ],
   "source": [
    "gehalt_eingeben()"
   ]
  },
  {
   "cell_type": "code",
   "execution_count": 45,
   "metadata": {
    "collapsed": true
   },
   "outputs": [],
   "source": [
    "class GehaltUnplausibelError(Exception):\n",
    "    \n",
    "    def __init__(self, gehaltsangabe):\n",
    "        self.gehaltsangabe = gehaltsangabe\n",
    "\n",
    "def gehalt_eingeben():\n",
    "    gehalt = int(input(\"Ihr Monatsgehalt: \"))\n",
    "    if gehalt > 100000:\n",
    "        excp = GehaltUnplausibelError(gehalt)\n",
    "        raise excp\n",
    "    print(\"Ok.\")"
   ]
  },
  {
   "cell_type": "code",
   "execution_count": 48,
   "metadata": {},
   "outputs": [
    {
     "name": "stdout",
     "output_type": "stream",
     "text": [
      "Ihr Monatsgehalt: 200000\n",
      "Ach komm! Das glaubste doch selber nicht!\n",
      "Niemand verdient 200000 pro Monat!\n"
     ]
    }
   ],
   "source": [
    "try:\n",
    "    gehalt_eingeben()\n",
    "except GehaltUnplausibelError as e:\n",
    "    print(\"Ach komm! Das glaubste doch selber nicht!\")\n",
    "    print(\"Niemand verdient\", e.gehaltsangabe, \"pro Monat!\")"
   ]
  },
  {
   "cell_type": "code",
   "execution_count": null,
   "metadata": {
    "collapsed": true
   },
   "outputs": [],
   "source": []
  }
 ],
 "metadata": {
  "kernelspec": {
   "display_name": "Python 3",
   "language": "python",
   "name": "python3"
  },
  "language_info": {
   "codemirror_mode": {
    "name": "ipython",
    "version": 3
   },
   "file_extension": ".py",
   "mimetype": "text/x-python",
   "name": "python",
   "nbconvert_exporter": "python",
   "pygments_lexer": "ipython3",
   "version": "3.6.2"
  },
  "toc": {
   "base_numbering": 1,
   "nav_menu": {},
   "number_sections": true,
   "sideBar": true,
   "skip_h1_title": false,
   "title_cell": "Inhaltsverzeichnis",
   "title_sidebar": "Inhalte",
   "toc_cell": true,
   "toc_position": {},
   "toc_section_display": true,
   "toc_window_display": true
  }
 },
 "nbformat": 4,
 "nbformat_minor": 2
}

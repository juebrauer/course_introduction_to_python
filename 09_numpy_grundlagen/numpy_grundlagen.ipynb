{
 "cells": [
  {
   "cell_type": "markdown",
   "metadata": {
    "toc": true
   },
   "source": [
    "<h1>Inhaltsverzeichnis<span class=\"tocSkip\"></span></h1>\n",
    "<div class=\"toc\"><ul class=\"toc-item\"><li><span><a href=\"#NumPy-Version-überprüfen\" data-toc-modified-id=\"NumPy-Version-überprüfen-1\"><span class=\"toc-item-num\">1&nbsp;&nbsp;</span>NumPy Version überprüfen</a></span></li><li><span><a href=\"#Erzeugen-von-Arrays\" data-toc-modified-id=\"Erzeugen-von-Arrays-2\"><span class=\"toc-item-num\">2&nbsp;&nbsp;</span>Erzeugen von Arrays</a></span></li><li><span><a href=\"#Zugriff-auf-Array-Elemente,-Zeilen,-Spalten\" data-toc-modified-id=\"Zugriff-auf-Array-Elemente,-Zeilen,-Spalten-3\"><span class=\"toc-item-num\">3&nbsp;&nbsp;</span>Zugriff auf Array Elemente, Zeilen, Spalten</a></span></li><li><span><a href=\"#Arrays-umformen-(reshape())\" data-toc-modified-id=\"Arrays-umformen-(reshape())-4\"><span class=\"toc-item-num\">4&nbsp;&nbsp;</span>Arrays umformen (<code>reshape()</code>)</a></span></li><li><span><a href=\"#Lineare-Algebra-mit-Arrays\" data-toc-modified-id=\"Lineare-Algebra-mit-Arrays-5\"><span class=\"toc-item-num\">5&nbsp;&nbsp;</span>Lineare Algebra mit Arrays</a></span></li><li><span><a href=\"#Zufällige-Arrays\" data-toc-modified-id=\"Zufällige-Arrays-6\"><span class=\"toc-item-num\">6&nbsp;&nbsp;</span>Zufällige Arrays</a></span></li><li><span><a href=\"#Wieso-eigentlich-NumPy?\" data-toc-modified-id=\"Wieso-eigentlich-NumPy?-7\"><span class=\"toc-item-num\">7&nbsp;&nbsp;</span>Wieso eigentlich NumPy?</a></span></li></ul></div>"
   ]
  },
  {
   "cell_type": "markdown",
   "metadata": {},
   "source": [
    "# NumPy Version überprüfen"
   ]
  },
  {
   "cell_type": "code",
   "execution_count": 3,
   "metadata": {},
   "outputs": [
    {
     "name": "stdout",
     "output_type": "stream",
     "text": [
      "Deine NumPy Version ist 1.13.1\n"
     ]
    }
   ],
   "source": [
    "import numpy as np\n",
    "print(\"Deine NumPy Version ist\", np.version.version)"
   ]
  },
  {
   "cell_type": "markdown",
   "metadata": {},
   "source": [
    "# Erzeugen von Arrays"
   ]
  },
  {
   "cell_type": "code",
   "execution_count": 5,
   "metadata": {},
   "outputs": [],
   "source": [
    "a1 = np.array([2,4,6,8,10])"
   ]
  },
  {
   "cell_type": "code",
   "execution_count": 6,
   "metadata": {},
   "outputs": [
    {
     "data": {
      "text/plain": [
       "array([ 2,  4,  6,  8, 10])"
      ]
     },
     "execution_count": 6,
     "metadata": {},
     "output_type": "execute_result"
    }
   ],
   "source": [
    "a1"
   ]
  },
  {
   "cell_type": "code",
   "execution_count": 7,
   "metadata": {},
   "outputs": [
    {
     "name": "stdout",
     "output_type": "stream",
     "text": [
      "[ 2  4  6  8 10]\n"
     ]
    }
   ],
   "source": [
    "print(a1)"
   ]
  },
  {
   "cell_type": "code",
   "execution_count": 8,
   "metadata": {},
   "outputs": [
    {
     "data": {
      "text/plain": [
       "dtype('int32')"
      ]
     },
     "execution_count": 8,
     "metadata": {},
     "output_type": "execute_result"
    }
   ],
   "source": [
    "a1.dtype"
   ]
  },
  {
   "cell_type": "code",
   "execution_count": 9,
   "metadata": {},
   "outputs": [],
   "source": [
    "a1 = a1.astype(np.float32)"
   ]
  },
  {
   "cell_type": "code",
   "execution_count": 10,
   "metadata": {},
   "outputs": [
    {
     "data": {
      "text/plain": [
       "dtype('float32')"
      ]
     },
     "execution_count": 10,
     "metadata": {},
     "output_type": "execute_result"
    }
   ],
   "source": [
    "a1.dtype"
   ]
  },
  {
   "cell_type": "code",
   "execution_count": 18,
   "metadata": {},
   "outputs": [],
   "source": [
    "a2 = np.array([[1,2],[3,4],[5,6], [7,8]])"
   ]
  },
  {
   "cell_type": "code",
   "execution_count": 13,
   "metadata": {},
   "outputs": [
    {
     "data": {
      "text/plain": [
       "array([[1, 2],\n",
       "       [3, 4],\n",
       "       [5, 6],\n",
       "       [7, 8]])"
      ]
     },
     "execution_count": 13,
     "metadata": {},
     "output_type": "execute_result"
    }
   ],
   "source": [
    "a2"
   ]
  },
  {
   "cell_type": "code",
   "execution_count": 14,
   "metadata": {},
   "outputs": [
    {
     "data": {
      "text/plain": [
       "2"
      ]
     },
     "execution_count": 14,
     "metadata": {},
     "output_type": "execute_result"
    }
   ],
   "source": [
    "a2.ndim"
   ]
  },
  {
   "cell_type": "code",
   "execution_count": 15,
   "metadata": {},
   "outputs": [
    {
     "data": {
      "text/plain": [
       "(4, 2)"
      ]
     },
     "execution_count": 15,
     "metadata": {},
     "output_type": "execute_result"
    }
   ],
   "source": [
    "a2.shape"
   ]
  },
  {
   "cell_type": "code",
   "execution_count": 16,
   "metadata": {},
   "outputs": [
    {
     "data": {
      "text/plain": [
       "4"
      ]
     },
     "execution_count": 16,
     "metadata": {},
     "output_type": "execute_result"
    }
   ],
   "source": [
    "a2.shape[0]"
   ]
  },
  {
   "cell_type": "code",
   "execution_count": 17,
   "metadata": {},
   "outputs": [
    {
     "data": {
      "text/plain": [
       "2"
      ]
     },
     "execution_count": 17,
     "metadata": {},
     "output_type": "execute_result"
    }
   ],
   "source": [
    "a2.shape[1]"
   ]
  },
  {
   "cell_type": "code",
   "execution_count": 19,
   "metadata": {},
   "outputs": [],
   "source": [
    "a3 = np.array( [a2, a2, a2, a2, a2, a2] )"
   ]
  },
  {
   "cell_type": "code",
   "execution_count": 20,
   "metadata": {},
   "outputs": [
    {
     "data": {
      "text/plain": [
       "array([[[1, 2],\n",
       "        [3, 4],\n",
       "        [5, 6],\n",
       "        [7, 8]],\n",
       "\n",
       "       [[1, 2],\n",
       "        [3, 4],\n",
       "        [5, 6],\n",
       "        [7, 8]],\n",
       "\n",
       "       [[1, 2],\n",
       "        [3, 4],\n",
       "        [5, 6],\n",
       "        [7, 8]],\n",
       "\n",
       "       [[1, 2],\n",
       "        [3, 4],\n",
       "        [5, 6],\n",
       "        [7, 8]],\n",
       "\n",
       "       [[1, 2],\n",
       "        [3, 4],\n",
       "        [5, 6],\n",
       "        [7, 8]],\n",
       "\n",
       "       [[1, 2],\n",
       "        [3, 4],\n",
       "        [5, 6],\n",
       "        [7, 8]]])"
      ]
     },
     "execution_count": 20,
     "metadata": {},
     "output_type": "execute_result"
    }
   ],
   "source": [
    "a3"
   ]
  },
  {
   "cell_type": "code",
   "execution_count": 21,
   "metadata": {},
   "outputs": [
    {
     "data": {
      "text/plain": [
       "3"
      ]
     },
     "execution_count": 21,
     "metadata": {},
     "output_type": "execute_result"
    }
   ],
   "source": [
    "a3.ndim"
   ]
  },
  {
   "cell_type": "code",
   "execution_count": 22,
   "metadata": {},
   "outputs": [
    {
     "data": {
      "text/plain": [
       "(6, 4, 2)"
      ]
     },
     "execution_count": 22,
     "metadata": {},
     "output_type": "execute_result"
    }
   ],
   "source": [
    "a3.shape"
   ]
  },
  {
   "cell_type": "markdown",
   "metadata": {},
   "source": [
    "Anzahl der Bytes, um ein a3 Element zu speichern:"
   ]
  },
  {
   "cell_type": "code",
   "execution_count": 23,
   "metadata": {},
   "outputs": [
    {
     "data": {
      "text/plain": [
       "4"
      ]
     },
     "execution_count": 23,
     "metadata": {},
     "output_type": "execute_result"
    }
   ],
   "source": [
    "a3.itemsize"
   ]
  },
  {
   "cell_type": "markdown",
   "metadata": {},
   "source": [
    "Speicherbedarf für alle a3 Elemente:"
   ]
  },
  {
   "cell_type": "code",
   "execution_count": 25,
   "metadata": {},
   "outputs": [
    {
     "data": {
      "text/plain": [
       "192"
      ]
     },
     "execution_count": 25,
     "metadata": {},
     "output_type": "execute_result"
    }
   ],
   "source": [
    "a3.nbytes"
   ]
  },
  {
   "cell_type": "code",
   "execution_count": 26,
   "metadata": {},
   "outputs": [
    {
     "name": "stdout",
     "output_type": "stream",
     "text": [
      "[[ 0.  0.]\n",
      " [ 0.  0.]\n",
      " [ 0.  0.]\n",
      " [ 0.  0.]]\n"
     ]
    }
   ],
   "source": [
    "a4 = np.zeros((4,2))\n",
    "print(a4)"
   ]
  },
  {
   "cell_type": "code",
   "execution_count": 27,
   "metadata": {},
   "outputs": [
    {
     "name": "stdout",
     "output_type": "stream",
     "text": [
      "[[ 1.  1.]\n",
      " [ 1.  1.]\n",
      " [ 1.  1.]\n",
      " [ 1.  1.]]\n"
     ]
    }
   ],
   "source": [
    "a5 = np.ones((4,2))\n",
    "print(a5)"
   ]
  },
  {
   "cell_type": "code",
   "execution_count": 36,
   "metadata": {},
   "outputs": [
    {
     "name": "stdout",
     "output_type": "stream",
     "text": [
      "[[ 1.  0.  0.  0.  0.]\n",
      " [ 0.  1.  0.  0.  0.]\n",
      " [ 0.  0.  1.  0.  0.]\n",
      " [ 0.  0.  0.  1.  0.]\n",
      " [ 0.  0.  0.  0.  1.]]\n"
     ]
    }
   ],
   "source": [
    "a6 = np.eye(5)\n",
    "print(a6)"
   ]
  },
  {
   "cell_type": "markdown",
   "metadata": {},
   "source": [
    "# Zugriff auf Array Elemente, Zeilen, Spalten"
   ]
  },
  {
   "cell_type": "code",
   "execution_count": 37,
   "metadata": {},
   "outputs": [
    {
     "data": {
      "text/plain": [
       "0.0"
      ]
     },
     "execution_count": 37,
     "metadata": {},
     "output_type": "execute_result"
    }
   ],
   "source": [
    "a6[4,1]"
   ]
  },
  {
   "cell_type": "code",
   "execution_count": 38,
   "metadata": {},
   "outputs": [],
   "source": [
    "a6[4,1]=42"
   ]
  },
  {
   "cell_type": "code",
   "execution_count": 39,
   "metadata": {},
   "outputs": [
    {
     "data": {
      "text/plain": [
       "array([[  1.,   0.,   0.,   0.,   0.],\n",
       "       [  0.,   1.,   0.,   0.,   0.],\n",
       "       [  0.,   0.,   1.,   0.,   0.],\n",
       "       [  0.,   0.,   0.,   1.,   0.],\n",
       "       [  0.,  42.,   0.,   0.,   1.]])"
      ]
     },
     "execution_count": 39,
     "metadata": {},
     "output_type": "execute_result"
    }
   ],
   "source": [
    "a6"
   ]
  },
  {
   "cell_type": "markdown",
   "metadata": {},
   "source": [
    "\"Slicing\" von Arrays:\n",
    "\n",
    "Von Array a6 Zeile mit Index 3 holen:"
   ]
  },
  {
   "cell_type": "code",
   "execution_count": 31,
   "metadata": {},
   "outputs": [
    {
     "data": {
      "text/plain": [
       "array([[ 0.,  0.,  0.,  1.,  0.]])"
      ]
     },
     "execution_count": 31,
     "metadata": {},
     "output_type": "execute_result"
    }
   ],
   "source": [
    "a6[3:4]"
   ]
  },
  {
   "cell_type": "code",
   "execution_count": 32,
   "metadata": {},
   "outputs": [
    {
     "data": {
      "text/plain": [
       "array([ 0.,  0.,  0.,  1.,  0.])"
      ]
     },
     "execution_count": 32,
     "metadata": {},
     "output_type": "execute_result"
    }
   ],
   "source": [
    "a6[3]"
   ]
  },
  {
   "cell_type": "markdown",
   "metadata": {},
   "source": [
    "Von Array a6 Zeilen mit Indizes 3,4 holen:"
   ]
  },
  {
   "cell_type": "code",
   "execution_count": 33,
   "metadata": {},
   "outputs": [
    {
     "data": {
      "text/plain": [
       "array([[  0.,   0.,   0.,   1.,   0.],\n",
       "       [  0.,  42.,   0.,   0.,   1.]])"
      ]
     },
     "execution_count": 33,
     "metadata": {},
     "output_type": "execute_result"
    }
   ],
   "source": [
    "a6[3:5]"
   ]
  },
  {
   "cell_type": "markdown",
   "metadata": {},
   "source": [
    "Von Array a6 die Spalte mit Index 1 holen:"
   ]
  },
  {
   "cell_type": "code",
   "execution_count": 34,
   "metadata": {},
   "outputs": [
    {
     "data": {
      "text/plain": [
       "array([  0.,   1.,   0.,   0.,  42.])"
      ]
     },
     "execution_count": 34,
     "metadata": {},
     "output_type": "execute_result"
    }
   ],
   "source": [
    "a6[:,1]"
   ]
  },
  {
   "cell_type": "markdown",
   "metadata": {},
   "source": [
    "Die Zeile mit Index 4 von Array a6 setzen:"
   ]
  },
  {
   "cell_type": "code",
   "execution_count": 40,
   "metadata": {},
   "outputs": [
    {
     "name": "stdout",
     "output_type": "stream",
     "text": [
      "[[  1.   0.   0.   0.   0.]\n",
      " [  0.   1.   0.   0.   0.]\n",
      " [  0.   0.   1.   0.   0.]\n",
      " [  0.   0.   0.   1.   0.]\n",
      " [ 10.  11.  12.  13.  14.]]\n"
     ]
    }
   ],
   "source": [
    "a6[4] = [10,11,12,13,14]\n",
    "print(a6)"
   ]
  },
  {
   "cell_type": "markdown",
   "metadata": {},
   "source": [
    "Die Spalte mit Index 4 von Array a6 setzen:"
   ]
  },
  {
   "cell_type": "code",
   "execution_count": 41,
   "metadata": {
    "collapsed": true
   },
   "outputs": [],
   "source": [
    "a6[:,4] = [100,101,102,103,104]"
   ]
  },
  {
   "cell_type": "code",
   "execution_count": 42,
   "metadata": {},
   "outputs": [
    {
     "data": {
      "text/plain": [
       "array([[   1.,    0.,    0.,    0.,  100.],\n",
       "       [   0.,    1.,    0.,    0.,  101.],\n",
       "       [   0.,    0.,    1.,    0.,  102.],\n",
       "       [   0.,    0.,    0.,    1.,  103.],\n",
       "       [  10.,   11.,   12.,   13.,  104.]])"
      ]
     },
     "execution_count": 42,
     "metadata": {},
     "output_type": "execute_result"
    }
   ],
   "source": [
    "a6"
   ]
  },
  {
   "cell_type": "markdown",
   "metadata": {},
   "source": [
    "# Arrays umformen (`reshape()`)"
   ]
  },
  {
   "cell_type": "code",
   "execution_count": 43,
   "metadata": {},
   "outputs": [
    {
     "data": {
      "text/plain": [
       "array([ 1,  2,  3,  4,  5,  6,  7,  8,  9, 10])"
      ]
     },
     "execution_count": 43,
     "metadata": {},
     "output_type": "execute_result"
    }
   ],
   "source": [
    "a7 = np.arange(1,11)\n",
    "a7"
   ]
  },
  {
   "cell_type": "code",
   "execution_count": 44,
   "metadata": {},
   "outputs": [
    {
     "data": {
      "text/plain": [
       "array([[ 1,  2],\n",
       "       [ 3,  4],\n",
       "       [ 5,  6],\n",
       "       [ 7,  8],\n",
       "       [ 9, 10]])"
      ]
     },
     "execution_count": 44,
     "metadata": {},
     "output_type": "execute_result"
    }
   ],
   "source": [
    "a7.reshape((5,2))"
   ]
  },
  {
   "cell_type": "code",
   "execution_count": 45,
   "metadata": {},
   "outputs": [
    {
     "data": {
      "text/plain": [
       "array([[ 1,  2,  3,  4,  5],\n",
       "       [ 6,  7,  8,  9, 10]])"
      ]
     },
     "execution_count": 45,
     "metadata": {},
     "output_type": "execute_result"
    }
   ],
   "source": [
    "a7.reshape((2,5))"
   ]
  },
  {
   "cell_type": "code",
   "execution_count": 48,
   "metadata": {},
   "outputs": [
    {
     "name": "stdout",
     "output_type": "stream",
     "text": [
      "[[1 2]\n",
      " [3 4]\n",
      " [5 6]]\n",
      "[1 2 3 4 5 6]\n",
      "[1 2 3 4 5 6]\n"
     ]
    }
   ],
   "source": [
    "a8 = np.array([[1,2], [3,4], [5,6]])\n",
    "print(a8)\n",
    "print(a8.reshape(-1))\n",
    "print(a8.flatten())"
   ]
  },
  {
   "cell_type": "code",
   "execution_count": 49,
   "metadata": {},
   "outputs": [
    {
     "data": {
      "text/plain": [
       "array([[1, 2],\n",
       "       [3, 4],\n",
       "       [5, 6]])"
      ]
     },
     "execution_count": 49,
     "metadata": {},
     "output_type": "execute_result"
    }
   ],
   "source": [
    "a8"
   ]
  },
  {
   "cell_type": "code",
   "execution_count": 50,
   "metadata": {},
   "outputs": [
    {
     "data": {
      "text/plain": [
       "array([1, 2, 3, 4, 5, 6])"
      ]
     },
     "execution_count": 50,
     "metadata": {},
     "output_type": "execute_result"
    }
   ],
   "source": [
    "a8.reshape(-1)"
   ]
  },
  {
   "cell_type": "code",
   "execution_count": 52,
   "metadata": {},
   "outputs": [
    {
     "data": {
      "text/plain": [
       "array([1, 2, 3, 4, 5, 6])"
      ]
     },
     "execution_count": 52,
     "metadata": {},
     "output_type": "execute_result"
    }
   ],
   "source": [
    "a8.flatten()"
   ]
  },
  {
   "cell_type": "code",
   "execution_count": 53,
   "metadata": {},
   "outputs": [
    {
     "data": {
      "text/plain": [
       "array([1, 3, 5, 2, 4, 6])"
      ]
     },
     "execution_count": 53,
     "metadata": {},
     "output_type": "execute_result"
    }
   ],
   "source": [
    "# flatten in column-major order (\"F\"ortran style)\n",
    "a8.flatten(\"F\")"
   ]
  },
  {
   "cell_type": "markdown",
   "metadata": {},
   "source": [
    "# Lineare Algebra mit Arrays"
   ]
  },
  {
   "cell_type": "code",
   "execution_count": 54,
   "metadata": {},
   "outputs": [
    {
     "name": "stdout",
     "output_type": "stream",
     "text": [
      "A=\n",
      " [[1 1]\n",
      " [0 1]]\n",
      "B=\n",
      " [[2 0]\n",
      " [3 4]]\n",
      "A+B=\n",
      " [[3 1]\n",
      " [3 5]]\n",
      "Elementweise Multiplikation A*B=\n",
      " [[2 0]\n",
      " [0 4]]\n",
      "Matrixmultiplikation A*B=\n",
      " [[5 4]\n",
      " [3 4]]\n"
     ]
    }
   ],
   "source": [
    "A = np.array( [[1,1],\n",
    "               [0,1]])\n",
    "B = np.array( [[2,0],\n",
    "               [3,4]])\n",
    "print(\"A=\\n\",A)\n",
    "print(\"B=\\n\",B)\n",
    "print(\"A+B=\\n\", A+B)\n",
    "print(\"Elementweise Multiplikation A*B=\\n\", A*B)\n",
    "print(\"Matrixmultiplikation A*B=\\n\", np.matmul(A,B))"
   ]
  },
  {
   "cell_type": "code",
   "execution_count": 55,
   "metadata": {},
   "outputs": [
    {
     "name": "stdout",
     "output_type": "stream",
     "text": [
      "A=\n",
      " [[ 1.  2.]\n",
      " [ 3.  4.]]\n",
      "A_inv=\n",
      " [[-2.   1. ]\n",
      " [ 1.5 -0.5]]\n",
      "A * A_inv=\n",
      " [[  1.00000000e+00   1.11022302e-16]\n",
      " [  0.00000000e+00   1.00000000e+00]]\n"
     ]
    }
   ],
   "source": [
    "# Inverse einer Matrix berechnen\n",
    "A = np.array([[1.0, 2.0],\n",
    "              [3.0, 4.0]])\n",
    "print(\"A=\\n\",A)\n",
    "A_inv = np.linalg.inv(A)\n",
    "print(\"A_inv=\\n\", A_inv )\n",
    "print(\"A * A_inv=\\n\", np.matmul(A,A_inv))"
   ]
  },
  {
   "cell_type": "code",
   "execution_count": 56,
   "metadata": {},
   "outputs": [
    {
     "name": "stdout",
     "output_type": "stream",
     "text": [
      "A=\n",
      " [[0 0]\n",
      " [0 0]]\n"
     ]
    },
    {
     "ename": "LinAlgError",
     "evalue": "Singular matrix",
     "output_type": "error",
     "traceback": [
      "\u001b[1;31m---------------------------------------------------------------------------\u001b[0m",
      "\u001b[1;31mLinAlgError\u001b[0m                               Traceback (most recent call last)",
      "\u001b[1;32m<ipython-input-56-77f7320b272d>\u001b[0m in \u001b[0;36m<module>\u001b[1;34m()\u001b[0m\n\u001b[0;32m      2\u001b[0m               [0,0]])\n\u001b[0;32m      3\u001b[0m \u001b[0mprint\u001b[0m\u001b[1;33m(\u001b[0m\u001b[1;34m\"A=\\n\"\u001b[0m\u001b[1;33m,\u001b[0m\u001b[0mA\u001b[0m\u001b[1;33m)\u001b[0m\u001b[1;33m\u001b[0m\u001b[0m\n\u001b[1;32m----> 4\u001b[1;33m \u001b[0mA_inv\u001b[0m \u001b[1;33m=\u001b[0m \u001b[0mnp\u001b[0m\u001b[1;33m.\u001b[0m\u001b[0mlinalg\u001b[0m\u001b[1;33m.\u001b[0m\u001b[0minv\u001b[0m\u001b[1;33m(\u001b[0m\u001b[0mA\u001b[0m\u001b[1;33m)\u001b[0m\u001b[1;33m\u001b[0m\u001b[0m\n\u001b[0m\u001b[0;32m      5\u001b[0m \u001b[0mprint\u001b[0m\u001b[1;33m(\u001b[0m\u001b[1;34m\"A_inv=\\n\"\u001b[0m\u001b[1;33m,\u001b[0m \u001b[0mA_inv\u001b[0m \u001b[1;33m)\u001b[0m\u001b[1;33m\u001b[0m\u001b[0m\n\u001b[0;32m      6\u001b[0m \u001b[0mprint\u001b[0m\u001b[1;33m(\u001b[0m\u001b[1;34m\"A * A_inv=\\n\"\u001b[0m\u001b[1;33m,\u001b[0m \u001b[0mnp\u001b[0m\u001b[1;33m.\u001b[0m\u001b[0mmatmul\u001b[0m\u001b[1;33m(\u001b[0m\u001b[0mA\u001b[0m\u001b[1;33m,\u001b[0m\u001b[0mA_inv\u001b[0m\u001b[1;33m)\u001b[0m\u001b[1;33m)\u001b[0m\u001b[1;33m\u001b[0m\u001b[0m\n",
      "\u001b[1;32m~\\AppData\\Local\\conda\\conda\\envs\\pythonkurs\\lib\\site-packages\\numpy\\linalg\\linalg.py\u001b[0m in \u001b[0;36minv\u001b[1;34m(a)\u001b[0m\n\u001b[0;32m    511\u001b[0m     \u001b[0msignature\u001b[0m \u001b[1;33m=\u001b[0m \u001b[1;34m'D->D'\u001b[0m \u001b[1;32mif\u001b[0m \u001b[0misComplexType\u001b[0m\u001b[1;33m(\u001b[0m\u001b[0mt\u001b[0m\u001b[1;33m)\u001b[0m \u001b[1;32melse\u001b[0m \u001b[1;34m'd->d'\u001b[0m\u001b[1;33m\u001b[0m\u001b[0m\n\u001b[0;32m    512\u001b[0m     \u001b[0mextobj\u001b[0m \u001b[1;33m=\u001b[0m \u001b[0mget_linalg_error_extobj\u001b[0m\u001b[1;33m(\u001b[0m\u001b[0m_raise_linalgerror_singular\u001b[0m\u001b[1;33m)\u001b[0m\u001b[1;33m\u001b[0m\u001b[0m\n\u001b[1;32m--> 513\u001b[1;33m     \u001b[0mainv\u001b[0m \u001b[1;33m=\u001b[0m \u001b[0m_umath_linalg\u001b[0m\u001b[1;33m.\u001b[0m\u001b[0minv\u001b[0m\u001b[1;33m(\u001b[0m\u001b[0ma\u001b[0m\u001b[1;33m,\u001b[0m \u001b[0msignature\u001b[0m\u001b[1;33m=\u001b[0m\u001b[0msignature\u001b[0m\u001b[1;33m,\u001b[0m \u001b[0mextobj\u001b[0m\u001b[1;33m=\u001b[0m\u001b[0mextobj\u001b[0m\u001b[1;33m)\u001b[0m\u001b[1;33m\u001b[0m\u001b[0m\n\u001b[0m\u001b[0;32m    514\u001b[0m     \u001b[1;32mreturn\u001b[0m \u001b[0mwrap\u001b[0m\u001b[1;33m(\u001b[0m\u001b[0mainv\u001b[0m\u001b[1;33m.\u001b[0m\u001b[0mastype\u001b[0m\u001b[1;33m(\u001b[0m\u001b[0mresult_t\u001b[0m\u001b[1;33m,\u001b[0m \u001b[0mcopy\u001b[0m\u001b[1;33m=\u001b[0m\u001b[1;32mFalse\u001b[0m\u001b[1;33m)\u001b[0m\u001b[1;33m)\u001b[0m\u001b[1;33m\u001b[0m\u001b[0m\n\u001b[0;32m    515\u001b[0m \u001b[1;33m\u001b[0m\u001b[0m\n",
      "\u001b[1;32m~\\AppData\\Local\\conda\\conda\\envs\\pythonkurs\\lib\\site-packages\\numpy\\linalg\\linalg.py\u001b[0m in \u001b[0;36m_raise_linalgerror_singular\u001b[1;34m(err, flag)\u001b[0m\n\u001b[0;32m     88\u001b[0m \u001b[1;33m\u001b[0m\u001b[0m\n\u001b[0;32m     89\u001b[0m \u001b[1;32mdef\u001b[0m \u001b[0m_raise_linalgerror_singular\u001b[0m\u001b[1;33m(\u001b[0m\u001b[0merr\u001b[0m\u001b[1;33m,\u001b[0m \u001b[0mflag\u001b[0m\u001b[1;33m)\u001b[0m\u001b[1;33m:\u001b[0m\u001b[1;33m\u001b[0m\u001b[0m\n\u001b[1;32m---> 90\u001b[1;33m     \u001b[1;32mraise\u001b[0m \u001b[0mLinAlgError\u001b[0m\u001b[1;33m(\u001b[0m\u001b[1;34m\"Singular matrix\"\u001b[0m\u001b[1;33m)\u001b[0m\u001b[1;33m\u001b[0m\u001b[0m\n\u001b[0m\u001b[0;32m     91\u001b[0m \u001b[1;33m\u001b[0m\u001b[0m\n\u001b[0;32m     92\u001b[0m \u001b[1;32mdef\u001b[0m \u001b[0m_raise_linalgerror_nonposdef\u001b[0m\u001b[1;33m(\u001b[0m\u001b[0merr\u001b[0m\u001b[1;33m,\u001b[0m \u001b[0mflag\u001b[0m\u001b[1;33m)\u001b[0m\u001b[1;33m:\u001b[0m\u001b[1;33m\u001b[0m\u001b[0m\n",
      "\u001b[1;31mLinAlgError\u001b[0m: Singular matrix"
     ]
    }
   ],
   "source": [
    "A = np.array([[0,0],\n",
    "              [0,0]])\n",
    "print(\"A=\\n\",A)\n",
    "A_inv = np.linalg.inv(A)\n",
    "print(\"A_inv=\\n\", A_inv )\n",
    "print(\"A * A_inv=\\n\", np.matmul(A,A_inv))"
   ]
  },
  {
   "cell_type": "markdown",
   "metadata": {},
   "source": [
    "Was war noch mal ne \"singuläre Matrix\"?\n",
    "\n",
    "Siehe https://de.wikipedia.org/wiki/Regul%C3%A4re_Matrix:\n",
    "\n",
    ">Nicht zu jeder quadratischen Matrix existiert eine Inverse. Eine quadratische Matrix, die keine Inverse besitzt, wird singuläre Matrix genannt. "
   ]
  },
  {
   "cell_type": "markdown",
   "metadata": {},
   "source": [
    "# Zufällige Arrays"
   ]
  },
  {
   "cell_type": "code",
   "execution_count": 57,
   "metadata": {},
   "outputs": [
    {
     "name": "stdout",
     "output_type": "stream",
     "text": [
      "[-0.30151794 -0.52988389  0.98839763  0.02365419  0.10625921]\n"
     ]
    }
   ],
   "source": [
    "rndA = np.random.uniform(low=-1.0, high=1.0, size=(5,))\n",
    "print(rndA)"
   ]
  },
  {
   "cell_type": "code",
   "execution_count": 58,
   "metadata": {},
   "outputs": [
    {
     "name": "stdout",
     "output_type": "stream",
     "text": [
      "[[-0.3607218   0.18373579  0.23472282  0.36150494  0.5840609 ]\n",
      " [ 0.59919507 -0.40129137 -0.70658808 -0.56301259  0.80456533]\n",
      " [ 0.40885497 -0.59259288 -0.14543331  0.15955717 -0.94467757]\n",
      " [ 0.1348062   0.90307222  0.52456209 -0.04824676 -0.82277973]\n",
      " [-0.93556625  0.12878462  0.51139706  0.50976914 -0.33568258]]\n"
     ]
    }
   ],
   "source": [
    "rndB = np.random.uniform(low=-1.0, high=1.0, size=(5,5))\n",
    "print(rndB)"
   ]
  },
  {
   "cell_type": "code",
   "execution_count": 59,
   "metadata": {},
   "outputs": [
    {
     "name": "stdout",
     "output_type": "stream",
     "text": [
      "[[12 16  7]\n",
      " [-4  5  6]\n",
      " [ 7 -1 15]\n",
      " [ 1 15 12]\n",
      " [ 2  0  2]]\n"
     ]
    }
   ],
   "source": [
    "rndC = np.random.randint(low=-5, high=17, size=(5,3))\n",
    "print(rndC)"
   ]
  },
  {
   "cell_type": "code",
   "execution_count": 60,
   "metadata": {},
   "outputs": [
    {
     "name": "stdout",
     "output_type": "stream",
     "text": [
      "[ 6.23219874  5.51253108  3.97478822  5.12358831  3.48022256  5.47956548\n",
      "  4.51577663  4.84839756  5.97329772  2.93025729  5.07002503  6.29178375\n",
      "  5.40559058  4.06774662  5.61297136  6.27587224  5.42227039  5.37229201\n",
      "  4.8676615   8.14925881  4.48337161  4.42967104  4.01601703  6.79495235\n",
      "  3.70472674  5.65474681  6.03707863  5.75288769  5.58526512  3.8106457\n",
      "  4.2928468   5.02266809  5.44376301  5.086814    3.73606026  3.90946625\n",
      "  7.92532271  4.45809551  5.77938946  5.21789727  5.5079434   3.95347752\n",
      "  3.87977601  5.02335372  4.60799085  2.96003156  4.57719219  3.3337301\n",
      "  5.48786307  4.03341199  4.36717268  4.40304069  5.33488389  4.63773158\n",
      "  5.14848946  4.63975289  6.54180235  5.25877842  5.36117194  3.64761231\n",
      "  5.21822147  5.04496898  5.89628664  5.98914845  4.52231669  4.24978067\n",
      "  6.91044716  5.81998637  5.01586333  6.42515151  6.91288621  6.43073164\n",
      "  6.20095151  3.22082777  4.06563256  4.17944765  2.79395283  5.50257972\n",
      "  5.4393812   4.25108581  4.47143373  5.23536183  5.49981876  5.40463576\n",
      "  5.33816106  5.77837766  5.66674558  3.56531882  6.15861196  5.67609601\n",
      "  3.43557767  2.80227738  3.72264988  5.93869621  4.85001129  5.35760715\n",
      "  7.34008848  4.90425925  4.33876188  4.82796139  5.01544297  5.00714115\n",
      "  4.4380533   5.0181434   5.59607372  2.9707908   7.24553903  6.27180572\n",
      "  6.73238298  4.01720132  6.16873861  5.55171754  3.92962251  4.96982085\n",
      "  4.88208655  5.58094536  4.69415479  4.1037486   5.04685065  4.93326045\n",
      "  7.09538931  4.43994785  5.59432966  4.85633003  6.3894721   6.46363298\n",
      "  6.07845658  5.56146344  4.37322776  4.6996586   4.91953963  4.41571996\n",
      "  4.74589615  3.78943801  5.24666783  3.68964129  5.73889325  7.38401892\n",
      "  5.28425132  7.48754565  4.13068413  5.72926688  4.66714933  6.69275726\n",
      "  4.26857401  5.55317151  6.5496816   5.33982587  5.70327845  4.80575724\n",
      "  4.54533122  4.8267896   5.74988635  3.33875553  5.18819362  5.13394015\n",
      "  2.92465673  3.84580281  4.95853172  3.58679913  3.70912592  3.25349512\n",
      "  4.87476522  5.36756461  5.74008781  4.85795507  3.88209419  3.79433981\n",
      "  5.21097175  5.90680942  4.89394601  5.22678518  3.79947403  5.77615975\n",
      "  4.75075625  3.67821005  4.78389281  5.60203792  5.11712744  5.13755305\n",
      "  4.52358924  5.19767506  3.87730967  4.05349849  3.25974521  4.88677257\n",
      "  3.84385611  4.13325835  3.61493608  3.9784089   5.84387951  4.74812536\n",
      "  2.77733809  5.71712908  4.41920875  6.19530539  4.56761651  5.18355001\n",
      "  5.38739549  5.58157852  4.04482515  4.55660721  5.35203918  5.768122\n",
      "  4.17806386  6.50056507  4.80456697  2.36240818  6.95712877  5.21569656\n",
      "  4.78859724  4.33633923  5.77662689  6.16347865  3.8139603   4.08347642\n",
      "  4.07355155  3.60425937  6.26056428  5.91672648  5.27733585  5.644548\n",
      "  5.1024031   4.10822561  4.78752072  5.50374135  4.08287705  7.11343986\n",
      "  5.82307915  5.19766467  5.76550581  4.8239186   4.85933276  4.66683647\n",
      "  5.6976637   6.95299167  4.4258486   5.31449291  4.90796087  5.49013989\n",
      "  3.86312046  3.97462509  4.43706898  4.32126559  4.10435227  6.19556828\n",
      "  3.51907524  6.58251763  4.92034817  3.92408472  4.42912312  3.84264819\n",
      "  5.71244759  5.32993841  3.62506732  7.18615472  4.72716675  4.23283376\n",
      "  5.77795891  5.73779073  5.81639319  4.92386252  5.04612776  4.52692351\n",
      "  5.52959076  7.41331942  4.67717817  4.30121962  7.02297106  4.39201069\n",
      "  4.76474424  3.96267058  4.35912394  7.43802723  4.60175959  3.02980287\n",
      "  7.22662559  3.97569738  7.0550413   5.84203211  3.19348058  6.07793432\n",
      "  4.01952015  6.09487185  5.93399226  6.09626695  4.88161678  5.74742376\n",
      "  5.06880951  6.03649214  4.11388266  4.81989549  4.8342684   5.69822876\n",
      "  4.14383583  6.92478142  5.01265387  5.77770438  4.76002431  3.32833241\n",
      "  5.13004736  5.95723908  5.49861509  5.32205306  6.26324685  4.23562836\n",
      "  5.26691365  6.65636867  6.38603209  4.86070302  5.17505264  4.33450855\n",
      "  5.98087607  3.38630339  6.15672055  3.84314784  5.56036053  4.92727786\n",
      "  4.2493627   2.79822072  5.69572015  5.4113789   5.87942364  5.93129477\n",
      "  3.68151925  5.45182242  4.86005486  5.2379425   4.42062747  4.84855035\n",
      "  5.5390265   5.27851534  4.79887269  5.67112664  5.77710159  4.3509363\n",
      "  4.69936037  3.11041406  6.05366667  4.46489543  4.4333845   6.73776055\n",
      "  4.88167685  5.31103241  5.25900525  5.76314755  5.50816386  4.7087186\n",
      "  4.48737503  4.45588435  5.17157031  6.41322454  5.66551634  4.53855092\n",
      "  3.47893788  4.33113664  5.3980157   4.8146331   5.65852905  2.50304283\n",
      "  4.96506533  6.31378901  4.88685701  4.71137689  3.47473427  5.667378\n",
      "  4.2321385   5.43783812  5.88117201  7.07202751  4.40707812  5.1207215\n",
      "  4.3972786   4.05333975  4.66235006  4.41226377  5.35326012  5.42159681\n",
      "  4.97662403  3.95437707  7.24193427  5.72967001  4.03977202  5.23254976\n",
      "  3.87679481  5.2413606   5.64937705  5.11881404  2.65422502  4.69752537\n",
      "  4.31178311  6.00209475  5.47864457  5.1260646   4.67273513  3.7403537\n",
      "  3.4582225   6.70195287  3.10757191  4.62701683  5.51678513  5.10402734\n",
      "  4.39456601  5.87833373  3.51624069  3.92721658  6.89333032  5.84441085\n",
      "  5.40748307  4.85208626  4.51277202  5.81599986  4.91636231  5.21650421\n",
      "  4.65033114  5.90307543  4.98732214  5.69339277  4.84440019  4.57718261\n",
      "  4.17119164  5.57905634  4.67122573  4.9504791   4.21982924  6.18093059\n",
      "  3.61132233  4.20468713  4.41296158  5.30167902  5.56298406  3.32083904\n",
      "  6.32462602  5.36571831  7.07758213  4.5600639   4.9379786   5.24191465\n",
      "  5.45930126  6.1433872   5.78405047  4.4719127   6.60383148  5.16533376\n",
      "  4.96227448  5.88371943  4.86421243  3.77846588  5.08338054  4.09835616\n",
      "  5.71065848  4.35068975  6.31140641  4.8349189   6.66942778  4.23035182\n",
      "  3.87755816  5.21222051  4.81186359  5.47827074  2.66169844  7.01013226\n",
      "  6.47062461  6.35258957  5.24684929  5.76669542  4.91792305  5.2027568\n",
      "  4.69758815  5.31045203  7.09909834  5.42781166  4.09649616  5.29260084\n",
      "  6.06130233  5.26830386  6.0420047   4.5882958   4.10127112  4.79349581\n",
      "  5.09496314  6.8114696   6.24440501  3.9461142   5.80897885  6.80685628\n",
      "  5.98885396  5.4893111   5.43376398  4.72978495  3.17681134  5.95649103\n",
      "  6.21944123  3.99378879  4.1777065   4.62682343  6.54142148  2.16772216\n",
      "  4.95322141  3.7712997   6.2827481   6.16577095  4.78435456  5.04936952\n",
      "  4.58780838  5.52574675  5.98019632  5.8897653   4.37397757  6.36205879\n",
      "  6.91695708  3.75084246  5.92891909  4.06767247  4.57105505  6.27371892\n",
      "  5.64412736  4.71329392  4.21477746  6.87660006  4.45201315  3.91548657\n",
      "  3.47594977  5.44253386  4.6374963   5.27908207  5.76497624  5.90668832\n",
      "  5.45941243  6.29194898  5.19499752  6.10026463  5.40882572  5.30927496\n",
      "  5.63876702  3.66472803  4.76544793  4.14591302  3.89184036  4.7335494\n",
      "  3.5109734   4.92044328  5.82863651  4.21197773  6.95677124  5.9523628\n",
      "  3.24903096  5.92921022  5.99364334  5.09479393  3.80463017  4.65699417\n",
      "  5.4456143   3.84604947  5.27808572  5.06659747  6.14920926  5.47898211\n",
      "  7.14076978  3.71466603  5.05570761  6.62059532  6.03711048  2.98212781\n",
      "  4.25945703  4.81578546  4.30388221  6.48173893  7.15439647  3.8740487\n",
      "  5.21664315  6.59405873  4.38439981  5.20846417  4.75727222  3.42536845\n",
      "  6.88182508  5.87929062  4.67177905  5.95857331  4.15345198  4.14682024\n",
      "  4.53735801  5.6891464   5.5518293   5.5836005   4.85453027  6.02522886\n",
      "  5.87128019  6.20754625  4.23639468  5.38088298  4.45701537  5.56331393\n",
      "  6.42853081  6.6624365   6.32756385  5.56167493  4.02757206  4.95855838\n",
      "  5.0628771   4.07526859  5.48247906  4.60440284  5.40826052  4.4051161\n",
      "  3.73025169  4.47037831  4.53240181  5.29579218  6.41934046  4.29171062\n",
      "  3.13889291  5.08818277  5.31957593  5.49099216  5.5733325   5.10281936\n",
      "  5.62034242  4.69643454  3.82899834  6.65734723  2.48930397  3.63180385\n",
      "  3.62058878  4.57767839  4.03896701  3.30272929  4.58213787  4.20388212\n",
      "  6.09979563  4.50559387  4.69865779  3.59317244  5.59700268  4.07824265\n",
      "  3.69573048  4.42529192  4.64010828  4.95117815  5.73947962  4.89738492\n",
      "  4.90527856  5.20414389  5.59119124  7.25291888  5.0261739   5.37113594\n",
      "  5.09220999  5.56390037  5.92097785  5.55446937  4.57345519  5.16132562\n",
      "  5.77033728  4.87529656  5.7511468   6.09288198  3.75544324  4.4388805\n",
      "  5.45136405  4.58708943  4.34972056  5.81446292  4.71092775  4.17002882\n",
      "  4.27755629  4.32922543  3.64988204  5.12981173  4.43997398  3.82827521\n",
      "  2.86285593  5.05697812  4.27768353  3.16247793  5.29455014  4.04716717\n",
      "  4.8913272   5.22797352  3.15820826  4.35096441  6.2721841   4.96933585\n",
      "  4.08067825  5.59182197  3.88584847  3.41858193  5.49535355  5.70276706\n",
      "  4.89207089  4.86545407  5.2841682   6.62298015  5.21327701  5.38417442\n",
      "  6.15199404  4.088167    4.12294284  4.99789466  5.45835577  5.73747058\n",
      "  4.13905192  6.41412492  4.34587128  7.14998999  4.0593747   5.56128853\n",
      "  5.01141283  5.31449708  3.97547616  3.21464607  4.67316052  4.08009748\n",
      "  5.04346917  5.3423482   6.01398034  4.89060166  6.1224824   6.36332021\n",
      "  5.46491692  4.04844357  3.81231649  4.55178974  5.94795757  6.34584617\n",
      "  5.53237554  4.33839897  4.80195529  6.67455643  5.9208251   6.08109902\n",
      "  6.49392101  4.95979968  4.47838168  3.63612175  4.86078806  7.05133824\n",
      "  5.77638784  4.89709526  3.95700894  4.13486395  4.25256708  5.35614382\n",
      "  7.33855754  6.31984048  4.53163356  7.16778764  3.23526977  3.36549876\n",
      "  3.27066492  4.52616888  4.1264957   4.19884914  5.14334839  5.44080086\n",
      "  3.65692881  5.81847366  2.99702236  4.02619719  5.85571331  3.06697766\n",
      "  5.1347993   4.37290744  4.56319559  7.38473748  4.93215909  4.87918045\n",
      "  5.81594425  5.08756332  5.74222853  4.1240955   5.08046862  4.69066235\n",
      "  3.79697154  5.24315105  4.6384383   5.00880737  4.76458346  3.88376146\n",
      "  5.71966693  5.09159004  5.53469634  5.89188872  5.51062383  4.88788084\n",
      "  3.12930472  5.44597605  5.33258294  5.85422236  7.06397951  5.14743552\n",
      "  4.45213516  2.39852897  5.14656728  3.8545241   4.0865271   5.97873793\n",
      "  3.67481105  5.91092389  5.06040471  4.13709619  5.68713349  5.33753213\n",
      "  6.57591832  3.39240964  5.94985677  5.3900682   3.35646498  3.61794387\n",
      "  6.10142923  3.29626834  6.68349929  5.68388555  6.47574856  5.53665799\n",
      "  4.87149609  4.87788947  6.1766727   5.71142384  4.21251858  6.16888993\n",
      "  6.11757461  5.53696419  3.92699602  6.55926243  4.34510962  5.16847708\n",
      "  4.91773606  4.64549111  6.9104105   5.49819415  3.85591975  4.76038636\n",
      "  3.75463204  5.76680875  4.46438906  5.71447512  4.48208163  4.21928848\n",
      "  4.99566546  5.08051345  5.63101459  5.2129437   4.94426116  4.20007031\n",
      "  5.30821238  3.87652731  4.70993098  5.79692743  4.27956178  7.20645648\n",
      "  5.32719817  4.92133526  5.5148225   4.5814436   5.78592371  3.97195483\n",
      "  6.10619682  4.18696896  5.7554225   5.45315296  5.75214327  5.20122807\n",
      "  6.04849287  3.11220229  4.41320871  5.7278742   5.4394112   6.52557751\n",
      "  5.53648437  6.14744738  3.81390123  5.84624783  5.09704145  5.4587286\n",
      "  4.16017447  6.12572285  3.8349281   4.7793656   4.9161407   4.50551885\n",
      "  5.99475542  5.0472638   5.28758794  4.00097941  6.45749778  7.05854899\n",
      "  3.41648244  4.85344183  6.10439123  5.79205226  4.11645756  4.91884011\n",
      "  3.56578199  2.76636901  3.56007371  3.92579612  3.60815511  5.84035452\n",
      "  5.93641391  3.50895849  4.02096827  6.06348396  4.26252822  4.75684316\n",
      "  4.09442286  4.96322753  3.93916702  5.21090056  3.22380706  5.22791448\n",
      "  5.76812654  3.75165853  3.60372915  4.72604645  5.85912071  2.78779639\n",
      "  5.78771371  5.69010723  5.61369343  4.13808013  5.12308367  5.83303302\n",
      "  4.19537799  4.2513191   5.70434485  4.53472095  6.62303911  3.74451111\n",
      "  5.90882027  5.35243841  6.85078431  6.45030719  7.15368109  4.91417323\n",
      "  6.97521415  3.30078992  6.21187693  3.85319255  4.09556513  3.99656765\n",
      "  5.58147049  6.16721824  5.33290044  4.24258509  3.65332101  4.25203158\n",
      "  5.87007874  5.27594407  5.74224359  6.14557527  4.9105736   6.32608726\n",
      "  7.4845381   4.44723901  4.82063897  4.80117625  5.02805017  6.10384858\n",
      "  4.70740383  4.75551576  5.49890035  4.40052553  5.89173787  4.54320179\n",
      "  4.10210383  5.40618716  5.57048498  6.30567836  4.83757133  4.6905368\n",
      "  4.96132254  5.63176114  5.37453578  5.35792628  3.75537825  4.71186379\n",
      "  6.90547773  5.42573141  3.68111377  4.81136352  5.13658478  5.45502806\n",
      "  5.25473132  3.34689852  5.21332686  3.81933192  4.69234091  4.50103065\n",
      "  5.88026437  4.11957581  3.76378456  5.03692109  4.08360471  4.53221776\n",
      "  6.82403365  4.38852123  5.27218423  4.65703032]\n"
     ]
    },
    {
     "data": {
      "image/png": "[encoded data removed]",
      "text/plain": [
       "<matplotlib.figure.Figure at 0x2169acd7dd8>"
      ]
     },
     "metadata": {},
     "output_type": "display_data"
    }
   ],
   "source": [
    "mu = 5.0\n",
    "sigma = 1.0\n",
    "rndD = np.random.normal(mu,sigma,1000)\n",
    "print(rndD)\n",
    "import matplotlib.pyplot as plt\n",
    "plt.hist(rndD, 50)\n",
    "plt.show()"
   ]
  },
  {
   "cell_type": "markdown",
   "metadata": {
    "collapsed": true
   },
   "source": [
    "# Wieso eigentlich NumPy?"
   ]
  },
  {
   "cell_type": "markdown",
   "metadata": {},
   "source": [
    "Sind NumPy Arrays nicht einfach Listen von Listen (von Listen ...)?\n",
    "\n",
    "Was ist der Mehrwert?\n",
    "\n",
    "Überlegung:\n",
    "Wir erzeugen mal eine 2D Struktur: eine Liste von Listen."
   ]
  },
  {
   "cell_type": "code",
   "execution_count": 65,
   "metadata": {
    "collapsed": true
   },
   "outputs": [],
   "source": [
    "liste = [ [1,2,3,4,5], [6,7,8,9,10] ]"
   ]
  },
  {
   "cell_type": "code",
   "execution_count": 66,
   "metadata": {},
   "outputs": [
    {
     "data": {
      "text/plain": [
       "[[1, 2, 3, 4, 5], [6, 7, 8, 9, 10]]"
      ]
     },
     "execution_count": 66,
     "metadata": {},
     "output_type": "execute_result"
    }
   ],
   "source": [
    "liste"
   ]
  },
  {
   "cell_type": "markdown",
   "metadata": {},
   "source": [
    "Wie können wir nun einen Schnitt erzeugen, z.B. die 2. Spalte?"
   ]
  },
  {
   "cell_type": "code",
   "execution_count": 67,
   "metadata": {},
   "outputs": [
    {
     "data": {
      "text/plain": [
       "[1, 2, 3, 4, 5]"
      ]
     },
     "execution_count": 67,
     "metadata": {},
     "output_type": "execute_result"
    }
   ],
   "source": [
    "liste[0]"
   ]
  },
  {
   "cell_type": "code",
   "execution_count": 68,
   "metadata": {},
   "outputs": [
    {
     "data": {
      "text/plain": [
       "[6, 7, 8, 9, 10]"
      ]
     },
     "execution_count": 68,
     "metadata": {},
     "output_type": "execute_result"
    }
   ],
   "source": [
    "liste[1]"
   ]
  },
  {
   "cell_type": "code",
   "execution_count": 69,
   "metadata": {},
   "outputs": [
    {
     "data": {
      "text/plain": [
       "[2, 7]"
      ]
     },
     "execution_count": 69,
     "metadata": {},
     "output_type": "execute_result"
    }
   ],
   "source": [
    "[ liste[0][1], liste[1][1] ]"
   ]
  },
  {
   "cell_type": "markdown",
   "metadata": {},
   "source": [
    "Man sieht: es wird umständlich. Einfacher geht es mit einem NumPy Array, da hier Slicing zur Verfügung gestellt wird:"
   ]
  },
  {
   "cell_type": "code",
   "execution_count": 70,
   "metadata": {
    "collapsed": true
   },
   "outputs": [],
   "source": [
    "a = np.array( [ [1,2,3,4,5], [6,7,8,9,10] ] )"
   ]
  },
  {
   "cell_type": "code",
   "execution_count": 71,
   "metadata": {},
   "outputs": [
    {
     "data": {
      "text/plain": [
       "array([[ 1,  2,  3,  4,  5],\n",
       "       [ 6,  7,  8,  9, 10]])"
      ]
     },
     "execution_count": 71,
     "metadata": {},
     "output_type": "execute_result"
    }
   ],
   "source": [
    "a"
   ]
  },
  {
   "cell_type": "code",
   "execution_count": 72,
   "metadata": {},
   "outputs": [
    {
     "data": {
      "text/plain": [
       "array([2, 7])"
      ]
     },
     "execution_count": 72,
     "metadata": {},
     "output_type": "execute_result"
    }
   ],
   "source": [
    "a[:,1]"
   ]
  },
  {
   "cell_type": "markdown",
   "metadata": {},
   "source": [
    "Andere Vorteile:\n",
    "\n",
    "**Speicherbedarf**:\n",
    "\n",
    "NumPy Arrays benötigen weniger Speicher als Listen von Listen von Listen ...\n",
    "\n",
    "Siehe: https://stackoverflow.com/questions/993984/what-are-the-advantages-of-numpy-over-regular-python-lists\n",
    " \n",
    " \n",
    "**Geschwindigkeit**:\n",
    "\n",
    "Operationen auf NumPy Arrays sind schneller als Operationen auf verschachtelten Listen\n",
    "    \n",
    "    \n",
    "**Funktionalität**:\n",
    "\n",
    "Es gibt viele Linear-Algebra Funktionen oder Funktionen zum Erzeugen von Zufallsdaten für NumPy Arrays."
   ]
  },
  {
   "cell_type": "code",
   "execution_count": null,
   "metadata": {
    "collapsed": true
   },
   "outputs": [],
   "source": []
  }
 ],
 "metadata": {
  "kernelspec": {
   "display_name": "Python 3",
   "language": "python",
   "name": "python3"
  },
  "language_info": {
   "codemirror_mode": {
    "name": "ipython",
    "version": 3
   },
   "file_extension": ".py",
   "mimetype": "text/x-python",
   "name": "python",
   "nbconvert_exporter": "python",
   "pygments_lexer": "ipython3",
   "version": "3.6.2"
  },
  "toc": {
   "base_numbering": 1,
   "nav_menu": {},
   "number_sections": true,
   "sideBar": true,
   "skip_h1_title": false,
   "title_cell": "Inhaltsverzeichnis",
   "title_sidebar": "Inhalte",
   "toc_cell": true,
   "toc_position": {},
   "toc_section_display": true,
   "toc_window_display": true
  }
 },
 "nbformat": 4,
 "nbformat_minor": 2
}
